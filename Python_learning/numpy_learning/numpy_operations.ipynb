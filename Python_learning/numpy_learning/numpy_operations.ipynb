{
 "cells": [
  {
   "cell_type": "markdown",
   "metadata": {},
   "source": [
    "# Useful operations in Numpy"
   ]
  },
  {
   "cell_type": "code",
   "execution_count": 1,
   "metadata": {},
   "outputs": [],
   "source": [
    "import numpy as np"
   ]
  },
  {
   "cell_type": "markdown",
   "metadata": {},
   "source": [
    "## tile matrix"
   ]
  },
  {
   "cell_type": "code",
   "execution_count": 9,
   "metadata": {},
   "outputs": [
    {
     "name": "stdout",
     "output_type": "stream",
     "text": [
      "(3, 5, 1)\n",
      "[[[-0.22305194]\n",
      "  [-0.13501087]\n",
      "  [-1.62244612]\n",
      "  [-1.20711516]\n",
      "  [ 1.27533629]]\n",
      "\n",
      " [[-0.63114901]\n",
      "  [-2.41434974]\n",
      "  [-0.64912477]\n",
      "  [ 1.08389685]\n",
      "  [ 1.57379786]]\n",
      "\n",
      " [[ 1.36316033]\n",
      "  [ 0.68273487]\n",
      "  [ 0.49873773]\n",
      "  [ 0.64152808]\n",
      "  [ 1.32988197]]]\n",
      "(3, 5, 3)\n",
      "rgb\n",
      "[[[-0.22305194 -0.22305194 -0.22305194]\n",
      "  [-0.13501087 -0.13501087 -0.13501087]\n",
      "  [-1.62244612 -1.62244612 -1.62244612]\n",
      "  [-1.20711516 -1.20711516 -1.20711516]\n",
      "  [ 1.27533629  1.27533629  1.27533629]]\n",
      "\n",
      " [[-0.63114901 -0.63114901 -0.63114901]\n",
      "  [-2.41434974 -2.41434974 -2.41434974]\n",
      "  [-0.64912477 -0.64912477 -0.64912477]\n",
      "  [ 1.08389685  1.08389685  1.08389685]\n",
      "  [ 1.57379786  1.57379786  1.57379786]]\n",
      "\n",
      " [[ 1.36316033  1.36316033  1.36316033]\n",
      "  [ 0.68273487  0.68273487  0.68273487]\n",
      "  [ 0.49873773  0.49873773  0.49873773]\n",
      "  [ 0.64152808  0.64152808  0.64152808]\n",
      "  [ 1.32988197  1.32988197  1.32988197]]]\n"
     ]
    }
   ],
   "source": [
    "src_frame = np.random.rand(3, 5, 1)\n",
    "gray = np.random.randn(src_frame.shape[0], src_frame.shape[1], 1)\n",
    "print(gray.shape)\n",
    "print(gray)\n",
    "\n",
    "rgb = np.tile(gray, (1,1,3))\n",
    "print(rgb.shape)\n",
    "print(\"rgb\")\n",
    "print(rgb)"
   ]
  },
  {
   "cell_type": "markdown",
   "metadata": {},
   "source": [
    "## Compute the mean value"
   ]
  },
  {
   "cell_type": "code",
   "execution_count": 6,
   "metadata": {},
   "outputs": [
    {
     "name": "stdout",
     "output_type": "stream",
     "text": [
      "2.0\n",
      "no error\n"
     ]
    }
   ],
   "source": [
    "center = np.array([1,2,3.0])\n",
    "mean = np.mean(center)"
   ]
  },
  {
   "cell_type": "markdown",
   "metadata": {},
   "source": [
    "## Compute the L2 norm"
   ]
  },
  {
   "cell_type": "code",
   "execution_count": 9,
   "metadata": {},
   "outputs": [
    {
     "name": "stdout",
     "output_type": "stream",
     "text": [
      "3.4641016151377544\n",
      "[[1.1 3.1]\n",
      " [1.9 5.5]\n",
      " [2.8 6.4]\n",
      " [1.4 3.6]\n",
      " [2.4 5.6]\n",
      " [3.1 3.4]\n",
      " [2.7 3.3]] (7, 2)\n",
      "[2.81780056 0.50990195 0.89442719 2.23606798 0.         2.30867928\n",
      " 2.3194827 ]\n",
      "[1.81727818 2.37118114 3.0516389  1.52069063 2.30488611 0.20615528\n",
      " 0.20615528]\n"
     ]
    }
   ],
   "source": [
    "delta_center = np.array([2.0, 2, 2.0])\n",
    "distance = np.linalg.norm(delta_center)\n",
    "print(distance)\n",
    "\n",
    "## Compute the matrix\n",
    "data_src = np.array([[1.1, 3.1],\n",
    "                     [1.9, 5.5],\n",
    "                     [2.8, 6.4],\n",
    "                     [1.4, 3.6],\n",
    "                     [2.4, 5.6],\n",
    "                     [3.1, 3.4],\n",
    "                     [2.7, 3.3]])\n",
    "\n",
    "print(data_src, data_src.shape)\n",
    "\n",
    "data_distance = np.linalg.norm(data_src[-3] - data_src, axis=1)\n",
    "print(data_distance)\n",
    "\n",
    "center = np.array([1.25, 3.35])\n",
    "center = np.array([2.367,5.867])\n",
    "center = np.array([2.9, 3.35])\n",
    "data_distance = np.linalg.norm(center - data_src, axis=1)\n",
    "print(data_distance)"
   ]
  },
  {
   "cell_type": "code",
   "execution_count": 15,
   "metadata": {},
   "outputs": [
    {
     "name": "stdout",
     "output_type": "stream",
     "text": [
      "[410, 441, 473]\n",
      "[410.         411.01612903 412.03225806 413.0483871  414.06451613\n",
      " 415.08064516 416.09677419 417.11290323 418.12903226 419.14516129\n",
      " 420.16129032 421.17741935 422.19354839 423.20967742 424.22580645\n",
      " 425.24193548 426.25806452 427.27419355 428.29032258 429.30645161\n",
      " 430.32258065 431.33870968 432.35483871 433.37096774 434.38709677\n",
      " 435.40322581 436.41935484 437.43548387 438.4516129  439.46774194\n",
      " 440.48387097 441.5        442.51612903 443.53225806 444.5483871\n",
      " 445.56451613 446.58064516 447.59677419 448.61290323 449.62903226\n",
      " 450.64516129 451.66129032 452.67741935 453.69354839 454.70967742\n",
      " 455.72580645 456.74193548 457.75806452 458.77419355 459.79032258\n",
      " 460.80645161 461.82258065 462.83870968 463.85483871 464.87096774\n",
      " 465.88709677 466.90322581 467.91935484 468.93548387 469.9516129\n",
      " 470.96774194 471.98387097 473.        ]\n"
     ]
    }
   ],
   "source": [
    "x = [410.0, 441.0, 473.0]\n",
    "x = list(map(int, x))\n",
    "print(x)\n",
    "\n",
    "curve_x = np.linspace(x[0], x[-1], (x[-1]-x[0]))\n",
    "print(curve_x)\n"
   ]
  }
 ],
 "metadata": {
  "interpreter": {
   "hash": "a905e65f9d17f2b99942353106a9a9bb4e3ae6eb3c5eda96a0f871aef2e2b8d2"
  },
  "kernelspec": {
   "display_name": "Python 3.6.13 64-bit ('face_python36': conda)",
   "name": "python3"
  },
  "language_info": {
   "codemirror_mode": {
    "name": "ipython",
    "version": 3
   },
   "file_extension": ".py",
   "mimetype": "text/x-python",
   "name": "python",
   "nbconvert_exporter": "python",
   "pygments_lexer": "ipython3",
   "version": "3.6.13"
  },
  "orig_nbformat": 4
 },
 "nbformat": 4,
 "nbformat_minor": 2
}
