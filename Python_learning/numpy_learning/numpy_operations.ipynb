{
 "cells": [
  {
   "cell_type": "markdown",
   "metadata": {},
   "source": [
    "## Useful operations in Numpy"
   ]
  },
  {
   "cell_type": "code",
   "execution_count": 1,
   "metadata": {},
   "outputs": [],
   "source": [
    "import numpy as np"
   ]
  },
  {
   "cell_type": "code",
   "execution_count": 9,
   "metadata": {},
   "outputs": [
    {
     "name": "stdout",
     "output_type": "stream",
     "text": [
      "(3, 5, 1)\n",
      "[[[-0.22305194]\n",
      "  [-0.13501087]\n",
      "  [-1.62244612]\n",
      "  [-1.20711516]\n",
      "  [ 1.27533629]]\n",
      "\n",
      " [[-0.63114901]\n",
      "  [-2.41434974]\n",
      "  [-0.64912477]\n",
      "  [ 1.08389685]\n",
      "  [ 1.57379786]]\n",
      "\n",
      " [[ 1.36316033]\n",
      "  [ 0.68273487]\n",
      "  [ 0.49873773]\n",
      "  [ 0.64152808]\n",
      "  [ 1.32988197]]]\n",
      "(3, 5, 3)\n",
      "rgb\n",
      "[[[-0.22305194 -0.22305194 -0.22305194]\n",
      "  [-0.13501087 -0.13501087 -0.13501087]\n",
      "  [-1.62244612 -1.62244612 -1.62244612]\n",
      "  [-1.20711516 -1.20711516 -1.20711516]\n",
      "  [ 1.27533629  1.27533629  1.27533629]]\n",
      "\n",
      " [[-0.63114901 -0.63114901 -0.63114901]\n",
      "  [-2.41434974 -2.41434974 -2.41434974]\n",
      "  [-0.64912477 -0.64912477 -0.64912477]\n",
      "  [ 1.08389685  1.08389685  1.08389685]\n",
      "  [ 1.57379786  1.57379786  1.57379786]]\n",
      "\n",
      " [[ 1.36316033  1.36316033  1.36316033]\n",
      "  [ 0.68273487  0.68273487  0.68273487]\n",
      "  [ 0.49873773  0.49873773  0.49873773]\n",
      "  [ 0.64152808  0.64152808  0.64152808]\n",
      "  [ 1.32988197  1.32988197  1.32988197]]]\n"
     ]
    }
   ],
   "source": [
    "src_frame = np.random.rand(3, 5, 1)\n",
    "gray = np.random.randn(src_frame.shape[0], src_frame.shape[1], 1)\n",
    "print(gray.shape)\n",
    "print(gray)\n",
    "\n",
    "rgb = np.tile(gray, (1,1,3))\n",
    "print(rgb.shape)\n",
    "print(\"rgb\")\n",
    "print(rgb)"
   ]
  },
  {
   "cell_type": "markdown",
   "metadata": {},
   "source": []
  }
 ],
 "metadata": {
  "interpreter": {
   "hash": "a905e65f9d17f2b99942353106a9a9bb4e3ae6eb3c5eda96a0f871aef2e2b8d2"
  },
  "kernelspec": {
   "display_name": "Python 3.6.13 64-bit ('face_python36': conda)",
   "name": "python3"
  },
  "language_info": {
   "codemirror_mode": {
    "name": "ipython",
    "version": 3
   },
   "file_extension": ".py",
   "mimetype": "text/x-python",
   "name": "python",
   "nbconvert_exporter": "python",
   "pygments_lexer": "ipython3",
   "version": "3.6.13"
  },
  "orig_nbformat": 4
 },
 "nbformat": 4,
 "nbformat_minor": 2
}
