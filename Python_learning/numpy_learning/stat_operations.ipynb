{
 "cells": [
  {
   "cell_type": "markdown",
   "metadata": {},
   "source": [
    "## Some useful statistics operations in Numpy"
   ]
  },
  {
   "cell_type": "markdown",
   "metadata": {},
   "source": [
    "## Count the True element in a matrix"
   ]
  },
  {
   "cell_type": "code",
   "execution_count": 2,
   "metadata": {},
   "outputs": [],
   "source": [
    "import numpy as np"
   ]
  },
  {
   "cell_type": "code",
   "execution_count": 5,
   "metadata": {},
   "outputs": [
    {
     "name": "stdout",
     "output_type": "stream",
     "text": [
      "3\n",
      "3\n"
     ]
    }
   ],
   "source": [
    "bool_array = np.array([[True, False, True, True, False]])\n",
    "## Method 1\n",
    "count = np.count_nonzero(bool_array)\n",
    "print(count)\n",
    "\n",
    "## Method 2\n",
    "count = np.sum(bool_array)\n",
    "print(count)"
   ]
  },
  {
   "cell_type": "code",
   "execution_count": 7,
   "metadata": {},
   "outputs": [
    {
     "name": "stdout",
     "output_type": "stream",
     "text": [
      "Print count of True elements in each column of the 2D array:  [1 2 3]\n",
      "Print count of True elements in each column of the 2D array:  [1 2 3]\n"
     ]
    }
   ],
   "source": [
    "# Create a 2D Array of shape 3X3\n",
    "arr_2d = np.array([[False, True, True],\n",
    "                   [True, False, True],\n",
    "                   [False, True, True]])\n",
    "# Count of True elements in each column of 2D Numpy Array\n",
    "count = np.count_nonzero(arr_2d, axis=0)\n",
    "print('Print count of True elements in each column of the 2D array: ', count)\n",
    "\n",
    "## Method 2\n",
    "# Count of True elements in each column of 2D Numpy Array\n",
    "count = np.sum(arr_2d, axis=0)\n",
    "print('Print count of True elements in each column of the 2D array: ', count)"
   ]
  },
  {
   "cell_type": "markdown",
   "metadata": {},
   "source": [
    "## Get the minimum and maximum value"
   ]
  },
  {
   "cell_type": "code",
   "execution_count": 19,
   "metadata": {},
   "outputs": [
    {
     "name": "stdout",
     "output_type": "stream",
     "text": [
      "[[0.42682364 0.82377656 0.92206833]\n",
      " [0.81319599 0.04761575 0.90215187]\n",
      " [0.3114927  0.89842812 0.84336648]\n",
      " [0.98946052 0.8118595  0.40996233]\n",
      " [0.1447982  0.65966754 0.52442848]\n",
      " [0.6086152  0.75189729 0.85777447]\n",
      " [0.68288067 0.2590522  0.9862588 ]\n",
      " [0.27291868 0.14613746 0.05932045]\n",
      " [0.16865192 0.2624704  0.23186875]\n",
      " [0.77531185 0.19693128 0.23646268]] (10, 3)\n",
      "0.9894605159446409\n",
      "9\n",
      "(array([3]), array([0]))\n",
      "[0 1 0]\n",
      "[1 2 3]\n"
     ]
    }
   ],
   "source": [
    "data_mat = np.random.rand(10, 3)\n",
    "print(data_mat, data_mat.shape)\n",
    "## Get the maximum value\n",
    "max_value = np.max(data_mat)\n",
    "print(max_value)\n",
    "\n",
    "max_index_col = np.argmax(data_mat)\n",
    "print(max_index_col)\n",
    "result = np.where(data_mat == np.max(data_mat))\n",
    "print(result)\n",
    "\n",
    "an_array = np.array([[1, 1, 3], [1, 2, 1]])\n",
    "max_index_col = np.argmax(an_array, axis=0)\n",
    "print(max_index_col)\n",
    "\n",
    "max_value = np.amax(an_array, axis=0)\n",
    "print(max_value)\n"
   ]
  },
  {
   "cell_type": "markdown",
   "metadata": {},
   "source": [
    "## Get the mask"
   ]
  },
  {
   "cell_type": "code",
   "execution_count": 6,
   "metadata": {},
   "outputs": [
    {
     "name": "stdout",
     "output_type": "stream",
     "text": [
      "[[ 0  6]\n",
      " [ 1  7]\n",
      " [ 2  8]\n",
      " [ 3  9]\n",
      " [ 4 10]\n",
      " [ 5 11]\n",
      " [ 6 12]\n",
      " [ 7 13]\n",
      " [ 8 14]\n",
      " [ 9 15]]\n",
      "[ True  True  True  True False False False False False False] (10,)\n"
     ]
    }
   ],
   "source": [
    "input_arr = np.stack([np.arange(0, 10), np.arange(6, 16)]).transpose()\n",
    "\n",
    "print(input_arr)\n",
    "\n",
    "mask = input_arr[:, 1] < 10\n",
    "print(mask, mask.shape)\n",
    "\n"
   ]
  }
 ],
 "metadata": {
  "interpreter": {
   "hash": "0c082186813ffa9b31ac59f396f889fc843ee9478052f18bdf775d498e65b333"
  },
  "kernelspec": {
   "display_name": "Python 3.6.13 64-bit ('mmlab': conda)",
   "language": "python",
   "name": "python3"
  },
  "language_info": {
   "codemirror_mode": {
    "name": "ipython",
    "version": 3
   },
   "file_extension": ".py",
   "mimetype": "text/x-python",
   "name": "python",
   "nbconvert_exporter": "python",
   "pygments_lexer": "ipython3",
   "version": "3.6.13"
  },
  "orig_nbformat": 4
 },
 "nbformat": 4,
 "nbformat_minor": 2
}
