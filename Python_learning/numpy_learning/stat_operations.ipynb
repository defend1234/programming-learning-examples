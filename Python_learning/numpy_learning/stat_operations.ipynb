{
 "cells": [
  {
   "cell_type": "markdown",
   "metadata": {},
   "source": [
    "## Some useful statistics operations in Numpy"
   ]
  },
  {
   "cell_type": "markdown",
   "metadata": {},
   "source": [
    "## Count the True element in a matrix"
   ]
  },
  {
   "cell_type": "code",
   "execution_count": 2,
   "metadata": {},
   "outputs": [],
   "source": [
    "import numpy as np"
   ]
  },
  {
   "cell_type": "code",
   "execution_count": 5,
   "metadata": {},
   "outputs": [
    {
     "name": "stdout",
     "output_type": "stream",
     "text": [
      "3\n",
      "3\n"
     ]
    }
   ],
   "source": [
    "bool_array = np.array([[True, False, True, True, False]])\n",
    "## Method 1\n",
    "count = np.count_nonzero(bool_array)\n",
    "print(count)\n",
    "\n",
    "## Method 2\n",
    "count = np.sum(bool_array)\n",
    "print(count)"
   ]
  },
  {
   "cell_type": "code",
   "execution_count": 7,
   "metadata": {},
   "outputs": [
    {
     "name": "stdout",
     "output_type": "stream",
     "text": [
      "Print count of True elements in each column of the 2D array:  [1 2 3]\n",
      "Print count of True elements in each column of the 2D array:  [1 2 3]\n"
     ]
    }
   ],
   "source": [
    "# Create a 2D Array of shape 3X3\n",
    "arr_2d = np.array([[False, True, True],\n",
    "                   [True, False, True],\n",
    "                   [False, True, True]])\n",
    "# Count of True elements in each column of 2D Numpy Array\n",
    "count = np.count_nonzero(arr_2d, axis=0)\n",
    "print('Print count of True elements in each column of the 2D array: ', count)\n",
    "\n",
    "## Method 2\n",
    "# Count of True elements in each column of 2D Numpy Array\n",
    "count = np.sum(arr_2d, axis=0)\n",
    "print('Print count of True elements in each column of the 2D array: ', count)"
   ]
  },
  {
   "cell_type": "markdown",
   "metadata": {},
   "source": [
    "## Get the minimum and maximum value"
   ]
  },
  {
   "cell_type": "code",
   "execution_count": 5,
   "metadata": {},
   "outputs": [
    {
     "name": "stdout",
     "output_type": "stream",
     "text": [
      "[[0.73155964 0.84471794 0.40168665]\n",
      " [0.9723163  0.41194422 0.27621136]\n",
      " [0.25482274 0.39703455 0.68578316]\n",
      " [0.73441348 0.19014257 0.15278848]\n",
      " [0.30227313 0.56898361 0.56728037]] [[0.25482274 0.19014257 0.15278848]] (1, 3)\n",
      "[[0.62456871 0.06662612 0.61718846]\n",
      " [0.73209436 0.47422646 0.07507338]\n",
      " [0.89869101 0.00212754 0.65742475]\n",
      " [0.43698782 0.6229175  0.27997969]\n",
      " [0.30414124 0.97275782 0.38975317]\n",
      " [0.03417354 0.17691992 0.77054182]\n",
      " [0.40092282 0.26976624 0.78764653]\n",
      " [0.25276316 0.6510223  0.61487391]\n",
      " [0.59077671 0.66905503 0.10733837]\n",
      " [0.68456691 0.93680628 0.61438354]] (10, 3)\n",
      "0.972757818145426\n",
      "13\n",
      "(array([4]), array([1]))\n",
      "[0 1 0]\n",
      "[1 2 3]\n"
     ]
    }
   ],
   "source": [
    "## get the minimum value in a matrix\n",
    "input_data = np.random.rand(5, 3)\n",
    "min_value = np.min(input_data, axis=0, keepdims=True)\n",
    "print(input_data, min_value, min_value.shape)\n",
    "\n",
    "\n",
    "data_mat = np.random.rand(10, 3)\n",
    "print(data_mat, data_mat.shape)\n",
    "## Get the maximum value\n",
    "max_value = np.max(data_mat)\n",
    "print(max_value)\n",
    "\n",
    "max_index_col = np.argmax(data_mat)\n",
    "print(max_index_col)\n",
    "result = np.where(data_mat == np.max(data_mat))\n",
    "print(result)\n",
    "\n",
    "an_array = np.array([[1, 1, 3], [1, 2, 1]])\n",
    "max_index_col = np.argmax(an_array, axis=0)\n",
    "print(max_index_col)\n",
    "\n",
    "max_value = np.amax(an_array, axis=0)\n",
    "print(max_value)\n",
    "\n"
   ]
  },
  {
   "cell_type": "markdown",
   "metadata": {},
   "source": [
    "## Get the mask"
   ]
  },
  {
   "cell_type": "code",
   "execution_count": 6,
   "metadata": {},
   "outputs": [
    {
     "name": "stdout",
     "output_type": "stream",
     "text": [
      "[[ 0  6]\n",
      " [ 1  7]\n",
      " [ 2  8]\n",
      " [ 3  9]\n",
      " [ 4 10]\n",
      " [ 5 11]\n",
      " [ 6 12]\n",
      " [ 7 13]\n",
      " [ 8 14]\n",
      " [ 9 15]]\n",
      "[ True  True  True  True False False False False False False] (10,)\n"
     ]
    }
   ],
   "source": [
    "input_arr = np.stack([np.arange(0, 10), np.arange(6, 16)]).transpose()\n",
    "\n",
    "print(input_arr)\n",
    "\n",
    "mask = input_arr[:, 1] < 10\n",
    "print(mask, mask.shape)\n",
    "\n"
   ]
  }
 ],
 "metadata": {
  "interpreter": {
   "hash": "0c082186813ffa9b31ac59f396f889fc843ee9478052f18bdf775d498e65b333"
  },
  "kernelspec": {
   "display_name": "Python 3.6.13 64-bit ('mmlab': conda)",
   "language": "python",
   "name": "python3"
  },
  "language_info": {
   "codemirror_mode": {
    "name": "ipython",
    "version": 3
   },
   "file_extension": ".py",
   "mimetype": "text/x-python",
   "name": "python",
   "nbconvert_exporter": "python",
   "pygments_lexer": "ipython3",
   "version": "3.6.13"
  },
  "orig_nbformat": 4
 },
 "nbformat": 4,
 "nbformat_minor": 2
}
