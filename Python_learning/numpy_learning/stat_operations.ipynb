{
 "cells": [
  {
   "cell_type": "markdown",
   "metadata": {},
   "source": [
    "## Some useful statistics operations in Numpy"
   ]
  },
  {
   "cell_type": "markdown",
   "metadata": {},
   "source": [
    "## Count the True element in a matrix"
   ]
  },
  {
   "cell_type": "code",
   "execution_count": 1,
   "metadata": {},
   "outputs": [],
   "source": [
    "import numpy as np"
   ]
  },
  {
   "cell_type": "code",
   "execution_count": 5,
   "metadata": {},
   "outputs": [
    {
     "name": "stdout",
     "output_type": "stream",
     "text": [
      "3\n",
      "3\n"
     ]
    }
   ],
   "source": [
    "bool_array = np.array([[True, False, True, True, False]])\n",
    "## Method 1\n",
    "count = np.count_nonzero(bool_array)\n",
    "print(count)\n",
    "\n",
    "## Method 2\n",
    "count = np.sum(bool_array)\n",
    "print(count)"
   ]
  },
  {
   "cell_type": "code",
   "execution_count": 7,
   "metadata": {},
   "outputs": [
    {
     "name": "stdout",
     "output_type": "stream",
     "text": [
      "Print count of True elements in each column of the 2D array:  [1 2 3]\n",
      "Print count of True elements in each column of the 2D array:  [1 2 3]\n"
     ]
    }
   ],
   "source": [
    "# Create a 2D Array of shape 3X3\n",
    "arr_2d = np.array([[False, True, True],\n",
    "                   [True, False, True],\n",
    "                   [False, True, True]])\n",
    "# Count of True elements in each column of 2D Numpy Array\n",
    "count = np.count_nonzero(arr_2d, axis=0)\n",
    "print('Print count of True elements in each column of the 2D array: ', count)\n",
    "\n",
    "## Method 2\n",
    "# Count of True elements in each column of 2D Numpy Array\n",
    "count = np.sum(arr_2d, axis=0)\n",
    "print('Print count of True elements in each column of the 2D array: ', count)"
   ]
  }
 ],
 "metadata": {
  "interpreter": {
   "hash": "0c082186813ffa9b31ac59f396f889fc843ee9478052f18bdf775d498e65b333"
  },
  "kernelspec": {
   "display_name": "Python 3.6.13 64-bit ('mmlab': conda)",
   "language": "python",
   "name": "python3"
  },
  "language_info": {
   "codemirror_mode": {
    "name": "ipython",
    "version": 3
   },
   "file_extension": ".py",
   "mimetype": "text/x-python",
   "name": "python",
   "nbconvert_exporter": "python",
   "pygments_lexer": "ipython3",
   "version": "3.6.13"
  },
  "orig_nbformat": 4
 },
 "nbformat": 4,
 "nbformat_minor": 2
}
