{
 "cells": [
  {
   "cell_type": "markdown",
   "source": [
    "# Basic usages of Numpy"
   ],
   "metadata": {}
  },
  {
   "cell_type": "code",
   "execution_count": 2,
   "source": [
    "import numpy as np"
   ],
   "outputs": [],
   "metadata": {}
  },
  {
   "cell_type": "markdown",
   "source": [
    "## Create numpy array and matrix"
   ],
   "metadata": {}
  },
  {
   "cell_type": "code",
   "execution_count": 19,
   "source": [
    "### 直接数字创建\n",
    "data_a = np.array([1, 2, 3])\n",
    "print(data_a.shape ,type(data_a.shape))\n",
    "\n",
    "### 创建随机矩阵\n",
    "data_a = np.random.randn(3, 2, 5)\n",
    "print(data_a.shape)\n",
    "\n",
    "### 矩阵列表转为矩阵 np.asarray用法, 会自动多加一维\n",
    "mels = [np.arange(0, 10), np.arange(10, 20)]\n",
    "mels = np.asarray(mels)\n",
    "print(mels, mels.shape)\n",
    "\n",
    "data_b = [np.random.randn(3,2), np.random.randn(3,2), np.random.randn(3,2)]\n",
    "data_b = [np.random.randn(2,), np.random.randn(2,), np.random.randn(2,)]\n",
    "print(data_b)\n",
    "data_b = np.asarray(data_b)\n",
    "print(data_b.shape)\n",
    "\n",
    "data_c = np.vstack(data_b)\n",
    "print(data_c.shape)\n",
    "print(data_c)"
   ],
   "outputs": [
    {
     "output_type": "stream",
     "name": "stdout",
     "text": [
      "(3,) <class 'tuple'>\n",
      "(3, 2, 5)\n",
      "[[ 0  1  2  3  4  5  6  7  8  9]\n",
      " [10 11 12 13 14 15 16 17 18 19]] (2, 10)\n",
      "[array([ 0.76442444, -0.50738742]), array([0.35320213, 1.04992197]), array([-1.77867327,  0.84270484])]\n",
      "(3, 2)\n",
      "(3, 2)\n",
      "[[ 0.76442444 -0.50738742]\n",
      " [ 0.35320213  1.04992197]\n",
      " [-1.77867327  0.84270484]]\n"
     ]
    }
   ],
   "metadata": {}
  },
  {
   "cell_type": "markdown",
   "source": [
    "## Stack like operations"
   ],
   "metadata": {}
  },
  {
   "cell_type": "code",
   "execution_count": 4,
   "source": [
    "data_b = [np.random.randn(16,16,3), np.random.randn(16,16,3), np.random.randn(16,16,3), np.random.randn(16,16,3)]\n",
    "data_c = np.stack(data_b, axis=3)\n",
    "print(data_c.shape)\n",
    "\n",
    "im = np.expand_dims(data_c,axis=0)\n",
    "print(im.shape)"
   ],
   "outputs": [
    {
     "output_type": "stream",
     "name": "stdout",
     "text": [
      "(16, 16, 3, 4)\n",
      "(1, 16, 16, 3, 4)\n"
     ]
    }
   ],
   "metadata": {}
  },
  {
   "cell_type": "markdown",
   "source": [
    "## Random operation"
   ],
   "metadata": {}
  },
  {
   "cell_type": "code",
   "execution_count": 8,
   "source": [
    "train_split = np.arange(0, 100)  # shape (100, )\n",
    "print(train_split, train_split.shape)\n",
    "\n",
    "train_i = np.random.choice(train_split)\n",
    "print(train_i)"
   ],
   "outputs": [
    {
     "output_type": "stream",
     "name": "stdout",
     "text": [
      "[ 0  1  2  3  4  5  6  7  8  9 10 11 12 13 14 15 16 17 18 19 20 21 22 23\n",
      " 24 25 26 27 28 29 30 31 32 33 34 35 36 37 38 39 40 41 42 43 44 45 46 47\n",
      " 48 49 50 51 52 53 54 55 56 57 58 59 60 61 62 63 64 65 66 67 68 69 70 71\n",
      " 72 73 74 75 76 77 78 79 80 81 82 83 84 85 86 87 88 89 90 91 92 93 94 95\n",
      " 96 97 98 99] (100,)\n",
      "56\n"
     ]
    }
   ],
   "metadata": {}
  },
  {
   "cell_type": "markdown",
   "source": [
    "## Math operations"
   ],
   "metadata": {}
  },
  {
   "cell_type": "code",
   "execution_count": 5,
   "source": [
    "## https://numpy.org/doc/stable/reference/generated/numpy.stack.html\n",
    "arrays = [np.random.randn(3, 4) for _ in range(10)]\n",
    "print(len(arrays))\n",
    "np.stack(arrays, axis=0).shape"
   ],
   "outputs": [
    {
     "output_type": "stream",
     "name": "stdout",
     "text": [
      "10\n"
     ]
    },
    {
     "output_type": "execute_result",
     "data": {
      "text/plain": [
       "(10, 3, 4)"
      ]
     },
     "metadata": {},
     "execution_count": 5
    }
   ],
   "metadata": {}
  },
  {
   "cell_type": "code",
   "execution_count": null,
   "source": [],
   "outputs": [],
   "metadata": {}
  }
 ],
 "metadata": {
  "orig_nbformat": 4,
  "language_info": {
   "name": "python",
   "version": "3.6.13",
   "mimetype": "text/x-python",
   "codemirror_mode": {
    "name": "ipython",
    "version": 3
   },
   "pygments_lexer": "ipython3",
   "nbconvert_exporter": "python",
   "file_extension": ".py"
  },
  "kernelspec": {
   "name": "python3",
   "display_name": "Python 3.6.13 64-bit ('face_python36': conda)"
  },
  "interpreter": {
   "hash": "a8c17cacde4bf83c7e39b5631839a653d23294c3e57f7dc62f99a2c1a562a38c"
  }
 },
 "nbformat": 4,
 "nbformat_minor": 2
}