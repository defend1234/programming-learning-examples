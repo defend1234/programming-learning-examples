{
 "cells": [
  {
   "cell_type": "markdown",
   "metadata": {},
   "source": [
    "# Basic usages of Numpy"
   ]
  },
  {
   "cell_type": "code",
   "execution_count": 3,
   "metadata": {},
   "outputs": [],
   "source": [
    "import numpy as np\n",
    "import time"
   ]
  },
  {
   "cell_type": "markdown",
   "metadata": {},
   "source": [
    "## Create numpy array and matrix - Part 1"
   ]
  },
  {
   "cell_type": "code",
   "execution_count": 14,
   "metadata": {},
   "outputs": [
    {
     "name": "stdout",
     "output_type": "stream",
     "text": [
      "[4] (1,)\n",
      "(3,) int64\n",
      "(3, 2, 5) float64\n",
      "zero matrix: \n",
      " [[0. 0. 0.]\n",
      " [0. 0. 0.]\n",
      " [0. 0. 0.]\n",
      " [0. 0. 0.]\n",
      " [0. 0. 0.]] float64\n",
      "ones: (5,) [1. 1. 1. 1. 1.]\n",
      "target_class_mask: (52,) bool [False False]\n",
      "0\n",
      "1\n",
      "2\n",
      "3\n",
      "4\n"
     ]
    }
   ],
   "source": [
    "### 直接数字创建 dtype=int64 by default\n",
    "data_a = np.array([4])\n",
    "print(data_a, data_a.shape)\n",
    "\n",
    "data_a = np.array([1, 2, 3])\n",
    "print(data_a.shape, data_a.dtype)\n",
    "\n",
    "### 创建随机矩阵 dtype=float64 by default\n",
    "data_a = np.random.randn(3, 2, 5)\n",
    "print(data_a.shape, data_a.dtype)\n",
    "\n",
    "### 创建全0, 全1矩阵\n",
    "data_a = np.zeros((5, 3))\n",
    "print(\"zero matrix: \\n\", data_a, data_a.dtype)\n",
    "\n",
    "data_a = np.ones(5)\n",
    "print(\"ones:\", data_a.shape, data_a)\n",
    "\n",
    "## Create OpenCV image type matrix\n",
    "frame = np.ones((400, 400, 3), np.uint8) # 指定数据类型\n",
    "\n",
    "## Create bool type vector\n",
    "target_class_mask = np.zeros(52, dtype=np.bool) # (52,) all False\n",
    "print(\"target_class_mask:\", target_class_mask.shape, target_class_mask.dtype, target_class_mask[:2])\n",
    "\n",
    "for i in range(0, 5):\n",
    "    print(i)"
   ]
  },
  {
   "cell_type": "markdown",
   "metadata": {},
   "source": [
    "## Create numpy array and matrix - Part 2"
   ]
  },
  {
   "cell_type": "code",
   "execution_count": null,
   "metadata": {},
   "outputs": [],
   "source": [
    "\n",
    "### 创建大尺寸矩阵,测试耗时\n",
    "start = time.time()\n",
    "img = np.zeros((720, 1080, 1), np.uint8)\n",
    "print(f\"Elapsed time is {time.time() - start}s\")\n",
    "\n",
    "### 矩阵列表转为矩阵 np.asarray用法, 会自动多加一维\n",
    "list_feat = [np.arange(0, 10), np.arange(10, 20)]\n",
    "list_arr = np.array(list_feat)\n",
    "print(\"list_arr\", list_arr.shape)\n",
    "\n",
    "mels = [np.arange(0, 10), np.arange(10, 20)]\n",
    "mels = np.asarray(mels)\n",
    "print(\"mels\", mels, mels.shape)\n",
    "\n",
    "data_b = [np.random.randn(5,2), np.random.randn(5,2), np.random.randn(5,2)]\n",
    "# data_b = [np.random.randn(2,), np.random.randn(2,), np.random.randn(2,)]\n",
    "print(\"data_b\")\n",
    "data_b = np.asarray(data_b)\n",
    "print(data_b.shape)\n",
    "\n",
    "data_c = np.vstack(data_b)\n",
    "print(data_c.shape)\n",
    "print(data_c)"
   ]
  },
  {
   "cell_type": "markdown",
   "metadata": {},
   "source": [
    "## Create numpy array and matrix - Part 3"
   ]
  },
  {
   "cell_type": "code",
   "execution_count": 3,
   "metadata": {},
   "outputs": [
    {
     "name": "stdout",
     "output_type": "stream",
     "text": [
      "(2, 10) float64\n",
      "[[0. 0. 0. 0. 0. 0. 0. 0. 0. 0.]\n",
      " [0. 0. 0. 0. 0. 0. 0. 0. 0. 0.]] (2, 10) float64\n",
      "(720,)\n"
     ]
    }
   ],
   "source": [
    "params_mat = np.asarray([np.random.rand(10), np.random.rand(10)])\n",
    "print(params_mat.shape, params_mat.dtype)\n",
    "\n",
    "## Create a all 0 matrix with same size with a existing one\n",
    "params_mat_zero = np.zeros_like(params_mat)\n",
    "print(params_mat_zero, params_mat_zero.shape, params_mat_zero.dtype)\n",
    "\n",
    "img = np.zeros((720,))\n",
    "print(img.shape)\n"
   ]
  },
  {
   "cell_type": "markdown",
   "metadata": {},
   "source": [
    "## Convert array data type"
   ]
  },
  {
   "cell_type": "code",
   "execution_count": 3,
   "metadata": {},
   "outputs": [
    {
     "name": "stdout",
     "output_type": "stream",
     "text": [
      "(4,) int64\n",
      "float32\n"
     ]
    }
   ],
   "source": [
    "arr = np.array([1, 2, 3, 4]) ## np.int64 by default\n",
    "print(arr.shape, arr.dtype)\n",
    "\n",
    "arr = arr.astype(np.float32)\n",
    "print(arr.dtype)\n"
   ]
  },
  {
   "cell_type": "code",
   "execution_count": 3,
   "metadata": {},
   "outputs": [
    {
     "name": "stdout",
     "output_type": "stream",
     "text": [
      "[[[0 1 1 1]\n",
      "  [0 0 1 1]\n",
      "  [0 0 0 1]\n",
      "  [0 0 0 0]]]\n"
     ]
    }
   ],
   "source": [
    "size = 4\n",
    "nopeak_mask = np.triu(np.ones((1, size, size)), k=1).astype('uint8')\n",
    "\n",
    "print(nopeak_mask)\n",
    "\n"
   ]
  },
  {
   "cell_type": "code",
   "execution_count": 9,
   "metadata": {},
   "outputs": [
    {
     "name": "stdout",
     "output_type": "stream",
     "text": [
      "A= <class 'numpy.ndarray'> (3, 3)\n",
      "[[1 2 3]\n",
      " [4 5 6]\n",
      " [7 8 9]]\n",
      "[[1]\n",
      " [2]\n",
      " [3]] (3, 1)\n",
      "[[1 2 3]] (1, 3)\n",
      "[1 2 3 4 5 6 7 8 9] (9,)\n",
      "[ 1.  2.  3.  4.  5.  6.  7.  8.  9. 10.] (10,) float64\n"
     ]
    }
   ],
   "source": [
    "def use_as_matrix():\n",
    "    A = np.array([[1,2,3], [4,5,6],[7,8,9]])\n",
    "    print('A=', type(A), A.shape)\n",
    "    print(A)\n",
    "\n",
    "    ## define column matrix\n",
    "    B = np.array([[1], [2], [3]])\n",
    "    print(B, B.shape)\n",
    "\n",
    "     ## define row matrix\n",
    "    C = np.array([[1, 2, 3]])\n",
    "    print(C, C.shape)\n",
    "\n",
    "def use_as_array():\n",
    "    A = np.arange(1,10,1)\n",
    "    print(A, A.shape)\n",
    "\n",
    "    B = np.linspace(1, 10, 10)\n",
    "    print(B, B.shape, B.dtype)\n",
    "\n",
    "use_as_matrix()\n",
    "\n",
    "use_as_array()"
   ]
  },
  {
   "cell_type": "markdown",
   "metadata": {},
   "source": [
    "## Slice the matrix"
   ]
  },
  {
   "cell_type": "code",
   "execution_count": 12,
   "metadata": {},
   "outputs": [
    {
     "name": "stdout",
     "output_type": "stream",
     "text": [
      "3\n",
      "[[[0.95027973 0.69408122 0.71595983]\n",
      "  [0.66640867 0.23299819 0.4384967 ]\n",
      "  [0.45917007 0.79473264 0.79113138]\n",
      "  [0.77783361 0.32157749 0.35147845]]\n",
      "\n",
      " [[0.23483744 0.04922651 0.74468683]\n",
      "  [0.92249776 0.62622845 0.12819601]\n",
      "  [0.36282255 0.51996465 0.37164608]\n",
      "  [0.17878366 0.48804741 0.6134491 ]]\n",
      "\n",
      " [[0.51119914 0.9876817  0.88428926]\n",
      "  [0.15614281 0.0555798  0.98423752]\n",
      "  [0.41431375 0.0286296  0.23056143]\n",
      "  [0.78584942 0.44622952 0.68192269]]]\n",
      "[[[8.72819614e-01 4.29538874e-01 8.89550990e-01]\n",
      "  [3.09392114e-01 1.38051520e-01 2.04889840e-01]\n",
      "  [6.22587850e-01 3.89298395e-02 3.13468444e-01]\n",
      "  [1.94154435e-01 4.46350695e-01 2.09556283e-02]]\n",
      "\n",
      " [[2.97046346e-01 5.83020424e-01 1.64605335e-01]\n",
      "  [4.55808246e-01 4.68072619e-03 1.31792672e-01]\n",
      "  [5.27513709e-01 6.28081684e-01 1.84060611e-01]\n",
      "  [1.92206609e-02 2.97332961e-01 9.87666197e-01]]\n",
      "\n",
      " [[2.62972314e-04 9.62267989e-01 6.09836736e-01]\n",
      "  [8.05506729e-01 3.62284906e-01 4.27476706e-01]\n",
      "  [7.33294730e-01 7.08696287e-01 4.22778763e-01]\n",
      "  [3.22565929e-01 7.44675150e-01 2.36314935e-01]]]\n",
      "[[[0.20366875 0.85995987 0.11490973]\n",
      "  [0.64736156 0.30470851 0.25368015]\n",
      "  [0.44671772 0.81510893 0.84193373]\n",
      "  [0.22697624 0.02872024 0.06279047]]\n",
      "\n",
      " [[0.77473499 0.0483463  0.20488385]\n",
      "  [0.04735696 0.14292375 0.3943447 ]\n",
      "  [0.85539445 0.11314535 0.3583998 ]\n",
      "  [0.02218262 0.61843505 0.96154888]]]\n"
     ]
    }
   ],
   "source": [
    "input_data = np.random.rand(8, 4, 3)\n",
    "# print(input_data, input_data.shape)\n",
    "\n",
    "def split_given_size(a, size):\n",
    "    return np.split(a, np.arange(size,len(a),size))\n",
    "\n",
    "splited = split_given_size(input_data, 3)\n",
    "print(len(splited))\n",
    "\n",
    "for l in splited:\n",
    "    print(l)"
   ]
  },
  {
   "cell_type": "code",
   "execution_count": 4,
   "metadata": {},
   "outputs": [
    {
     "name": "stdout",
     "output_type": "stream",
     "text": [
      "40\n"
     ]
    }
   ],
   "source": [
    "import numpy as np\n",
    "\n",
    "data = 50\n",
    "\n",
    "data_b = np.clip(data, 20, 40)\n",
    "print(data_b)"
   ]
  },
  {
   "cell_type": "markdown",
   "metadata": {},
   "source": [
    "## Matrix basic properties"
   ]
  },
  {
   "cell_type": "code",
   "execution_count": 6,
   "metadata": {},
   "outputs": [
    {
     "name": "stdout",
     "output_type": "stream",
     "text": [
      "(3, 2, 4, 10) float64\n",
      "4\n"
     ]
    }
   ],
   "source": [
    "data_a = np.random.randn(3, 2, 4, 10)\n",
    "print(data_a.shape, data_a.dtype)\n",
    "\n",
    "print(data_a.ndim)"
   ]
  },
  {
   "cell_type": "code",
   "execution_count": 3,
   "metadata": {},
   "outputs": [
    {
     "name": "stdout",
     "output_type": "stream",
     "text": [
      "(5, 3, 16, 16)\n"
     ]
    }
   ],
   "source": [
    "img_batch = np.random.randn(5, 16, 16, 3)\n",
    "images = img_batch[..., ::-1].transpose(0,3,1,2)\n",
    "print(images.shape)"
   ]
  },
  {
   "cell_type": "markdown",
   "metadata": {},
   "source": [
    "## Add new axis"
   ]
  },
  {
   "cell_type": "code",
   "execution_count": 32,
   "metadata": {},
   "outputs": [
    {
     "name": "stdout",
     "output_type": "stream",
     "text": [
      "(96, 96)\n",
      "[[0.55265135 0.4098663  0.6338407 ]\n",
      " [0.28554012 0.39664046 0.81507042]\n",
      " [0.82099444 0.35540592 0.79751556]]\n",
      "(96, 96, 1)\n",
      "[[[0.55265135]\n",
      "  [0.4098663 ]\n",
      "  [0.6338407 ]]\n",
      "\n",
      " [[0.28554012]\n",
      "  [0.39664046]\n",
      "  [0.81507042]]\n",
      "\n",
      " [[0.82099444]\n",
      "  [0.35540592]\n",
      "  [0.79751556]]]\n",
      "(1, 3) (1, 1, 3)\n",
      "[[-0.29139472 -0.44647676  1.47266128]]\n",
      "[[[-0.29139472 -0.44647676  1.47266128]]]\n",
      "(1, 1, 3)\n"
     ]
    }
   ],
   "source": [
    "gray_img = np.random.rand(96, 96)\n",
    "print(gray_img.shape)\n",
    "print(gray_img[:3, :3])\n",
    "\n",
    "gray_img = gray_img[..., np.newaxis]\n",
    "print(gray_img.shape)\n",
    "print(gray_img[:3, :3])\n",
    "\n",
    "mean_rgb = np.random.randn(1,3)\n",
    "x = np.expand_dims(mean_rgb, 0)\n",
    "print(mean_rgb.shape, x.shape)\n",
    "print(mean_rgb)\n",
    "print(x)\n",
    "\n",
    "arr = np.array([1, 2, 3])\n",
    "arr = arr[None, None, :]\n",
    "print(arr.shape)"
   ]
  },
  {
   "cell_type": "markdown",
   "metadata": {},
   "source": [
    "## Some useful functions"
   ]
  },
  {
   "cell_type": "code",
   "execution_count": 5,
   "metadata": {},
   "outputs": [
    {
     "name": "stdout",
     "output_type": "stream",
     "text": [
      "(3, 5, 96, 96)\n",
      "(3, 5, 48, 96)\n",
      "[3 6 9]\n"
     ]
    }
   ],
   "source": [
    "### Usage of transpose function\n",
    "x1 = np.random.rand(5, 96, 96, 3)\n",
    "x1 = x1.transpose(3, 0, 1, 2)\n",
    "print(x1.shape)\n",
    "x1 = x1[:,:,x1.shape[2]//2:]\n",
    "print(x1.shape)\n",
    "\n",
    "size = 3\n",
    "arr = np.arange(size, 10, size)\n",
    "print(arr)"
   ]
  },
  {
   "cell_type": "code",
   "execution_count": 5,
   "metadata": {},
   "outputs": [
    {
     "ename": "ValueError",
     "evalue": "too many values to unpack (expected 2)",
     "output_type": "error",
     "traceback": [
      "\u001b[0;31m---------------------------------------------------------------------------\u001b[0m",
      "\u001b[0;31mValueError\u001b[0m                                Traceback (most recent call last)",
      "\u001b[0;32m<ipython-input-5-2cca7c8707de>\u001b[0m in \u001b[0;36m<module>\u001b[0;34m\u001b[0m\n\u001b[1;32m      1\u001b[0m \u001b[0mimg\u001b[0m \u001b[0;34m=\u001b[0m \u001b[0mnp\u001b[0m\u001b[0;34m.\u001b[0m\u001b[0mrandom\u001b[0m\u001b[0;34m.\u001b[0m\u001b[0mrand\u001b[0m\u001b[0;34m(\u001b[0m\u001b[0;36m100\u001b[0m\u001b[0;34m,\u001b[0m\u001b[0;36m96\u001b[0m\u001b[0;34m,\u001b[0m\u001b[0;36m3\u001b[0m\u001b[0;34m)\u001b[0m\u001b[0;34m\u001b[0m\u001b[0;34m\u001b[0m\u001b[0m\n\u001b[0;32m----> 2\u001b[0;31m \u001b[0mH\u001b[0m\u001b[0;34m,\u001b[0m \u001b[0mW\u001b[0m \u001b[0;34m=\u001b[0m \u001b[0mimg\u001b[0m\u001b[0;34m.\u001b[0m\u001b[0mshape\u001b[0m\u001b[0;34m\u001b[0m\u001b[0;34m\u001b[0m\u001b[0m\n\u001b[0m\u001b[1;32m      3\u001b[0m \u001b[0mprint\u001b[0m\u001b[0;34m(\u001b[0m\u001b[0mH\u001b[0m\u001b[0;34m,\u001b[0m \u001b[0mW\u001b[0m\u001b[0;34m)\u001b[0m\u001b[0;34m\u001b[0m\u001b[0;34m\u001b[0m\u001b[0m\n",
      "\u001b[0;31mValueError\u001b[0m: too many values to unpack (expected 2)"
     ]
    }
   ],
   "source": [
    "img = np.random.rand(100,96,3)\n",
    "H, W = img.shape[:2]\n",
    "print(H, W)"
   ]
  },
  {
   "cell_type": "markdown",
   "metadata": {},
   "source": [
    "## Stack like operations"
   ]
  },
  {
   "cell_type": "code",
   "execution_count": 8,
   "metadata": {},
   "outputs": [
    {
     "name": "stdout",
     "output_type": "stream",
     "text": [
      "(224, 226, 3)\n",
      "[0 1 2 3] (4,) <class 'numpy.ndarray'>\n",
      "input list length is 4\n",
      "stack result:  (4, 16, 16, 3)\n",
      "stack axis=3: (16, 16, 3, 4)\n",
      "(1, 16, 16, 3, 4)\n",
      "(4, 3)\n",
      "(4, 1) [[1]\n",
      " [2]\n",
      " [4]\n",
      " [5]]\n"
     ]
    }
   ],
   "source": [
    "import numpy as np\n",
    "\n",
    "def hstack_example():\n",
    "    black_pixels_left = np.zeros((224, 0, 3), dtype=np.uint8)\n",
    "    scaled_mask = np.zeros((224, 224, 3), dtype=np.uint8)\n",
    "    black_pixels_right = np.zeros((224, 2, 3), dtype=np.uint8)\n",
    "\n",
    "    ## Stack the array list in the horizontal direction, will sum the columns\n",
    "    hstacked_array = np.hstack([black_pixels_left, scaled_mask, black_pixels_right])\n",
    "    print(hstacked_array.shape)\n",
    "\n",
    "hstack_example()\n",
    "\n",
    "## simple one\n",
    "subject_idx = [0, 1, 2, 3]\n",
    "subject_idx = np.stack(subject_idx)\n",
    "print(subject_idx, subject_idx.shape, type(subject_idx))\n",
    "\n",
    "data_b = [np.random.randn(16,16,3), np.random.randn(16,16,3), np.random.randn(16,16,3), np.random.randn(16,16,3)]\n",
    "print(f\"input list length is {len(data_b)}\")\n",
    "result = np.stack(data_b)\n",
    "print(\"stack result: \", result.shape)\n",
    "\n",
    "data_c = np.stack(data_b, axis=3)\n",
    "print(\"stack axis=3:\", data_c.shape)\n",
    "\n",
    "im = np.expand_dims(data_c, axis=0)\n",
    "print(im.shape)\n",
    "\n",
    "centers = [np.array([1,2,3]), np.array([1,2,3]), np.array([1,2,3]), np.array([1,2,3])]\n",
    "result = np.stack(centers)\n",
    "print(result.shape)\n",
    "\n",
    "timestamp = [1, 2, 4, 5]\n",
    "result = np.array(timestamp).reshape(-1, 1)\n",
    "print(result.shape, result)\n",
    "\n",
    "\n",
    "def stack_array():\n",
    "    a = np.random.rand(5,3)\n",
    "    b = np.random.rand(5,3)\n",
    "\n",
    "    array_list = [a, b]\n",
    "    c = np.stack(array_list, axis=0)\n",
    "    print(c)\n",
    "    print(c.shape)"
   ]
  },
  {
   "cell_type": "markdown",
   "metadata": {},
   "source": [
    "## Concatenate operation"
   ]
  },
  {
   "cell_type": "code",
   "execution_count": 15,
   "metadata": {},
   "outputs": [
    {
     "name": "stdout",
     "output_type": "stream",
     "text": [
      "concatenate result:  (64, 16, 1)\n",
      "concatenate axis=1:  (16, 64, 1)\n",
      "concatenate axis=2:  (16, 16, 4)\n"
     ]
    }
   ],
   "source": [
    "def combine_arrays():\n",
    "    a = np.random.rand(3, 96, 96)\n",
    "    b = np.random.rand(3, 96, 96)\n",
    "    c = np.random.rand(3, 96, 96)\n",
    "    d = np.random.rand(3, 96, 96)\n",
    "    window = [a, b, c, d]\n",
    "\n",
    "    window_np = np.asarray(window)\n",
    "    window_np2 = window_np.copy()\n",
    "    print(window_np.shape)\n",
    "\n",
    "    x = np.concatenate([window_np, window_np2], axis=0)\n",
    "    print(x.shape)\n",
    "\n",
    "    \n",
    "window = [np.random.randn(16,16,1), np.random.randn(16,16,1), np.random.randn(16,16,1), np.random.randn(16,16,1)]\n",
    "result = np.concatenate(window)\n",
    "print(\"concatenate result: \", result.shape)\n",
    "\n",
    "result = np.concatenate(window, axis=1)\n",
    "print(\"concatenate axis=1: \", result.shape)\n",
    "\n",
    "result = np.concatenate(window, axis=2)\n",
    "print(\"concatenate axis=2: \", result.shape)"
   ]
  },
  {
   "cell_type": "markdown",
   "metadata": {},
   "source": [
    "## Random operation"
   ]
  },
  {
   "cell_type": "code",
   "execution_count": 14,
   "metadata": {},
   "outputs": [
    {
     "name": "stdout",
     "output_type": "stream",
     "text": [
      "[ 0  1  2  3  4  5  6  7  8  9 10 11 12 13 14 15 16 17 18 19 20 21 22 23\n",
      " 24 25 26 27 28 29 30 31 32 33 34 35 36 37 38 39 40 41 42 43 44 45 46 47\n",
      " 48 49 50 51 52 53 54 55 56 57 58 59 60 61 62 63 64 65 66 67 68 69 70 71\n",
      " 72 73 74 75 76 77 78 79 80 81 82 83 84 85 86 87 88 89 90 91 92 93 94 95\n",
      " 96 97 98 99] (100,)\n",
      "70\n",
      "[2 7 3 1 8 0 5 4 9 6]\n",
      "(0, 10)\n"
     ]
    }
   ],
   "source": [
    "train_split = np.arange(0, 100)  # shape (100, )\n",
    "print(train_split, train_split.shape)\n",
    "\n",
    "train_i = np.random.choice(train_split)\n",
    "print(train_i)\n",
    "\n",
    "rand_perm = np.random.permutation(10)\n",
    "print(rand_perm)\n",
    "proportion = (0., 1.)\n",
    "proportion_idx = (int(proportion[0] * len(rand_perm)), int(proportion[1] * len(rand_perm)))\n",
    "print(proportion_idx)"
   ]
  },
  {
   "cell_type": "markdown",
   "metadata": {},
   "source": [
    "## Math operations"
   ]
  },
  {
   "cell_type": "code",
   "execution_count": 20,
   "metadata": {},
   "outputs": [
    {
     "name": "stdout",
     "output_type": "stream",
     "text": [
      "10\n",
      "[[0.13961726 0.14763359]\n",
      " [0.07032274 0.90661042]\n",
      " [0.39364    0.11111287]\n",
      " [0.52464075 0.57078679]\n",
      " [0.91484223 0.00106053]] (5, 2)\n",
      "[[ 1.13961726 20.14763359]\n",
      " [ 1.07032274 20.90661042]\n",
      " [ 1.39364    20.11111287]\n",
      " [ 1.52464075 20.57078679]\n",
      " [ 1.91484223 20.00106053]]\n",
      "[0.01959492 0.04258225 0.02988345] (3,)\n",
      "[[[0.94079425 0.06929563 0.5931752 ]\n",
      "  [0.39409165 0.88012489 0.62131803]]\n",
      "\n",
      " [[0.71231883 0.19532403 0.54097216]\n",
      "  [0.95402267 0.3010743  0.257091  ]]\n",
      "\n",
      " [[0.413671   0.66827731 0.53900185]\n",
      "  [0.73407962 0.78200114 0.77947188]]]\n",
      "[[[48.01215063  1.6273361  19.84962259]\n",
      "  [20.11192939 20.66882063 20.79137563]]\n",
      "\n",
      " [[36.35221911  4.5869823  18.1027343 ]\n",
      "  [48.68724472  7.07041793  8.60312307]]\n",
      "\n",
      " [[21.11113499 15.69379982 18.03680145]\n",
      "  [37.46275159 18.36448608 26.08373118]]]\n"
     ]
    }
   ],
   "source": [
    "## https://numpy.org/doc/stable/reference/generated/numpy.stack.html\n",
    "arrays = [np.random.randn(3, 4) for _ in range(10)]\n",
    "print(len(arrays))\n",
    "np.stack(arrays, axis=0).shape\n",
    "\n",
    "\n",
    "arr_a = np.random.rand(5, 2)\n",
    "print(arr_a, arr_a.shape)\n",
    "\n",
    "arr_b = arr_a + np.array([1, 20])\n",
    "print(arr_b)\n",
    "\n",
    "## Substract the matrix\n",
    "MIN_MOTION = [-0.00916614, -0.02674509, -0.0166305]\n",
    "MAX_MOTION = [0.01042878, 0.01583716, 0.01325295]\n",
    "diff = np.array(MAX_MOTION) - np.array(MIN_MOTION)\n",
    "print(diff, diff.shape)\n",
    "\n",
    "\n",
    "## Divide the matrix\n",
    "input_data = np.random.rand(3, 2, 3)\n",
    "print(input_data)\n",
    "output = input_data / np.expand_dims(diff, axis=0)\n",
    "print(output)"
   ]
  },
  {
   "cell_type": "code",
   "execution_count": 49,
   "metadata": {},
   "outputs": [
    {
     "name": "stdout",
     "output_type": "stream",
     "text": [
      "[[ 4  8 12]\n",
      " [ 8 16 24]\n",
      " [12 24 36]\n",
      " [12 24 36]]\n"
     ]
    }
   ],
   "source": [
    "import numpy as np\n",
    "\n",
    "# Matrix divide by a vector\n",
    "matrix = np.array([[2,2,2],\n",
    "                   [4,4,4],\n",
    "                   [6,6,6],\n",
    "                   [6,6,6]])\n",
    "# matrix = np.expand_dims(matrix, axis=1)\n",
    "vector = np.array([2,4,6])\n",
    "\n",
    "def test_divide(matrix, vector):\n",
    "    matrix = matrix / vector[:, None]\n",
    "    print(matrix)\n",
    "\n",
    "def test_multiply(matrix, vector):\n",
    "    output = np.multiply(matrix, vector)\n",
    "    print(output)\n",
    "\n",
    "test_multiply(matrix, vector)"
   ]
  },
  {
   "cell_type": "markdown",
   "metadata": {},
   "source": [
    "## Compute the delta array"
   ]
  },
  {
   "cell_type": "code",
   "execution_count": 7,
   "metadata": {},
   "outputs": [
    {
     "name": "stdout",
     "output_type": "stream",
     "text": [
      "[[0]\n",
      " [6]\n",
      " [0]\n",
      " [6]\n",
      " [0]\n",
      " [1]\n",
      " [0]\n",
      " [8]\n",
      " [0]\n",
      " [6]]\n",
      "(9, 1)\n",
      "[[1.45146271 0.362749   1.35514625]\n",
      " [0.51994227 0.86556387 0.02524436]\n",
      " [0.59527528 0.56022706 0.78244459]]\n",
      "(9, 3)\n",
      "distance <class 'numpy.ndarray'> (9,) [1.69976238 0.81991331 1.09407121 2.81901685 2.437771   1.52364857\n",
      " 2.51824093 1.32703159 0.97221643]\n",
      "mean distance 1.6901858071084175\n"
     ]
    }
   ],
   "source": [
    "timestamp = np.random.randint((1, 10), size=(10, 1))\n",
    "print(timestamp)\n",
    "\n",
    "delta_t = timestamp[1:] - timestamp[0:-1]\n",
    "print(delta_t.shape)\n",
    "\n",
    "## Assume these are some objects 3D coordinates\n",
    "center = np.random.randn(10, 3)\n",
    "print(center[:3])\n",
    "deltat_center = center[1:] - center[0:-1]\n",
    "print(deltat_center.shape)\n",
    "distance = np.linalg.norm(deltat_center, axis=1)\n",
    "print(\"distance\", type(distance), distance.shape, distance)\n",
    "\n",
    "mean_distance = np.mean(distance)\n",
    "print(\"mean distance\", mean_distance)"
   ]
  },
  {
   "cell_type": "code",
   "execution_count": 3,
   "metadata": {},
   "outputs": [
    {
     "name": "stdout",
     "output_type": "stream",
     "text": [
      "[ 0  0 21  3]\n"
     ]
    }
   ],
   "source": [
    "input_list = [0, -1, 21, 3]\n",
    "d = np.clip(input_list, 0, None)\n",
    "print(d)"
   ]
  }
 ],
 "metadata": {
  "interpreter": {
   "hash": "a905e65f9d17f2b99942353106a9a9bb4e3ae6eb3c5eda96a0f871aef2e2b8d2"
  },
  "kernelspec": {
   "display_name": "Python 3.6.13 64-bit ('face_python36': conda)",
   "name": "python3"
  },
  "language_info": {
   "codemirror_mode": {
    "name": "ipython",
    "version": 3
   },
   "file_extension": ".py",
   "mimetype": "text/x-python",
   "name": "python",
   "nbconvert_exporter": "python",
   "pygments_lexer": "ipython3",
   "version": "3.6.13"
  },
  "orig_nbformat": 4
 },
 "nbformat": 4,
 "nbformat_minor": 2
}
