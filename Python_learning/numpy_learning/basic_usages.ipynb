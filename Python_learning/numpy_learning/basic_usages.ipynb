{
 "cells": [
  {
   "cell_type": "markdown",
   "metadata": {},
   "source": [
    "# Basic usages of Numpy"
   ]
  },
  {
   "cell_type": "code",
   "execution_count": 2,
   "metadata": {},
   "outputs": [],
   "source": [
    "import numpy as np\n",
    "import time"
   ]
  },
  {
   "cell_type": "markdown",
   "metadata": {},
   "source": [
    "## Create numpy array and matrix"
   ]
  },
  {
   "cell_type": "code",
   "execution_count": 16,
   "metadata": {},
   "outputs": [
    {
     "name": "stdout",
     "output_type": "stream",
     "text": [
      "(3,) <class 'tuple'>\n",
      "(3, 2, 5)\n",
      "zero matrix: \n",
      " [[0. 0. 0.]\n",
      " [0. 0. 0.]\n",
      " [0. 0. 0.]\n",
      " [0. 0. 0.]\n",
      " [0. 0. 0.]]\n",
      "Elapsed time is 0.0003974437713623047s\n",
      "[[ 0  1  2  3  4  5  6  7  8  9]\n",
      " [10 11 12 13 14 15 16 17 18 19]] (2, 10)\n",
      "data_b\n",
      "(3, 5, 2)\n",
      "(15, 2)\n",
      "[[ 1.23336346  0.25446112]\n",
      " [-0.48790733 -0.90793776]\n",
      " [ 0.46485831 -1.33619305]\n",
      " [ 0.16210728  0.64667491]\n",
      " [-1.25481131 -0.16355975]\n",
      " [-0.75479062  0.35162521]\n",
      " [ 1.07775505  0.81670256]\n",
      " [ 0.82235074 -1.09437361]\n",
      " [-0.73553909 -0.30764736]\n",
      " [ 0.14246179 -0.41389297]\n",
      " [-0.48814873 -1.81104669]\n",
      " [-0.25694855  0.74902972]\n",
      " [-2.47351122  0.65861421]\n",
      " [ 0.61630761  0.63580667]\n",
      " [ 3.04295363 -1.72037552]]\n"
     ]
    }
   ],
   "source": [
    "### 直接数字创建\n",
    "data_a = np.array([1, 2, 3])\n",
    "print(data_a.shape ,type(data_a.shape))\n",
    "\n",
    "### 创建随机矩阵\n",
    "data_a = np.random.randn(3, 2, 5)\n",
    "print(data_a.shape)\n",
    "\n",
    "### 创建全0, 全1矩阵\n",
    "data_a = np.zeros((5, 3))\n",
    "print(\"zero matrix: \\n\", data_a)\n",
    "\n",
    "frame = np.ones((400, 400, 3), np.uint8) # 指定数据类型\n",
    "\n",
    "### 创建大尺寸矩阵,测试耗时\n",
    "start = time.time()\n",
    "img = np.zeros((720, 1080, 1), np.uint8)\n",
    "print(f\"Elapsed time is {time.time() - start}s\")\n",
    "\n",
    "### 矩阵列表转为矩阵 np.asarray用法, 会自动多加一维\n",
    "mels = [np.arange(0, 10), np.arange(10, 20)]\n",
    "mels = np.asarray(mels)\n",
    "print(mels, mels.shape)\n",
    "\n",
    "data_b = [np.random.randn(5,2), np.random.randn(5,2), np.random.randn(5,2)]\n",
    "# data_b = [np.random.randn(2,), np.random.randn(2,), np.random.randn(2,)]\n",
    "print(\"data_b\")\n",
    "data_b = np.asarray(data_b)\n",
    "print(data_b.shape)\n",
    "\n",
    "data_c = np.vstack(data_b)\n",
    "print(data_c.shape)\n",
    "print(data_c)"
   ]
  },
  {
   "cell_type": "markdown",
   "metadata": {},
   "source": [
    "## Some useful functions"
   ]
  },
  {
   "cell_type": "code",
   "execution_count": 11,
   "metadata": {},
   "outputs": [
    {
     "name": "stdout",
     "output_type": "stream",
     "text": [
      "(3, 5, 96, 96)\n",
      "(3, 5, 48, 96)\n"
     ]
    }
   ],
   "source": [
    "### Usage of transpose function\n",
    "x1 = np.random.rand(5, 96, 96, 3)\n",
    "x1 = x1.transpose(3, 0, 1, 2)\n",
    "print(x1.shape)\n",
    "x1 = x1[:,:,x1.shape[2]//2:]\n",
    "print(x1.shape)\n"
   ]
  },
  {
   "cell_type": "code",
   "execution_count": 5,
   "metadata": {},
   "outputs": [
    {
     "ename": "ValueError",
     "evalue": "too many values to unpack (expected 2)",
     "output_type": "error",
     "traceback": [
      "\u001b[0;31m---------------------------------------------------------------------------\u001b[0m",
      "\u001b[0;31mValueError\u001b[0m                                Traceback (most recent call last)",
      "\u001b[0;32m<ipython-input-5-2cca7c8707de>\u001b[0m in \u001b[0;36m<module>\u001b[0;34m\u001b[0m\n\u001b[1;32m      1\u001b[0m \u001b[0mimg\u001b[0m \u001b[0;34m=\u001b[0m \u001b[0mnp\u001b[0m\u001b[0;34m.\u001b[0m\u001b[0mrandom\u001b[0m\u001b[0;34m.\u001b[0m\u001b[0mrand\u001b[0m\u001b[0;34m(\u001b[0m\u001b[0;36m100\u001b[0m\u001b[0;34m,\u001b[0m\u001b[0;36m96\u001b[0m\u001b[0;34m,\u001b[0m\u001b[0;36m3\u001b[0m\u001b[0;34m)\u001b[0m\u001b[0;34m\u001b[0m\u001b[0;34m\u001b[0m\u001b[0m\n\u001b[0;32m----> 2\u001b[0;31m \u001b[0mH\u001b[0m\u001b[0;34m,\u001b[0m \u001b[0mW\u001b[0m \u001b[0;34m=\u001b[0m \u001b[0mimg\u001b[0m\u001b[0;34m.\u001b[0m\u001b[0mshape\u001b[0m\u001b[0;34m\u001b[0m\u001b[0;34m\u001b[0m\u001b[0m\n\u001b[0m\u001b[1;32m      3\u001b[0m \u001b[0mprint\u001b[0m\u001b[0;34m(\u001b[0m\u001b[0mH\u001b[0m\u001b[0;34m,\u001b[0m \u001b[0mW\u001b[0m\u001b[0;34m)\u001b[0m\u001b[0;34m\u001b[0m\u001b[0;34m\u001b[0m\u001b[0m\n",
      "\u001b[0;31mValueError\u001b[0m: too many values to unpack (expected 2)"
     ]
    }
   ],
   "source": [
    "img = np.random.rand(100,96,3)\n",
    "H, W = img.shape[:2]\n",
    "print(H, W)"
   ]
  },
  {
   "cell_type": "markdown",
   "metadata": {},
   "source": [
    "## Stack like operations"
   ]
  },
  {
   "cell_type": "code",
   "execution_count": 4,
   "metadata": {},
   "outputs": [
    {
     "name": "stdout",
     "output_type": "stream",
     "text": [
      "(16, 16, 3, 4)\n",
      "(1, 16, 16, 3, 4)\n"
     ]
    }
   ],
   "source": [
    "data_b = [np.random.randn(16,16,3), np.random.randn(16,16,3), np.random.randn(16,16,3), np.random.randn(16,16,3)]\n",
    "data_c = np.stack(data_b, axis=3)\n",
    "print(data_c.shape)\n",
    "\n",
    "im = np.expand_dims(data_c,axis=0)\n",
    "print(im.shape)"
   ]
  },
  {
   "cell_type": "markdown",
   "metadata": {},
   "source": [
    "## Random operation"
   ]
  },
  {
   "cell_type": "code",
   "execution_count": 8,
   "metadata": {},
   "outputs": [
    {
     "name": "stdout",
     "output_type": "stream",
     "text": [
      "[ 0  1  2  3  4  5  6  7  8  9 10 11 12 13 14 15 16 17 18 19 20 21 22 23\n",
      " 24 25 26 27 28 29 30 31 32 33 34 35 36 37 38 39 40 41 42 43 44 45 46 47\n",
      " 48 49 50 51 52 53 54 55 56 57 58 59 60 61 62 63 64 65 66 67 68 69 70 71\n",
      " 72 73 74 75 76 77 78 79 80 81 82 83 84 85 86 87 88 89 90 91 92 93 94 95\n",
      " 96 97 98 99] (100,)\n",
      "56\n"
     ]
    }
   ],
   "source": [
    "train_split = np.arange(0, 100)  # shape (100, )\n",
    "print(train_split, train_split.shape)\n",
    "\n",
    "train_i = np.random.choice(train_split)\n",
    "print(train_i)"
   ]
  },
  {
   "cell_type": "markdown",
   "metadata": {},
   "source": [
    "## Math operations"
   ]
  },
  {
   "cell_type": "code",
   "execution_count": 19,
   "metadata": {},
   "outputs": [
    {
     "name": "stdout",
     "output_type": "stream",
     "text": [
      "10\n",
      "[[0.6030159  0.23681032]\n",
      " [0.90250015 0.27786118]\n",
      " [0.01272317 0.15606097]\n",
      " [0.74395489 0.43585537]\n",
      " [0.90958557 0.60175309]] (5, 2)\n",
      "[[ 1.6030159  20.23681032]\n",
      " [ 1.90250015 20.27786118]\n",
      " [ 1.01272317 20.15606097]\n",
      " [ 1.74395489 20.43585537]\n",
      " [ 1.90958557 20.60175309]]\n"
     ]
    }
   ],
   "source": [
    "## https://numpy.org/doc/stable/reference/generated/numpy.stack.html\n",
    "arrays = [np.random.randn(3, 4) for _ in range(10)]\n",
    "print(len(arrays))\n",
    "np.stack(arrays, axis=0).shape\n",
    "\n",
    "\n",
    "arr_a = np.random.rand(5, 2)\n",
    "print(arr_a, arr_a.shape)\n",
    "\n",
    "arr_b = arr_a + np.array([1, 20])\n",
    "print(arr_b)"
   ]
  },
  {
   "cell_type": "code",
   "execution_count": 5,
   "metadata": {},
   "outputs": [
    {
     "data": {
      "text/plain": [
       "'5.8.0-63-generic'"
      ]
     },
     "execution_count": 5,
     "metadata": {},
     "output_type": "execute_result"
    }
   ],
   "source": [
    "import platform\n",
    "platform.release()"
   ]
  }
 ],
 "metadata": {
  "interpreter": {
   "hash": "a905e65f9d17f2b99942353106a9a9bb4e3ae6eb3c5eda96a0f871aef2e2b8d2"
  },
  "kernelspec": {
   "display_name": "Python 3.6.13 64-bit ('face_python36': conda)",
   "name": "python3"
  },
  "language_info": {
   "codemirror_mode": {
    "name": "ipython",
    "version": 3
   },
   "file_extension": ".py",
   "mimetype": "text/x-python",
   "name": "python",
   "nbconvert_exporter": "python",
   "pygments_lexer": "ipython3",
   "version": "3.6.13"
  },
  "orig_nbformat": 4
 },
 "nbformat": 4,
 "nbformat_minor": 2
}
