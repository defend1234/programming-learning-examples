{
 "cells": [
  {
   "cell_type": "markdown",
   "metadata": {},
   "source": [
    "# Basic usages of Numpy"
   ]
  },
  {
   "cell_type": "code",
   "execution_count": 2,
   "metadata": {},
   "outputs": [],
   "source": [
    "import numpy as np\n",
    "import time"
   ]
  },
  {
   "cell_type": "markdown",
   "metadata": {},
   "source": [
    "## Create numpy array and matrix - Part 1"
   ]
  },
  {
   "cell_type": "code",
   "execution_count": 7,
   "metadata": {},
   "outputs": [
    {
     "name": "stdout",
     "output_type": "stream",
     "text": [
      "(3,) int64\n",
      "(3, 2, 5) float64\n",
      "zero matrix: \n",
      " [[0. 0. 0.]\n",
      " [0. 0. 0.]\n",
      " [0. 0. 0.]\n",
      " [0. 0. 0.]\n",
      " [0. 0. 0.]] float64\n",
      "ones: (5,) [1. 1. 1. 1. 1.]\n",
      "target_class_mask: (52,) bool [False False]\n",
      "0\n",
      "1\n",
      "2\n",
      "3\n",
      "4\n"
     ]
    }
   ],
   "source": [
    "### 直接数字创建 dtype=int64 by default\n",
    "data_a = np.array([1, 2, 3])\n",
    "print(data_a.shape, data_a.dtype)\n",
    "\n",
    "### 创建随机矩阵 dtype=float64 by default\n",
    "data_a = np.random.randn(3, 2, 5)\n",
    "print(data_a.shape, data_a.dtype)\n",
    "\n",
    "### 创建全0, 全1矩阵\n",
    "data_a = np.zeros((5, 3))\n",
    "print(\"zero matrix: \\n\", data_a, data_a.dtype)\n",
    "\n",
    "data_a = np.ones(5)\n",
    "print(\"ones:\", data_a.shape, data_a)\n",
    "\n",
    "## Create OpenCV image type matrix\n",
    "frame = np.ones((400, 400, 3), np.uint8) # 指定数据类型\n",
    "\n",
    "## Create bool type vector\n",
    "target_class_mask = np.zeros(52, dtype=np.bool) # (52,) all False\n",
    "print(\"target_class_mask:\", target_class_mask.shape, target_class_mask.dtype, target_class_mask[:2])\n",
    "\n",
    "for i in range(0, 5):\n",
    "    print(i)"
   ]
  },
  {
   "cell_type": "markdown",
   "metadata": {},
   "source": [
    "## Create numpy array and matrix - Part 2"
   ]
  },
  {
   "cell_type": "code",
   "execution_count": null,
   "metadata": {},
   "outputs": [],
   "source": [
    "\n",
    "### 创建大尺寸矩阵,测试耗时\n",
    "start = time.time()\n",
    "img = np.zeros((720, 1080, 1), np.uint8)\n",
    "print(f\"Elapsed time is {time.time() - start}s\")\n",
    "\n",
    "### 矩阵列表转为矩阵 np.asarray用法, 会自动多加一维\n",
    "list_feat = [np.arange(0, 10), np.arange(10, 20)]\n",
    "list_arr = np.array(list_feat)\n",
    "print(\"list_arr\", list_arr.shape)\n",
    "\n",
    "mels = [np.arange(0, 10), np.arange(10, 20)]\n",
    "mels = np.asarray(mels)\n",
    "print(\"mels\", mels, mels.shape)\n",
    "\n",
    "data_b = [np.random.randn(5,2), np.random.randn(5,2), np.random.randn(5,2)]\n",
    "# data_b = [np.random.randn(2,), np.random.randn(2,), np.random.randn(2,)]\n",
    "print(\"data_b\")\n",
    "data_b = np.asarray(data_b)\n",
    "print(data_b.shape)\n",
    "\n",
    "data_c = np.vstack(data_b)\n",
    "print(data_c.shape)\n",
    "print(data_c)"
   ]
  },
  {
   "cell_type": "code",
   "execution_count": 9,
   "metadata": {},
   "outputs": [
    {
     "name": "stdout",
     "output_type": "stream",
     "text": [
      "A= <class 'numpy.ndarray'> (3, 3)\n",
      "[[1 2 3]\n",
      " [4 5 6]\n",
      " [7 8 9]]\n",
      "[[1]\n",
      " [2]\n",
      " [3]] (3, 1)\n",
      "[[1 2 3]] (1, 3)\n",
      "[1 2 3 4 5 6 7 8 9] (9,)\n",
      "[ 1.  2.  3.  4.  5.  6.  7.  8.  9. 10.] (10,) float64\n"
     ]
    }
   ],
   "source": [
    "def use_as_matrix():\n",
    "    A = np.array([[1,2,3], [4,5,6],[7,8,9]])\n",
    "    print('A=', type(A), A.shape)\n",
    "    print(A)\n",
    "\n",
    "    ## define column matrix\n",
    "    B = np.array([[1], [2], [3]])\n",
    "    print(B, B.shape)\n",
    "\n",
    "     ## define row matrix\n",
    "    C = np.array([[1, 2, 3]])\n",
    "    print(C, C.shape)\n",
    "\n",
    "def use_as_array():\n",
    "    A = np.arange(1,10,1)\n",
    "    print(A, A.shape)\n",
    "\n",
    "    B = np.linspace(1, 10, 10)\n",
    "    print(B, B.shape, B.dtype)\n",
    "\n",
    "use_as_matrix()\n",
    "\n",
    "use_as_array()"
   ]
  },
  {
   "cell_type": "code",
   "execution_count": 3,
   "metadata": {},
   "outputs": [
    {
     "name": "stdout",
     "output_type": "stream",
     "text": [
      "(5, 3, 16, 16)\n"
     ]
    }
   ],
   "source": [
    "img_batch = np.random.randn(5, 16, 16, 3)\n",
    "images = img_batch[..., ::-1].transpose(0,3,1,2)\n",
    "print(images.shape)"
   ]
  },
  {
   "cell_type": "markdown",
   "metadata": {},
   "source": [
    "## Add new axis"
   ]
  },
  {
   "cell_type": "code",
   "execution_count": 6,
   "metadata": {},
   "outputs": [
    {
     "name": "stdout",
     "output_type": "stream",
     "text": [
      "(96, 96)\n",
      "[[0.68711016 0.25743167 0.3918882 ]\n",
      " [0.02868399 0.59827092 0.48402818]\n",
      " [0.56622452 0.34395004 0.25476914]]\n",
      "(96, 96, 1)\n",
      "[[[0.68711016]\n",
      "  [0.25743167]\n",
      "  [0.3918882 ]]\n",
      "\n",
      " [[0.02868399]\n",
      "  [0.59827092]\n",
      "  [0.48402818]]\n",
      "\n",
      " [[0.56622452]\n",
      "  [0.34395004]\n",
      "  [0.25476914]]]\n",
      "(1, 3) (1, 1, 3)\n",
      "[[ 0.40001691 -0.79931382 -1.61001719]]\n",
      "[[[ 0.40001691 -0.79931382 -1.61001719]]]\n"
     ]
    }
   ],
   "source": [
    "gray_img = np.random.rand(96, 96)\n",
    "print(gray_img.shape)\n",
    "print(gray_img[:3, :3])\n",
    "\n",
    "gray_img = gray_img[..., np.newaxis]\n",
    "print(gray_img.shape)\n",
    "print(gray_img[:3, :3])\n",
    "\n",
    "mean_rgb = np.random.randn(1,3)\n",
    "x = np.expand_dims(mean_rgb, 0)\n",
    "print(mean_rgb.shape, x.shape)\n",
    "print(mean_rgb)\n",
    "print(x)"
   ]
  },
  {
   "cell_type": "markdown",
   "metadata": {},
   "source": [
    "## Some useful functions"
   ]
  },
  {
   "cell_type": "code",
   "execution_count": 11,
   "metadata": {},
   "outputs": [
    {
     "name": "stdout",
     "output_type": "stream",
     "text": [
      "(3, 5, 96, 96)\n",
      "(3, 5, 48, 96)\n"
     ]
    }
   ],
   "source": [
    "### Usage of transpose function\n",
    "x1 = np.random.rand(5, 96, 96, 3)\n",
    "x1 = x1.transpose(3, 0, 1, 2)\n",
    "print(x1.shape)\n",
    "x1 = x1[:,:,x1.shape[2]//2:]\n",
    "print(x1.shape)\n"
   ]
  },
  {
   "cell_type": "code",
   "execution_count": 5,
   "metadata": {},
   "outputs": [
    {
     "ename": "ValueError",
     "evalue": "too many values to unpack (expected 2)",
     "output_type": "error",
     "traceback": [
      "\u001b[0;31m---------------------------------------------------------------------------\u001b[0m",
      "\u001b[0;31mValueError\u001b[0m                                Traceback (most recent call last)",
      "\u001b[0;32m<ipython-input-5-2cca7c8707de>\u001b[0m in \u001b[0;36m<module>\u001b[0;34m\u001b[0m\n\u001b[1;32m      1\u001b[0m \u001b[0mimg\u001b[0m \u001b[0;34m=\u001b[0m \u001b[0mnp\u001b[0m\u001b[0;34m.\u001b[0m\u001b[0mrandom\u001b[0m\u001b[0;34m.\u001b[0m\u001b[0mrand\u001b[0m\u001b[0;34m(\u001b[0m\u001b[0;36m100\u001b[0m\u001b[0;34m,\u001b[0m\u001b[0;36m96\u001b[0m\u001b[0;34m,\u001b[0m\u001b[0;36m3\u001b[0m\u001b[0;34m)\u001b[0m\u001b[0;34m\u001b[0m\u001b[0;34m\u001b[0m\u001b[0m\n\u001b[0;32m----> 2\u001b[0;31m \u001b[0mH\u001b[0m\u001b[0;34m,\u001b[0m \u001b[0mW\u001b[0m \u001b[0;34m=\u001b[0m \u001b[0mimg\u001b[0m\u001b[0;34m.\u001b[0m\u001b[0mshape\u001b[0m\u001b[0;34m\u001b[0m\u001b[0;34m\u001b[0m\u001b[0m\n\u001b[0m\u001b[1;32m      3\u001b[0m \u001b[0mprint\u001b[0m\u001b[0;34m(\u001b[0m\u001b[0mH\u001b[0m\u001b[0;34m,\u001b[0m \u001b[0mW\u001b[0m\u001b[0;34m)\u001b[0m\u001b[0;34m\u001b[0m\u001b[0;34m\u001b[0m\u001b[0m\n",
      "\u001b[0;31mValueError\u001b[0m: too many values to unpack (expected 2)"
     ]
    }
   ],
   "source": [
    "img = np.random.rand(100,96,3)\n",
    "H, W = img.shape[:2]\n",
    "print(H, W)"
   ]
  },
  {
   "cell_type": "markdown",
   "metadata": {},
   "source": [
    "## Stack like operations"
   ]
  },
  {
   "cell_type": "code",
   "execution_count": 23,
   "metadata": {},
   "outputs": [
    {
     "name": "stdout",
     "output_type": "stream",
     "text": [
      "input list length is 4\n",
      "stack result:  (4, 16, 16, 3)\n",
      "stack axis=3: (16, 16, 3, 4)\n",
      "(1, 16, 16, 3, 4)\n",
      "(4, 3)\n",
      "(4, 1) [[1]\n",
      " [2]\n",
      " [4]\n",
      " [5]]\n"
     ]
    }
   ],
   "source": [
    "data_b = [np.random.randn(16,16,3), np.random.randn(16,16,3), np.random.randn(16,16,3), np.random.randn(16,16,3)]\n",
    "print(f\"input list length is {len(data_b)}\")\n",
    "result = np.stack(data_b)\n",
    "print(\"stack result: \", result.shape)\n",
    "\n",
    "data_c = np.stack(data_b, axis=3)\n",
    "print(\"stack axis=3:\", data_c.shape)\n",
    "\n",
    "im = np.expand_dims(data_c, axis=0)\n",
    "print(im.shape)\n",
    "\n",
    "centers = [np.array([1,2,3]), np.array([1,2,3]), np.array([1,2,3]), np.array([1,2,3])]\n",
    "result = np.stack(centers)\n",
    "print(result.shape)\n",
    "\n",
    "timestamp = [1, 2, 4, 5]\n",
    "result = np.array(timestamp).reshape(-1, 1)\n",
    "print(result.shape, result)\n",
    "\n",
    "\n",
    "def stack_array():\n",
    "    a = np.random.rand(5,3)\n",
    "    b = np.random.rand(5,3)\n",
    "\n",
    "    array_list = [a, b]\n",
    "    c = np.stack(array_list, axis=0)\n",
    "    print(c)\n",
    "    print(c.shape)"
   ]
  },
  {
   "cell_type": "markdown",
   "metadata": {},
   "source": [
    "## Concatenate operation"
   ]
  },
  {
   "cell_type": "code",
   "execution_count": 15,
   "metadata": {},
   "outputs": [
    {
     "name": "stdout",
     "output_type": "stream",
     "text": [
      "concatenate result:  (64, 16, 1)\n",
      "concatenate axis=1:  (16, 64, 1)\n",
      "concatenate axis=2:  (16, 16, 4)\n"
     ]
    }
   ],
   "source": [
    "def combine_arrays():\n",
    "    a = np.random.rand(3, 96, 96)\n",
    "    b = np.random.rand(3, 96, 96)\n",
    "    c = np.random.rand(3, 96, 96)\n",
    "    d = np.random.rand(3, 96, 96)\n",
    "    window = [a, b, c, d]\n",
    "\n",
    "    window_np = np.asarray(window)\n",
    "    window_np2 = window_np.copy()\n",
    "    print(window_np.shape)\n",
    "\n",
    "    x = np.concatenate([window_np, window_np2], axis=0)\n",
    "    print(x.shape)\n",
    "\n",
    "    \n",
    "window = [np.random.randn(16,16,1), np.random.randn(16,16,1), np.random.randn(16,16,1), np.random.randn(16,16,1)]\n",
    "result = np.concatenate(window)\n",
    "print(\"concatenate result: \", result.shape)\n",
    "\n",
    "result = np.concatenate(window, axis=1)\n",
    "print(\"concatenate axis=1: \", result.shape)\n",
    "\n",
    "result = np.concatenate(window, axis=2)\n",
    "print(\"concatenate axis=2: \", result.shape)"
   ]
  },
  {
   "cell_type": "markdown",
   "metadata": {},
   "source": [
    "## Random operation"
   ]
  },
  {
   "cell_type": "code",
   "execution_count": 14,
   "metadata": {},
   "outputs": [
    {
     "name": "stdout",
     "output_type": "stream",
     "text": [
      "[ 0  1  2  3  4  5  6  7  8  9 10 11 12 13 14 15 16 17 18 19 20 21 22 23\n",
      " 24 25 26 27 28 29 30 31 32 33 34 35 36 37 38 39 40 41 42 43 44 45 46 47\n",
      " 48 49 50 51 52 53 54 55 56 57 58 59 60 61 62 63 64 65 66 67 68 69 70 71\n",
      " 72 73 74 75 76 77 78 79 80 81 82 83 84 85 86 87 88 89 90 91 92 93 94 95\n",
      " 96 97 98 99] (100,)\n",
      "70\n",
      "[2 7 3 1 8 0 5 4 9 6]\n",
      "(0, 10)\n"
     ]
    }
   ],
   "source": [
    "train_split = np.arange(0, 100)  # shape (100, )\n",
    "print(train_split, train_split.shape)\n",
    "\n",
    "train_i = np.random.choice(train_split)\n",
    "print(train_i)\n",
    "\n",
    "rand_perm = np.random.permutation(10)\n",
    "print(rand_perm)\n",
    "proportion = (0., 1.)\n",
    "proportion_idx = (int(proportion[0] * len(rand_perm)), int(proportion[1] * len(rand_perm)))\n",
    "print(proportion_idx)"
   ]
  },
  {
   "cell_type": "markdown",
   "metadata": {},
   "source": [
    "## Math operations"
   ]
  },
  {
   "cell_type": "code",
   "execution_count": 19,
   "metadata": {},
   "outputs": [
    {
     "name": "stdout",
     "output_type": "stream",
     "text": [
      "10\n",
      "[[0.6030159  0.23681032]\n",
      " [0.90250015 0.27786118]\n",
      " [0.01272317 0.15606097]\n",
      " [0.74395489 0.43585537]\n",
      " [0.90958557 0.60175309]] (5, 2)\n",
      "[[ 1.6030159  20.23681032]\n",
      " [ 1.90250015 20.27786118]\n",
      " [ 1.01272317 20.15606097]\n",
      " [ 1.74395489 20.43585537]\n",
      " [ 1.90958557 20.60175309]]\n"
     ]
    }
   ],
   "source": [
    "## https://numpy.org/doc/stable/reference/generated/numpy.stack.html\n",
    "arrays = [np.random.randn(3, 4) for _ in range(10)]\n",
    "print(len(arrays))\n",
    "np.stack(arrays, axis=0).shape\n",
    "\n",
    "\n",
    "arr_a = np.random.rand(5, 2)\n",
    "print(arr_a, arr_a.shape)\n",
    "\n",
    "arr_b = arr_a + np.array([1, 20])\n",
    "print(arr_b)\n",
    "\n",
    "## Divide the matrix\n"
   ]
  },
  {
   "cell_type": "code",
   "execution_count": 5,
   "metadata": {},
   "outputs": [
    {
     "data": {
      "text/plain": [
       "'5.8.0-63-generic'"
      ]
     },
     "execution_count": 5,
     "metadata": {},
     "output_type": "execute_result"
    }
   ],
   "source": [
    "import platform\n",
    "platform.release()"
   ]
  },
  {
   "cell_type": "markdown",
   "metadata": {},
   "source": [
    "## Compute the delta array"
   ]
  },
  {
   "cell_type": "code",
   "execution_count": 7,
   "metadata": {},
   "outputs": [
    {
     "name": "stdout",
     "output_type": "stream",
     "text": [
      "[[0]\n",
      " [6]\n",
      " [0]\n",
      " [6]\n",
      " [0]\n",
      " [1]\n",
      " [0]\n",
      " [8]\n",
      " [0]\n",
      " [6]]\n",
      "(9, 1)\n",
      "[[1.45146271 0.362749   1.35514625]\n",
      " [0.51994227 0.86556387 0.02524436]\n",
      " [0.59527528 0.56022706 0.78244459]]\n",
      "(9, 3)\n",
      "distance <class 'numpy.ndarray'> (9,) [1.69976238 0.81991331 1.09407121 2.81901685 2.437771   1.52364857\n",
      " 2.51824093 1.32703159 0.97221643]\n",
      "mean distance 1.6901858071084175\n"
     ]
    }
   ],
   "source": [
    "timestamp = np.random.randint((1, 10), size=(10, 1))\n",
    "print(timestamp)\n",
    "\n",
    "delta_t = timestamp[1:] - timestamp[0:-1]\n",
    "print(delta_t.shape)\n",
    "\n",
    "## Assume these are some objects 3D coordinates\n",
    "center = np.random.randn(10, 3)\n",
    "print(center[:3])\n",
    "deltat_center = center[1:] - center[0:-1]\n",
    "print(deltat_center.shape)\n",
    "distance = np.linalg.norm(deltat_center, axis=1)\n",
    "print(\"distance\", type(distance), distance.shape, distance)\n",
    "\n",
    "mean_distance = np.mean(distance)\n",
    "print(\"mean distance\", mean_distance)"
   ]
  },
  {
   "cell_type": "code",
   "execution_count": 3,
   "metadata": {},
   "outputs": [
    {
     "name": "stdout",
     "output_type": "stream",
     "text": [
      "[ 0  0 21  3]\n"
     ]
    }
   ],
   "source": [
    "input_list = [0, -1, 21, 3]\n",
    "d = np.clip(input_list, 0, None)\n",
    "print(d)"
   ]
  }
 ],
 "metadata": {
  "interpreter": {
   "hash": "a905e65f9d17f2b99942353106a9a9bb4e3ae6eb3c5eda96a0f871aef2e2b8d2"
  },
  "kernelspec": {
   "display_name": "Python 3.6.13 64-bit ('face_python36': conda)",
   "name": "python3"
  },
  "language_info": {
   "codemirror_mode": {
    "name": "ipython",
    "version": 3
   },
   "file_extension": ".py",
   "mimetype": "text/x-python",
   "name": "python",
   "nbconvert_exporter": "python",
   "pygments_lexer": "ipython3",
   "version": "3.6.13"
  },
  "orig_nbformat": 4
 },
 "nbformat": 4,
 "nbformat_minor": 2
}
