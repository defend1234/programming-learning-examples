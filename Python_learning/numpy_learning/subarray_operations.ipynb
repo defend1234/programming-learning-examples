{
 "cells": [
  {
   "cell_type": "code",
   "execution_count": 2,
   "metadata": {},
   "outputs": [],
   "source": [
    "import numpy as np\n",
    "from icecream import ic as print"
   ]
  },
  {
   "cell_type": "markdown",
   "metadata": {},
   "source": [
    "## Use mask vector to extract subarray"
   ]
  },
  {
   "cell_type": "code",
   "execution_count": 4,
   "metadata": {},
   "outputs": [
    {
     "name": "stderr",
     "output_type": "stream",
     "text": [
      "ic| mask_vector.shape: (7,)\n",
      "ic| data_index: array([0, 1, 2, 3, 4, 5, 6])\n",
      "ic| remain_index: array([1, 3, 4, 5])\n"
     ]
    },
    {
     "data": {
      "text/plain": [
       "array([1, 3, 4, 5])"
      ]
     },
     "execution_count": 4,
     "metadata": {},
     "output_type": "execute_result"
    }
   ],
   "source": [
    "mask_vector = np.array([1, 0, 1, 0, 0, 0, 1], dtype=bool)\n",
    "print(mask_vector.shape)\n",
    "\n",
    "data_index = np.arange(7)\n",
    "print(data_index)\n",
    "\n",
    "remain_index = data_index[~mask_vector]\n",
    "print(remain_index)"
   ]
  },
  {
   "cell_type": "code",
   "execution_count": 9,
   "metadata": {},
   "outputs": [
    {
     "name": "stderr",
     "output_type": "stream",
     "text": [
      "ic| mask_vector.shape: (4,), mask_vector: array([3, 0, 1, 0])\n",
      "ic| data_index: array([0, 1, 2, 3, 4, 5, 6])\n",
      "ic| remain_index: array([3, 0, 1, 0])\n"
     ]
    },
    {
     "data": {
      "text/plain": [
       "array([3, 0, 1, 0])"
      ]
     },
     "execution_count": 9,
     "metadata": {},
     "output_type": "execute_result"
    }
   ],
   "source": [
    "mask_vector = np.array([3, 0, 1, 0], dtype=np.int)\n",
    "print(mask_vector.shape, mask_vector)\n",
    "\n",
    "data_index = np.arange(7)\n",
    "print(data_index)\n",
    "\n",
    "remain_index = data_index[mask_vector]\n",
    "print(remain_index)"
   ]
  },
  {
   "cell_type": "markdown",
   "metadata": {},
   "source": [
    "## Use mask index to set value for another vector"
   ]
  },
  {
   "cell_type": "code",
   "execution_count": 8,
   "metadata": {},
   "outputs": [
    {
     "name": "stderr",
     "output_type": "stream",
     "text": [
      "ic| data_index: array([0., 0., 0., 0., 0., 0., 0.])\n",
      "ic| data_index: array([1., 1., 0., 0., 1., 0., 0.])\n"
     ]
    },
    {
     "data": {
      "text/plain": [
       "array([1., 1., 0., 0., 1., 0., 0.])"
      ]
     },
     "execution_count": 8,
     "metadata": {},
     "output_type": "execute_result"
    }
   ],
   "source": [
    "data_index = np.zeros(7)\n",
    "print(data_index)\n",
    "\n",
    "mask_index = np.array([1, 0, 4], dtype=np.int)\n",
    "data_index[mask_index] = 1\n",
    "\n",
    "print(data_index)\n",
    "\n"
   ]
  },
  {
   "cell_type": "markdown",
   "metadata": {},
   "source": [
    "## Access subarray"
   ]
  },
  {
   "cell_type": "code",
   "execution_count": 3,
   "metadata": {},
   "outputs": [
    {
     "name": "stderr",
     "output_type": "stream",
     "text": [
      "ic| landmarks.shape: (5, 68, 2)\n",
      "ic| lm.shape: (68, 2)\n",
      "ic| lm.shape: (68, 2)\n",
      "ic| lm.shape: (68, 2)\n",
      "ic| lm.shape: (68, 2)\n",
      "ic| lm.shape: (68, 2)\n"
     ]
    }
   ],
   "source": [
    "landmarks = np.random.randn(5, 68, 2)\n",
    "print(landmarks.shape)\n",
    "\n",
    "for lm in landmarks:\n",
    "    print(lm.shape)"
   ]
  },
  {
   "cell_type": "markdown",
   "metadata": {},
   "source": [
    "## Linespace the array to get subarrray"
   ]
  },
  {
   "cell_type": "code",
   "execution_count": 8,
   "metadata": {},
   "outputs": [
    {
     "name": "stdout",
     "output_type": "stream",
     "text": [
      "[ 0  1  2  3  4  5  6  7  8  9 10] 11 <class 'numpy.ndarray'>\n",
      "<class 'list'>\n"
     ]
    }
   ],
   "source": [
    "import numpy as np\n",
    "TimeList=[]\n",
    "TimeList=np.linspace(0, 11-1, 11, dtype=np.int)\n",
    "print(TimeList, len(TimeList), type(TimeList))\n",
    "\n",
    "TimeList = list(TimeList)\n",
    "\n",
    "print(type(TimeList))"
   ]
  }
 ],
 "metadata": {
  "kernelspec": {
   "display_name": "Python 3.6.13 ('py36-torch100-cu11')",
   "language": "python",
   "name": "python3"
  },
  "language_info": {
   "codemirror_mode": {
    "name": "ipython",
    "version": 3
   },
   "file_extension": ".py",
   "mimetype": "text/x-python",
   "name": "python",
   "nbconvert_exporter": "python",
   "pygments_lexer": "ipython3",
   "version": "3.6.13"
  },
  "orig_nbformat": 4,
  "vscode": {
   "interpreter": {
    "hash": "5a061662cd1728e1a413eb44216c5a5b0f5a1d783e658cf909fe334fc01234e3"
   }
  }
 },
 "nbformat": 4,
 "nbformat_minor": 2
}
