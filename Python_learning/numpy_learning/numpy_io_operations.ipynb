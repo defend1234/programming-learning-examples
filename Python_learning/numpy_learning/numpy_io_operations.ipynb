{
 "cells": [
  {
   "cell_type": "markdown",
   "metadata": {},
   "source": [
    "# Some IO operations in Numpy for loading and saving matrix"
   ]
  },
  {
   "cell_type": "code",
   "execution_count": 2,
   "metadata": {},
   "outputs": [],
   "source": [
    "import numpy\n",
    "import numpy as np"
   ]
  },
  {
   "cell_type": "markdown",
   "metadata": {},
   "source": [
    "## np.savez usages\n",
    "https://vimsky.com/examples/usage/python-numpy.savez.html"
   ]
  },
  {
   "cell_type": "code",
   "execution_count": 3,
   "metadata": {},
   "outputs": [],
   "source": [
    "def load_npz():\n",
    "    npz_file_path = \"./data/obama2.npz\"\n",
    "    netparams = np.load(open(npz_file_path, 'rb'))\n",
    "\n",
    "    print(netparams.files)  ## Get the dictionary keys\n",
    "\n",
    "    content = netparams['face']\n",
    "    print(type(netparams), content.shape, np.min(content), np.max(content))\n",
    "\n",
    "    ## Another npz file\n",
    "    real_params = \"/home/haimingzhang/Research/Face/FACIAL/gangqiang_2_preprocess/deep3dface.npz\"\n",
    "    realparams = np.load(open(real_params, 'rb'))['face']\n",
    "    print(realparams.shape)\n",
    "\n",
    "def write_npz():\n",
    "    face_params = np.zeros((10, 64), np.float)\n",
    "    np.savez(\"./data/example.npz\", face=face_params)\n",
    "    \n",
    "write_npz()\n"
   ]
  },
  {
   "cell_type": "markdown",
   "metadata": {},
   "source": [
    "## Combine different parameters from two persons"
   ]
  },
  {
   "cell_type": "code",
   "execution_count": 6,
   "metadata": {},
   "outputs": [
    {
     "name": "stdout",
     "output_type": "stream",
     "text": [
      "<class 'numpy.ndarray'> (1419, 257) -3.4403297901153564 3.5975096225738525\n"
     ]
    }
   ],
   "source": [
    "another_deep3dface_npz = \"/home/haimingzhang/Research/Face/FACIAL/video_preprocessed/id00001/gangqiang_3/deep3dface.npz\"\n",
    "\n",
    "netparams = np.load(open(another_deep3dface_npz, 'rb'))['face']\n",
    "\n",
    "print(type(netparams), netparams.shape, np.min(netparams), np.max(netparams))\n"
   ]
  },
  {
   "cell_type": "markdown",
   "metadata": {},
   "source": [
    "## Load npy file"
   ]
  },
  {
   "cell_type": "code",
   "execution_count": 4,
   "metadata": {},
   "outputs": [
    {
     "name": "stdout",
     "output_type": "stream",
     "text": [
      "(15069, 100) -0.003042793118502436 0.0021579675210228895\n"
     ]
    }
   ],
   "source": [
    "file_path = \"/home/haimingzhang/Research/Face/voca/training_data/init_expression_basis.npy\"\n",
    "expression_basis = np.load(file_path)\n",
    "print(expression_basis.shape, np.min(expression_basis), np.max(expression_basis))"
   ]
  }
 ],
 "metadata": {
  "interpreter": {
   "hash": "0c082186813ffa9b31ac59f396f889fc843ee9478052f18bdf775d498e65b333"
  },
  "kernelspec": {
   "display_name": "Python 3.6.13 64-bit ('mmlab': conda)",
   "language": "python",
   "name": "python3"
  },
  "language_info": {
   "codemirror_mode": {
    "name": "ipython",
    "version": 3
   },
   "file_extension": ".py",
   "mimetype": "text/x-python",
   "name": "python",
   "nbconvert_exporter": "python",
   "pygments_lexer": "ipython3",
   "version": "3.6.13"
  },
  "orig_nbformat": 4
 },
 "nbformat": 4,
 "nbformat_minor": 2
}
