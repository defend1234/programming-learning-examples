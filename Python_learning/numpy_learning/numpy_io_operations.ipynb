{
 "cells": [
  {
   "cell_type": "markdown",
   "metadata": {},
   "source": [
    "# Some IO operations in Numpy for loading and saving matrix"
   ]
  },
  {
   "cell_type": "code",
   "execution_count": 1,
   "metadata": {},
   "outputs": [],
   "source": [
    "import numpy as np"
   ]
  },
  {
   "cell_type": "markdown",
   "metadata": {},
   "source": [
    "## npy file interface"
   ]
  },
  {
   "cell_type": "code",
   "execution_count": 2,
   "metadata": {},
   "outputs": [
    {
     "name": "stdout",
     "output_type": "stream",
     "text": [
      "(599, 64) -4.113441 3.5051486\n"
     ]
    },
    {
     "ename": "FileNotFoundError",
     "evalue": "[Errno 2] No such file or directory: './data/id_coeff.npy'",
     "output_type": "error",
     "traceback": [
      "\u001b[0;31m---------------------------------------------------------------------------\u001b[0m",
      "\u001b[0;31mFileNotFoundError\u001b[0m                         Traceback (most recent call last)",
      "\u001b[0;32m<ipython-input-2-bc0d1adecaaf>\u001b[0m in \u001b[0;36m<module>\u001b[0;34m\u001b[0m\n\u001b[1;32m      5\u001b[0m \u001b[0mprint\u001b[0m\u001b[0;34m(\u001b[0m\u001b[0mdata\u001b[0m\u001b[0;34m.\u001b[0m\u001b[0mshape\u001b[0m\u001b[0;34m,\u001b[0m \u001b[0mdata\u001b[0m\u001b[0;34m.\u001b[0m\u001b[0mmin\u001b[0m\u001b[0;34m(\u001b[0m\u001b[0;34m)\u001b[0m\u001b[0;34m,\u001b[0m \u001b[0mdata\u001b[0m\u001b[0;34m.\u001b[0m\u001b[0mmax\u001b[0m\u001b[0;34m(\u001b[0m\u001b[0;34m)\u001b[0m\u001b[0;34m)\u001b[0m\u001b[0;34m\u001b[0m\u001b[0;34m\u001b[0m\u001b[0m\n\u001b[1;32m      6\u001b[0m \u001b[0;34m\u001b[0m\u001b[0m\n\u001b[0;32m----> 7\u001b[0;31m \u001b[0mdata2\u001b[0m \u001b[0;34m=\u001b[0m \u001b[0mnp\u001b[0m\u001b[0;34m.\u001b[0m\u001b[0mload\u001b[0m\u001b[0;34m(\u001b[0m\u001b[0;34m\"./data/id_coeff.npy\"\u001b[0m\u001b[0;34m)\u001b[0m\u001b[0;34m\u001b[0m\u001b[0;34m\u001b[0m\u001b[0m\n\u001b[0m\u001b[1;32m      8\u001b[0m \u001b[0mprint\u001b[0m\u001b[0;34m(\u001b[0m\u001b[0mdata2\u001b[0m\u001b[0;34m.\u001b[0m\u001b[0mshape\u001b[0m\u001b[0;34m)\u001b[0m\u001b[0;34m\u001b[0m\u001b[0;34m\u001b[0m\u001b[0m\n\u001b[1;32m      9\u001b[0m \u001b[0;34m\u001b[0m\u001b[0m\n",
      "\u001b[0;32m~/miniconda3/envs/mmlab/lib/python3.6/site-packages/numpy/lib/npyio.py\u001b[0m in \u001b[0;36mload\u001b[0;34m(file, mmap_mode, allow_pickle, fix_imports, encoding)\u001b[0m\n\u001b[1;32m    414\u001b[0m             \u001b[0mown_fid\u001b[0m \u001b[0;34m=\u001b[0m \u001b[0;32mFalse\u001b[0m\u001b[0;34m\u001b[0m\u001b[0;34m\u001b[0m\u001b[0m\n\u001b[1;32m    415\u001b[0m         \u001b[0;32melse\u001b[0m\u001b[0;34m:\u001b[0m\u001b[0;34m\u001b[0m\u001b[0;34m\u001b[0m\u001b[0m\n\u001b[0;32m--> 416\u001b[0;31m             \u001b[0mfid\u001b[0m \u001b[0;34m=\u001b[0m \u001b[0mstack\u001b[0m\u001b[0;34m.\u001b[0m\u001b[0menter_context\u001b[0m\u001b[0;34m(\u001b[0m\u001b[0mopen\u001b[0m\u001b[0;34m(\u001b[0m\u001b[0mos_fspath\u001b[0m\u001b[0;34m(\u001b[0m\u001b[0mfile\u001b[0m\u001b[0;34m)\u001b[0m\u001b[0;34m,\u001b[0m \u001b[0;34m\"rb\"\u001b[0m\u001b[0;34m)\u001b[0m\u001b[0;34m)\u001b[0m\u001b[0;34m\u001b[0m\u001b[0;34m\u001b[0m\u001b[0m\n\u001b[0m\u001b[1;32m    417\u001b[0m             \u001b[0mown_fid\u001b[0m \u001b[0;34m=\u001b[0m \u001b[0;32mTrue\u001b[0m\u001b[0;34m\u001b[0m\u001b[0;34m\u001b[0m\u001b[0m\n\u001b[1;32m    418\u001b[0m \u001b[0;34m\u001b[0m\u001b[0m\n",
      "\u001b[0;31mFileNotFoundError\u001b[0m: [Errno 2] No such file or directory: './data/id_coeff.npy'"
     ]
    }
   ],
   "source": [
    "file_path = \"/home/zhanghm/Temp/cv-fighter/HDTF_preprocessed/WDA_SeanCasten_000/template_face.npy\"\n",
    "file_path = \"/home/haimingzhang/Research/Github/FaceFormer/work_dir/train_face_3dmm_expression_mouth_mask_paper/test/lightning_logs/version_0/vis/train/WDA_BarackObama_000_000.npy\"\n",
    "\n",
    "data = np.load(file_path)\n",
    "print(data.shape, data.min(), data.max())\n",
    "\n",
    "data2 = np.load(\"./data/id_coeff.npy\")\n",
    "print(data2.shape)\n",
    "\n",
    "diff = data - data2\n",
    "print(diff.min(), diff.max())"
   ]
  },
  {
   "cell_type": "markdown",
   "metadata": {},
   "source": [
    "## np.savez usages\n",
    "https://vimsky.com/examples/usage/python-numpy.savez.html"
   ]
  },
  {
   "cell_type": "code",
   "execution_count": 3,
   "metadata": {},
   "outputs": [],
   "source": [
    "def load_npz():\n",
    "    npz_file_path = \"./data/obama2.npz\"\n",
    "    netparams = np.load(open(npz_file_path, 'rb'))\n",
    "\n",
    "    print(netparams.files)  ## Get the dictionary keys\n",
    "\n",
    "    content = netparams['face']\n",
    "    print(type(netparams), content.shape, np.min(content), np.max(content))\n",
    "\n",
    "    ## Another npz file\n",
    "    real_params = \"/home/haimingzhang/Research/Face/FACIAL/gangqiang_2_preprocess/deep3dface.npz\"\n",
    "    realparams = np.load(open(real_params, 'rb'))['face']\n",
    "    print(realparams.shape)\n",
    "\n",
    "def write_npz():\n",
    "    face_params = np.zeros((10, 64), np.float)\n",
    "    np.savez(\"./data/example.npz\", face=face_params)\n",
    "    \n",
    "write_npz()\n"
   ]
  },
  {
   "cell_type": "markdown",
   "metadata": {},
   "source": [
    "## Combine different parameters from two persons"
   ]
  },
  {
   "cell_type": "code",
   "execution_count": 6,
   "metadata": {},
   "outputs": [
    {
     "name": "stdout",
     "output_type": "stream",
     "text": [
      "<class 'numpy.ndarray'> (1419, 257) -3.4403297901153564 3.5975096225738525\n"
     ]
    }
   ],
   "source": [
    "another_deep3dface_npz = \"/home/haimingzhang/Research/Face/FACIAL/video_preprocessed/id00001/gangqiang_3/deep3dface.npz\"\n",
    "\n",
    "netparams = np.load(open(another_deep3dface_npz, 'rb'))['face']\n",
    "\n",
    "print(type(netparams), netparams.shape, np.min(netparams), np.max(netparams))\n"
   ]
  },
  {
   "cell_type": "markdown",
   "metadata": {},
   "source": [
    "## Load npy file"
   ]
  },
  {
   "cell_type": "code",
   "execution_count": 2,
   "metadata": {},
   "outputs": [
    {
     "name": "stdout",
     "output_type": "stream",
     "text": [
      "(204, 15069) -0.18839313089847565 0.13654573261737823\n"
     ]
    }
   ],
   "source": [
    "file_path = \"/home/haimingzhang/Research/Face/voca/training_data/init_expression_basis.npy\"\n",
    "file_path = \"/home/zhanghm/Research/Github/FaceFormer/vocaset/vertices_npy/FaceTalk_170725_00137_TA_sentence01.npy\"\n",
    "\n",
    "expression_basis = np.load(file_path)\n",
    "print(expression_basis.shape, np.min(expression_basis), np.max(expression_basis))"
   ]
  },
  {
   "cell_type": "code",
   "execution_count": 34,
   "metadata": {},
   "outputs": [
    {
     "name": "stdout",
     "output_type": "stream",
     "text": [
      "uint8\n",
      "0.0019309520721435547\n"
     ]
    },
    {
     "data": {
      "text/plain": [
       "True"
      ]
     },
     "execution_count": 34,
     "metadata": {},
     "output_type": "execute_result"
    }
   ],
   "source": [
    "import time\n",
    "import numpy as np\n",
    "import cv2\n",
    "\n",
    "time1 = time.time()\n",
    "mask = np.load(\"/home/haimingzhang/Research/Programming/cv-fighter/face_fighter/3DMM/mask.npy\")\n",
    "# mask = cv2.imread(\"/home/haimingzhang/Research/Programming/cv-fighter/face_fighter/3DMM/mask.png\")\n",
    "# mask = np.load(open(\"/home/haimingzhang/Research/Programming/cv-fighter/face_fighter/3DMM/mask.npz\", \"rb\"))['mask']\n",
    "print(mask.dtype)\n",
    "time2 = time.time()\n",
    "print(time2 - time1)\n",
    "\n",
    "def get_contour(im):\n",
    "    contours, hierarchy = cv2.findContours(im.copy(), cv2.RETR_EXTERNAL, cv2.CHAIN_APPROX_NONE)\n",
    "\n",
    "    out = np.zeros_like(im)\n",
    "    out = cv2.fillPoly(out, contours, 255)\n",
    "\n",
    "    return out\n",
    "\n",
    "mask2 = get_contour(mask)\n",
    "cv2.imwrite(\"mask2.png\", mask2)"
   ]
  }
 ],
 "metadata": {
  "interpreter": {
   "hash": "0c082186813ffa9b31ac59f396f889fc843ee9478052f18bdf775d498e65b333"
  },
  "kernelspec": {
   "display_name": "Python 3.6.13 64-bit ('mmlab': conda)",
   "language": "python",
   "name": "python3"
  },
  "language_info": {
   "codemirror_mode": {
    "name": "ipython",
    "version": 3
   },
   "file_extension": ".py",
   "mimetype": "text/x-python",
   "name": "python",
   "nbconvert_exporter": "python",
   "pygments_lexer": "ipython3",
   "version": "3.6.13"
  },
  "orig_nbformat": 4
 },
 "nbformat": 4,
 "nbformat_minor": 2
}
