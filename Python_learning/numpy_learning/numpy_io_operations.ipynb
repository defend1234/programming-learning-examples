{
 "cells": [
  {
   "cell_type": "markdown",
   "metadata": {},
   "source": [
    "# Some IO operations in Numpy for loading and saving matrix"
   ]
  },
  {
   "cell_type": "code",
   "execution_count": 1,
   "metadata": {},
   "outputs": [],
   "source": [
    "import numpy\n",
    "import numpy as np"
   ]
  },
  {
   "cell_type": "markdown",
   "metadata": {},
   "source": [
    "## np.savez usages\n",
    "https://vimsky.com/examples/usage/python-numpy.savez.html"
   ]
  },
  {
   "cell_type": "code",
   "execution_count": 14,
   "metadata": {},
   "outputs": [
    {
     "name": "stdout",
     "output_type": "stream",
     "text": [
      "['face']\n",
      "<class 'numpy.lib.npyio.NpzFile'> <class 'numpy.ndarray'> (731, 71)\n",
      "-2.0868513584136963 1.982458472251892\n",
      "(7200, 258)\n"
     ]
    }
   ],
   "source": [
    "npz_file_path = \"./data/obama2.npz\"\n",
    "netparams = np.load(open(npz_file_path, 'rb'))\n",
    "\n",
    "print(netparams.files)  ## Get the dictionary keys\n",
    "\n",
    "content = netparams['face']\n",
    "print(type(netparams), type(content), content.shape)\n",
    "print(np.min(content), np.max(content))\n",
    "\n",
    "real_params = \"./data/train1_posenew.npz\"\n",
    "realparams = np.load(open(real_params, 'rb'))\n",
    "realparams = realparams['face']\n",
    "print(realparams.shape)\n"
   ]
  }
 ],
 "metadata": {
  "interpreter": {
   "hash": "0c082186813ffa9b31ac59f396f889fc843ee9478052f18bdf775d498e65b333"
  },
  "kernelspec": {
   "display_name": "Python 3.6.13 64-bit ('mmlab': conda)",
   "language": "python",
   "name": "python3"
  },
  "language_info": {
   "codemirror_mode": {
    "name": "ipython",
    "version": 3
   },
   "file_extension": ".py",
   "mimetype": "text/x-python",
   "name": "python",
   "nbconvert_exporter": "python",
   "pygments_lexer": "ipython3",
   "version": "3.6.13"
  },
  "orig_nbformat": 4
 },
 "nbformat": 4,
 "nbformat_minor": 2
}
