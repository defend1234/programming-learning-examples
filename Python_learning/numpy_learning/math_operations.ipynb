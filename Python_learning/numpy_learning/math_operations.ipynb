{
 "cells": [
  {
   "cell_type": "code",
   "execution_count": 3,
   "metadata": {},
   "outputs": [],
   "source": [
    "import numpy as np"
   ]
  },
  {
   "cell_type": "code",
   "execution_count": 3,
   "metadata": {},
   "outputs": [
    {
     "name": "stdout",
     "output_type": "stream",
     "text": [
      "(3,)\n"
     ]
    }
   ],
   "source": [
    "face_vertices = np.random.random((21, 5023, 3))\n",
    "\n",
    "center = np.mean(face_vertices[0], axis=0)\n",
    "print(center.shape)"
   ]
  },
  {
   "cell_type": "markdown",
   "metadata": {},
   "source": [
    "## Normalize"
   ]
  },
  {
   "cell_type": "code",
   "execution_count": 4,
   "metadata": {},
   "outputs": [
    {
     "name": "stdout",
     "output_type": "stream",
     "text": [
      "[0.01959492 0.04258225 0.02988345]\n",
      "[0.46778145 0.62808071 0.55651205]\n"
     ]
    }
   ],
   "source": [
    "MIN_MOTION = np.array([-0.00916614, -0.02674509, -0.0166305])\n",
    "MAX_MOTION = np.array([0.01042878, 0.01583716, 0.01325295])\n",
    "DIFF_MOTION = MAX_MOTION - MIN_MOTION\n",
    "\n",
    "print(DIFF_MOTION)\n",
    "\n",
    "x = -MIN_MOTION / DIFF_MOTION\n",
    "print(x)"
   ]
  },
  {
   "cell_type": "code",
   "execution_count": 19,
   "metadata": {},
   "outputs": [
    {
     "name": "stdout",
     "output_type": "stream",
     "text": [
      "2 0\n"
     ]
    }
   ],
   "source": [
    "length_list = [5, 5, 20, 80, 120]\n",
    "\n",
    "index = 5\n",
    "\n",
    "def fetch_data(length_list, index):\n",
    "    assert index < length_list[-1]\n",
    "    temp_idx = np.array(length_list) > index\n",
    "    list_idx = np.where(temp_idx==True)[0][0]\n",
    "    sub_idx = index\n",
    "    if list_idx != 0:\n",
    "        sub_idx = index - length_list[list_idx - 1]\n",
    "    return list_idx, sub_idx\n",
    "\n",
    "list_idx, sub_idx = fetch_data(length_list, index)\n",
    "print(list_idx, sub_idx)"
   ]
  },
  {
   "cell_type": "markdown",
   "metadata": {},
   "source": [
    "## MeshGrid"
   ]
  },
  {
   "cell_type": "code",
   "execution_count": 9,
   "metadata": {},
   "outputs": [
    {
     "name": "stdout",
     "output_type": "stream",
     "text": [
      "(10, 5) (10, 5)\n",
      "[[0.         0.         0.         0.         0.        ]\n",
      " [0.55555556 0.55555556 0.55555556 0.55555556 0.55555556]\n",
      " [1.11111111 1.11111111 1.11111111 1.11111111 1.11111111]\n",
      " [1.66666667 1.66666667 1.66666667 1.66666667 1.66666667]\n",
      " [2.22222222 2.22222222 2.22222222 2.22222222 2.22222222]\n",
      " [2.77777778 2.77777778 2.77777778 2.77777778 2.77777778]\n",
      " [3.33333333 3.33333333 3.33333333 3.33333333 3.33333333]\n",
      " [3.88888889 3.88888889 3.88888889 3.88888889 3.88888889]\n",
      " [4.44444444 4.44444444 4.44444444 4.44444444 4.44444444]\n",
      " [5.         5.         5.         5.         5.        ]]\n"
     ]
    }
   ],
   "source": [
    "import numpy as np\n",
    "\n",
    "grid_x, grid_y = np.mgrid[0:5:10j, 0:10:5j]\n",
    "print(grid_x.shape, grid_y.shape)\n",
    "\n",
    "print(grid_x)\n",
    "# print(grid_y)"
   ]
  }
 ],
 "metadata": {
  "interpreter": {
   "hash": "a905e65f9d17f2b99942353106a9a9bb4e3ae6eb3c5eda96a0f871aef2e2b8d2"
  },
  "kernelspec": {
   "display_name": "Python 3.6.13 ('face_python36')",
   "language": "python",
   "name": "python3"
  },
  "language_info": {
   "codemirror_mode": {
    "name": "ipython",
    "version": 3
   },
   "file_extension": ".py",
   "mimetype": "text/x-python",
   "name": "python",
   "nbconvert_exporter": "python",
   "pygments_lexer": "ipython3",
   "version": "3.6.13"
  },
  "orig_nbformat": 4
 },
 "nbformat": 4,
 "nbformat_minor": 2
}
