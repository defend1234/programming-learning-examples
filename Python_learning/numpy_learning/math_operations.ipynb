{
 "cells": [
  {
   "cell_type": "code",
   "execution_count": 1,
   "metadata": {},
   "outputs": [],
   "source": [
    "import numpy as np"
   ]
  },
  {
   "cell_type": "code",
   "execution_count": 3,
   "metadata": {},
   "outputs": [
    {
     "name": "stdout",
     "output_type": "stream",
     "text": [
      "(3,)\n"
     ]
    }
   ],
   "source": [
    "face_vertices = np.random.random((21, 5023, 3))\n",
    "\n",
    "center = np.mean(face_vertices[0], axis=0)\n",
    "print(center.shape)"
   ]
  },
  {
   "cell_type": "markdown",
   "metadata": {},
   "source": [
    "## Normalize"
   ]
  },
  {
   "cell_type": "code",
   "execution_count": 4,
   "metadata": {},
   "outputs": [
    {
     "name": "stdout",
     "output_type": "stream",
     "text": [
      "[0.01959492 0.04258225 0.02988345]\n",
      "[0.46778145 0.62808071 0.55651205]\n"
     ]
    }
   ],
   "source": [
    "MIN_MOTION = np.array([-0.00916614, -0.02674509, -0.0166305])\n",
    "MAX_MOTION = np.array([0.01042878, 0.01583716, 0.01325295])\n",
    "DIFF_MOTION = MAX_MOTION - MIN_MOTION\n",
    "\n",
    "print(DIFF_MOTION)\n",
    "\n",
    "x = -MIN_MOTION / DIFF_MOTION\n",
    "print(x)"
   ]
  },
  {
   "cell_type": "code",
   "execution_count": 19,
   "metadata": {},
   "outputs": [
    {
     "name": "stdout",
     "output_type": "stream",
     "text": [
      "2 0\n"
     ]
    }
   ],
   "source": [
    "length_list = [5, 5, 20, 80, 120]\n",
    "\n",
    "index = 5\n",
    "\n",
    "def fetch_data(length_list, index):\n",
    "    assert index < length_list[-1]\n",
    "    temp_idx = np.array(length_list) > index\n",
    "    list_idx = np.where(temp_idx==True)[0][0]\n",
    "    sub_idx = index\n",
    "    if list_idx != 0:\n",
    "        sub_idx = index - length_list[list_idx - 1]\n",
    "    return list_idx, sub_idx\n",
    "\n",
    "list_idx, sub_idx = fetch_data(length_list, index)\n",
    "print(list_idx, sub_idx)"
   ]
  },
  {
   "cell_type": "markdown",
   "metadata": {},
   "source": [
    "## MeshGrid"
   ]
  },
  {
   "cell_type": "code",
   "execution_count": 9,
   "metadata": {},
   "outputs": [
    {
     "name": "stdout",
     "output_type": "stream",
     "text": [
      "(10, 5) (10, 5)\n",
      "[[0.         0.         0.         0.         0.        ]\n",
      " [0.55555556 0.55555556 0.55555556 0.55555556 0.55555556]\n",
      " [1.11111111 1.11111111 1.11111111 1.11111111 1.11111111]\n",
      " [1.66666667 1.66666667 1.66666667 1.66666667 1.66666667]\n",
      " [2.22222222 2.22222222 2.22222222 2.22222222 2.22222222]\n",
      " [2.77777778 2.77777778 2.77777778 2.77777778 2.77777778]\n",
      " [3.33333333 3.33333333 3.33333333 3.33333333 3.33333333]\n",
      " [3.88888889 3.88888889 3.88888889 3.88888889 3.88888889]\n",
      " [4.44444444 4.44444444 4.44444444 4.44444444 4.44444444]\n",
      " [5.         5.         5.         5.         5.        ]]\n"
     ]
    }
   ],
   "source": [
    "import numpy as np\n",
    "\n",
    "grid_x, grid_y = np.mgrid[0:5:10j, 0:10:5j]\n",
    "print(grid_x.shape, grid_y.shape)\n",
    "\n",
    "print(grid_x)\n",
    "# print(grid_y)"
   ]
  },
  {
   "cell_type": "markdown",
   "metadata": {},
   "source": [
    "## Sort values"
   ]
  },
  {
   "cell_type": "code",
   "execution_count": 6,
   "metadata": {},
   "outputs": [
    {
     "name": "stdout",
     "output_type": "stream",
     "text": [
      "[53 47 57 58 52 42 38 46 50 51] [157 151 167 204 159 151 206 173 160 177]\n",
      "[6 5 7 1 8 9 4 0 2 3]\n",
      "[38 42 46 47 50 51 52 53 57 58]\n",
      "[206 151 173 151 160 177 159 157 167 204]\n"
     ]
    }
   ],
   "source": [
    "ages = np.random.randint(low=30, high=60, size=10)\n",
    "heights = np.random.randint(low=150, high=210, size=10)\n",
    "print(ages, heights)\n",
    "\n",
    "sorter = np.argsort(ages)\n",
    "print(sorter)\n",
    "print(ages[sorter]) # sort by ages\n",
    "print(heights[sorter ])"
   ]
  },
  {
   "cell_type": "code",
   "execution_count": 3,
   "metadata": {},
   "outputs": [
    {
     "name": "stdout",
     "output_type": "stream",
     "text": [
      "[4, 8, 16, 32, 64, 128, 256, 512, 1024] 9\n"
     ]
    }
   ],
   "source": [
    "import numpy as np\n",
    "\n",
    "img_resolution = 1024\n",
    "\n",
    "img_resolution_log2 = int(np.log2(img_resolution))\n",
    "block_resolutions = [2 ** i for i in range(2, img_resolution_log2 + 1)]\n",
    "print(block_resolutions, len(block_resolutions))"
   ]
  },
  {
   "cell_type": "code",
   "execution_count": 1,
   "metadata": {},
   "outputs": [
    {
     "name": "stdout",
     "output_type": "stream",
     "text": [
      "[0]\n"
     ]
    }
   ],
   "source": [
    "import numpy as np\n",
    "\n",
    "num_segments = 1\n",
    "average_duration = 234\n",
    "\n",
    "offsets = np.multiply(list(range(num_segments)), average_duration)\n",
    "print(offsets)"
   ]
  },
  {
   "cell_type": "markdown",
   "metadata": {},
   "source": [
    "## Compute the L2 norm"
   ]
  },
  {
   "cell_type": "code",
   "execution_count": 5,
   "metadata": {},
   "outputs": [
    {
     "name": "stderr",
     "output_type": "stream",
     "text": [
      "ic| distance: 3.4641016151377544\n",
      "ic| data_src.shape: (7, 2)\n",
      "ic| data_distance: array([2.81780056, 0.50990195, 0.89442719, 2.23606798, 0.        ,\n",
      "                          2.30867928, 2.3194827 ])\n",
      "    data_distance.shape: (7,)\n",
      "ic| data_distance: array([1.81727818, 2.37118114, 3.0516389 , 1.52069063, 2.30488611,\n",
      "                          0.20615528, 0.20615528])\n",
      "ic| data_batch_diff.shape: (8, 2)\n"
     ]
    },
    {
     "data": {
      "text/plain": [
       "(8, 2)"
      ]
     },
     "execution_count": 5,
     "metadata": {},
     "output_type": "execute_result"
    }
   ],
   "source": [
    "from icecream import ic as print\n",
    "import numpy as np\n",
    "\n",
    "## Compute the L2 norm of a vector\n",
    "delta_center = np.array([2.0, 2, 2.0])\n",
    "distance = np.linalg.norm(delta_center)\n",
    "print(distance)\n",
    "\n",
    "## Compute the matrix\n",
    "data_src = np.array([[1.1, 3.1],\n",
    "                     [1.9, 5.5],\n",
    "                     [2.8, 6.4],\n",
    "                     [1.4, 3.6],\n",
    "                     [2.4, 5.6],\n",
    "                     [3.1, 3.4],\n",
    "                     [2.7, 3.3]])\n",
    "\n",
    "print(data_src.shape)\n",
    "\n",
    "data_distance = np.linalg.norm(data_src[-3] - data_src, axis=1)\n",
    "print(data_distance, data_distance.shape)\n",
    "\n",
    "center = np.array([1.25, 3.35])\n",
    "center = np.array([2.367,5.867])\n",
    "center = np.array([2.9, 3.35])\n",
    "data_distance = np.linalg.norm(center - data_src, axis=1)\n",
    "print(data_distance)\n",
    "\n",
    "data_batch = np.random.randn(8, 68, 2)\n",
    "data_batch_diff = data_batch[:, 8, :] - data_batch[:, 28, :]\n",
    "print(data_batch_diff.shape)"
   ]
  }
 ],
 "metadata": {
  "interpreter": {
   "hash": "5a061662cd1728e1a413eb44216c5a5b0f5a1d783e658cf909fe334fc01234e3"
  },
  "kernelspec": {
   "display_name": "Python 3.6.13 ('py36-torch100-cu11')",
   "language": "python",
   "name": "python3"
  },
  "language_info": {
   "codemirror_mode": {
    "name": "ipython",
    "version": 3
   },
   "file_extension": ".py",
   "mimetype": "text/x-python",
   "name": "python",
   "nbconvert_exporter": "python",
   "pygments_lexer": "ipython3",
   "version": "3.6.13"
  },
  "orig_nbformat": 4
 },
 "nbformat": 4,
 "nbformat_minor": 2
}
