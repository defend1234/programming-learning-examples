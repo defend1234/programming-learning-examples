{
 "cells": [
  {
   "cell_type": "markdown",
   "metadata": {},
   "source": [
    "## Collections of different useful type check scripts"
   ]
  },
  {
   "cell_type": "markdown",
   "metadata": {},
   "source": [
    "## Check the variable instance"
   ]
  },
  {
   "cell_type": "code",
   "execution_count": 6,
   "metadata": {},
   "outputs": [],
   "source": [
    "from easydict import EasyDict\n",
    "\n",
    "def build_from_cfg(cfg, default_args=None):\n",
    "    assert isinstance(cfg, dict) and \"type\" in cfg\n",
    "\n",
    "    # Check default_args either a dictionary or None\n",
    "    assert isinstance(default_args, dict) or default_args is None\n",
    "    return None\n",
    "\n",
    "cfg = EasyDict(type=\"Dataset\", num_paste=50)\n",
    "build_from_cfg(cfg)"
   ]
  },
  {
   "cell_type": "markdown",
   "metadata": {},
   "source": [
    "### Check instance type and print error information"
   ]
  },
  {
   "cell_type": "code",
   "execution_count": 2,
   "metadata": {},
   "outputs": [],
   "source": [
    "def print_loss(loss_dict):\n",
    "    assert isinstance(loss_dict, dict), \"input should be dictionary type\"\n",
    "\n",
    "loss_data = 1.34\n",
    "loss_data = {'total_loss': 1.23}\n",
    "\n",
    "print_loss(loss_data)"
   ]
  },
  {
   "cell_type": "markdown",
   "metadata": {},
   "source": [
    "## Check variables whether in multiple instances"
   ]
  },
  {
   "cell_type": "code",
   "execution_count": null,
   "metadata": {},
   "outputs": [],
   "source": [
    "def build_dataset(cfg, default_args=None):\n",
    "    if isinstance(cfg, (list, tuple)):\n",
    "        ## Can be used to build a list of Dataset class\n",
    "        dataset = [build_dataset(c, default_args) for c in cfg]\n",
    "    else:\n",
    "        dataset = build_from_cfg(cfg, default_args)\n",
    "    return dataset\n"
   ]
  },
  {
   "cell_type": "markdown",
   "metadata": {},
   "source": []
  },
  {
   "cell_type": "code",
   "execution_count": null,
   "metadata": {},
   "outputs": [],
   "source": [
    "import torch\n",
    "value = 3.0\n",
    "\n",
    "if isinstance(value, torch.Tensor):\n",
    "    print(\"Is torch tensor\")\n",
    "else:\n",
    "    print(\"Is not a torch tensor\")"
   ]
  },
  {
   "cell_type": "markdown",
   "metadata": {},
   "source": [
    "## Set and get attributes"
   ]
  }
 ],
 "metadata": {
  "interpreter": {
   "hash": "dabcd94ff1f005d51473168cf6e60c597eb83fb59bba8cc22d899545378abe2b"
  },
  "kernelspec": {
   "display_name": "Python 3.6.13 ('GAN')",
   "language": "python",
   "name": "python3"
  },
  "language_info": {
   "codemirror_mode": {
    "name": "ipython",
    "version": 3
   },
   "file_extension": ".py",
   "mimetype": "text/x-python",
   "name": "python",
   "nbconvert_exporter": "python",
   "pygments_lexer": "ipython3",
   "version": "3.6.13"
  },
  "orig_nbformat": 4
 },
 "nbformat": 4,
 "nbformat_minor": 2
}
