{
 "cells": [
  {
   "attachments": {},
   "cell_type": "markdown",
   "metadata": {},
   "source": [
    "## Collections of different useful type check scripts"
   ]
  },
  {
   "attachments": {},
   "cell_type": "markdown",
   "metadata": {},
   "source": [
    "## callable check"
   ]
  },
  {
   "cell_type": "code",
   "execution_count": 3,
   "metadata": {},
   "outputs": [],
   "source": [
    "from abc import ABCMeta, abstractmethod\n",
    "\n",
    "class BaseTranform(object):\n",
    "    def __call__(self, results):\n",
    "\n",
    "        return self.transform(results)\n",
    "    \n",
    "    @abstractmethod\n",
    "    def transform(self, results):\n",
    "        pass\n",
    "\n",
    "transform = BaseTranform()\n",
    "\n",
    "if not callable(transform):\n",
    "    raise TypeError(f'transform should be a callable object, '\n",
    "                    f'but got {type(transform)}')"
   ]
  },
  {
   "attachments": {},
   "cell_type": "markdown",
   "metadata": {},
   "source": [
    "## Use `isinstance` function"
   ]
  },
  {
   "cell_type": "code",
   "execution_count": 6,
   "metadata": {},
   "outputs": [],
   "source": [
    "from easydict import EasyDict\n",
    "\n",
    "def build_from_cfg(cfg, default_args=None):\n",
    "    assert isinstance(cfg, dict) and \"type\" in cfg\n",
    "\n",
    "    # Check default_args either a dictionary or None\n",
    "    assert isinstance(default_args, dict) or default_args is None\n",
    "    return None\n",
    "\n",
    "cfg = EasyDict(type=\"Dataset\", num_paste=50)\n",
    "build_from_cfg(cfg)\n",
    "\n",
    "\n",
    "dict1 = [1, 2, 3]\n",
    "if isinstance(dict1, dict):\n",
    "    print(\"dict1 is dict\")\n",
    "else:\n",
    "    print(\"Not a dictionary\")"
   ]
  },
  {
   "attachments": {},
   "cell_type": "markdown",
   "metadata": {},
   "source": [
    "### Check instance type and print error information"
   ]
  },
  {
   "cell_type": "code",
   "execution_count": 2,
   "metadata": {},
   "outputs": [],
   "source": [
    "def print_loss(loss_dict):\n",
    "    assert isinstance(loss_dict, dict), \"input should be dictionary type\"\n",
    "\n",
    "loss_data = 1.34\n",
    "loss_data = {'total_loss': 1.23}\n",
    "\n",
    "print_loss(loss_data)"
   ]
  },
  {
   "cell_type": "code",
   "execution_count": 8,
   "metadata": {},
   "outputs": [
    {
     "ename": "AssertionError",
     "evalue": "metainfo should be a ``dict`` but got <class 'list'>",
     "output_type": "error",
     "traceback": [
      "\u001b[0;31m---------------------------------------------------------------------------\u001b[0m",
      "\u001b[0;31mAssertionError\u001b[0m                            Traceback (most recent call last)",
      "\u001b[1;32m/home/zhanghm/Research/Programming/programming-learning-examples/Python_learning/type_check_utils.ipynb Cell 8\u001b[0m in \u001b[0;36m4\n\u001b[1;32m      <a href='vscode-notebook-cell://ssh-remote%2B7b22686f73744e616d65223a2241313030227d/home/zhanghm/Research/Programming/programming-learning-examples/Python_learning/type_check_utils.ipynb#X22sdnNjb2RlLXJlbW90ZQ%3D%3D?line=0'>1</a>\u001b[0m metainfo \u001b[39m=\u001b[39m \u001b[39mdict\u001b[39m(name\u001b[39m=\u001b[39m\u001b[39m\"\u001b[39m\u001b[39mZhang\u001b[39m\u001b[39m\"\u001b[39m)\n\u001b[1;32m      <a href='vscode-notebook-cell://ssh-remote%2B7b22686f73744e616d65223a2241313030227d/home/zhanghm/Research/Programming/programming-learning-examples/Python_learning/type_check_utils.ipynb#X22sdnNjb2RlLXJlbW90ZQ%3D%3D?line=1'>2</a>\u001b[0m metainfo \u001b[39m=\u001b[39m [\u001b[39m1\u001b[39m, \u001b[39m2\u001b[39m, \u001b[39m3\u001b[39m]\n\u001b[0;32m----> <a href='vscode-notebook-cell://ssh-remote%2B7b22686f73744e616d65223a2241313030227d/home/zhanghm/Research/Programming/programming-learning-examples/Python_learning/type_check_utils.ipynb#X22sdnNjb2RlLXJlbW90ZQ%3D%3D?line=3'>4</a>\u001b[0m \u001b[39massert\u001b[39;00m \u001b[39misinstance\u001b[39m(\n\u001b[1;32m      <a href='vscode-notebook-cell://ssh-remote%2B7b22686f73744e616d65223a2241313030227d/home/zhanghm/Research/Programming/programming-learning-examples/Python_learning/type_check_utils.ipynb#X22sdnNjb2RlLXJlbW90ZQ%3D%3D?line=4'>5</a>\u001b[0m     metainfo,\n\u001b[1;32m      <a href='vscode-notebook-cell://ssh-remote%2B7b22686f73744e616d65223a2241313030227d/home/zhanghm/Research/Programming/programming-learning-examples/Python_learning/type_check_utils.ipynb#X22sdnNjb2RlLXJlbW90ZQ%3D%3D?line=5'>6</a>\u001b[0m     \u001b[39mdict\u001b[39m), \u001b[39mf\u001b[39m\u001b[39m'\u001b[39m\u001b[39mmetainfo should be a ``dict`` but got \u001b[39m\u001b[39m{\u001b[39;00m\u001b[39mtype\u001b[39m(metainfo)\u001b[39m}\u001b[39;00m\u001b[39m'\u001b[39m\n",
      "\u001b[0;31mAssertionError\u001b[0m: metainfo should be a ``dict`` but got <class 'list'>"
     ]
    }
   ],
   "source": [
    "metainfo = dict(name=\"Zhang\")\n",
    "metainfo = [1, 2, 3]\n",
    "\n",
    "assert isinstance(\n",
    "    metainfo,\n",
    "    dict), f'metainfo should be a ``dict`` but got {type(metainfo)}'"
   ]
  },
  {
   "attachments": {},
   "cell_type": "markdown",
   "metadata": {},
   "source": [
    "## Check the tensor"
   ]
  },
  {
   "cell_type": "code",
   "execution_count": 1,
   "metadata": {},
   "outputs": [
    {
     "name": "stderr",
     "output_type": "stream",
     "text": [
      "/home/zhanghm/miniconda3/envs/py38-torch100-cu11/lib/python3.8/site-packages/tqdm/auto.py:22: TqdmWarning: IProgress not found. Please update jupyter and ipywidgets. See https://ipywidgets.readthedocs.io/en/stable/user_install.html\n",
      "  from .autonotebook import tqdm as notebook_tqdm\n"
     ]
    },
    {
     "name": "stdout",
     "output_type": "stream",
     "text": [
      "torch.Size([3, 3]) <class 'torch.Tensor'>\n",
      "torch.Tensor\n",
      "torch.Tensor\n"
     ]
    }
   ],
   "source": [
    "import torch\n",
    "\n",
    "data = torch.rand(3, 3)\n",
    "print(data.shape, type(data))\n",
    "\n",
    "## Method 1\n",
    "if isinstance(data, torch.Tensor):\n",
    "    print(\"torch.Tensor\")\n",
    "else:\n",
    "    print(\"not torch.Tensor\")\n",
    "\n",
    "## Method 2\n",
    "if torch.is_tensor(data):\n",
    "    print(\"torch.Tensor\")\n",
    "else:\n",
    "    print(\"not torch.Tensor\")\n"
   ]
  },
  {
   "attachments": {},
   "cell_type": "markdown",
   "metadata": {},
   "source": [
    "## Check variables whether in multiple instances"
   ]
  },
  {
   "cell_type": "code",
   "execution_count": 3,
   "metadata": {},
   "outputs": [],
   "source": [
    "def build_dataset(cfg, default_args=None):\n",
    "    if isinstance(cfg, (list, tuple)):\n",
    "        ## Can be used to build a list of Dataset class\n",
    "        dataset = [build_dataset(c, default_args) for c in cfg]\n",
    "    else:\n",
    "        dataset = build_from_cfg(cfg, default_args)\n",
    "    return dataset\n",
    "\n",
    "\n",
    "## Check whether a variable is dictionary or None type\n",
    "cfg = None\n",
    "assert isinstance(cfg, (dict, type(None)))"
   ]
  },
  {
   "attachments": {},
   "cell_type": "markdown",
   "metadata": {},
   "source": []
  },
  {
   "cell_type": "code",
   "execution_count": null,
   "metadata": {},
   "outputs": [],
   "source": [
    "import torch\n",
    "value = 3.0\n",
    "\n",
    "if isinstance(value, torch.Tensor):\n",
    "    print(\"Is torch tensor\")\n",
    "else:\n",
    "    print(\"Is not a torch tensor\")"
   ]
  },
  {
   "attachments": {},
   "cell_type": "markdown",
   "metadata": {},
   "source": [
    "## Set and get attributes"
   ]
  },
  {
   "attachments": {},
   "cell_type": "markdown",
   "metadata": {},
   "source": [
    "## Commonly used type"
   ]
  },
  {
   "cell_type": "code",
   "execution_count": null,
   "metadata": {},
   "outputs": [],
   "source": [
    "from typing import Iterable, List\n"
   ]
  },
  {
   "attachments": {},
   "cell_type": "markdown",
   "metadata": {},
   "source": [
    "## Check True/False"
   ]
  },
  {
   "cell_type": "code",
   "execution_count": 9,
   "metadata": {},
   "outputs": [
    {
     "name": "stdout",
     "output_type": "stream",
     "text": [
      "input is not None\n"
     ]
    }
   ],
   "source": [
    "import numpy as np\n",
    "\n",
    "\n",
    "input = None\n",
    "input = False\n",
    "input = []\n",
    "# input = [1, 2, 3]\n",
    "\n",
    "class A:\n",
    "    pass\n",
    "\n",
    "input = A()\n",
    "\n",
    "if input:\n",
    "    print(\"input is not None\")\n",
    "else:\n",
    "    print(\"input is None\")\n",
    "\n"
   ]
  }
 ],
 "metadata": {
  "kernelspec": {
   "display_name": "Python 3.8.13 ('py38-torch100-cu11')",
   "language": "python",
   "name": "python3"
  },
  "language_info": {
   "codemirror_mode": {
    "name": "ipython",
    "version": 3
   },
   "file_extension": ".py",
   "mimetype": "text/x-python",
   "name": "python",
   "nbconvert_exporter": "python",
   "pygments_lexer": "ipython3",
   "version": "3.8.15"
  },
  "orig_nbformat": 4,
  "vscode": {
   "interpreter": {
    "hash": "56d0891f27fe2db3830dc2a05bc70f05135b0c30ed7c190a150d1aca2da3af60"
   }
  }
 },
 "nbformat": 4,
 "nbformat_minor": 2
}
