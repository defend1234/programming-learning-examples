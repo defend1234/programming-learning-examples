{
 "cells": [
  {
   "cell_type": "markdown",
   "metadata": {},
   "source": [
    "## Collections of some useful Python packages usages"
   ]
  },
  {
   "cell_type": "code",
   "execution_count": 4,
   "metadata": {},
   "outputs": [],
   "source": [
    "import time"
   ]
  },
  {
   "cell_type": "markdown",
   "metadata": {},
   "source": [
    "### tqdm package"
   ]
  },
  {
   "cell_type": "code",
   "execution_count": 7,
   "metadata": {},
   "outputs": [
    {
     "name": "stderr",
     "output_type": "stream",
     "text": [
      "Current frame: 9: 100%|██████████| 10/10 [00:10<00:00,  1.00s/it]\n"
     ]
    }
   ],
   "source": [
    "from tqdm import tqdm\n",
    "\n",
    "def basic_usage():\n",
    "    ## basic usage\n",
    "    for i in tqdm(range(10)):\n",
    "        time.sleep(1)\n",
    "\n",
    "def print_some_information():\n",
    "    ## add some information\n",
    "    prog_bar = tqdm(range(10))\n",
    "    for i in prog_bar:\n",
    "        time.sleep(1)\n",
    "        prog_bar.set_description(f\"Current frame: {i}\")\n",
    "\n",
    "print_some_information()\n"
   ]
  },
  {
   "cell_type": "code",
   "execution_count": 1,
   "metadata": {},
   "outputs": [
    {
     "name": "stderr",
     "output_type": "stream",
     "text": [
      "ic| data.shape: torch.Size([2, 3, 224, 224])\n"
     ]
    },
    {
     "data": {
      "text/plain": [
       "torch.Size([2, 3, 224, 224])"
      ]
     },
     "execution_count": 1,
     "metadata": {},
     "output_type": "execute_result"
    }
   ],
   "source": [
    "import torch\n",
    "from icecream import ic as print\n",
    "\n",
    "data = torch.randn(2, 3, 224, 224)\n",
    "\n",
    "print(data.shape)"
   ]
  }
 ],
 "metadata": {
  "kernelspec": {
   "display_name": "Python 3.6.13 ('py36-torch100-cu11')",
   "language": "python",
   "name": "python3"
  },
  "language_info": {
   "codemirror_mode": {
    "name": "ipython",
    "version": 3
   },
   "file_extension": ".py",
   "mimetype": "text/x-python",
   "name": "python",
   "nbconvert_exporter": "python",
   "pygments_lexer": "ipython3",
   "version": "3.6.13"
  },
  "orig_nbformat": 4,
  "vscode": {
   "interpreter": {
    "hash": "5a061662cd1728e1a413eb44216c5a5b0f5a1d783e658cf909fe334fc01234e3"
   }
  }
 },
 "nbformat": 4,
 "nbformat_minor": 2
}
