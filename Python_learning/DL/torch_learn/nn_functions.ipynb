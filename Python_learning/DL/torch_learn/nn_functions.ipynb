{
 "cells": [
  {
   "cell_type": "markdown",
   "metadata": {},
   "source": [
    "# All about the useful function in nn.functional"
   ]
  },
  {
   "cell_type": "markdown",
   "metadata": {},
   "source": [
    "## https://pytorch.org/docs/stable/generated/torch.nn.functional.cosine_similarity.html"
   ]
  },
  {
   "cell_type": "code",
   "execution_count": 1,
   "metadata": {},
   "outputs": [],
   "source": [
    "import numpy as np\n",
    "import torch\n",
    "import torch.nn as nn\n",
    "from torch.nn import functional as F"
   ]
  },
  {
   "cell_type": "markdown",
   "metadata": {},
   "source": [
    "## nn.functional.pad"
   ]
  },
  {
   "cell_type": "code",
   "execution_count": 3,
   "metadata": {},
   "outputs": [
    {
     "name": "stdout",
     "output_type": "stream",
     "text": [
      "tensor([[0.9854, 0.8047, 0.2832, 0.1536, 0.6510],\n",
      "        [0.4748, 0.3009, 0.1775, 0.6845, 0.9589],\n",
      "        [0.3919, 0.8940, 0.1519, 0.4315, 0.9764]]) torch.Size([3, 5])\n",
      "tensor([[0.0000, 0.0000, 0.0000, 0.0000, 0.0000],\n",
      "        [0.0000, 0.0000, 0.0000, 0.0000, 0.0000],\n",
      "        [0.9854, 0.8047, 0.2832, 0.1536, 0.6510],\n",
      "        [0.4748, 0.3009, 0.1775, 0.6845, 0.9589],\n",
      "        [0.3919, 0.8940, 0.1519, 0.4315, 0.9764],\n",
      "        [0.0000, 0.0000, 0.0000, 0.0000, 0.0000],\n",
      "        [0.0000, 0.0000, 0.0000, 0.0000, 0.0000],\n",
      "        [0.0000, 0.0000, 0.0000, 0.0000, 0.0000]]) torch.Size([8, 5])\n",
      "tensor([[[-1.8260,  0.6726, -0.0034,  0.5011, -0.1727],\n",
      "         [ 1.0194, -0.1509, -0.7842,  0.1076, -1.0302],\n",
      "         [-0.5689,  0.2523, -1.7349,  0.6499, -1.3174]]]) torch.Size([1, 3, 5])\n",
      "tensor([[[-1.8260,  0.6726, -0.0034,  0.5011, -0.1727],\n",
      "         [ 1.0194, -0.1509, -0.7842,  0.1076, -1.0302],\n",
      "         [-0.5689,  0.2523, -1.7349,  0.6499, -1.3174],\n",
      "         [-0.5689,  0.2523, -1.7349,  0.6499, -1.3174]]]) torch.Size([1, 4, 5])\n"
     ]
    }
   ],
   "source": [
    "data_a = torch.rand(3, 5)\n",
    "print(data_a, data_a.shape)\n",
    "data_a_pad = F.pad(data_a, (0, 0, 2, 3)) ## padding the tensor in a inverse order dimensions\n",
    "print(data_a_pad, data_a_pad.shape)\n",
    "\n",
    "model_output = torch.randn(1, 3, 5)\n",
    "print(model_output, model_output.shape)\n",
    "model_output = F.pad(model_output, (0, 0, 0, 1), mode=\"replicate\")\n",
    "print(model_output, model_output.shape)"
   ]
  },
  {
   "cell_type": "markdown",
   "metadata": {},
   "source": [
    "## nn.functional.pairwise_distance"
   ]
  },
  {
   "cell_type": "code",
   "execution_count": null,
   "metadata": {},
   "outputs": [],
   "source": []
  },
  {
   "cell_type": "markdown",
   "metadata": {},
   "source": [
    "## F.one_hot\n",
    "https://pytorch.org/docs/stable/generated/torch.nn.functional.one_hot.html"
   ]
  },
  {
   "cell_type": "code",
   "execution_count": 13,
   "metadata": {},
   "outputs": [
    {
     "name": "stdout",
     "output_type": "stream",
     "text": [
      "torch.Size([5]) torch.int64\n",
      "tensor([0, 1, 2, 0, 1])\n",
      "tensor([[1, 0, 0],\n",
      "        [0, 1, 0],\n",
      "        [0, 0, 1],\n",
      "        [1, 0, 0],\n",
      "        [0, 1, 0]]) torch.Size([5, 3]) torch.int64\n",
      "tensor([[1, 0, 0, 0, 0, 0],\n",
      "        [0, 1, 0, 0, 0, 0],\n",
      "        [0, 0, 1, 0, 0, 0],\n",
      "        [1, 0, 0, 0, 0, 0],\n",
      "        [0, 1, 0, 0, 0, 0]]) torch.Size([5, 6])\n",
      "tensor([[0, 1],\n",
      "        [2, 0],\n",
      "        [1, 2]]) torch.Size([3, 2])\n",
      "tensor([[[1, 0, 0],\n",
      "         [0, 1, 0]],\n",
      "\n",
      "        [[0, 0, 1],\n",
      "         [1, 0, 0]],\n",
      "\n",
      "        [[0, 1, 0],\n",
      "         [0, 0, 1]]]) torch.Size([3, 2, 3])\n",
      "tensor([[1, 1, 1],\n",
      "        [1, 1, 1]])\n"
     ]
    }
   ],
   "source": [
    "input = torch.arange(0, 5) % 3\n",
    "print(input.shape, input.dtype)\n",
    "print(input)\n",
    "\n",
    "input_one_hot = F.one_hot(input)\n",
    "print(input_one_hot, input_one_hot.shape, input_one_hot.dtype)\n",
    "\n",
    "input_one_hot = F.one_hot(input, 6) # specify the number of classes manually\n",
    "print(input_one_hot, input_one_hot.shape)\n",
    "\n",
    "input = torch.arange(0, 6).view(3,2) % 3\n",
    "print(input, input.shape)\n",
    "\n",
    "input_one_hot = F.one_hot(input)\n",
    "print(input_one_hot, input_one_hot.shape)\n",
    "print(input_one_hot.sum(0))"
   ]
  },
  {
   "cell_type": "markdown",
   "metadata": {},
   "source": [
    "## nn.softmax\n",
    "https://pytorch.org/docs/stable/generated/torch.nn.Softmax.html"
   ]
  },
  {
   "cell_type": "code",
   "execution_count": 5,
   "metadata": {},
   "outputs": [
    {
     "name": "stdout",
     "output_type": "stream",
     "text": [
      "tensor([[0.5807, 0.0593],\n",
      "        [0.2386, 0.9519],\n",
      "        [0.0948, 0.1985],\n",
      "        [0.9567, 0.4438],\n",
      "        [0.0408, 0.3318]]) torch.Size([5, 2])\n",
      "tensor([[0.6275, 0.3725],\n",
      "        [0.3289, 0.6711],\n",
      "        [0.4741, 0.5259],\n",
      "        [0.6255, 0.3745],\n",
      "        [0.4278, 0.5722]]) torch.Size([5, 2])\n",
      "tensor([[-9.4193, -9.9407],\n",
      "        [-9.7614, -9.0481],\n",
      "        [-9.9052, -9.8015],\n",
      "        [-9.0433, -9.5562],\n",
      "        [-9.9592, -9.6682]]) torch.Size([5, 2])\n",
      "tensor([[0.6275, 0.3725],\n",
      "        [0.3289, 0.6711],\n",
      "        [0.4741, 0.5259],\n",
      "        [0.6255, 0.3745],\n",
      "        [0.4278, 0.5722]]) torch.Size([5, 2])\n",
      "tensor([0., 1., 1., 0., 1.])\n"
     ]
    }
   ],
   "source": [
    "x = torch.rand((5, 2))\n",
    "print(x, x.shape)\n",
    "\n",
    "score = F.softmax(x, dim=-1)\n",
    "print(score, score.shape)\n",
    "\n",
    "## Softmax is invariant to translation operation\n",
    "x -= 10.0\n",
    "print(x, x.shape)\n",
    "score = F.softmax(x, dim=-1)\n",
    "print(score, score.shape)\n",
    "\n",
    "predLabel = torch.round(F.softmax(x, dim = -1))[:,1]\n",
    "print(predLabel)"
   ]
  },
  {
   "cell_type": "markdown",
   "metadata": {},
   "source": [
    "## nn.functional.normalize"
   ]
  },
  {
   "cell_type": "code",
   "execution_count": 23,
   "metadata": {},
   "outputs": [
    {
     "name": "stdout",
     "output_type": "stream",
     "text": [
      "torch.Size([64, 512])\n",
      "torch.Size([4, 3])\n",
      "tensor([[0.2673, 0.5345, 0.8018],\n",
      "        [0.3714, 0.5571, 0.7428],\n",
      "        [0.4767, 0.5721, 0.6674],\n",
      "        [0.5774, 0.5774, 0.5774]], dtype=torch.float64)\n"
     ]
    }
   ],
   "source": [
    "audio_embedding = torch.rand((64, 512))\n",
    "audio_embedding = F.normalize(audio_embedding, p=2, dim=1)\n",
    "print(audio_embedding.shape)\n",
    "\n",
    "dummy_array = np.array([[1,2,3], [2,3,4], [5,6,7], [5,5,5]], dtype=np.float)\n",
    "audio_embedding = torch.from_numpy(dummy_array)\n",
    "audio_embedding = F.normalize(audio_embedding, p=2, dim=1)\n",
    "print(audio_embedding.shape)\n",
    "print(audio_embedding)"
   ]
  },
  {
   "cell_type": "markdown",
   "metadata": {},
   "source": [
    "## nn.functional.cosine_similarity"
   ]
  },
  {
   "cell_type": "code",
   "execution_count": 18,
   "metadata": {},
   "outputs": [
    {
     "name": "stdout",
     "output_type": "stream",
     "text": [
      "tensor([[[0.6454, 0.5909, 0.4722, 0.1065],\n",
      "         [0.5794, 0.3993, 0.6225, 0.3426],\n",
      "         [0.4970, 0.3184, 0.5451, 0.5953]],\n",
      "\n",
      "        [[0.3604, 0.5549, 0.4772, 0.5784],\n",
      "         [0.6344, 0.7549, 0.1376, 0.0938],\n",
      "         [0.4643, 0.5334, 0.6254, 0.3299]]])\n",
      "tensor([[[-0.7632, -0.6214,  0.1208, -0.1296],\n",
      "         [-0.1561, -0.8057, -0.4705, -0.3242],\n",
      "         [-0.7320, -0.6694, -0.0977, -0.0805]],\n",
      "\n",
      "        [[ 0.3285,  0.8725, -0.0617,  0.3563],\n",
      "         [ 0.1925, -0.3026, -0.4393, -0.8237],\n",
      "         [ 0.3735, -0.7660, -0.3534,  0.3858]]])\n",
      "tensor([[-0.8165, -0.8161, -0.6781],\n",
      "        [ 0.7792, -0.2440, -0.3289]]) torch.Size([2, 3])\n",
      "tensor([[1.8165, 1.8161, 1.6781],\n",
      "        [0.2208, 1.2440, 1.3289]]) torch.Size([2, 3])\n",
      "tensor(1.3508)\n"
     ]
    }
   ],
   "source": [
    "def get_consine_distance(a, b):\n",
    "    d = nn.functional.cosine_similarity(a, b, dim=2)\n",
    "    return d\n",
    "\n",
    "\n",
    "a, v = torch.rand((2, 3, 4)), torch.randn((2, 3, 4))\n",
    "a = F.normalize(a, p=2, dim=-1)\n",
    "v = F.normalize(v, p=2, dim=-1)\n",
    "\n",
    "print(a)\n",
    "print(v)\n",
    "d = get_consine_distance(a, v)\n",
    "print(d, d.shape)\n",
    "\n",
    "cosine_loss = 1 - d\n",
    "print(cosine_loss, cosine_loss.shape)\n",
    "\n",
    "cosine_loss = torch.mean(cosine_loss)\n",
    "print(cosine_loss)\n",
    "# pred_label = d > 0.75\n",
    "# print(pred_label)\n",
    "\n",
    "\n",
    "\n",
    "# y = torch.zeros((5, 1)).int()\n",
    "# print(y.shape, y.dtype)\n",
    "\n",
    "# pred_label = pred_label.int()\n",
    "# correctNum = (pred_label == y).sum().float()\n",
    "# print(correctNum)"
   ]
  },
  {
   "cell_type": "code",
   "execution_count": 14,
   "metadata": {},
   "outputs": [
    {
     "name": "stdout",
     "output_type": "stream",
     "text": [
      "0.48015995\n"
     ]
    }
   ],
   "source": [
    "a = [0.6270, 0.0501, 0.3424, 0.6979]\n",
    "b = [-0.1985, -0.3189,  0.7742,  0.5094]\n",
    "\n",
    "c = 0\n",
    "for val1, val2 in zip(a, b):\n",
    "    c += val1 * val2\n",
    "print(c)"
   ]
  },
  {
   "cell_type": "code",
   "execution_count": 9,
   "metadata": {},
   "outputs": [
    {
     "name": "stdout",
     "output_type": "stream",
     "text": [
      "torch.Size([64, 1]) torch.float32 2\n"
     ]
    }
   ],
   "source": [
    "y = torch.zeros(64, 1).float()\n",
    "\n",
    "print(y.shape, y.dtype, y.ndim)"
   ]
  },
  {
   "cell_type": "code",
   "execution_count": 7,
   "metadata": {},
   "outputs": [
    {
     "name": "stdout",
     "output_type": "stream",
     "text": [
      "torch.Size([1, 1])\n",
      "tensor([[1.0000]])\n"
     ]
    }
   ],
   "source": [
    "a = torch.rand((1, 64, 1))\n",
    "b = a * 1.8\n",
    "\n",
    "dist = get_consine_distance(a, b)\n",
    "print(dist)"
   ]
  },
  {
   "cell_type": "markdown",
   "metadata": {},
   "source": [
    "## interpolate"
   ]
  },
  {
   "cell_type": "code",
   "execution_count": 18,
   "metadata": {},
   "outputs": [
    {
     "name": "stdout",
     "output_type": "stream",
     "text": [
      "torch.Size([1, 3, 160, 160])\n",
      "torch.Size([1, 3, 224, 224])\n",
      "(1, 224, 224, 3)\n",
      "(224, 224, 3)\n"
     ]
    },
    {
     "data": {
      "image/png": "[encoded data removed]",
      "text/plain": [
       "<PIL.Image.Image image mode=RGB size=224x224 at 0x7FF60F5FBFD0>"
      ]
     },
     "metadata": {},
     "output_type": "display_data"
    }
   ],
   "source": [
    "import cv2\n",
    "from PIL import Image\n",
    "from IPython.display import display\n",
    "\n",
    "\n",
    "img_path = \"/data/zhanghm/LRS2/5968070088624821576/00025/000000.jpg\"\n",
    "img_src = cv2.imread(img_path)\n",
    "\n",
    "img_src = img_src.transpose(2,0,1) / 255.0\n",
    "x = torch.from_numpy(img_src[np.newaxis,...])\n",
    "print(x.shape)\n",
    "out = F.interpolate(x, size=(224, 224), mode='bilinear', align_corners=False)\n",
    "print(out.shape)\n",
    "\n",
    "pred = out.numpy().transpose(0, 2, 3, 1) * 255.\n",
    "print(pred.shape)\n",
    "\n",
    "img = pred[0].astype(np.uint8)\n",
    "print(img.shape)\n",
    "\n",
    "display(Image.fromarray(img[..., ::-1]))"
   ]
  },
  {
   "cell_type": "markdown",
   "metadata": {},
   "source": [
    "## AffineGrid and grid_sample"
   ]
  },
  {
   "cell_type": "code",
   "execution_count": null,
   "metadata": {},
   "outputs": [],
   "source": []
  }
 ],
 "metadata": {
  "kernelspec": {
   "display_name": "Python 3.8.13 ('py38-torch100-cu11')",
   "language": "python",
   "name": "python3"
  },
  "language_info": {
   "codemirror_mode": {
    "name": "ipython",
    "version": 3
   },
   "file_extension": ".py",
   "mimetype": "text/x-python",
   "name": "python",
   "nbconvert_exporter": "python",
   "pygments_lexer": "ipython3",
   "version": "3.8.13"
  },
  "orig_nbformat": 4,
  "vscode": {
   "interpreter": {
    "hash": "56d0891f27fe2db3830dc2a05bc70f05135b0c30ed7c190a150d1aca2da3af60"
   }
  }
 },
 "nbformat": 4,
 "nbformat_minor": 2
}
