{
 "cells": [
  {
   "cell_type": "markdown",
   "source": [
    "# Play with different Loss Functions in Pytorch"
   ],
   "metadata": {}
  },
  {
   "cell_type": "markdown",
   "source": [
    "## Reference Resources\n",
    "[all-pytorch-loss-function](https://analyticsindiamag.com/all-pytorch-loss-function/)"
   ],
   "metadata": {}
  },
  {
   "cell_type": "code",
   "execution_count": 29,
   "source": [
    "import torch\n",
    "import torch.nn as nn\n",
    "import numpy as np"
   ],
   "outputs": [],
   "metadata": {}
  },
  {
   "cell_type": "markdown",
   "source": [
    "## L1 loss"
   ],
   "metadata": {}
  },
  {
   "cell_type": "code",
   "execution_count": 23,
   "source": [
    "### https://pytorch.org/docs/stable/generated/torch.nn.L1Loss.html\n",
    "def cal_loss(input, target):\n",
    "    \"\"\"\n",
    "    MAE计算细节\n",
    "    \"\"\"\n",
    "    print(target - input)\n",
    "    print(torch.abs(target - input))\n",
    "    ### Calculate the absolute\n",
    "    diff = input - target\n",
    "    abs_diff = torch.abs(diff)\n",
    "    mae = torch.mean(abs_diff)\n",
    "    print(mae)\n",
    "\n",
    "mae_loss = nn.L1Loss(reduction='mean')\n",
    "input = torch.randn(3, 5)\n",
    "target = torch.randn(3, 5)\n",
    "\n",
    "print(input, target)\n",
    "cal_loss(input, target)\n",
    "\n",
    "output = mae_loss(input, target)\n",
    "print(output, output.shape)\n",
    "\n"
   ],
   "outputs": [
    {
     "output_type": "stream",
     "name": "stdout",
     "text": [
      "tensor([[-1.3854,  1.1842,  1.0388, -0.4160, -0.8009],\n",
      "        [-0.2005, -1.3640,  0.9319,  1.0852,  0.7869],\n",
      "        [ 0.0369,  0.5503, -1.8960,  0.6278,  0.2536]]) tensor([[ 1.9095,  0.5111,  0.8696, -0.7395,  1.6061],\n",
      "        [ 0.4301,  2.0581,  1.1303,  0.2786,  0.4720],\n",
      "        [ 1.7267, -1.7716, -0.0319,  0.4141, -0.3385]])\n",
      "tensor([[ 3.2949, -0.6731, -0.1692, -0.3235,  2.4069],\n",
      "        [ 0.6307,  3.4221,  0.1984, -0.8066, -0.3149],\n",
      "        [ 1.6899, -2.3219,  1.8641, -0.2138, -0.5920]])\n",
      "tensor([[3.2949, 0.6731, 0.1692, 0.3235, 2.4069],\n",
      "        [0.6307, 3.4221, 0.1984, 0.8066, 0.3149],\n",
      "        [1.6899, 2.3219, 1.8641, 0.2138, 0.5920]])\n",
      "tensor(1.2615)\n",
      "tensor(1.2615)\n",
      "tensor(1.2615) torch.Size([])\n"
     ]
    }
   ],
   "metadata": {}
  },
  {
   "cell_type": "markdown",
   "source": [
    "## Mean Squared Error (nn.L2Loss)"
   ],
   "metadata": {}
  },
  {
   "cell_type": "code",
   "execution_count": 27,
   "source": [
    "input = torch.randn(3, 4, requires_grad=True)\n",
    "target = torch.randn(3, 4)\n",
    "mse_loss = nn.MSELoss()\n",
    "output = mse_loss(input, target)\n",
    "print(output)\n",
    "output.backward()\n",
    "print('input -: ', input)\n",
    "print('target -: ', target)\n",
    "print('output -: ', output)"
   ],
   "outputs": [
    {
     "output_type": "stream",
     "name": "stdout",
     "text": [
      "tensor(1.8406, grad_fn=<MseLossBackward>)\n",
      "input -:  tensor([[ 1.8761,  0.4816,  1.1025,  0.8694],\n",
      "        [-0.7637, -0.3180, -0.0189, -0.5305],\n",
      "        [-1.8623,  0.8848,  0.2659,  0.5529]], requires_grad=True)\n",
      "target -:  tensor([[ 1.1865,  0.4024,  0.7173, -0.5816],\n",
      "        [ 0.0767, -0.8407,  0.3574,  1.6857],\n",
      "        [ 0.2532, -1.0210, -1.7251, -0.5643]])\n",
      "output -:  tensor(1.8406, grad_fn=<MseLossBackward>)\n"
     ]
    }
   ],
   "metadata": {}
  },
  {
   "cell_type": "markdown",
   "source": [
    "## Binary Cross Entropy(nn.BCELoss)\n",
    "[https://pytorch.org/docs/stable/generated/torch.nn.BCELoss.html](https://pytorch.org/docs/stable/generated/torch.nn.BCELoss.html)"
   ],
   "metadata": {}
  },
  {
   "cell_type": "code",
   "execution_count": 56,
   "source": [
    "### Python实现\n",
    "y_pred = np.array([0.1580, 0.4137, 0.2285])\n",
    "y_true = np.array([0.0, 1.0, 0.0]) #2 labels: (0,1)\n",
    "def BCE(y_pred, y_true):\n",
    "    total_bce_loss = np.sum(-y_true * np.log(y_pred) - (1 - y_true) * np.log(1 - y_pred))\n",
    "    # Getting the mean BCE loss\n",
    "    num_of_samples = y_pred.shape[0]\n",
    "    mean_bce_loss = total_bce_loss / num_of_samples\n",
    "    return mean_bce_loss\n",
    "bce_value = BCE(y_pred, y_true)\n",
    "print (\"BCE error is: \" + str(bce_value))"
   ],
   "outputs": [
    {
     "output_type": "stream",
     "name": "stdout",
     "text": [
      "BCE error is: 0.43800269247783435\n"
     ]
    }
   ],
   "metadata": {}
  },
  {
   "cell_type": "code",
   "execution_count": 58,
   "source": [
    "## Using Pytorch implementation\n",
    "bce_loss = torch.nn.BCELoss()\n",
    "sigmoid = torch.nn.Sigmoid() # Ensuring inputs are between 0 and 1\n",
    "input = torch.tensor(y_pred)\n",
    "target = torch.tensor(y_true)\n",
    "print(input.shape, target.shape)\n",
    "output = bce_loss(input, target)\n",
    "print(output)"
   ],
   "outputs": [
    {
     "output_type": "stream",
     "name": "stdout",
     "text": [
      "torch.Size([3]) torch.Size([3])\n",
      "tensor(0.4380, dtype=torch.float64)\n"
     ]
    }
   ],
   "metadata": {}
  }
 ],
 "metadata": {
  "orig_nbformat": 4,
  "language_info": {
   "name": "python",
   "version": "3.6.13",
   "mimetype": "text/x-python",
   "codemirror_mode": {
    "name": "ipython",
    "version": 3
   },
   "pygments_lexer": "ipython3",
   "nbconvert_exporter": "python",
   "file_extension": ".py"
  },
  "kernelspec": {
   "name": "python3",
   "display_name": "Python 3.6.13 64-bit ('face_python36': conda)"
  },
  "interpreter": {
   "hash": "a8c17cacde4bf83c7e39b5631839a653d23294c3e57f7dc62f99a2c1a562a38c"
  }
 },
 "nbformat": 4,
 "nbformat_minor": 2
}