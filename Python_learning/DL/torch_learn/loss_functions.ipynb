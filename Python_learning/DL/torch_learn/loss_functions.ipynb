{
 "cells": [
  {
   "cell_type": "markdown",
   "source": [
    "# Play with different Loss Functions in Pytorch"
   ],
   "metadata": {}
  },
  {
   "cell_type": "markdown",
   "source": [
    "## Reference Resources\n",
    "[all-pytorch-loss-function](https://analyticsindiamag.com/all-pytorch-loss-function/)"
   ],
   "metadata": {}
  },
  {
   "cell_type": "code",
   "execution_count": 29,
   "source": [
    "import torch\n",
    "import torch.nn as nn\n",
    "import numpy as np"
   ],
   "outputs": [],
   "metadata": {}
  },
  {
   "cell_type": "markdown",
   "source": [
    "## L1 loss"
   ],
   "metadata": {}
  },
  {
   "cell_type": "code",
   "execution_count": 66,
   "source": [
    "### https://pytorch.org/docs/stable/generated/torch.nn.L1Loss.html\n",
    "def cal_loss(input, target):\n",
    "    \"\"\"\n",
    "    MAE计算细节\n",
    "    \"\"\"\n",
    "    print(target - input)\n",
    "    print(torch.abs(target - input))\n",
    "    ### Calculate the absolute\n",
    "    diff = input - target\n",
    "    abs_diff = torch.abs(diff)\n",
    "    mae = torch.mean(abs_diff)\n",
    "    print(mae)\n",
    "\n",
    "mae_loss = nn.L1Loss(reduction='mean')\n",
    "input = torch.randn(3, 5)\n",
    "target = torch.randn(3, 5)\n",
    "target = torch.tensor([[1,2,3,4,5],[1,2,3,4,5], [1,2,3,4,5.0]])\n",
    "target = torch.tensor([[1,2,3,4,5.0]])\n",
    "\n",
    "print(input, target)\n",
    "cal_loss(input, target)\n",
    "\n",
    "output = mae_loss(input, target)\n",
    "print(output, output.shape)\n",
    "\n",
    "target = torch.tensor([[1,2,3,4,5],[1,2,3,4,5], [1,2,3,4,5.0]])\n",
    "output = mae_loss(input, target)\n",
    "print(output, output.shape)\n",
    "\n",
    "\n"
   ],
   "outputs": [
    {
     "output_type": "stream",
     "name": "stdout",
     "text": [
      "tensor([[ 0.0410, -2.2190, -1.3664, -0.8746, -0.5793],\n",
      "        [ 0.8840,  0.4308, -0.6027,  1.0672, -0.2522],\n",
      "        [ 0.5394,  0.2882, -0.0208,  0.7330,  1.1930]]) tensor([[1., 2., 3., 4., 5.]])\n",
      "tensor([[0.9590, 4.2190, 4.3664, 4.8746, 5.5793],\n",
      "        [0.1160, 1.5692, 3.6027, 2.9328, 5.2522],\n",
      "        [0.4606, 1.7118, 3.0208, 3.2670, 3.8070]])\n",
      "tensor([[0.9590, 4.2190, 4.3664, 4.8746, 5.5793],\n",
      "        [0.1160, 1.5692, 3.6027, 2.9328, 5.2522],\n",
      "        [0.4606, 1.7118, 3.0208, 3.2670, 3.8070]])\n",
      "tensor(3.0492)\n",
      "tensor(3.0492) torch.Size([])\n",
      "tensor(3.0492) torch.Size([])\n"
     ]
    }
   ],
   "metadata": {}
  },
  {
   "cell_type": "markdown",
   "source": [
    "## Mean Squared Error (nn.L2Loss)"
   ],
   "metadata": {}
  },
  {
   "cell_type": "code",
   "execution_count": 61,
   "source": [
    "### Pytorch实现\n",
    "input = torch.randn(3, 4, requires_grad=True)\n",
    "target = torch.randn(3, 4)\n",
    "mse_loss = nn.MSELoss()\n",
    "output = mse_loss(input, target)\n",
    "print(output)\n",
    "output.backward()\n",
    "print('input -: ', input)\n",
    "print('target -: ', target)\n",
    "print('output -: ', output)"
   ],
   "outputs": [
    {
     "output_type": "stream",
     "name": "stdout",
     "text": [
      "tensor(3.4604, grad_fn=<MseLossBackward>)\n",
      "input -:  tensor([[ 0.4401, -0.1579, -1.3036,  0.9847],\n",
      "        [ 1.4939,  1.3887, -0.2879, -0.6568],\n",
      "        [ 0.7111, -0.2692,  0.0091, -0.8270]], requires_grad=True)\n",
      "target -:  tensor([[-0.1593,  0.2934,  2.1880, -1.8528],\n",
      "        [ 0.3778, -1.4392,  1.9269,  0.5127],\n",
      "        [-0.1783,  1.4818,  1.1663, -0.9139]])\n",
      "output -:  tensor(3.4604, grad_fn=<MseLossBackward>)\n"
     ]
    }
   ],
   "metadata": {}
  },
  {
   "cell_type": "markdown",
   "source": [
    "## Binary Cross Entropy(nn.BCELoss)\n",
    "[https://pytorch.org/docs/stable/generated/torch.nn.BCELoss.html](https://pytorch.org/docs/stable/generated/torch.nn.BCELoss.html)\n",
    "\n",
    "[https://gombru.github.io/2018/05/23/cross_entropy_loss/](https://gombru.github.io/2018/05/23/cross_entropy_loss/)"
   ],
   "metadata": {}
  },
  {
   "cell_type": "code",
   "execution_count": 56,
   "source": [
    "### Python实现\n",
    "y_pred = np.array([0.1580, 0.4137, 0.2285])\n",
    "y_true = np.array([0.0, 1.0, 0.0]) #2 labels: (0,1)\n",
    "def BCE(y_pred, y_true):\n",
    "    total_bce_loss = np.sum(-y_true * np.log(y_pred) - (1 - y_true) * np.log(1 - y_pred))\n",
    "    # Getting the mean BCE loss\n",
    "    num_of_samples = y_pred.shape[0]\n",
    "    mean_bce_loss = total_bce_loss / num_of_samples\n",
    "    return mean_bce_loss\n",
    "bce_value = BCE(y_pred, y_true)\n",
    "print (\"BCE error is: \" + str(bce_value))"
   ],
   "outputs": [
    {
     "output_type": "stream",
     "name": "stdout",
     "text": [
      "BCE error is: 0.43800269247783435\n"
     ]
    }
   ],
   "metadata": {}
  },
  {
   "cell_type": "code",
   "execution_count": 58,
   "source": [
    "## Using Pytorch implementation\n",
    "bce_loss = torch.nn.BCELoss()\n",
    "sigmoid = torch.nn.Sigmoid() # Ensuring inputs are between 0 and 1\n",
    "input = torch.tensor(y_pred)\n",
    "target = torch.tensor(y_true)\n",
    "print(input.shape, target.shape)\n",
    "output = bce_loss(input, target)\n",
    "print(output)"
   ],
   "outputs": [
    {
     "output_type": "stream",
     "name": "stdout",
     "text": [
      "torch.Size([3]) torch.Size([3])\n",
      "tensor(0.4380, dtype=torch.float64)\n"
     ]
    }
   ],
   "metadata": {}
  },
  {
   "cell_type": "markdown",
   "source": [
    "## BCEWithLogitsLoss(nn.BCEWithLogitsLoss)"
   ],
   "metadata": {}
  },
  {
   "cell_type": "code",
   "execution_count": null,
   "source": [],
   "outputs": [],
   "metadata": {}
  },
  {
   "cell_type": "markdown",
   "source": [
    "## Smooth L1Loss"
   ],
   "metadata": {}
  },
  {
   "cell_type": "code",
   "execution_count": null,
   "source": [],
   "outputs": [],
   "metadata": {}
  }
 ],
 "metadata": {
  "orig_nbformat": 4,
  "language_info": {
   "name": "python",
   "version": "3.6.13",
   "mimetype": "text/x-python",
   "codemirror_mode": {
    "name": "ipython",
    "version": 3
   },
   "pygments_lexer": "ipython3",
   "nbconvert_exporter": "python",
   "file_extension": ".py"
  },
  "kernelspec": {
   "name": "python3",
   "display_name": "Python 3.6.13 64-bit ('face_python36': conda)"
  },
  "interpreter": {
   "hash": "a8c17cacde4bf83c7e39b5631839a653d23294c3e57f7dc62f99a2c1a562a38c"
  }
 },
 "nbformat": 4,
 "nbformat_minor": 2
}