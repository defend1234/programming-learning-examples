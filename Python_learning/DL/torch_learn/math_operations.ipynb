{
 "cells": [
  {
   "cell_type": "code",
   "execution_count": 2,
   "metadata": {},
   "outputs": [],
   "source": [
    "import torch"
   ]
  },
  {
   "cell_type": "code",
   "execution_count": 2,
   "metadata": {},
   "outputs": [
    {
     "name": "stdout",
     "output_type": "stream",
     "text": [
      "torch.int64 torch.Size([3])\n",
      "tensor([10,  9, 33])\n",
      "torch.int64 torch.Size([3])\n",
      "tensor([-0.0458,  0.6097, -0.3880, -0.0786,  0.9249]) tensor([    nan, -0.4948,     nan,     nan, -0.0781])\n",
      "tensor([[1.0000, 0.8889, 0.7778],\n",
      "        [0.6667, 0.5556, 0.4444],\n",
      "        [0.3333, 0.2222, 0.1111]])\n",
      "tensor([[-9.2103, -2.1963, -1.5036],\n",
      "        [-1.0983, -0.8107, -0.5876],\n",
      "        [-0.4053, -0.2512, -0.1177]])\n",
      "tensor([[0.5979, 0.7400, 0.2809],\n",
      "        [0.5995, 0.2080, 0.2111]])\n",
      "tensor([[1.5979, 1.7400, 1.2809],\n",
      "        [1.5995, 1.2080, 1.2111]])\n"
     ]
    }
   ],
   "source": [
    "import torch\n",
    "lengths = torch.tensor([14, 13, 45])\n",
    "print(lengths.dtype, lengths.shape)\n",
    "\n",
    "lengths = (lengths * 3 / 4).to(lengths.dtype)\n",
    "print(lengths)\n",
    "print(lengths.dtype, lengths.shape)\n",
    "\n",
    "## log the tensor\n",
    "target = torch.randn(5)\n",
    "target_log = torch.log(target)\n",
    "print(target, target_log)\n",
    "\n",
    "\n",
    "target = torch.arange(9, 0, -1).reshape(3, 3).to(torch.float32) / 9.0\n",
    "target_log = torch.log(1 - target + 1e-4)\n",
    "print(target)\n",
    "print(target_log)\n",
    "\n",
    "## Member math functions\n",
    "tensor_data = torch.rand((2, 3))\n",
    "print(tensor_data)\n",
    "\n",
    "tensor_data = tensor_data.add(1)\n",
    "print(tensor_data)"
   ]
  },
  {
   "cell_type": "markdown",
   "metadata": {},
   "source": [
    "## * and torch.mul operation\n",
    "`*` and torch.mul both are element-wise multiplication"
   ]
  },
  {
   "cell_type": "code",
   "execution_count": 20,
   "metadata": {},
   "outputs": [
    {
     "name": "stdout",
     "output_type": "stream",
     "text": [
      "tensor([[0., 1., 2.],\n",
      "        [3., 4., 5.],\n",
      "        [6., 7., 8.]]) torch.float32 torch.Size([3, 3])\n",
      "tensor([[[1.],\n",
      "         [2.],\n",
      "         [3.]],\n",
      "\n",
      "        [[4.],\n",
      "         [5.],\n",
      "         [6.]],\n",
      "\n",
      "        [[7.],\n",
      "         [8.],\n",
      "         [9.]]]) torch.float32 torch.Size([3, 3, 1])\n",
      "tensor([[[ 0.,  1.,  2.],\n",
      "         [ 6.,  8., 10.],\n",
      "         [18., 21., 24.]],\n",
      "\n",
      "        [[ 0.,  4.,  8.],\n",
      "         [15., 20., 25.],\n",
      "         [36., 42., 48.]],\n",
      "\n",
      "        [[ 0.,  7., 14.],\n",
      "         [24., 32., 40.],\n",
      "         [54., 63., 72.]]]) torch.Size([3, 3, 3])\n"
     ]
    }
   ],
   "source": [
    "pred = torch.arange(0, 9).reshape(3, 3).type(torch.float)\n",
    "print(pred, pred.dtype, pred.shape)\n",
    "\n",
    "target = torch.arange(1, 10).reshape(3, 3).type(torch.float)[..., None]\n",
    "print(target, target.dtype, target.shape)\n",
    "\n",
    "output = pred * target\n",
    "print(output, output.shape)"
   ]
  },
  {
   "cell_type": "markdown",
   "metadata": {},
   "source": [
    "## mm() function\n",
    "torch.mm is the dot product or matrix multiplication operations"
   ]
  },
  {
   "cell_type": "code",
   "execution_count": 10,
   "metadata": {},
   "outputs": [
    {
     "name": "stdout",
     "output_type": "stream",
     "text": [
      "torch.Size([2, 3])\n",
      "tensor([[-0.8462, -1.7038],\n",
      "        [ 0.8599,  2.6345]])\n",
      "tensor([-0.8462,  2.6345])\n",
      "tensor([[-0.8462],\n",
      "        [ 2.6345]])\n",
      "tensor([[-0.8462, -0.8462],\n",
      "        [ 2.6345,  2.6345]])\n",
      "tensor([[1., 0.],\n",
      "        [0., 1.]])\n"
     ]
    }
   ],
   "source": [
    "feat_2d = torch.randn((2, 3))\n",
    "feat_3d = torch.randn((2, 3))\n",
    "\n",
    "print(feat_2d.shape)\n",
    "\n",
    "cos_scores = feat_2d.mm(feat_3d.t())\n",
    "print(cos_scores)\n",
    "\n",
    "print(cos_scores.diag())\n",
    "\n",
    "diagonal = cos_scores.diag().view(feat_2d.size(0), 1)\n",
    "print(diagonal)\n",
    "\n",
    "d1 = diagonal.expand_as(cos_scores)\n",
    "print(d1)\n",
    "\n",
    "I = torch.eye(cos_scores.size(0))\n",
    "print(I)\n"
   ]
  },
  {
   "cell_type": "markdown",
   "metadata": {},
   "source": [
    "## Broadcasting +-"
   ]
  },
  {
   "cell_type": "code",
   "execution_count": 8,
   "metadata": {},
   "outputs": [
    {
     "name": "stdout",
     "output_type": "stream",
     "text": [
      "(4, 1)\n",
      "[[0 0 0]\n",
      " [1 1 1]\n",
      " [3 3 3]\n",
      " [2 2 2]] (4, 3)\n",
      "torch.Size([4, 1])\n"
     ]
    }
   ],
   "source": [
    "import numpy as np\n",
    "\n",
    "subject_idx = np.array([0, 1, 3, 2])[:, None]\n",
    "print(subject_idx.shape)\n",
    "\n",
    "seq_len = 3\n",
    "subject_idx = subject_idx.repeat(seq_len, axis=-1)\n",
    "print(subject_idx, subject_idx.shape)\n",
    "\n",
    "\n",
    "subject_idx = torch.tensor([0, 1, 3, 2])[:, None]\n",
    "print(subject_idx.shape)\n",
    "\n",
    "# subject_idx.repeat(seq_len, axis=-1)\n",
    "# one_hot_speaker_vector = "
   ]
  },
  {
   "cell_type": "code",
   "execution_count": 17,
   "metadata": {},
   "outputs": [
    {
     "name": "stdout",
     "output_type": "stream",
     "text": [
      "tensor([[1., 0., 0., 0., 0., 0., 0., 0.]]) torch.Size([1, 8])\n",
      "tensor([[[1., 0., 0., 0., 0., 0., 0., 0.],\n",
      "         [1., 0., 0., 0., 0., 0., 0., 0.],\n",
      "         [1., 0., 0., 0., 0., 0., 0., 0.]],\n",
      "\n",
      "        [[1., 0., 0., 0., 0., 0., 0., 0.],\n",
      "         [1., 0., 0., 0., 0., 0., 0., 0.],\n",
      "         [1., 0., 0., 0., 0., 0., 0., 0.]]]) torch.Size([2, 3, 8])\n"
     ]
    }
   ],
   "source": [
    "index = 0\n",
    "\n",
    "subject_idx_one_hot = torch.zeros((1, 8), dtype=torch.float32)\n",
    "subject_idx_one_hot[:, index] = 1\n",
    "\n",
    "print(subject_idx_one_hot, subject_idx_one_hot.shape)\n",
    "\n",
    "subject_idx_one_hot = subject_idx_one_hot.repeat((2, 3, 1))\n",
    "print(subject_idx_one_hot, subject_idx_one_hot.shape)"
   ]
  },
  {
   "cell_type": "markdown",
   "metadata": {},
   "source": [
    "## Masked filled"
   ]
  },
  {
   "cell_type": "code",
   "execution_count": null,
   "metadata": {},
   "outputs": [],
   "source": [
    "import cv2\n",
    "\n",
    "src_img = \"/home/haimingzhang/Research/Face/FaceFormer/FaceFormer/data/id00002/obama_weekly_023/face_image/000000.jpg\"\n",
    "mask_img = \"/home/haimingzhang/Research/Face/FaceFormer/FaceFormer/data/id00002/obama_weekly_023/mouth_mask/000000.png\"\n",
    "\n",
    "src_img = cv2.resize(cv2.imread(src_img, cv2.IMREAD_UNCHANGED), (192, 192))\n"
   ]
  }
 ],
 "metadata": {
  "interpreter": {
   "hash": "dabcd94ff1f005d51473168cf6e60c597eb83fb59bba8cc22d899545378abe2b"
  },
  "kernelspec": {
   "display_name": "Python 3.6.13 ('GAN')",
   "language": "python",
   "name": "python3"
  },
  "language_info": {
   "codemirror_mode": {
    "name": "ipython",
    "version": 3
   },
   "file_extension": ".py",
   "mimetype": "text/x-python",
   "name": "python",
   "nbconvert_exporter": "python",
   "pygments_lexer": "ipython3",
   "version": "3.6.13"
  },
  "orig_nbformat": 4
 },
 "nbformat": 4,
 "nbformat_minor": 2
}
