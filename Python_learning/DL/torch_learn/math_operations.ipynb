{
 "cells": [
  {
   "cell_type": "code",
   "execution_count": 1,
   "metadata": {},
   "outputs": [],
   "source": [
    "import torch\n",
    "from einops import rearrange"
   ]
  },
  {
   "cell_type": "markdown",
   "metadata": {},
   "source": [
    "## Multiplication"
   ]
  },
  {
   "cell_type": "code",
   "execution_count": 6,
   "metadata": {},
   "outputs": [
    {
     "name": "stdout",
     "output_type": "stream",
     "text": [
      "torch.Size([2, 3])\n",
      "torch.Size([2, 1])\n",
      "tensor([[ 1,  2,  3],\n",
      "        [ 8, 10, 12]]) torch.Size([2, 3])\n"
     ]
    }
   ],
   "source": [
    "a = torch.tensor([[1, 2, 3],\n",
    "                  [4, 5, 6]])\n",
    "print(a.shape)\n",
    "b = torch.tensor([[1, 2, 3]])\n",
    "b = torch.tensor([[1], [2]])\n",
    "print(b.shape)\n",
    "\n",
    "c = a * b\n",
    "print(c, c.shape)"
   ]
  },
  {
   "cell_type": "code",
   "execution_count": 5,
   "metadata": {},
   "outputs": [
    {
     "name": "stdout",
     "output_type": "stream",
     "text": [
      "tensor([[0, 1, 2],\n",
      "        [3, 4, 5],\n",
      "        [6, 7, 8]])\n",
      "tensor([[0],\n",
      "        [1],\n",
      "        [2]])\n",
      "tensor([[ 0,  0,  0],\n",
      "        [ 3,  4,  5],\n",
      "        [12, 14, 16]]) torch.Size([3, 3])\n",
      "tensor([15, 18, 21])\n"
     ]
    }
   ],
   "source": [
    "import torch\n",
    "\n",
    "a = torch.arange(9).reshape(3, 3)\n",
    "b = torch.arange(3).reshape(3, 1)\n",
    "print(a)\n",
    "print(b)\n",
    "c = a * b\n",
    "print(c, c.shape)\n",
    "c = torch.sum(c, dim=-2)\n",
    "print(c)"
   ]
  },
  {
   "cell_type": "markdown",
   "metadata": {},
   "source": [
    "## Basic math operations"
   ]
  },
  {
   "cell_type": "code",
   "execution_count": 8,
   "metadata": {},
   "outputs": [
    {
     "name": "stdout",
     "output_type": "stream",
     "text": [
      "torch.Size([512, 1]) torch.Size([1, 1024])\n",
      "torch.Size([512, 1024])\n"
     ]
    }
   ],
   "source": [
    "z_flattened = torch.randn(512, 1)\n",
    "z = torch.randn(1024)\n",
    "print(z_flattened.shape, z.shape)\n",
    "\n",
    "z_sum = z_flattened + z\n",
    "print(z_sum.shape)"
   ]
  },
  {
   "cell_type": "code",
   "execution_count": 12,
   "metadata": {},
   "outputs": [
    {
     "name": "stdout",
     "output_type": "stream",
     "text": [
      "torch.Size([1024])\n",
      "torch.Size([512, 1024])\n",
      "torch.Size([512]) torch.int64\n"
     ]
    }
   ],
   "source": [
    "z_flattened = torch.randn(512, 256)\n",
    "embedding_weight = torch.randn(1024, 256)\n",
    "\n",
    "zd =  torch.sum(embedding_weight**2, dim=1)\n",
    "print(zd.shape)\n",
    "d = torch.sum(z_flattened ** 2, dim=1, keepdim=True) + \\\n",
    "              torch.sum(embedding_weight**2, dim=1) - 2 * \\\n",
    "              torch.einsum('bd,dn->bn', z_flattened, rearrange(embedding_weight, 'n d -> d n'))\n",
    "print(d.shape)\n",
    "\n",
    "min_encoding_indices = torch.argmin(d, dim=1)\n",
    "print(min_encoding_indices.shape, min_encoding_indices.dtype)"
   ]
  },
  {
   "cell_type": "code",
   "execution_count": 2,
   "metadata": {},
   "outputs": [
    {
     "name": "stdout",
     "output_type": "stream",
     "text": [
      "torch.int64 torch.Size([3])\n",
      "tensor([10,  9, 33])\n",
      "torch.int64 torch.Size([3])\n",
      "tensor([-0.0458,  0.6097, -0.3880, -0.0786,  0.9249]) tensor([    nan, -0.4948,     nan,     nan, -0.0781])\n",
      "tensor([[1.0000, 0.8889, 0.7778],\n",
      "        [0.6667, 0.5556, 0.4444],\n",
      "        [0.3333, 0.2222, 0.1111]])\n",
      "tensor([[-9.2103, -2.1963, -1.5036],\n",
      "        [-1.0983, -0.8107, -0.5876],\n",
      "        [-0.4053, -0.2512, -0.1177]])\n",
      "tensor([[0.5979, 0.7400, 0.2809],\n",
      "        [0.5995, 0.2080, 0.2111]])\n",
      "tensor([[1.5979, 1.7400, 1.2809],\n",
      "        [1.5995, 1.2080, 1.2111]])\n"
     ]
    }
   ],
   "source": [
    "import torch\n",
    "lengths = torch.tensor([14, 13, 45])\n",
    "print(lengths.dtype, lengths.shape)\n",
    "\n",
    "lengths = (lengths * 3 / 4).to(lengths.dtype)\n",
    "print(lengths)\n",
    "print(lengths.dtype, lengths.shape)\n",
    "\n",
    "## log the tensor\n",
    "target = torch.randn(5)\n",
    "target_log = torch.log(target)\n",
    "print(target, target_log)\n",
    "\n",
    "\n",
    "target = torch.arange(9, 0, -1).reshape(3, 3).to(torch.float32) / 9.0\n",
    "target_log = torch.log(1 - target + 1e-4)\n",
    "print(target)\n",
    "print(target_log)\n",
    "\n",
    "## Member math functions\n",
    "tensor_data = torch.rand((2, 3))\n",
    "print(tensor_data)\n",
    "\n",
    "tensor_data = tensor_data.add(1)\n",
    "print(tensor_data)"
   ]
  },
  {
   "cell_type": "markdown",
   "metadata": {},
   "source": [
    "## Mean function"
   ]
  },
  {
   "cell_type": "code",
   "execution_count": 2,
   "metadata": {},
   "outputs": [
    {
     "name": "stdout",
     "output_type": "stream",
     "text": [
      "torch.Size([10, 256, 16, 16])\n",
      "torch.Size([])\n"
     ]
    }
   ],
   "source": [
    "import torch\n",
    "\n",
    "input = torch.randn(10, 256, 16, 16)\n",
    "print(input.shape)\n",
    "\n",
    "mean = torch.mean(input)\n",
    "print(mean.shape)"
   ]
  },
  {
   "cell_type": "markdown",
   "metadata": {},
   "source": [
    "## Sum function"
   ]
  },
  {
   "cell_type": "code",
   "execution_count": 4,
   "metadata": {},
   "outputs": [
    {
     "name": "stdout",
     "output_type": "stream",
     "text": [
      "tensor([[0, 1],\n",
      "        [2, 0],\n",
      "        [1, 2]]) torch.Size([3, 2]) torch.int64\n",
      "tensor([3, 3]) torch.Size([2])\n"
     ]
    }
   ],
   "source": [
    "input = torch.arange(0, 6).view(3,2) % 3\n",
    "print(input, input.shape, input.dtype)\n",
    "\n",
    "output = input.sum(0)\n",
    "print(output, output.shape)"
   ]
  },
  {
   "cell_type": "markdown",
   "metadata": {},
   "source": [
    "## sigmoid function"
   ]
  },
  {
   "cell_type": "code",
   "execution_count": 6,
   "metadata": {},
   "outputs": [
    {
     "name": "stdout",
     "output_type": "stream",
     "text": [
      "tensor([0.5000, 0.7311, 0.8808, 0.9526, 0.9820])\n"
     ]
    }
   ],
   "source": [
    "import torch\n",
    "\n",
    "input = torch.Tensor([0.0, 1.0, 2.0, 3.0, 4.0])\n",
    "sigmoid_output = torch.sigmoid(input)\n",
    "print(sigmoid_output)"
   ]
  },
  {
   "cell_type": "markdown",
   "metadata": {},
   "source": [
    "## clip function"
   ]
  },
  {
   "cell_type": "code",
   "execution_count": 3,
   "metadata": {},
   "outputs": [
    {
     "name": "stdout",
     "output_type": "stream",
     "text": [
      "tensor([[ 1.1636,  0.0972, -2.4962],\n",
      "        [-1.0498,  1.1946, -1.3589]])\n",
      "tensor([[1.1636, 0.0972, 0.0000],\n",
      "        [0.0000, 1.1946, 0.0000]])\n"
     ]
    }
   ],
   "source": [
    "deltas = torch.randn((2, 3))\n",
    "print(deltas)\n",
    "\n",
    "delats = torch.clip(deltas, 0)\n",
    "print(delats)"
   ]
  },
  {
   "cell_type": "markdown",
   "metadata": {},
   "source": [
    "## Get indices with a condition\n"
   ]
  },
  {
   "cell_type": "code",
   "execution_count": 11,
   "metadata": {},
   "outputs": [
    {
     "name": "stdout",
     "output_type": "stream",
     "text": [
      "tensor([[-1, -1, -1],\n",
      "        [20, 20, 30],\n",
      "        [-1, -1, -1],\n",
      "        [-1, -1, -1]])\n",
      "tensor([ True, False,  True,  True])\n",
      "torch.Size([1, 3])\n",
      "tensor([[10, 10, 10],\n",
      "        [20, 20, 30],\n",
      "        [10, 10, 10],\n",
      "        [10, 10, 10]])\n"
     ]
    }
   ],
   "source": [
    "data = torch.tensor([[-1, -1, -1], [20, 20, 30], [-1, -1, -1], [-1, -1, -1]])\n",
    "print(data)\n",
    "\n",
    "indices = data[:, 0] == -1\n",
    "print(indices)\n",
    "\n",
    "value = torch.ones_like(data[0:1, :]) * 10\n",
    "print(value.shape)\n",
    "\n",
    "data[indices] = value\n",
    "print(data)"
   ]
  },
  {
   "cell_type": "markdown",
   "metadata": {},
   "source": [
    "## Min and Max"
   ]
  },
  {
   "cell_type": "code",
   "execution_count": 14,
   "metadata": {},
   "outputs": [
    {
     "name": "stdout",
     "output_type": "stream",
     "text": [
      "tensor([[ 1.9761, -0.1429],\n",
      "        [ 1.5052, -0.7960],\n",
      "        [-0.6867, -0.7477]])\n",
      "torch.Size([3]) tensor([-0.1429, -0.7960, -0.7477])\n"
     ]
    }
   ],
   "source": [
    "data = torch.randn(3, 2)\n",
    "print(data)\n",
    "min_data = data.min(-1)[0]\n",
    "print(min_data.shape, min_data)"
   ]
  },
  {
   "cell_type": "markdown",
   "metadata": {},
   "source": [
    "## torch.enisum"
   ]
  },
  {
   "cell_type": "code",
   "execution_count": 8,
   "metadata": {},
   "outputs": [
    {
     "name": "stdout",
     "output_type": "stream",
     "text": [
      "[[-1.7518793 -0.7754192  0.0082383]]\n",
      "torch.Size([1, 5])\n",
      "tensor([[-2.5191, -2.5191, -2.5191, -2.5191, -2.5191]])\n",
      "[[-2.5190601 -2.5190601 -2.5190601 -2.5190601 -2.5190601]]\n"
     ]
    }
   ],
   "source": [
    "import torch\n",
    "import numpy as np\n",
    "\n",
    "id_base = np.ones((5, 3)).astype(np.float32)\n",
    "id_coeff = np.random.randn(1, 3).astype(np.float32)\n",
    "\n",
    "print(id_coeff)\n",
    "\n",
    "id_part = torch.einsum('ij,aj->ai', torch.from_numpy(id_base), torch.from_numpy(id_coeff))\n",
    "print(id_part.shape)\n",
    "print(id_part)\n",
    "\n",
    "dd = id_coeff @ id_base.T\n",
    "print(dd)"
   ]
  },
  {
   "cell_type": "code",
   "execution_count": 5,
   "metadata": {},
   "outputs": [
    {
     "name": "stdout",
     "output_type": "stream",
     "text": [
      "tensor([[[-1.9341, -0.7535, -0.6572],\n",
      "         [ 1.2373,  0.0140, -0.1188],\n",
      "         [ 1.9827,  0.5932, -0.0518],\n",
      "         [ 0.3313, -0.6091,  0.3620],\n",
      "         [-0.5179,  0.3783,  0.6571],\n",
      "         [-0.8270,  1.2038,  0.2044]]])\n",
      "tensor([[[-0.2444,  0.0737, -0.4545],\n",
      "         [-0.2458, -0.9911, -0.1228]],\n",
      "\n",
      "        [[ 0.4285, -0.1567, -1.0661],\n",
      "         [-0.5874,  0.6451, -2.4545]]])\n",
      "torch.Size([2, 2, 6])\n",
      "tensor([[[ 0.7158, -0.2473, -0.4173, -0.2904, -0.1442,  0.1979],\n",
      "         [ 1.3028, -0.3034, -1.0689,  0.4778, -0.3283, -1.0149]],\n",
      "\n",
      "        [[-0.0100,  0.6546,  0.8118, -0.1485, -0.9817, -0.7610],\n",
      "         [ 2.2629, -0.4260, -0.6548, -1.4759, -1.0646,  0.7605]]])\n"
     ]
    }
   ],
   "source": [
    "import torch\n",
    "exp_base = torch.randn((1, 6, 3))\n",
    "pred_exp = torch.randn((2, 2, 3))\n",
    "print(exp_base)\n",
    "print(pred_exp)\n",
    "\n",
    "vertex_out = torch.einsum('ijk,iak->iaj', exp_base, pred_exp)\n",
    "print(vertex_out.shape)\n",
    "print(vertex_out)"
   ]
  },
  {
   "cell_type": "markdown",
   "metadata": {},
   "source": [
    "## * and torch.mul operation\n",
    "`*` and torch.mul both are element-wise multiplication"
   ]
  },
  {
   "cell_type": "code",
   "execution_count": 20,
   "metadata": {},
   "outputs": [
    {
     "name": "stdout",
     "output_type": "stream",
     "text": [
      "tensor([[0., 1., 2.],\n",
      "        [3., 4., 5.],\n",
      "        [6., 7., 8.]]) torch.float32 torch.Size([3, 3])\n",
      "tensor([[[1.],\n",
      "         [2.],\n",
      "         [3.]],\n",
      "\n",
      "        [[4.],\n",
      "         [5.],\n",
      "         [6.]],\n",
      "\n",
      "        [[7.],\n",
      "         [8.],\n",
      "         [9.]]]) torch.float32 torch.Size([3, 3, 1])\n",
      "tensor([[[ 0.,  1.,  2.],\n",
      "         [ 6.,  8., 10.],\n",
      "         [18., 21., 24.]],\n",
      "\n",
      "        [[ 0.,  4.,  8.],\n",
      "         [15., 20., 25.],\n",
      "         [36., 42., 48.]],\n",
      "\n",
      "        [[ 0.,  7., 14.],\n",
      "         [24., 32., 40.],\n",
      "         [54., 63., 72.]]]) torch.Size([3, 3, 3])\n"
     ]
    }
   ],
   "source": [
    "pred = torch.arange(0, 9).reshape(3, 3).type(torch.float)\n",
    "print(pred, pred.dtype, pred.shape)\n",
    "\n",
    "target = torch.arange(1, 10).reshape(3, 3).type(torch.float)[..., None]\n",
    "print(target, target.dtype, target.shape)\n",
    "\n",
    "output = pred * target\n",
    "print(output, output.shape)"
   ]
  },
  {
   "cell_type": "markdown",
   "metadata": {},
   "source": [
    "## mm() function\n",
    "torch.mm is the dot product or matrix multiplication operations"
   ]
  },
  {
   "cell_type": "code",
   "execution_count": 10,
   "metadata": {},
   "outputs": [
    {
     "name": "stdout",
     "output_type": "stream",
     "text": [
      "torch.Size([2, 3])\n",
      "tensor([[-0.8462, -1.7038],\n",
      "        [ 0.8599,  2.6345]])\n",
      "tensor([-0.8462,  2.6345])\n",
      "tensor([[-0.8462],\n",
      "        [ 2.6345]])\n",
      "tensor([[-0.8462, -0.8462],\n",
      "        [ 2.6345,  2.6345]])\n",
      "tensor([[1., 0.],\n",
      "        [0., 1.]])\n"
     ]
    }
   ],
   "source": [
    "feat_2d = torch.randn((2, 3))\n",
    "feat_3d = torch.randn((2, 3))\n",
    "\n",
    "print(feat_2d.shape)\n",
    "\n",
    "cos_scores = feat_2d.mm(feat_3d.t())\n",
    "print(cos_scores)\n",
    "\n",
    "print(cos_scores.diag())\n",
    "\n",
    "diagonal = cos_scores.diag().view(feat_2d.size(0), 1)\n",
    "print(diagonal)\n",
    "\n",
    "d1 = diagonal.expand_as(cos_scores)\n",
    "print(d1)\n",
    "\n",
    "I = torch.eye(cos_scores.size(0))\n",
    "print(I)\n"
   ]
  },
  {
   "cell_type": "markdown",
   "metadata": {},
   "source": [
    "## Broadcasting +-"
   ]
  },
  {
   "cell_type": "code",
   "execution_count": 8,
   "metadata": {},
   "outputs": [
    {
     "name": "stdout",
     "output_type": "stream",
     "text": [
      "(4, 1)\n",
      "[[0 0 0]\n",
      " [1 1 1]\n",
      " [3 3 3]\n",
      " [2 2 2]] (4, 3)\n",
      "torch.Size([4, 1])\n"
     ]
    }
   ],
   "source": [
    "import numpy as np\n",
    "\n",
    "subject_idx = np.array([0, 1, 3, 2])[:, None]\n",
    "print(subject_idx.shape)\n",
    "\n",
    "seq_len = 3\n",
    "subject_idx = subject_idx.repeat(seq_len, axis=-1)\n",
    "print(subject_idx, subject_idx.shape)\n",
    "\n",
    "\n",
    "subject_idx = torch.tensor([0, 1, 3, 2])[:, None]\n",
    "print(subject_idx.shape)\n",
    "\n",
    "# subject_idx.repeat(seq_len, axis=-1)\n",
    "# one_hot_speaker_vector = "
   ]
  },
  {
   "cell_type": "code",
   "execution_count": 17,
   "metadata": {},
   "outputs": [
    {
     "name": "stdout",
     "output_type": "stream",
     "text": [
      "tensor([[1., 0., 0., 0., 0., 0., 0., 0.]]) torch.Size([1, 8])\n",
      "tensor([[[1., 0., 0., 0., 0., 0., 0., 0.],\n",
      "         [1., 0., 0., 0., 0., 0., 0., 0.],\n",
      "         [1., 0., 0., 0., 0., 0., 0., 0.]],\n",
      "\n",
      "        [[1., 0., 0., 0., 0., 0., 0., 0.],\n",
      "         [1., 0., 0., 0., 0., 0., 0., 0.],\n",
      "         [1., 0., 0., 0., 0., 0., 0., 0.]]]) torch.Size([2, 3, 8])\n"
     ]
    }
   ],
   "source": [
    "index = 0\n",
    "\n",
    "subject_idx_one_hot = torch.zeros((1, 8), dtype=torch.float32)\n",
    "subject_idx_one_hot[:, index] = 1\n",
    "\n",
    "print(subject_idx_one_hot, subject_idx_one_hot.shape)\n",
    "\n",
    "subject_idx_one_hot = subject_idx_one_hot.repeat((2, 3, 1))\n",
    "print(subject_idx_one_hot, subject_idx_one_hot.shape)"
   ]
  },
  {
   "cell_type": "markdown",
   "metadata": {},
   "source": [
    "## Masked filled"
   ]
  },
  {
   "cell_type": "code",
   "execution_count": null,
   "metadata": {},
   "outputs": [],
   "source": [
    "import cv2\n",
    "\n",
    "src_img = \"/home/haimingzhang/Research/Face/FaceFormer/FaceFormer/data/id00002/obama_weekly_023/face_image/000000.jpg\"\n",
    "mask_img = \"/home/haimingzhang/Research/Face/FaceFormer/FaceFormer/data/id00002/obama_weekly_023/mouth_mask/000000.png\"\n",
    "\n",
    "src_img = cv2.resize(cv2.imread(src_img, cv2.IMREAD_UNCHANGED), (192, 192))\n"
   ]
  }
 ],
 "metadata": {
  "kernelspec": {
   "display_name": "Python 3.8.13 ('py38-torch100-cu11': conda)",
   "language": "python",
   "name": "python3"
  },
  "language_info": {
   "codemirror_mode": {
    "name": "ipython",
    "version": 3
   },
   "file_extension": ".py",
   "mimetype": "text/x-python",
   "name": "python",
   "nbconvert_exporter": "python",
   "pygments_lexer": "ipython3",
   "version": "3.8.13"
  },
  "orig_nbformat": 4,
  "vscode": {
   "interpreter": {
    "hash": "56d0891f27fe2db3830dc2a05bc70f05135b0c30ed7c190a150d1aca2da3af60"
   }
  }
 },
 "nbformat": 4,
 "nbformat_minor": 2
}
