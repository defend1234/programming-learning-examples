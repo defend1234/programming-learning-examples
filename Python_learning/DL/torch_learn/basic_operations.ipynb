{
 "cells": [
  {
   "cell_type": "markdown",
   "source": [
    "# Some basic operatioins by using Pytorch"
   ],
   "metadata": {}
  },
  {
   "cell_type": "code",
   "execution_count": 2,
   "source": [
    "import torch\n",
    "import torch as nn\n",
    "import numpy as np"
   ],
   "outputs": [],
   "metadata": {}
  },
  {
   "cell_type": "markdown",
   "source": [
    "## Create torch tensors"
   ],
   "metadata": {}
  },
  {
   "cell_type": "code",
   "execution_count": 12,
   "source": [
    "### Basic creator\n",
    "x = torch.tensor([1, 2, 3])\n",
    "print(x.shape)\n",
    "\n",
    "### Random creator\n",
    "print(torch.rand(3, 5)) # 生成0-1的随机数\n",
    "print(torch.randn(3, 5)) # 生成标准正态分布的随机数\n",
    "\n",
    "### From numpy"
   ],
   "outputs": [
    {
     "output_type": "stream",
     "name": "stdout",
     "text": [
      "torch.Size([3])\n",
      "tensor([[0.7925, 0.2678, 0.8116, 0.3457, 0.3045],\n",
      "        [0.7637, 0.0065, 0.0652, 0.5085, 0.8011],\n",
      "        [0.7650, 0.4977, 0.5035, 0.5900, 0.6967]])\n",
      "tensor([[ 2.5541, -0.1705, -0.7015,  0.5510, -0.0155],\n",
      "        [ 0.4679, -0.2098,  0.6918,  2.0037, -0.1771],\n",
      "        [-1.1810,  1.9495, -0.7814, -0.5482, -0.7604]])\n"
     ]
    }
   ],
   "metadata": {}
  },
  {
   "cell_type": "code",
   "execution_count": 19,
   "source": [
    "### Create meshgrid\n",
    "# Ray helpers\n",
    "def get_rays(H, W, K, c2w):\n",
    "    i, j = torch.meshgrid(torch.linspace(0, W-1, W), torch.linspace(0, H-1, H))  # pytorch's meshgrid has indexing='ij'\n",
    "    i = i.t()\n",
    "    j = j.t()\n",
    "    dirs = torch.stack([(i-K[0][2])/K[0][0], -(j-K[1][2])/K[1][1], -torch.ones_like(i)], -1)\n",
    "\n",
    "    # Rotate ray directions from camera frame to the world frame\n",
    "    rays_d = torch.sum(dirs[..., np.newaxis, :] * c2w[:3,:3], -1)  # dot product, equals to: [c2w.dot(dir) for dir in dirs]\n",
    "    # Translate camera frame's origin to the world frame. It is the origin of all rays.\n",
    "    rays_o = c2w[:3,-1].expand(rays_d.shape)\n",
    "    return rays_o, rays_d\n",
    "\n",
    "H, W, focal = 400, 400, 555.55\n",
    "K = np.array([\n",
    "            [focal, 0, 0.5*W],\n",
    "            [0, focal, 0.5*H],\n",
    "            [0, 0, 1]\n",
    "        ])\n",
    "c2w = np.random.rand(3, 4)\n",
    "get_rays(H, W, K, c2w)"
   ],
   "outputs": [
    {
     "output_type": "stream",
     "name": "stdout",
     "text": [
      "torch.Size([400, 400, 3])\n",
      "torch.Size([400, 3])\n"
     ]
    }
   ],
   "metadata": {}
  },
  {
   "cell_type": "markdown",
   "source": [],
   "metadata": {}
  },
  {
   "cell_type": "markdown",
   "source": [
    "## Dimensions operation"
   ],
   "metadata": {}
  },
  {
   "cell_type": "code",
   "execution_count": 27,
   "source": [
    "### squeeze和unsqueeze的用法 https://pytorch.org/docs/stable/generated/torch.unsqueeze.html\n",
    "x = torch.tensor([1, 2, 3, 4])\n",
    "print(torch.unsqueeze(x, 0))\n",
    "print(torch.unsqueeze(x, 1))\n",
    "\n",
    "### Expand函数不复制张量元素\n",
    "x = torch.tensor([1, 2, 3])\n",
    "x = x.expand(2, 3)\n",
    "print(x, x.shape)\n",
    "\n",
    "### Repeat函数复制张量元素\n",
    "y = torch.tensor([1, 2, 3])\n",
    "y = y.repeat(2, 3)\n",
    "print(y, y.shape)\n",
    "\n",
    "### 使用Repeat可以为张量增加维度\n",
    "y = torch.tensor([1, 2, 3])\n",
    "print(y.shape)\n",
    "y = y.unsqueeze(0).repeat(5, 1, 1)\n",
    "print(y.shape)\n",
    "print(y)"
   ],
   "outputs": [
    {
     "output_type": "stream",
     "name": "stdout",
     "text": [
      "tensor([[1, 2, 3, 4]])\n",
      "tensor([[1],\n",
      "        [2],\n",
      "        [3],\n",
      "        [4]])\n",
      "tensor([[1, 2, 3],\n",
      "        [1, 2, 3]]) torch.Size([2, 3])\n",
      "tensor([[1, 2, 3, 1, 2, 3, 1, 2, 3],\n",
      "        [1, 2, 3, 1, 2, 3, 1, 2, 3]]) torch.Size([2, 9])\n",
      "torch.Size([3])\n",
      "torch.Size([5, 1, 3])\n",
      "tensor([[[1, 2, 3]],\n",
      "\n",
      "        [[1, 2, 3]],\n",
      "\n",
      "        [[1, 2, 3]],\n",
      "\n",
      "        [[1, 2, 3]],\n",
      "\n",
      "        [[1, 2, 3]]])\n"
     ]
    }
   ],
   "metadata": {}
  },
  {
   "cell_type": "markdown",
   "source": [
    "## Misc math operations"
   ],
   "metadata": {}
  },
  {
   "cell_type": "markdown",
   "source": [
    "## Conca, Stack operations"
   ],
   "metadata": {}
  },
  {
   "cell_type": "markdown",
   "source": [
    "### 连接堆叠操作\n",
    "torch\n",
    "torch.cat()"
   ],
   "metadata": {}
  },
  {
   "cell_type": "code",
   "execution_count": 33,
   "source": [
    "a=torch.tensor([[[1,2,3],[4,5,6]],\n",
    "                [[7,8,9],[10,11,12]]])\n",
    "print(\"a的shape：\",a.shape)\n",
    "#在第0维上进行split\n",
    "b=torch.split(a, 1)\n",
    "print(\"b:\", b, len(b))\n",
    "#在第1维上进行split\n",
    "c=torch.split(a,[1,1],1)\n",
    "print(\"c:\",c)"
   ],
   "outputs": [
    {
     "output_type": "stream",
     "name": "stdout",
     "text": [
      "a的shape： torch.Size([2, 2, 3])\n",
      "b: (tensor([[[1, 2, 3],\n",
      "         [4, 5, 6]]]), tensor([[[ 7,  8,  9],\n",
      "         [10, 11, 12]]])) 2\n",
      "c: (tensor([[[1, 2, 3]],\n",
      "\n",
      "        [[7, 8, 9]]]), tensor([[[ 4,  5,  6]],\n",
      "\n",
      "        [[10, 11, 12]]]))\n"
     ]
    }
   ],
   "metadata": {}
  },
  {
   "cell_type": "code",
   "execution_count": null,
   "source": [],
   "outputs": [],
   "metadata": {}
  }
 ],
 "metadata": {
  "orig_nbformat": 4,
  "language_info": {
   "name": "python",
   "version": "3.6.13",
   "mimetype": "text/x-python",
   "codemirror_mode": {
    "name": "ipython",
    "version": 3
   },
   "pygments_lexer": "ipython3",
   "nbconvert_exporter": "python",
   "file_extension": ".py"
  },
  "kernelspec": {
   "name": "python3",
   "display_name": "Python 3.6.13 64-bit ('face_python36': conda)"
  },
  "interpreter": {
   "hash": "a8c17cacde4bf83c7e39b5631839a653d23294c3e57f7dc62f99a2c1a562a38c"
  }
 },
 "nbformat": 4,
 "nbformat_minor": 2
}