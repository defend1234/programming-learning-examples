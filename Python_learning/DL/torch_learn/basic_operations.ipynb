{
 "cells": [
  {
   "cell_type": "markdown",
   "metadata": {},
   "source": [
    "# Some basic operatioins by using Pytorch"
   ]
  },
  {
   "cell_type": "code",
   "execution_count": 2,
   "metadata": {},
   "outputs": [],
   "source": [
    "import torch\n",
    "import torch as nn\n",
    "import numpy as np"
   ]
  },
  {
   "cell_type": "markdown",
   "metadata": {},
   "source": [
    "## Create torch tensors"
   ]
  },
  {
   "cell_type": "code",
   "execution_count": 12,
   "metadata": {},
   "outputs": [
    {
     "name": "stdout",
     "output_type": "stream",
     "text": [
      "torch.Size([3])\n",
      "tensor([[0.7925, 0.2678, 0.8116, 0.3457, 0.3045],\n",
      "        [0.7637, 0.0065, 0.0652, 0.5085, 0.8011],\n",
      "        [0.7650, 0.4977, 0.5035, 0.5900, 0.6967]])\n",
      "tensor([[ 2.5541, -0.1705, -0.7015,  0.5510, -0.0155],\n",
      "        [ 0.4679, -0.2098,  0.6918,  2.0037, -0.1771],\n",
      "        [-1.1810,  1.9495, -0.7814, -0.5482, -0.7604]])\n"
     ]
    }
   ],
   "source": [
    "### Basic creator\n",
    "x = torch.tensor([1, 2, 3])\n",
    "print(x.shape)\n",
    "\n",
    "### Random creator\n",
    "print(torch.rand(3, 5)) # 生成0-1的随机数\n",
    "print(torch.randn(3, 5)) # 生成标准正态分布的随机数\n",
    "\n",
    "### From numpy"
   ]
  },
  {
   "cell_type": "markdown",
   "metadata": {},
   "source": [
    "## Different data type conversion"
   ]
  },
  {
   "cell_type": "code",
   "execution_count": 10,
   "metadata": {},
   "outputs": [
    {
     "name": "stdout",
     "output_type": "stream",
     "text": [
      "torch.float32\n",
      "tensor([1., 2., 3.])\n",
      "torch.int64\n",
      "tensor([1, 2, 3])\n"
     ]
    }
   ],
   "source": [
    "pred = torch.FloatTensor(np.array([1,2,3]))\n",
    "print(pred.dtype)\n",
    "print(pred)\n",
    "pred = pred.to(torch.int64)\n",
    "print(pred.dtype)\n",
    "print(pred)\n"
   ]
  },
  {
   "cell_type": "code",
   "execution_count": 5,
   "metadata": {},
   "outputs": [
    {
     "name": "stdout",
     "output_type": "stream",
     "text": [
      "torch.int64\n",
      "Labels is not None\n"
     ]
    }
   ],
   "source": [
    "labels = None\n",
    "labels = torch.tensor([1, 2, 3])\n",
    "print(labels.dtype)\n",
    "if labels is None: # use 'is' instead of ==\n",
    "    print(\"Labels is None\")\n",
    "else:\n",
    "    print(\"Labels is not None\")"
   ]
  },
  {
   "cell_type": "code",
   "execution_count": 13,
   "metadata": {},
   "outputs": [
    {
     "name": "stdout",
     "output_type": "stream",
     "text": [
      "tensor([[[[ 1.2346e+00,  3.7939e-01, -1.9367e+00,  1.3094e+00,  4.6663e-01],\n",
      "          [ 3.4819e-01, -5.6895e-01, -1.5108e+00,  7.0780e-01,  9.0777e-01],\n",
      "          [ 4.6561e-01,  2.1563e+00, -2.3255e+00, -6.6472e-01,  5.5147e-01],\n",
      "          [ 9.4951e-01, -3.3740e-01, -6.2161e-02,  4.8511e-01, -1.4107e-01],\n",
      "          [ 6.3537e-01,  1.5464e+00,  2.0419e+00,  2.4523e-01,  2.2240e+00]],\n",
      "\n",
      "         [[-5.4798e-01,  1.6411e-01, -2.4302e-01, -2.1069e+00, -1.1748e+00],\n",
      "          [ 5.8614e-01, -1.0792e+00,  8.6184e-02,  2.6984e-02,  3.7680e-01],\n",
      "          [-4.2325e-02,  5.9603e-01, -5.9892e-01,  6.5933e-01,  9.7178e-01],\n",
      "          [-1.4920e+00, -2.1150e-01, -2.5007e-01, -2.6350e-01, -7.3031e-01],\n",
      "          [-8.8017e-01, -1.0805e+00, -8.5367e-01,  2.3745e+00,  1.7426e+00]],\n",
      "\n",
      "         [[ 3.5111e-01, -1.0492e+00, -6.6652e-01,  1.4015e+00,  2.0608e+00],\n",
      "          [-1.2575e+00, -4.0794e-01,  2.2955e-02, -1.0286e+00,  6.4215e-01],\n",
      "          [-8.6350e-01, -2.7992e-01, -2.8991e-01,  9.1334e-01,  3.0354e-01],\n",
      "          [ 2.1641e-01, -1.9566e-01,  1.0338e+00,  1.1264e+00,  4.0221e-01],\n",
      "          [ 2.0189e+00, -1.6187e+00,  4.1265e-01, -6.0841e-01,  1.8968e-01]],\n",
      "\n",
      "         [[-1.8429e-01,  8.0868e-01,  1.7447e+00, -1.0210e+00,  1.5757e+00],\n",
      "          [-3.1405e-02, -2.0191e+00,  1.1914e+00,  1.1556e+00,  1.6644e+00],\n",
      "          [-1.1875e-01,  9.0442e-01, -1.1304e+00,  6.0358e-01,  1.0516e+00],\n",
      "          [-4.0070e-01, -1.1804e+00,  1.9238e+00, -1.9617e+00,  1.0318e-01],\n",
      "          [ 6.5388e-01,  2.0243e+00, -1.6899e+00, -5.0559e-02,  1.6300e+00]],\n",
      "\n",
      "         [[-9.7397e-01,  1.1398e+00,  1.4172e+00, -2.7411e+00, -8.6943e-01],\n",
      "          [-5.4372e-01,  1.2351e+00,  2.0426e-01,  9.3565e-01,  1.8707e-01],\n",
      "          [-2.0517e+00,  2.0031e+00,  1.2341e+00, -1.8753e-01, -1.8052e-01],\n",
      "          [-1.2378e+00,  1.6180e-01, -7.2887e-01, -1.2642e-01,  1.0855e+00],\n",
      "          [ 2.7149e-01,  1.0281e-01, -6.0565e-01, -8.3267e-02,  1.1175e+00]]],\n",
      "\n",
      "\n",
      "        [[[ 2.5715e-01,  2.4055e+00,  8.4600e-01,  5.2831e-01, -1.1693e+00],\n",
      "          [-5.2568e-01, -1.0548e+00, -6.7944e-01, -8.2646e-01,  2.7494e-01],\n",
      "          [ 6.2002e-01,  1.5460e+00,  1.2003e+00, -3.9887e-01,  1.1501e+00],\n",
      "          [ 6.7257e-02,  1.6964e-01, -6.8771e-01, -1.2509e+00, -5.2786e-03],\n",
      "          [-1.3184e-01,  4.0219e-01, -1.3801e+00, -8.3485e-01,  1.4085e+00]],\n",
      "\n",
      "         [[-9.2888e-01,  3.5968e-01, -1.1723e+00,  2.4273e-01,  1.7805e+00],\n",
      "          [-3.7535e-01, -1.8026e+00,  3.5588e-01,  1.0069e+00, -6.2580e-01],\n",
      "          [-6.8609e-01,  2.6151e-01, -8.5780e-01, -1.0749e-01, -1.1678e-01],\n",
      "          [ 1.0862e-01,  1.2231e+00, -8.5023e-01, -7.5645e-01, -7.0967e-01],\n",
      "          [-2.5306e+00,  9.8693e-02, -1.7506e+00,  1.7387e-01, -3.2363e-01]],\n",
      "\n",
      "         [[-4.2739e-01, -4.9143e-01, -5.2440e-01, -4.3537e-01, -2.7199e+00],\n",
      "          [-8.4410e-01, -4.5774e-01, -5.1657e-01,  7.0558e-01, -1.0244e+00],\n",
      "          [-7.0609e-01,  1.4285e-01,  2.8346e-01, -9.8969e-01,  2.8631e-01],\n",
      "          [ 1.2106e+00, -2.3849e-01,  7.4692e-01,  2.0750e+00,  2.0930e-01],\n",
      "          [ 1.0754e+00,  1.2247e+00,  1.8562e+00, -2.7204e-01, -2.7231e-01]],\n",
      "\n",
      "         [[-4.5841e-02, -2.4852e-01,  8.9912e-02,  3.4969e-01, -2.7855e-01],\n",
      "          [ 4.1676e-02, -1.6586e-01,  4.9496e-01,  1.3699e+00,  6.7802e-01],\n",
      "          [ 5.2222e-01,  1.0178e-01,  1.1983e+00, -4.0592e-01, -9.0113e-01],\n",
      "          [ 1.6810e+00,  1.9428e+00, -9.6141e-01,  1.2544e+00, -8.7635e-01],\n",
      "          [ 2.6562e-01,  1.6067e+00,  1.0692e+00, -4.1490e-01,  8.7475e-01]],\n",
      "\n",
      "         [[-1.3481e+00, -8.2538e-01, -7.3892e-01,  1.0084e+00, -4.9712e-01],\n",
      "          [ 5.7413e-01,  3.6640e-01, -9.4849e-01,  6.9340e-01,  8.8671e-01],\n",
      "          [-1.9473e+00,  1.3217e+00,  4.8450e-01, -1.1724e+00,  2.0151e+00],\n",
      "          [-6.8382e-02, -2.7857e-02, -9.5730e-01, -1.6270e+00, -2.6060e-01],\n",
      "          [-7.3793e-01,  5.3350e-01, -2.9324e-01,  1.0894e+00, -5.4742e-01]]],\n",
      "\n",
      "\n",
      "        [[[-1.7109e+00,  1.3023e+00, -1.3803e+00, -7.1883e-01,  9.2907e-01],\n",
      "          [ 1.7866e+00, -2.3257e-01,  4.9878e-01, -8.1394e-01, -1.1929e-01],\n",
      "          [ 2.8733e-01, -7.3548e-01, -5.0384e-02, -1.4352e+00, -1.1997e-03],\n",
      "          [ 7.3440e-02,  6.3864e-01,  1.0079e+00,  5.4344e-01,  1.3513e-01],\n",
      "          [-1.4297e+00, -6.2510e-01, -1.5934e+00,  1.1927e+00,  1.6565e+00]],\n",
      "\n",
      "         [[ 1.2001e+00,  9.7253e-02, -1.2458e+00, -5.8182e-01,  1.3888e+00],\n",
      "          [ 1.2897e-01,  5.3670e-01,  5.7344e-01, -9.8593e-02, -9.8506e-01],\n",
      "          [ 7.1238e-01,  7.6798e-01, -9.4886e-01, -1.0887e+00,  7.2283e-01],\n",
      "          [ 8.4153e-01,  1.8844e-02, -1.1192e+00, -3.3701e-01,  3.3998e-01],\n",
      "          [ 3.1752e-01, -1.2712e+00,  1.3944e+00, -9.1838e-01, -1.1232e+00]],\n",
      "\n",
      "         [[-1.1130e+00,  5.8787e-01,  9.0246e-01,  2.3069e+00,  2.4239e-02],\n",
      "          [-2.0671e+00,  5.6272e-01,  9.2889e-01,  1.0599e+00,  6.2464e-01],\n",
      "          [-2.0304e-01, -2.0553e-01, -9.5962e-01,  1.1244e-01, -1.5785e+00],\n",
      "          [-9.3650e-01,  7.8743e-01, -7.1150e-01, -3.3500e-01, -4.7108e-02],\n",
      "          [ 8.3871e-01,  6.4528e-01,  1.0008e+00,  6.7690e-02,  8.1117e-01]],\n",
      "\n",
      "         [[ 6.9302e-01, -1.9515e+00,  2.7061e-01, -6.8106e-01, -2.4271e-01],\n",
      "          [ 1.5973e+00, -2.5634e-01, -2.0160e+00, -1.2460e+00,  7.9957e-01],\n",
      "          [ 9.6181e-01, -9.1129e-01, -1.0838e+00,  1.7153e+00,  1.0231e+00],\n",
      "          [-1.0809e+00, -1.2233e+00, -9.3662e-01,  1.2365e-01, -7.3753e-01],\n",
      "          [-3.2826e-01, -1.0198e+00,  7.8025e-01,  3.0057e-01,  6.3524e-02]],\n",
      "\n",
      "         [[ 7.3830e-01, -3.1824e-01,  7.4991e-01,  1.7783e+00,  1.3528e+00],\n",
      "          [-1.4204e-01, -1.1918e+00,  1.1593e+00,  7.9833e-03,  6.1654e-01],\n",
      "          [-4.8035e-01,  3.1101e-01,  7.3892e-02,  6.1681e-01,  1.8110e-01],\n",
      "          [-7.3294e-01,  2.6680e-01, -1.0728e+00,  2.0565e+00,  5.6888e-01],\n",
      "          [-4.4930e-01,  4.1409e-01, -1.0088e+00,  2.5203e-02, -1.3462e-01]]]])\n",
      "torch.Size([5, 5, 5])\n",
      "torch.Size([5, 5, 5])\n",
      "torch.Size([5, 5, 5])\n"
     ]
    }
   ],
   "source": [
    "## Loop the Tensor\n",
    "data_a = torch.randn(3, 5, 5, 5)\n",
    "print(data_a)\n"
   ]
  },
  {
   "cell_type": "code",
   "execution_count": 19,
   "metadata": {},
   "outputs": [
    {
     "name": "stdout",
     "output_type": "stream",
     "text": [
      "torch.Size([400, 400, 3])\n",
      "torch.Size([400, 3])\n"
     ]
    }
   ],
   "source": [
    "### Create meshgrid\n",
    "# Ray helpers\n",
    "def get_rays(H, W, K, c2w):\n",
    "    i, j = torch.meshgrid(torch.linspace(0, W-1, W), torch.linspace(0, H-1, H))  # pytorch's meshgrid has indexing='ij'\n",
    "    i = i.t()\n",
    "    j = j.t()\n",
    "    dirs = torch.stack([(i-K[0][2])/K[0][0], -(j-K[1][2])/K[1][1], -torch.ones_like(i)], -1)\n",
    "\n",
    "    # Rotate ray directions from camera frame to the world frame\n",
    "    rays_d = torch.sum(dirs[..., np.newaxis, :] * c2w[:3,:3], -1)  # dot product, equals to: [c2w.dot(dir) for dir in dirs]\n",
    "    # Translate camera frame's origin to the world frame. It is the origin of all rays.\n",
    "    rays_o = c2w[:3,-1].expand(rays_d.shape)\n",
    "    return rays_o, rays_d\n",
    "\n",
    "H, W, focal = 400, 400, 555.55\n",
    "K = np.array([\n",
    "            [focal, 0, 0.5*W],\n",
    "            [0, focal, 0.5*H],\n",
    "            [0, 0, 1]\n",
    "        ])\n",
    "c2w = np.random.rand(3, 4)\n",
    "get_rays(H, W, K, c2w)"
   ]
  },
  {
   "cell_type": "markdown",
   "metadata": {},
   "source": []
  },
  {
   "cell_type": "markdown",
   "metadata": {},
   "source": [
    "## Slice operations for Tensor"
   ]
  },
  {
   "cell_type": "code",
   "execution_count": 12,
   "metadata": {},
   "outputs": [
    {
     "name": "stdout",
     "output_type": "stream",
     "text": [
      "torch.Size([2, 9, 48, 48])\n",
      "torch.Size([2, 11, 48, 48])\n",
      "18\n",
      "12\n",
      "[1, 4, 7, 10, 13, 16]\n"
     ]
    }
   ],
   "source": [
    "data_a = torch.rand((2, 21, 48, 48))\n",
    "length = 10\n",
    "data_a_fw = data_a[:, :length-1, ...]\n",
    "print(data_a_fw.shape)\n",
    "\n",
    "data_a_bw = data_a[:, length:, ...].flip(1)\n",
    "print(data_a_bw.shape)\n",
    "\n",
    "t = 19\n",
    "t = t // 3 * 3\n",
    "print(t)\n",
    "\n",
    "n = 2\n",
    "n_clip = n * t // 3\n",
    "print(n_clip)\n",
    "\n",
    "hr_flow = list(range(19))\n",
    "hr_flow_bw = hr_flow[0:t:3]\n",
    "print(hr_flow_bw)"
   ]
  },
  {
   "cell_type": "markdown",
   "metadata": {},
   "source": [
    "## Dimensions operation"
   ]
  },
  {
   "cell_type": "code",
   "execution_count": 27,
   "metadata": {},
   "outputs": [
    {
     "name": "stdout",
     "output_type": "stream",
     "text": [
      "tensor([[1, 2, 3, 4]])\n",
      "tensor([[1],\n",
      "        [2],\n",
      "        [3],\n",
      "        [4]])\n",
      "tensor([[1, 2, 3],\n",
      "        [1, 2, 3]]) torch.Size([2, 3])\n",
      "tensor([[1, 2, 3, 1, 2, 3, 1, 2, 3],\n",
      "        [1, 2, 3, 1, 2, 3, 1, 2, 3]]) torch.Size([2, 9])\n",
      "torch.Size([3])\n",
      "torch.Size([5, 1, 3])\n",
      "tensor([[[1, 2, 3]],\n",
      "\n",
      "        [[1, 2, 3]],\n",
      "\n",
      "        [[1, 2, 3]],\n",
      "\n",
      "        [[1, 2, 3]],\n",
      "\n",
      "        [[1, 2, 3]]])\n"
     ]
    }
   ],
   "source": [
    "### squeeze和unsqueeze的用法 https://pytorch.org/docs/stable/generated/torch.unsqueeze.html\n",
    "x = torch.tensor([1, 2, 3, 4])\n",
    "print(torch.unsqueeze(x, 0))\n",
    "print(torch.unsqueeze(x, 1))\n",
    "\n",
    "### Expand函数不复制张量元素\n",
    "x = torch.tensor([1, 2, 3])\n",
    "x = x.expand(2, 3)\n",
    "print(x, x.shape)\n",
    "\n",
    "### Repeat函数复制张量元素\n",
    "y = torch.tensor([1, 2, 3])\n",
    "y = y.repeat(2, 3)\n",
    "print(y, y.shape)\n",
    "\n",
    "### 使用Repeat可以为张量增加维度\n",
    "y = torch.tensor([1, 2, 3])\n",
    "print(y.shape)\n",
    "y = y.unsqueeze(0).repeat(5, 1, 1)\n",
    "print(y.shape)\n",
    "print(y)"
   ]
  },
  {
   "cell_type": "markdown",
   "metadata": {},
   "source": [
    "## Misc math operations"
   ]
  },
  {
   "cell_type": "markdown",
   "metadata": {},
   "source": [
    "## Conca, Stack operations"
   ]
  },
  {
   "cell_type": "code",
   "execution_count": 4,
   "metadata": {},
   "outputs": [
    {
     "name": "stdout",
     "output_type": "stream",
     "text": [
      "torch.Size([6, 5, 96, 96])\n",
      "torch.Size([5, 2])\n",
      "Stack result: \n",
      " tensor([[[0.1713, 0.7808, 0.6824],\n",
      "         [0.3596, 0.4430, 0.6680]],\n",
      "\n",
      "        [[0.3666, 0.3668, 0.5351],\n",
      "         [0.9481, 0.5435, 0.8422]],\n",
      "\n",
      "        [[0.5633, 0.0573, 0.2535],\n",
      "         [0.7198, 0.6823, 0.8020]]]) torch.Size([3, 2, 3])\n"
     ]
    }
   ],
   "source": [
    "### 连接堆叠操作\n",
    "data_a = torch.randn(2, 3, 5, 96, 96)\n",
    "data_b = torch.randn(2, 3, 5, 96, 96)\n",
    "data_ab = torch.cat([data_a[:,i] for i in range(data_a.size(1))], dim=0)\n",
    "print(data_ab.shape)\n",
    "\n",
    "data_a = [torch.rand(5), torch.rand(5)]\n",
    "data_b = torch.stack(data_a, 1)\n",
    "print(data_b.shape)\n",
    "\n",
    "data_a = [torch.rand((2,3)), torch.rand((2,3)), torch.rand((2,3))]\n",
    "data_b = torch.stack(data_a, dim=0)\n",
    "print(\"Stack result: \\n\", data_b, data_b.shape)"
   ]
  },
  {
   "cell_type": "code",
   "execution_count": 33,
   "metadata": {},
   "outputs": [
    {
     "name": "stdout",
     "output_type": "stream",
     "text": [
      "a的shape： torch.Size([2, 2, 3])\n",
      "b: (tensor([[[1, 2, 3],\n",
      "         [4, 5, 6]]]), tensor([[[ 7,  8,  9],\n",
      "         [10, 11, 12]]])) 2\n",
      "c: (tensor([[[1, 2, 3]],\n",
      "\n",
      "        [[7, 8, 9]]]), tensor([[[ 4,  5,  6]],\n",
      "\n",
      "        [[10, 11, 12]]]))\n"
     ]
    }
   ],
   "source": [
    "a=torch.tensor([[[1,2,3],[4,5,6]],\n",
    "                [[7,8,9],[10,11,12]]])\n",
    "print(\"a的shape：\",a.shape)\n",
    "#在第0维上进行split\n",
    "b=torch.split(a, 1)\n",
    "print(\"b:\", b, len(b))\n",
    "#在第1维上进行split\n",
    "c=torch.split(a,[1,1],1)\n",
    "print(\"c:\",c)"
   ]
  },
  {
   "cell_type": "code",
   "execution_count": 16,
   "metadata": {},
   "outputs": [
    {
     "name": "stdout",
     "output_type": "stream",
     "text": [
      "4\n",
      "30 30\n",
      "torch.Size([2, 10, 3, 120, 120])\n"
     ]
    }
   ],
   "source": [
    "gt_with_border = torch.rand((2, 10,3,128, 128))\n",
    "border_size = int(1.5*3.0)\n",
    "print(border_size)\n",
    "\n",
    "scale = 4\n",
    "n, t, c, gt_h, gt_w = gt_with_border.size()\n",
    "lr_h = (gt_h - 2*border_size)//scale\n",
    "lr_w = (gt_w - 2*border_size)//scale\n",
    "print(lr_h, lr_w)\n",
    "\n",
    "gt_data = gt_with_border[\n",
    "                ...,\n",
    "                border_size: border_size + scale*lr_h,\n",
    "                border_size: border_size + scale*lr_w\n",
    "            ]\n",
    "print(gt_data.shape)"
   ]
  }
 ],
 "metadata": {
  "interpreter": {
   "hash": "a905e65f9d17f2b99942353106a9a9bb4e3ae6eb3c5eda96a0f871aef2e2b8d2"
  },
  "kernelspec": {
   "display_name": "Python 3.6.13 64-bit ('face_python36': conda)",
   "name": "python3"
  },
  "language_info": {
   "codemirror_mode": {
    "name": "ipython",
    "version": 3
   },
   "file_extension": ".py",
   "mimetype": "text/x-python",
   "name": "python",
   "nbconvert_exporter": "python",
   "pygments_lexer": "ipython3",
   "version": "3.6.13"
  },
  "orig_nbformat": 4
 },
 "nbformat": 4,
 "nbformat_minor": 2
}
