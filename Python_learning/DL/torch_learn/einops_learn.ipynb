{
 "cells": [
  {
   "cell_type": "markdown",
   "metadata": {},
   "source": [
    "## Learn how to use the einops library"
   ]
  },
  {
   "cell_type": "code",
   "execution_count": 1,
   "metadata": {},
   "outputs": [],
   "source": [
    "import torch\n",
    "from einops import repeat, rearrange"
   ]
  },
  {
   "cell_type": "markdown",
   "metadata": {},
   "source": [
    "### Use repeat function"
   ]
  },
  {
   "cell_type": "code",
   "execution_count": 2,
   "metadata": {},
   "outputs": [
    {
     "name": "stdout",
     "output_type": "stream",
     "text": [
      "tensor([[-0.0445,  1.2679,  0.0591],\n",
      "        [ 0.8185, -0.0033, -1.2111]]) torch.Size([2, 3])\n",
      "tensor([[[-0.0445, -0.0445, -0.0445],\n",
      "         [ 1.2679,  1.2679,  1.2679],\n",
      "         [ 0.0591,  0.0591,  0.0591]],\n",
      "\n",
      "        [[ 0.8185,  0.8185,  0.8185],\n",
      "         [-0.0033, -0.0033, -0.0033],\n",
      "         [-1.2111, -1.2111, -1.2111]]]) torch.Size([2, 3, 3])\n"
     ]
    }
   ],
   "source": [
    "input = torch.randn(2, 3)\n",
    "print(input, input.shape)\n",
    "\n",
    "output = repeat(input, 'h w -> h w c', c=3)\n",
    "print(output, output.shape)"
   ]
  },
  {
   "cell_type": "code",
   "execution_count": 4,
   "metadata": {},
   "outputs": [
    {
     "name": "stdout",
     "output_type": "stream",
     "text": [
      "torch.Size([2, 1]) torch.int64\n",
      "tensor([[9],\n",
      "        [9]])\n"
     ]
    }
   ],
   "source": [
    "class_label = 9\n",
    "\n",
    "batch_size = 2\n",
    "input = torch.tensor([class_label])\n",
    "\n",
    "c_indices = repeat(input, '1 -> b 1', b=batch_size)  # class token\n",
    "print(c_indices.shape, c_indices.dtype)\n",
    "print(c_indices)\n"
   ]
  }
 ],
 "metadata": {
  "kernelspec": {
   "display_name": "Python 3.8.13 ('py38-torch100-cu11')",
   "language": "python",
   "name": "python3"
  },
  "language_info": {
   "codemirror_mode": {
    "name": "ipython",
    "version": 3
   },
   "file_extension": ".py",
   "mimetype": "text/x-python",
   "name": "python",
   "nbconvert_exporter": "python",
   "pygments_lexer": "ipython3",
   "version": "3.8.13"
  },
  "orig_nbformat": 4,
  "vscode": {
   "interpreter": {
    "hash": "56d0891f27fe2db3830dc2a05bc70f05135b0c30ed7c190a150d1aca2da3af60"
   }
  }
 },
 "nbformat": 4,
 "nbformat_minor": 2
}
