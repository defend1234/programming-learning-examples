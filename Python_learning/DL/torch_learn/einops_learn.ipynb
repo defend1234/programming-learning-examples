{
 "cells": [
  {
   "cell_type": "markdown",
   "metadata": {},
   "source": [
    "## Learn how to use the einops library"
   ]
  },
  {
   "cell_type": "code",
   "execution_count": 1,
   "metadata": {},
   "outputs": [],
   "source": [
    "import torch\n",
    "from einops import repeat, rearrange"
   ]
  },
  {
   "attachments": {},
   "cell_type": "markdown",
   "metadata": {},
   "source": [
    "## Use repeat function"
   ]
  },
  {
   "cell_type": "code",
   "execution_count": 2,
   "metadata": {},
   "outputs": [
    {
     "name": "stdout",
     "output_type": "stream",
     "text": [
      "tensor([[-0.0445,  1.2679,  0.0591],\n",
      "        [ 0.8185, -0.0033, -1.2111]]) torch.Size([2, 3])\n",
      "tensor([[[-0.0445, -0.0445, -0.0445],\n",
      "         [ 1.2679,  1.2679,  1.2679],\n",
      "         [ 0.0591,  0.0591,  0.0591]],\n",
      "\n",
      "        [[ 0.8185,  0.8185,  0.8185],\n",
      "         [-0.0033, -0.0033, -0.0033],\n",
      "         [-1.2111, -1.2111, -1.2111]]]) torch.Size([2, 3, 3])\n"
     ]
    }
   ],
   "source": [
    "input = torch.randn(2, 3)\n",
    "print(input, input.shape)\n",
    "\n",
    "output = repeat(input, 'h w -> h w c', c=3)\n",
    "print(output, output.shape)"
   ]
  },
  {
   "attachments": {},
   "cell_type": "markdown",
   "metadata": {},
   "source": [
    "### repeat specific axis"
   ]
  },
  {
   "cell_type": "code",
   "execution_count": 10,
   "metadata": {},
   "outputs": [
    {
     "name": "stdout",
     "output_type": "stream",
     "text": [
      "tensor([[[-1.5255, -2.6183,  0.1318],\n",
      "         [ 0.5025, -0.5046,  0.7587]]])\n",
      "tensor([[[-1.5255, -2.6183,  0.1318],\n",
      "         [ 0.5025, -0.5046,  0.7587]],\n",
      "\n",
      "        [[-1.5255, -2.6183,  0.1318],\n",
      "         [ 0.5025, -0.5046,  0.7587]]]) torch.Size([2, 2, 3])\n"
     ]
    }
   ],
   "source": [
    "pc = torch.randn(1, 2, 3)\n",
    "print(pc)\n",
    "\n",
    "### The below three methods are the same\n",
    "pc = repeat(pc, 'b n c -> (repeat b) n c', repeat=2).contiguous()\n",
    "# pc = repeat(pc, 'b n c -> (b 2) n c').contiguous()\n",
    "# pc = repeat(pc, 'b n c -> (2 b) n c').contiguous()\n",
    "print(pc, pc.shape)"
   ]
  },
  {
   "cell_type": "code",
   "execution_count": 4,
   "metadata": {},
   "outputs": [
    {
     "name": "stdout",
     "output_type": "stream",
     "text": [
      "torch.Size([2, 1]) torch.int64\n",
      "tensor([[9],\n",
      "        [9]])\n"
     ]
    }
   ],
   "source": [
    "class_label = 9\n",
    "\n",
    "batch_size = 2\n",
    "input = torch.tensor([class_label])\n",
    "\n",
    "c_indices = repeat(input, '1 -> b 1', b=batch_size)  # class token\n",
    "print(c_indices.shape, c_indices.dtype)\n",
    "print(c_indices)\n"
   ]
  },
  {
   "cell_type": "markdown",
   "metadata": {},
   "source": [
    "## rearange operation"
   ]
  },
  {
   "cell_type": "code",
   "execution_count": 10,
   "metadata": {},
   "outputs": [
    {
     "name": "stdout",
     "output_type": "stream",
     "text": [
      "tensor([[[ 0,  1,  2,  3],\n",
      "         [ 4,  5,  6,  7],\n",
      "         [ 8,  9, 10, 11]],\n",
      "\n",
      "        [[12, 13, 14, 15],\n",
      "         [16, 17, 18, 19],\n",
      "         [20, 21, 22, 23]]])\n",
      "tensor([[ 0, 12],\n",
      "        [ 1, 13],\n",
      "        [ 2, 14],\n",
      "        [ 3, 15],\n",
      "        [ 4, 16],\n",
      "        [ 5, 17],\n",
      "        [ 6, 18],\n",
      "        [ 7, 19],\n",
      "        [ 8, 20],\n",
      "        [ 9, 21],\n",
      "        [10, 22],\n",
      "        [11, 23]]) torch.Size([12, 2])\n"
     ]
    }
   ],
   "source": [
    "import torch\n",
    "\n",
    "from einops import rearrange, repeat\n",
    "\n",
    "data = torch.arange(24).reshape(2, 3, 4)\n",
    "print(data)\n",
    "\n",
    "# data = rearrange(data, 'b n c -> (b n) c')\n",
    "# data = rearrange(data, 'b n c -> b (n c)')\n",
    "data = rearrange(data, 'b n c -> (n c) b')\n",
    "# data = rearrange(data, 'b n c -> b (c n)')\n",
    "print(data, data.shape)"
   ]
  },
  {
   "cell_type": "code",
   "execution_count": 3,
   "metadata": {},
   "outputs": [
    {
     "name": "stdout",
     "output_type": "stream",
     "text": [
      "torch.Size([5, 256, 12])\n",
      "torch.Size([5, 256, 4, 3])\n"
     ]
    }
   ],
   "source": [
    "input = torch.rand(5, 256, 12)\n",
    "print(input.shape)\n",
    "\n",
    "output = rearrange(input, 'b n (r c) -> b n r c', c=3)\n",
    "print(output.shape)\n"
   ]
  },
  {
   "cell_type": "code",
   "execution_count": 4,
   "metadata": {},
   "outputs": [
    {
     "name": "stdout",
     "output_type": "stream",
     "text": [
      "torch.Size([10, 4, 3])\n"
     ]
    }
   ],
   "source": [
    "import torch\n",
    "from einops import rearrange\n",
    "\n",
    "input = torch.randn(2, 5, 4, 3)\n",
    "\n",
    "input = rearrange(input, 'b g m c -> (b g) m c')\n",
    "print(input.shape)"
   ]
  },
  {
   "cell_type": "code",
   "execution_count": 5,
   "metadata": {},
   "outputs": [
    {
     "name": "stdout",
     "output_type": "stream",
     "text": [
      "torch.Size([128, 2048, 3])\n"
     ]
    }
   ],
   "source": [
    "import torch\n",
    "from einops import rearrange\n",
    "\n",
    "input = torch.randn(1, 262144, 3)\n",
    "\n",
    "output = rearrange(input, 'x (b n) c -> (x b) n c', b=128)\n",
    "print(output.shape)"
   ]
  }
 ],
 "metadata": {
  "kernelspec": {
   "display_name": "ILG3D",
   "language": "python",
   "name": "python3"
  },
  "language_info": {
   "codemirror_mode": {
    "name": "ipython",
    "version": 3
   },
   "file_extension": ".py",
   "mimetype": "text/x-python",
   "name": "python",
   "nbconvert_exporter": "python",
   "pygments_lexer": "ipython3",
   "version": "3.8.13 (default, Oct 21 2022, 23:50:54) \n[GCC 11.2.0]"
  },
  "orig_nbformat": 4,
  "vscode": {
   "interpreter": {
    "hash": "a8fecbb612de51808bb1b2911b9c6e1eefe2aa01212fc7a1cae75ce33776f97c"
   }
  }
 },
 "nbformat": 4,
 "nbformat_minor": 2
}
