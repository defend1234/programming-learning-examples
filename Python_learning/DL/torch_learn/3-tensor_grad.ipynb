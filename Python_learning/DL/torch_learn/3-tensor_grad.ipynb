{
 "cells": [
  {
   "cell_type": "code",
   "execution_count": 4,
   "metadata": {},
   "outputs": [],
   "source": [
    "import torch\n",
    "from icecream import ic as print"
   ]
  },
  {
   "cell_type": "markdown",
   "metadata": {},
   "source": [
    "## Tensor properties"
   ]
  },
  {
   "cell_type": "code",
   "execution_count": 37,
   "metadata": {},
   "outputs": [
    {
     "name": "stderr",
     "output_type": "stream",
     "text": [
      "ic| x.requires_grad: False, x.grad_fn: None, x.is_leaf: True\n",
      "ic| x.requires_grad: True\n",
      "ic| y.requires_grad: True\n",
      "    y.grad_fn: <AddBackward0 object at 0x7f327419b7c0>\n",
      "    y.is_leaf: False\n"
     ]
    },
    {
     "data": {
      "text/plain": [
       "(True, <AddBackward0 at 0x7f327419b7c0>, False)"
      ]
     },
     "execution_count": 37,
     "metadata": {},
     "output_type": "execute_result"
    }
   ],
   "source": [
    "## Create a tensor the requires_grad=False by default\n",
    "x = torch.rand(2, 3)\n",
    "print(x.requires_grad, x.grad_fn, x.is_leaf)\n",
    "\n",
    "## Set requires_grad\n",
    "x.requires_grad_()\n",
    "print(x.requires_grad)\n",
    "\n",
    "# y = 2 * x ** 2 + 10.0\n",
    "y = x**2 + 10.0\n",
    "print(y.requires_grad, y.grad_fn, y.is_leaf)\n"
   ]
  },
  {
   "cell_type": "code",
   "execution_count": 31,
   "metadata": {},
   "outputs": [
    {
     "name": "stderr",
     "output_type": "stream",
     "text": [
      "ic| x: tensor(3., requires_grad=True)\n",
      "    x.shape: torch.Size([])\n",
      "    x.is_leaf: True\n",
      "    x.requires_grad: True\n",
      "ic| y: tensor(9., grad_fn=<PowBackward0>)\n",
      "    y.is_leaf: False\n",
      "    y.grad_fn: <PowBackward0 object at 0x7f3274083430>\n",
      "    z.is_leaf: False\n"
     ]
    }
   ],
   "source": [
    "x = torch.tensor(3.0, requires_grad=True)\n",
    "# x = torch.rand(3, requires_grad=False)\n",
    "print(x, x.shape, x.is_leaf, x.requires_grad)\n",
    "y = x**2\n",
    "z = x + x\n",
    "print(y, y.is_leaf, y.grad_fn, z.is_leaf)\n",
    "y.backward()"
   ]
  },
  {
   "cell_type": "code",
   "execution_count": 9,
   "metadata": {},
   "outputs": [
    {
     "name": "stderr",
     "output_type": "stream",
     "text": [
      "ic| z: tensor(9., grad_fn=<AddBackward0>)\n",
      "    x.grad: tensor(4.)\n",
      "    y.grad: tensor(1.)\n"
     ]
    },
    {
     "data": {
      "text/plain": [
       "(tensor(9., grad_fn=<AddBackward0>), tensor(4.), tensor(1.))"
      ]
     },
     "execution_count": 9,
     "metadata": {},
     "output_type": "execute_result"
    }
   ],
   "source": [
    "x = torch.tensor(2.0, requires_grad=True)\n",
    "y = torch.tensor(5.0, requires_grad=True)\n",
    "z = x**2 + y\n",
    "z.backward()\n",
    "print(z, x.grad, y.grad)"
   ]
  }
 ],
 "metadata": {
  "kernelspec": {
   "display_name": "Python 3.8.13 ('py38-torch100-cu11')",
   "language": "python",
   "name": "python3"
  },
  "language_info": {
   "codemirror_mode": {
    "name": "ipython",
    "version": 3
   },
   "file_extension": ".py",
   "mimetype": "text/x-python",
   "name": "python",
   "nbconvert_exporter": "python",
   "pygments_lexer": "ipython3",
   "version": "3.8.13"
  },
  "orig_nbformat": 4,
  "vscode": {
   "interpreter": {
    "hash": "56d0891f27fe2db3830dc2a05bc70f05135b0c30ed7c190a150d1aca2da3af60"
   }
  }
 },
 "nbformat": 4,
 "nbformat_minor": 2
}
