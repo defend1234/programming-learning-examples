{
 "cells": [
  {
   "cell_type": "code",
   "execution_count": 1,
   "metadata": {},
   "outputs": [],
   "source": [
    "import torch\n",
    "import numpy as np\n",
    "import time\n",
    "# import icecream as print"
   ]
  },
  {
   "cell_type": "code",
   "execution_count": 20,
   "metadata": {},
   "outputs": [
    {
     "name": "stdout",
     "output_type": "stream",
     "text": [
      "tensor([[[ 0,  1],\n",
      "         [ 2,  3],\n",
      "         [ 4,  5]],\n",
      "\n",
      "        [[ 6,  7],\n",
      "         [ 8,  9],\n",
      "         [10, 11]]]) torch.Size([2, 3, 2])\n",
      "tensor([[1],\n",
      "        [2],\n",
      "        [3],\n",
      "        [4],\n",
      "        [5]]) torch.Size([5, 1])\n"
     ]
    },
    {
     "ename": "RuntimeError",
     "evalue": "The size of tensor a (3) must match the size of tensor b (5) at non-singleton dimension 1",
     "output_type": "error",
     "traceback": [
      "\u001b[0;31m---------------------------------------------------------------------------\u001b[0m",
      "\u001b[0;31mRuntimeError\u001b[0m                              Traceback (most recent call last)",
      "Cell \u001b[0;32mIn [20], line 7\u001b[0m\n\u001b[1;32m      4\u001b[0m data2 \u001b[39m=\u001b[39m torch\u001b[39m.\u001b[39marange(\u001b[39m1\u001b[39m, \u001b[39m6\u001b[39m)\u001b[39m.\u001b[39mreshape(\u001b[39m5\u001b[39m, \u001b[39m1\u001b[39m)\n\u001b[1;32m      5\u001b[0m \u001b[39mprint\u001b[39m(data2, data2\u001b[39m.\u001b[39mshape)\n\u001b[0;32m----> 7\u001b[0m diff \u001b[39m=\u001b[39m data1 \u001b[39m-\u001b[39;49m data2\n\u001b[1;32m      8\u001b[0m \u001b[39mprint\u001b[39m(diff, diff\u001b[39m.\u001b[39mshape)\n",
      "\u001b[0;31mRuntimeError\u001b[0m: The size of tensor a (3) must match the size of tensor b (5) at non-singleton dimension 1"
     ]
    }
   ],
   "source": [
    "data1 = torch.arange(12).reshape(2, 3, 2)\n",
    "print(data1, data1.shape)\n",
    "\n",
    "data2 = torch.arange(1, 6).reshape(5, 1)\n",
    "print(data2, data2.shape)\n",
    "\n",
    "diff = data1 - data2\n",
    "print(diff, diff.shape)"
   ]
  },
  {
   "cell_type": "code",
   "execution_count": 5,
   "metadata": {},
   "outputs": [
    {
     "name": "stdout",
     "output_type": "stream",
     "text": [
      "torch.Size([5, 2048, 3]) torch.Size([5, 512, 3])\n",
      "torch.Size([5, 2048, 1, 3]) torch.Size([5, 1, 512, 3])\n"
     ]
    }
   ],
   "source": [
    "samples = torch.randn(5, 2048, 3)\n",
    "centers = torch.randn(5, 512, 3)\n",
    "\n",
    "print(samples.shape, centers.shape)\n",
    "\n",
    "samples = samples[:, :, None]\n",
    "centers = centers[:, None]\n",
    "print(samples.shape, centers.shape)\n",
    "\n"
   ]
  },
  {
   "cell_type": "code",
   "execution_count": 15,
   "metadata": {},
   "outputs": [
    {
     "name": "stdout",
     "output_type": "stream",
     "text": [
      "torch.Size([2, 5, 2]) torch.Size([2, 3, 2])\n",
      "torch.Size([2, 5, 1, 2]) torch.Size([2, 1, 3, 2])\n",
      "tensor([[[[ 0.2863, -2.0333]],\n",
      "\n",
      "         [[-0.5930, -1.4498]],\n",
      "\n",
      "         [[ 0.8496, -0.5239]],\n",
      "\n",
      "         [[ 0.6585,  0.0317]],\n",
      "\n",
      "         [[ 0.4878, -1.5573]]],\n",
      "\n",
      "\n",
      "        [[[-0.8664, -0.3688]],\n",
      "\n",
      "         [[ 0.7432,  0.6022]],\n",
      "\n",
      "         [[ 0.4953, -2.3943]],\n",
      "\n",
      "         [[-1.0468,  0.1989]],\n",
      "\n",
      "         [[ 1.5930, -1.4863]]]])\n",
      "tensor([[[[ 0.4738,  0.2337],\n",
      "          [-0.6130, -0.0142],\n",
      "          [-0.1410,  0.1656]]],\n",
      "\n",
      "\n",
      "        [[[ 1.5062, -0.8948],\n",
      "          [ 0.8406,  0.3560],\n",
      "          [ 1.7580,  0.4282]]]])\n",
      "torch.Size([2, 5, 3, 2])\n"
     ]
    }
   ],
   "source": [
    "samples = torch.randn(2, 5, 2)\n",
    "centers = torch.randn(2, 3, 2)\n",
    "\n",
    "print(samples.shape, centers.shape)\n",
    "\n",
    "samples = samples[:, :, None]\n",
    "centers = centers[:, None]\n",
    "print(samples.shape, centers.shape)\n",
    "print(samples)\n",
    "print(centers)\n",
    "\n",
    "diff = samples - centers\n",
    "print(diff.shape)\n"
   ]
  },
  {
   "cell_type": "code",
   "execution_count": 14,
   "metadata": {},
   "outputs": [
    {
     "name": "stdout",
     "output_type": "stream",
     "text": [
      "tensor([[[[ 0.3577,  0.1267],\n",
      "          [ 1.0638, -0.7291],\n",
      "          [-0.7850,  1.6956]],\n",
      "\n",
      "         [[-1.2511,  1.2253],\n",
      "          [-0.5449,  0.3695],\n",
      "          [-2.3938,  2.7942]],\n",
      "\n",
      "         [[ 0.7763, -0.7426],\n",
      "          [ 1.4824, -1.5984],\n",
      "          [-0.3664,  0.8263]],\n",
      "\n",
      "         [[ 0.1647,  0.0264],\n",
      "          [ 0.8708, -0.8293],\n",
      "          [-0.9780,  1.5954]],\n",
      "\n",
      "         [[ 0.7199,  0.5614],\n",
      "          [ 1.4260, -0.2944],\n",
      "          [-0.4228,  2.1303]]],\n",
      "\n",
      "\n",
      "        [[[-2.7425,  0.2651],\n",
      "          [-0.2745,  0.6240],\n",
      "          [-1.9553, -0.5651]],\n",
      "\n",
      "         [[-0.4854,  2.0309],\n",
      "          [ 1.9826,  2.3897],\n",
      "          [ 0.3018,  1.2007]],\n",
      "\n",
      "         [[ 0.0293,  0.6940],\n",
      "          [ 2.4973,  1.0528],\n",
      "          [ 0.8165, -0.1362]],\n",
      "\n",
      "         [[-1.8309, -1.2456],\n",
      "          [ 0.6372, -0.8867],\n",
      "          [-1.0436, -2.0758]],\n",
      "\n",
      "         [[-1.5062,  1.4292],\n",
      "          [ 0.9618,  1.7881],\n",
      "          [-0.7190,  0.5990]]]])\n"
     ]
    }
   ],
   "source": [
    "print(diff)"
   ]
  }
 ],
 "metadata": {
  "kernelspec": {
   "display_name": "Python 3.8.13 ('py38-torch100-cu11')",
   "language": "python",
   "name": "python3"
  },
  "language_info": {
   "codemirror_mode": {
    "name": "ipython",
    "version": 3
   },
   "file_extension": ".py",
   "mimetype": "text/x-python",
   "name": "python",
   "nbconvert_exporter": "python",
   "pygments_lexer": "ipython3",
   "version": "3.8.13"
  },
  "orig_nbformat": 4,
  "vscode": {
   "interpreter": {
    "hash": "56d0891f27fe2db3830dc2a05bc70f05135b0c30ed7c190a150d1aca2da3af60"
   }
  }
 },
 "nbformat": 4,
 "nbformat_minor": 2
}
