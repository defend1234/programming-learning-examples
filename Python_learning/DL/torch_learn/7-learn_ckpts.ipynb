{
 "cells": [
  {
   "cell_type": "code",
   "execution_count": 2,
   "metadata": {},
   "outputs": [],
   "source": [
    "import torch\n",
    "\n",
    "ckpt_path = \"/home/zhanghm/Research/Occupancy/BEVDet/bevdet-lidar-occ-voxel-multi-sweeps-24e_teacher_model.pth\"\n",
    "ckpt_path = \"/home/zhanghm/Research/Occupancy/BEVDet/bevdet-r50-as-student_lidar-occ-voxel-ms-new-as-teacher-model.pth\"\n",
    "# ckpt_path = \"/home/zhanghm/Research/Occupancy/BEVDet/bevdet-r50-4d-stereo-cbgs-as-student-model.pth\"\n",
    "ckpt_path = \"/home/zhanghm/Research/Occupancy/Occ-BEV/BEVDet/bevdet-lidar-occ-voxel-multi-sweeps-24e_teacher_model_new.pth\"\n",
    "ckpt_path = \"/home/zhanghm/Research/Occupancy/Occ-BEV/BEVDet/bevdet-r50-4d-stereo-cbgs-as-student-model.pth\"\n",
    "\n",
    "state_dict = torch.load(ckpt_path, map_location=\"cpu\")['state_dict']\n",
    "\n",
    "def dump_state_dict(file_path, state_dict, need_shape=False):\n",
    "    content = []\n",
    "    for k, v in state_dict.items():\n",
    "        if need_shape:\n",
    "            line = f\"{k} {v.shape}\"\n",
    "        else:\n",
    "            line = k\n",
    "        content.append(line)\n",
    "    \n",
    "    with open(file_path, 'w') as fd:\n",
    "        fd.writelines([i + '\\n' for i in content])\n",
    "    \n",
    "\n",
    "file_path = \"./state_dict_keys_lidar_as_tea_new2.txt\"\n",
    "dump_state_dict(file_path, state_dict, need_shape=True)"
   ]
  }
 ],
 "metadata": {
  "kernelspec": {
   "display_name": "xmf",
   "language": "python",
   "name": "python3"
  },
  "language_info": {
   "codemirror_mode": {
    "name": "ipython",
    "version": 3
   },
   "file_extension": ".py",
   "mimetype": "text/x-python",
   "name": "python",
   "nbconvert_exporter": "python",
   "pygments_lexer": "ipython3",
   "version": "3.8.15"
  },
  "orig_nbformat": 4
 },
 "nbformat": 4,
 "nbformat_minor": 2
}
