{
 "cells": [
  {
   "cell_type": "code",
   "execution_count": 2,
   "metadata": {},
   "outputs": [],
   "source": [
    "import torch\n",
    "import numpy as np\n",
    "from torch.nn import functional as F"
   ]
  },
  {
   "cell_type": "code",
   "execution_count": 39,
   "metadata": {},
   "outputs": [
    {
     "name": "stdout",
     "output_type": "stream",
     "text": [
      "0.33066794459097115\n",
      "tensor([[1., 1., 1., 0.],\n",
      "        [0., 0., 0., 0.],\n",
      "        [1., 0., 1., 0.]])\n"
     ]
    }
   ],
   "source": [
    "msm_bernoulli_prob = [0.2, 0.8]\n",
    "\n",
    "p = np.random.uniform(*msm_bernoulli_prob)\n",
    "print(p)\n",
    "mask1 = torch.bernoulli(torch.ones(3, 4) * p)\n",
    "print(mask1)\n"
   ]
  },
  {
   "cell_type": "code",
   "execution_count": 6,
   "metadata": {},
   "outputs": [
    {
     "name": "stdout",
     "output_type": "stream",
     "text": [
      "tensor([[0.6817, 0.9028, 0.9015],\n",
      "        [0.7266, 0.8289, 0.2455]])\n",
      "tensor([[0.2863, 0.3571, 0.3566],\n",
      "        [0.3669, 0.4064, 0.2268]])\n",
      "tensor([1., 1.])\n"
     ]
    }
   ],
   "source": [
    "x = torch.rand(2, 3)\n",
    "print(x)\n",
    "\n",
    "y = F.softmax(x, dim=1)\n",
    "print(y)\n",
    "\n",
    "z = torch.sum(y, dim=1)\n",
    "print(z)"
   ]
  },
  {
   "cell_type": "markdown",
   "metadata": {},
   "source": [
    "## torch.argmin"
   ]
  },
  {
   "cell_type": "code",
   "execution_count": 4,
   "metadata": {},
   "outputs": [
    {
     "name": "stdout",
     "output_type": "stream",
     "text": [
      "tensor([[ 2.7553,  1.3871],\n",
      "        [ 1.0058, -1.3197],\n",
      "        [ 0.9727,  0.0923],\n",
      "        [ 2.9525, -1.1732],\n",
      "        [-0.7277,  1.3667]])\n",
      "tensor([1, 1, 1, 1, 0]) torch.Size([5])\n"
     ]
    }
   ],
   "source": [
    "import torch\n",
    "\n",
    "distances = torch.randn(5, 2)\n",
    "print(distances)\n",
    "\n",
    "dis_idx = torch.argmin(distances, axis=1)\n",
    "print(dis_idx, dis_idx.shape)"
   ]
  }
 ],
 "metadata": {
  "kernelspec": {
   "display_name": "Python 3.8.13 ('py38-torch100-cu11')",
   "language": "python",
   "name": "python3"
  },
  "language_info": {
   "codemirror_mode": {
    "name": "ipython",
    "version": 3
   },
   "file_extension": ".py",
   "mimetype": "text/x-python",
   "name": "python",
   "nbconvert_exporter": "python",
   "pygments_lexer": "ipython3",
   "version": "3.8.13"
  },
  "orig_nbformat": 4,
  "vscode": {
   "interpreter": {
    "hash": "56d0891f27fe2db3830dc2a05bc70f05135b0c30ed7c190a150d1aca2da3af60"
   }
  }
 },
 "nbformat": 4,
 "nbformat_minor": 2
}
