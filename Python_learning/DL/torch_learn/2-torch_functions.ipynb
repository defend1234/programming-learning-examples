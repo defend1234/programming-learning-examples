{
 "cells": [
  {
   "cell_type": "code",
   "execution_count": 2,
   "metadata": {},
   "outputs": [],
   "source": [
    "import torch\n",
    "import numpy as np\n",
    "from torch.nn import functional as F"
   ]
  },
  {
   "cell_type": "code",
   "execution_count": 39,
   "metadata": {},
   "outputs": [
    {
     "name": "stdout",
     "output_type": "stream",
     "text": [
      "0.33066794459097115\n",
      "tensor([[1., 1., 1., 0.],\n",
      "        [0., 0., 0., 0.],\n",
      "        [1., 0., 1., 0.]])\n"
     ]
    }
   ],
   "source": [
    "msm_bernoulli_prob = [0.2, 0.8]\n",
    "\n",
    "p = np.random.uniform(*msm_bernoulli_prob)\n",
    "print(p)\n",
    "mask1 = torch.bernoulli(torch.ones(3, 4) * p)\n",
    "print(mask1)\n"
   ]
  },
  {
   "cell_type": "code",
   "execution_count": 6,
   "metadata": {},
   "outputs": [
    {
     "name": "stdout",
     "output_type": "stream",
     "text": [
      "tensor([[0.6817, 0.9028, 0.9015],\n",
      "        [0.7266, 0.8289, 0.2455]])\n",
      "tensor([[0.2863, 0.3571, 0.3566],\n",
      "        [0.3669, 0.4064, 0.2268]])\n",
      "tensor([1., 1.])\n"
     ]
    }
   ],
   "source": [
    "x = torch.rand(2, 3)\n",
    "print(x)\n",
    "\n",
    "y = F.softmax(x, dim=1)\n",
    "print(y)\n",
    "\n",
    "z = torch.sum(y, dim=1)\n",
    "print(z)"
   ]
  },
  {
   "cell_type": "markdown",
   "metadata": {},
   "source": [
    "## torch.min() and torch.max()"
   ]
  },
  {
   "cell_type": "code",
   "execution_count": 11,
   "metadata": {},
   "outputs": [
    {
     "name": "stdout",
     "output_type": "stream",
     "text": [
      "tensor([[-0.8275, -1.9518],\n",
      "        [-1.5592, -0.0333],\n",
      "        [ 1.1647,  0.3005]])\n",
      "tensor([-1.9518, -1.5592,  0.3005]) torch.Size([3])\n",
      "tensor([1, 0, 1])\n",
      "tensor([[-1.9518],\n",
      "        [-1.5592],\n",
      "        [ 0.3005]]) torch.Size([3, 1])\n"
     ]
    }
   ],
   "source": [
    "import torch\n",
    "\n",
    "data = torch.randn(3, 2)\n",
    "print(data)\n",
    "\n",
    "min_dist, min_idx = torch.min(data, dim=-1)\n",
    "print(min_dist, min_dist.shape)\n",
    "print(min_idx)\n",
    "\n",
    "min_dist = min_dist.unsqueeze(-1)\n",
    "print(min_dist, min_dist.shape)"
   ]
  },
  {
   "cell_type": "markdown",
   "metadata": {},
   "source": [
    "## torch.mean()"
   ]
  },
  {
   "cell_type": "code",
   "execution_count": 8,
   "metadata": {},
   "outputs": [
    {
     "name": "stdout",
     "output_type": "stream",
     "text": [
      "tensor([[0., 1.],\n",
      "        [2., 3.],\n",
      "        [4., 5.],\n",
      "        [6., 7.],\n",
      "        [8., 9.]])\n",
      "tensor([0.5000, 2.5000, 4.5000, 6.5000, 8.5000])\n",
      "tensor(4.5000)\n",
      "tensor(4.5000)\n"
     ]
    }
   ],
   "source": [
    "import torch\n",
    "data = torch.arange(10).reshape(5, 2).float()\n",
    "print(data)\n",
    "data_mean = torch.mean(data, dim=1)\n",
    "print(data_mean)\n",
    "data_mean2 = torch.mean(data_mean)\n",
    "print(data_mean2)\n",
    "\n",
    "data_meann = torch.mean(data)\n",
    "print(data_meann)"
   ]
  },
  {
   "cell_type": "markdown",
   "metadata": {},
   "source": [
    "## torch.argmin"
   ]
  },
  {
   "cell_type": "code",
   "execution_count": 4,
   "metadata": {},
   "outputs": [
    {
     "name": "stdout",
     "output_type": "stream",
     "text": [
      "tensor([[ 2.7553,  1.3871],\n",
      "        [ 1.0058, -1.3197],\n",
      "        [ 0.9727,  0.0923],\n",
      "        [ 2.9525, -1.1732],\n",
      "        [-0.7277,  1.3667]])\n",
      "tensor([1, 1, 1, 1, 0]) torch.Size([5])\n"
     ]
    }
   ],
   "source": [
    "import torch\n",
    "\n",
    "distances = torch.randn(5, 2)\n",
    "print(distances)\n",
    "\n",
    "dis_idx = torch.argmin(distances, axis=1)\n",
    "print(dis_idx, dis_idx.shape)"
   ]
  },
  {
   "cell_type": "markdown",
   "metadata": {},
   "source": [
    "## torch.linspace"
   ]
  },
  {
   "cell_type": "code",
   "execution_count": 5,
   "metadata": {},
   "outputs": [
    {
     "name": "stdout",
     "output_type": "stream",
     "text": [
      "tensor([ 1.,  2.,  3.,  4.,  5.,  6.,  7.,  8.,  9., 10.]) torch.Size([10])\n",
      "3 <class 'tuple'>\n",
      "(tensor([1., 2., 3., 4.]), tensor([5., 6., 7., 8.]), tensor([ 9., 10.]))\n"
     ]
    }
   ],
   "source": [
    "import torch\n",
    "\n",
    "X = torch.linspace(1, 10, 10)\n",
    "print(X, X.shape)\n",
    "\n",
    "X_splited = X.split(4)\n",
    "print(len(X_splited), type(X_splited))\n",
    "print(X_splited)"
   ]
  },
  {
   "cell_type": "markdown",
   "metadata": {},
   "source": [
    "## torch.cdist\n",
    "https://pytorch.org/docs/stable/generated/torch.cdist.html"
   ]
  },
  {
   "cell_type": "code",
   "execution_count": 4,
   "metadata": {},
   "outputs": [
    {
     "name": "stdout",
     "output_type": "stream",
     "text": [
      "tensor([[0., 1.],\n",
      "        [2., 3.]]) torch.Size([2, 2])\n",
      "tensor([[0., 1.],\n",
      "        [2., 3.],\n",
      "        [4., 5.]]) torch.float32 torch.Size([3, 2])\n",
      "tensor([[0.0000, 2.8284],\n",
      "        [2.8284, 0.0000],\n",
      "        [5.6569, 2.8284]]) torch.Size([3, 2])\n"
     ]
    }
   ],
   "source": [
    "import torch\n",
    "\n",
    "x1 = torch.arange(4).reshape(2, 2).to(torch.float)\n",
    "x2 = torch.arange(6).reshape(3, 2).to(torch.float)\n",
    "print(x1, x1.shape)\n",
    "print(x2, x2.dtype, x2.shape)\n",
    "\n",
    "dist = torch.cdist(x1, x2)\n",
    "dist = torch.cdist(x2, x1)\n",
    "print(dist, dist.shape)"
   ]
  },
  {
   "cell_type": "markdown",
   "metadata": {},
   "source": [
    "## torch.topk"
   ]
  },
  {
   "cell_type": "code",
   "execution_count": 10,
   "metadata": {},
   "outputs": [
    {
     "name": "stdout",
     "output_type": "stream",
     "text": [
      "tensor([[ 0.3988, -0.4285,  0.9232, -0.0042, -1.7357],\n",
      "        [-0.5347,  1.1426, -1.2428,  0.7063,  1.0780],\n",
      "        [ 0.9742, -0.0708,  0.3661,  0.8740,  0.9038],\n",
      "        [ 0.5233,  0.0808,  0.3399, -0.7865,  0.0210]])\n",
      "tensor([[-0.4285, -1.7357, -0.0042],\n",
      "        [-0.5347, -1.2428,  0.7063],\n",
      "        [ 0.3661, -0.0708,  0.8740],\n",
      "        [-0.7865,  0.0210,  0.0808]])\n",
      "tensor([[1, 4, 3],\n",
      "        [0, 2, 3],\n",
      "        [2, 1, 3],\n",
      "        [3, 4, 1]])\n"
     ]
    }
   ],
   "source": [
    "import torch\n",
    "\n",
    "pred = torch.randn((4, 5))\n",
    "print(pred)\n",
    "values, indices = pred.topk(3, dim=-1, largest=False, sorted=False)\n",
    "print(values)\n",
    "print(indices)\n",
    "\n",
    "pc = torch.randn(100, 3)\n",
    "pc = pc[indices]\n",
    "print(pc.shape)"
   ]
  },
  {
   "cell_type": "code",
   "execution_count": 2,
   "metadata": {},
   "outputs": [
    {
     "name": "stdout",
     "output_type": "stream",
     "text": [
      "tensor([[ 0.4793, -0.6942, -0.0746],\n",
      "        [-0.5317,  1.2179,  1.0645],\n",
      "        [-0.7935,  2.3039, -0.7851],\n",
      "        [ 0.3673,  1.7328, -0.6026],\n",
      "        [-0.1441,  0.9631, -0.7099]])\n"
     ]
    }
   ],
   "source": [
    "import torch\n",
    "\n",
    "q_loc = torch.normal(mean=0.0, std=1,\n",
    "                     size=(5, 3))\n",
    "print(q_loc)"
   ]
  },
  {
   "cell_type": "markdown",
   "metadata": {},
   "source": [
    "## torch.repeat_interleave\n",
    "https://blog.csdn.net/weixin_45261707/article/details/119187799"
   ]
  },
  {
   "cell_type": "code",
   "execution_count": 7,
   "metadata": {},
   "outputs": [
    {
     "name": "stdout",
     "output_type": "stream",
     "text": [
      "tensor([[0, 1],\n",
      "        [2, 3],\n",
      "        [4, 5]]) torch.Size([3, 2])\n",
      "tensor([0, 1, 2, 3, 4, 5]) torch.Size([6])\n",
      "tensor([[0, 1],\n",
      "        [2, 3],\n",
      "        [4, 5]])\n"
     ]
    }
   ],
   "source": [
    "import torch\n",
    "\n",
    "B = 6\n",
    "N = 1\n",
    "\n",
    "batch = torch.arange(B).reshape(3, 2)\n",
    "print(batch, batch.shape)\n",
    "\n",
    "batch = torch.repeat_interleave(batch, N)\n",
    "print(batch, batch.shape)\n",
    "batch = batch.reshape(3, 2)\n",
    "print(batch)"
   ]
  },
  {
   "cell_type": "markdown",
   "metadata": {},
   "source": [
    "## torch.randperm"
   ]
  },
  {
   "cell_type": "code",
   "execution_count": 3,
   "metadata": {},
   "outputs": [
    {
     "name": "stdout",
     "output_type": "stream",
     "text": [
      "tensor([1, 4, 3, 0, 6, 7, 9, 8, 2, 5]) torch.Size([10]) torch.int64\n"
     ]
    }
   ],
   "source": [
    "import torch\n",
    "\n",
    "index = torch.randperm(10)\n",
    "print(index, index.shape, index.dtype)"
   ]
  },
  {
   "cell_type": "markdown",
   "metadata": {},
   "source": [
    "## torch.cumsum\n",
    "https://pytorch.org/docs/stable/generated/torch.cumsum.html"
   ]
  },
  {
   "cell_type": "code",
   "execution_count": 7,
   "metadata": {},
   "outputs": [
    {
     "name": "stdout",
     "output_type": "stream",
     "text": [
      "tensor([[0, 1, 2, 3, 4],\n",
      "        [5, 6, 7, 8, 9]]) torch.Size([2, 5])\n",
      "tensor([[ 0,  1,  3,  6, 10],\n",
      "        [ 5, 11, 18, 26, 35]]) torch.Size([2, 5])\n"
     ]
    }
   ],
   "source": [
    "import torch\n",
    "\n",
    "a = torch.arange(10).reshape(2, 5)\n",
    "print(a, a.shape)\n",
    "out = torch.cumsum(a, dim=1)\n",
    "print(out, out.shape)"
   ]
  },
  {
   "cell_type": "markdown",
   "metadata": {},
   "source": [
    "## Transpose"
   ]
  },
  {
   "cell_type": "code",
   "execution_count": 5,
   "metadata": {},
   "outputs": [
    {
     "name": "stdout",
     "output_type": "stream",
     "text": [
      "torch.Size([5, 3, 1024])\n"
     ]
    }
   ],
   "source": [
    "import torch\n",
    "\n",
    "input = torch.randn(5, 1024, 3)\n",
    "\n",
    "input = input.transpose(2, 1)\n",
    "# input = input.transpose(1, 2)\n",
    "print(input.shape)"
   ]
  }
 ],
 "metadata": {
  "kernelspec": {
   "display_name": "Python 3.8.13 ('py38-torch100-cu11')",
   "language": "python",
   "name": "python3"
  },
  "language_info": {
   "codemirror_mode": {
    "name": "ipython",
    "version": 3
   },
   "file_extension": ".py",
   "mimetype": "text/x-python",
   "name": "python",
   "nbconvert_exporter": "python",
   "pygments_lexer": "ipython3",
   "version": "3.8.13 (default, Oct 21 2022, 23:50:54) \n[GCC 11.2.0]"
  },
  "orig_nbformat": 4,
  "vscode": {
   "interpreter": {
    "hash": "56d0891f27fe2db3830dc2a05bc70f05135b0c30ed7c190a150d1aca2da3af60"
   }
  }
 },
 "nbformat": 4,
 "nbformat_minor": 2
}
