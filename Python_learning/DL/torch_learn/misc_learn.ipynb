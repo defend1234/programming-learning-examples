{
 "cells": [
  {
   "cell_type": "code",
   "execution_count": 12,
   "metadata": {},
   "outputs": [],
   "source": [
    "import torch"
   ]
  },
  {
   "cell_type": "code",
   "execution_count": 29,
   "metadata": {},
   "outputs": [
    {
     "name": "stdout",
     "output_type": "stream",
     "text": [
      "tensor([2, 0, 1, 2])\n"
     ]
    }
   ],
   "source": [
    "indices = torch.tensor([2, 0, 1, 2])\n",
    "unique_indices = torch.unique_consecutive(indices)\n",
    "print(unique_indices)"
   ]
  },
  {
   "cell_type": "code",
   "execution_count": 4,
   "metadata": {},
   "outputs": [],
   "source": [
    "import torch\n",
    "from torch.nn import functional as F\n",
    "\n",
    "def get_inter_keypoint_loss(img_feats_kd, pts_feats_kd):\n",
    "    \"\"\"Calculate the inter-keypoint similarities, guide the student keypoint features to mimic the feature relationships between different N keypoints of the teacher’s\"\"\"\n",
    "    C_img = img_feats_kd.shape[1] \n",
    "    C_pts = pts_feats_kd.shape[1]\n",
    "    N = 10\n",
    "    \n",
    "    img_feats_kd = img_feats_kd.view(-1,C_img,N).permute(0,2,1).matmul(\n",
    "        img_feats_kd.view(-1,C_img,N)) #-1,N,N\n",
    "    pts_feats_kd = pts_feats_kd.view(-1,C_pts,N).permute(0,2,1).matmul(\n",
    "        pts_feats_kd.view(-1,C_pts,N))\n",
    "    \n",
    "    img_feats_kd = F.normalize(img_feats_kd, dim=2)\n",
    "    pts_feats_kd = F.normalize(pts_feats_kd, dim=2)\n",
    "    \n",
    "    loss_inter_keypoint = F.mse_loss(img_feats_kd, pts_feats_kd, reduction='none')\n",
    "    loss_inter_keypoint = loss_inter_keypoint.sum(-1)\n",
    "    loss_inter_keypoint = loss_inter_keypoint.mean()\n",
    "    return loss_inter_keypoint\n",
    "\n",
    "\n",
    "C_img = 8\n",
    "C_pts = 12\n",
    "N = 10\n",
    "\n",
    "img_feats_kd = torch.randn(1, C_img, N)\n",
    "pts_feats_kd = torch.randn(1, C_pts, N)\n",
    "\n",
    "loss_inter_keypoint = get_inter_keypoint_loss(img_feats_kd, pts_feats_kd)\n",
    "print(loss_inter_keypoint)\n"
   ]
  },
  {
   "cell_type": "markdown",
   "metadata": {},
   "source": [
    "## torch_scatter"
   ]
  },
  {
   "cell_type": "code",
   "execution_count": 3,
   "metadata": {},
   "outputs": [
    {
     "name": "stdout",
     "output_type": "stream",
     "text": [
      "tensor([[0, 2, 0, 0],\n",
      "        [1, 0, 0, 0],\n",
      "        [1, 1, 0, 2]]) x\n",
      "tensor([[0, 0, 0, 2],\n",
      "        [0, 0, 0, 1],\n",
      "        [0, 1, 1, 2]]) sorted\n",
      "tensor([[0, 2, 3, 1],\n",
      "        [1, 2, 3, 0],\n",
      "        [2, 0, 1, 3]]) indices\n",
      "tensor([[ 0.,  1.,  2.,  3.],\n",
      "        [ 4.,  5.,  6.,  7.],\n",
      "        [ 8.,  9., 10., 11.]]) data\n",
      "tensor([[ 1.6667,  0.0000,  1.0000],\n",
      "        [ 6.0000,  4.0000,  0.0000],\n",
      "        [10.0000,  8.5000, 11.0000]]) scatter_mean output\n",
      "tensor([[ 0.,  2.,  3.,  1.],\n",
      "        [ 5.,  6.,  7.,  4.],\n",
      "        [10.,  8.,  9., 11.]])\n",
      "tensor([[ 1.0000,  0.0000,  3.0000],\n",
      "        [ 5.0000,  7.0000,  0.0000],\n",
      "        [ 8.0000,  9.5000, 11.0000]])\n",
      "tensor([[ 1.6667,  0.0000,  1.0000],\n",
      "        [ 6.0000,  4.0000,  0.0000],\n",
      "        [10.0000,  8.5000, 11.0000]]) sorted_output\n"
     ]
    }
   ],
   "source": [
    "from torch_scatter import scatter_mean, scatter_add\n",
    "import torch\n",
    "\n",
    "\n",
    "x = torch.randint(3, (3, 4))\n",
    "print(x, \"x\")\n",
    "sorted, indices = torch.sort(x, -1)\n",
    "print(sorted, \"sorted\")\n",
    "print(indices, \"indices\")\n",
    "\n",
    "data = torch.arange(12).reshape(3, 4).float()\n",
    "print(data, 'data')\n",
    "\n",
    "output = scatter_mean(data, x, dim=-1)\n",
    "print(output, 'scatter_mean output')\n",
    "\n",
    "sorted_data = torch.gather(data, -1, indices)\n",
    "print(sorted_data)\n",
    "\n",
    "output = scatter_mean(data, sorted, dim=-1)\n",
    "print(output)\n",
    "\n",
    "sorted_output = scatter_mean(sorted_data, sorted, dim=-1)\n",
    "print(sorted_output, \"sorted_output\")\n",
    "\n",
    "\n"
   ]
  }
 ],
 "metadata": {
  "kernelspec": {
   "display_name": "bevdet_py38",
   "language": "python",
   "name": "python3"
  },
  "language_info": {
   "codemirror_mode": {
    "name": "ipython",
    "version": 3
   },
   "file_extension": ".py",
   "mimetype": "text/x-python",
   "name": "python",
   "nbconvert_exporter": "python",
   "pygments_lexer": "ipython3",
   "version": "3.8.16"
  }
 },
 "nbformat": 4,
 "nbformat_minor": 2
}
