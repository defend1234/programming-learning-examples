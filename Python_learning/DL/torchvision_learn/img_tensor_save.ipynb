{
 "cells": [
  {
   "cell_type": "code",
   "execution_count": 15,
   "metadata": {},
   "outputs": [],
   "source": [
    "%matplotlib inline\n",
    "import torch\n",
    "import matplotlib\n",
    "import torchvision\n",
    "import matplotlib.pyplot as plt\n",
    "import cv2\n",
    "from PIL import Image\n",
    "import numpy as np"
   ]
  },
  {
   "cell_type": "markdown",
   "metadata": {},
   "source": [
    "## Save a image from OpenCV reader"
   ]
  },
  {
   "cell_type": "markdown",
   "metadata": {},
   "source": [
    "### Save RGB image"
   ]
  },
  {
   "cell_type": "code",
   "execution_count": 13,
   "metadata": {},
   "outputs": [],
   "source": [
    "src_img_path = \"./data/obama.jpg\"\n",
    "src_img = cv2.imread(src_img_path)\n",
    "\n",
    "## Change the BGR order to RGB order\n",
    "src_img = cv2.cvtColor(src_img, cv2.COLOR_BGR2RGB)\n",
    "\n",
    "image = torch.from_numpy(src_img).type(torch.float)\n",
    "image = image.permute(2, 0, 1) / 255.0 # to (3, H, W) in range [0, 1]\n",
    "\n",
    "torchvision.utils.save_image(image, fp=f'./data/torch_save.png') # save tensor to image in range [0., 1.0]\n",
    "\n",
    "image = image * 2.0 - 1.0\n",
    "torchvision.utils.save_image(image, fp=f'./data/torch_save_2.png')\n",
    "\n",
    "# grid_image = torchvision.utils.make_grid(image, nrow=16, padding=5)"
   ]
  },
  {
   "cell_type": "markdown",
   "metadata": {},
   "source": [
    "### Save Gray image"
   ]
  },
  {
   "cell_type": "code",
   "execution_count": 16,
   "metadata": {},
   "outputs": [
    {
     "name": "stdout",
     "output_type": "stream",
     "text": [
      "torch.Size([512, 512])\n"
     ]
    }
   ],
   "source": [
    "src_img_path = \"./data/obama.jpg\"\n",
    "src_img = cv2.imread(src_img_path)\n",
    "\n",
    "## Change the BGR order to RGB order\n",
    "src_img = cv2.cvtColor(src_img, cv2.COLOR_BGR2RGB)\n",
    "\n",
    "image = torch.from_numpy(src_img).type(torch.float)\n",
    "image = image.permute(2, 0, 1) / 255.0 # to (3, H, W) in range [0, 1]\n",
    "\n",
    "## Below two both OK\n",
    "# image = image[0:1,...]\n",
    "image = image[0]\n",
    "\n",
    "print(image.shape)\n",
    "torchvision.utils.save_image(image, fp=f'./data/torch_save_gray1.png') # save tensor to image in range [0., 1.0]\n"
   ]
  },
  {
   "cell_type": "markdown",
   "metadata": {},
   "source": [
    "## Save multiple images"
   ]
  },
  {
   "cell_type": "code",
   "execution_count": 26,
   "metadata": {},
   "outputs": [
    {
     "name": "stdout",
     "output_type": "stream",
     "text": [
      "torch.Size([3, 512, 512]) tensor(0.) tensor(239.)\n",
      "torch.Size([3, 1, 512, 512])\n",
      "torch.Size([3, 512, 1536])\n"
     ]
    }
   ],
   "source": [
    "path = \"./data/image_grid.jpg\"\n",
    "\n",
    "img_src_path = \"./data/obama.jpg\"\n",
    "img_src = Image.open(img_src_path)\n",
    "img_src = torch.from_numpy(np.array(img_src).astype(np.float32)).permute(2, 0, 1)\n",
    "# img_src = torchvision.transforms.ToTensor()(img_src)\n",
    "print(img_src.shape, img_src.min(), img_src.max())\n",
    "\n",
    "img_src = img_src[0:1, ...]\n",
    "vis_images = torch.stack([img_src, img_src, img_src], dim=0)\n",
    "print(vis_images.shape)\n",
    "\n",
    "# image_grid = torchvision.utils.make_grid(vis_images, nrow=3, padding=0, normalize=True, value_range=(0, 255))\n",
    "image_grid = torchvision.utils.make_grid(vis_images, nrow=3, padding=0)\n",
    "\n",
    "print(image_grid.shape)\n",
    "\n",
    "# torchvision.utils.save_image(image_grid, path, nrow=1)\n",
    "\n",
    "torchvision.utils.save_image(vis_images / 255.0, path, nrow=2, padding=0) # save a batch of images directly\n"
   ]
  }
 ],
 "metadata": {
  "kernelspec": {
   "display_name": "Python 3.6.13 ('py36-torch100-cu11')",
   "language": "python",
   "name": "python3"
  },
  "language_info": {
   "codemirror_mode": {
    "name": "ipython",
    "version": 3
   },
   "file_extension": ".py",
   "mimetype": "text/x-python",
   "name": "python",
   "nbconvert_exporter": "python",
   "pygments_lexer": "ipython3",
   "version": "3.6.13"
  },
  "orig_nbformat": 4,
  "vscode": {
   "interpreter": {
    "hash": "5a061662cd1728e1a413eb44216c5a5b0f5a1d783e658cf909fe334fc01234e3"
   }
  }
 },
 "nbformat": 4,
 "nbformat_minor": 2
}
