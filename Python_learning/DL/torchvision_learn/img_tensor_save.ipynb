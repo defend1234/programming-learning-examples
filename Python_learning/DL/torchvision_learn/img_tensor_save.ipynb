{
 "cells": [
  {
   "cell_type": "code",
   "execution_count": 5,
   "metadata": {},
   "outputs": [],
   "source": [
    "%matplotlib inline\n",
    "import torch\n",
    "import matplotlib\n",
    "import torchvision\n",
    "import matplotlib.pyplot as plt\n",
    "import cv2"
   ]
  },
  {
   "cell_type": "markdown",
   "metadata": {},
   "source": [
    "## Save a image from OpenCV reader"
   ]
  },
  {
   "cell_type": "markdown",
   "metadata": {},
   "source": [
    "### Save RGB image"
   ]
  },
  {
   "cell_type": "code",
   "execution_count": 13,
   "metadata": {},
   "outputs": [],
   "source": [
    "src_img_path = \"./data/obama.jpg\"\n",
    "src_img = cv2.imread(src_img_path)\n",
    "\n",
    "## Change the BGR order to RGB order\n",
    "src_img = cv2.cvtColor(src_img, cv2.COLOR_BGR2RGB)\n",
    "\n",
    "image = torch.from_numpy(src_img).type(torch.float)\n",
    "image = image.permute(2, 0, 1) / 255.0 # to (3, H, W) in range [0, 1]\n",
    "\n",
    "torchvision.utils.save_image(image, fp=f'./data/torch_save.png') # save tensor to image in range [0., 1.0]\n",
    "\n",
    "image = image * 2.0 - 1.0\n",
    "torchvision.utils.save_image(image, fp=f'./data/torch_save_2.png')\n",
    "\n",
    "# grid_image = torchvision.utils.make_grid(image, nrow=16, padding=5)"
   ]
  },
  {
   "cell_type": "markdown",
   "metadata": {},
   "source": [
    "### Save Gray image"
   ]
  },
  {
   "cell_type": "code",
   "execution_count": 22,
   "metadata": {},
   "outputs": [
    {
     "name": "stdout",
     "output_type": "stream",
     "text": [
      "torch.Size([512, 512])\n"
     ]
    }
   ],
   "source": [
    "src_img_path = \"./data/obama.jpg\"\n",
    "src_img = cv2.imread(src_img_path)\n",
    "\n",
    "## Change the BGR order to RGB order\n",
    "src_img = cv2.cvtColor(src_img, cv2.COLOR_BGR2RGB)\n",
    "\n",
    "image = torch.from_numpy(src_img).type(torch.float)\n",
    "image = image.permute(2, 0, 1) / 255.0 # to (3, H, W) in range [0, 1]\n",
    "\n",
    "## Below two both OK\n",
    "# image = image[0:1,...]\n",
    "image = image[0]\n",
    "\n",
    "print(image.shape)\n",
    "torchvision.utils.save_image(image, fp=f'./data/torch_save_gray1.png') # save tensor to image in range [0., 1.0]\n"
   ]
  }
 ],
 "metadata": {
  "interpreter": {
   "hash": "dabcd94ff1f005d51473168cf6e60c597eb83fb59bba8cc22d899545378abe2b"
  },
  "kernelspec": {
   "display_name": "Python 3.6.13 ('GAN')",
   "language": "python",
   "name": "python3"
  },
  "language_info": {
   "codemirror_mode": {
    "name": "ipython",
    "version": 3
   },
   "file_extension": ".py",
   "mimetype": "text/x-python",
   "name": "python",
   "nbconvert_exporter": "python",
   "pygments_lexer": "ipython3",
   "version": "3.6.13"
  },
  "orig_nbformat": 4
 },
 "nbformat": 4,
 "nbformat_minor": 2
}
