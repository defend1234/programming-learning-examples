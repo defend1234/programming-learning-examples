{
 "cells": [
  {
   "cell_type": "code",
   "execution_count": 2,
   "metadata": {},
   "outputs": [],
   "source": [
    "import numpy as np\n",
    "from scipy.io import loadmat\n",
    "from glob import glob\n",
    "import os.path as osp"
   ]
  },
  {
   "cell_type": "code",
   "execution_count": null,
   "metadata": {},
   "outputs": [],
   "source": [
    "file_path = \"/home/haimingzhang/Research/Face/FaceFusionFormer/data/id00002/obama_weekly_003/deep3dface/000879.mat\"\n",
    "face_3d_params = loadmat(file_path) # dict type\n",
    "\n",
    "exp = face_3d_params['id']\n",
    "print(exp.shape)\n",
    "print(exp.min(), exp.max())\n",
    "print(exp)\n",
    "# np.save(\"./exp.npy\", exp)"
   ]
  },
  {
   "cell_type": "code",
   "execution_count": 9,
   "metadata": {},
   "outputs": [
    {
     "name": "stdout",
     "output_type": "stream",
     "text": [
      "(7243, 80)\n",
      "0.8412685\n"
     ]
    }
   ],
   "source": [
    "\n",
    "def load_sequence_params(dir_path, key=\"id\"):\n",
    "    all_mat_files = sorted(glob(osp.join(dir_path, \"deep3dface\", \"*.mat\")))\n",
    "    \n",
    "    params = []\n",
    "    for file in all_mat_files:\n",
    "        face_3d_params = loadmat(file) # dict type\n",
    "        data = face_3d_params[key]\n",
    "        params.append(data)\n",
    "    params = np.concatenate(params, axis=0)\n",
    "    return params\n",
    "\n",
    "params = load_sequence_params(\"/home/haimingzhang/Research/Face/FaceFusionFormer/data/id00002/obama_weekly_003\")\n",
    "print(params.shape)\n",
    "\n",
    "params_diff = params[1:, :] - params[:-1, :]\n",
    "print(params_diff.max())\n",
    "\n"
   ]
  },
  {
   "cell_type": "markdown",
   "metadata": {},
   "source": [
    "## Explore the BFM model processed by MSRA "
   ]
  },
  {
   "cell_type": "code",
   "execution_count": 4,
   "metadata": {},
   "outputs": [
    {
     "name": "stdout",
     "output_type": "stream",
     "text": [
      "int64 (68,)\n",
      "[16644 16888 16467 16264 32244 32939 33375 33654 33838 34022 34312 34766\n",
      " 35472 27816 27608 27208 27440 28111 28787 29177 29382 29549 30288 30454\n",
      " 30662 31056 31716  8161  8177  8187  8192  6515  7243  8204  9163  9883\n",
      "  2215  3886  4920  5828  4801  3640 10455 11353 12383 14066 12653 11492\n",
      "  5522  6025  7495  8215  8935 10395 10795  9555  8836  8236  7636  6915\n",
      "  5909  7384  8223  9064 10537  8829  8229  7629]\n",
      "(35709, 3)\n",
      "(5952,)\n",
      "(5000, 3)\n"
     ]
    }
   ],
   "source": [
    "import os\n",
    "import random\n",
    "\n",
    "model = loadmat(os.path.join(\"/data/zhanghm/3DMM/BFM\", \"BFM_model_front.mat\"))\n",
    "mean_shape = model['meanshape'].astype(np.float32) # [3*N,1]\n",
    "id_base = model['idBase'].astype(np.float32) # [3*N,80]\n",
    "exp_base = model['exBase'].astype(np.float32) # [3*N,64]\n",
    "key_point = np.squeeze(model['keypoints']).astype(np.int64) - 1\n",
    "print(key_point.dtype, key_point.shape)\n",
    "print(key_point)\n",
    "\n",
    "mean_shape = mean_shape.reshape(-1, 3)\n",
    "print(mean_shape.shape)\n",
    "\n",
    "index = np.arange(0, 35709, 6)\n",
    "print(index.shape)\n",
    "\n",
    "index = np.random.choice(len(mean_shape), 5000, replace=False)\n",
    "\n",
    "mean_shape = mean_shape[index, :]\n",
    "print(mean_shape.shape)\n",
    "\n",
    "def write_obj(points, file, rgb=False):\n",
    "    \"\"\"Write obj file which can be opened by MeshLab\n",
    "\n",
    "    Args:\n",
    "        points (np.ndarray): (N, 3)\n",
    "        file (str|path): save path\n",
    "        rgb (bool, optional): including rgb information. Defaults to False.\n",
    "    \"\"\"\n",
    "    fout = open(file, 'w')\n",
    "    for i in range(points.shape[0]):\n",
    "        if not rgb:\n",
    "            fout.write('v %f %f %f %d %d %d\\n' % (\n",
    "                points[i, 0], points[i, 1], points[i, 2], 255, 255, 0))\n",
    "        else:\n",
    "            fout.write('v %f %f %f %d %d %d\\n' % (\n",
    "                points[i, 0], points[i, 1], points[i, 2], points[i, -3] * 255, points[i, -2] * 255,\n",
    "                points[i, -1] * 255))\n",
    "\n",
    "\n",
    "write_obj(mean_shape, \"mean_face_sample_random.obj\")"
   ]
  },
  {
   "cell_type": "code",
   "execution_count": 41,
   "metadata": {},
   "outputs": [
    {
     "name": "stdout",
     "output_type": "stream",
     "text": [
      "(35709, 3)\n",
      "(5702, 3)\n"
     ]
    }
   ],
   "source": [
    "import open3d as o3d\n",
    "pcd = o3d.io.read_point_cloud(\"mean_face_pcd.xyz\")\n",
    "point_np = np.asarray(pcd.points)\n",
    "print(point_np.shape)\n",
    "downpcd = pcd.voxel_down_sample(voxel_size=0.03)\n",
    "\n",
    "point_np = np.asarray(downpcd.points)\n",
    "print(point_np.shape)\n",
    "\n",
    "write_obj(point_np, \"mean_face_sampling_0.03.obj\")"
   ]
  },
  {
   "cell_type": "code",
   "execution_count": null,
   "metadata": {},
   "outputs": [],
   "source": []
  }
 ],
 "metadata": {
  "interpreter": {
   "hash": "dabcd94ff1f005d51473168cf6e60c597eb83fb59bba8cc22d899545378abe2b"
  },
  "kernelspec": {
   "display_name": "Python 3.6.13 ('GAN')",
   "language": "python",
   "name": "python3"
  },
  "language_info": {
   "codemirror_mode": {
    "name": "ipython",
    "version": 3
   },
   "file_extension": ".py",
   "mimetype": "text/x-python",
   "name": "python",
   "nbconvert_exporter": "python",
   "pygments_lexer": "ipython3",
   "version": "3.6.13"
  },
  "orig_nbformat": 4
 },
 "nbformat": 4,
 "nbformat_minor": 2
}
