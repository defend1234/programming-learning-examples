{
 "cells": [
  {
   "cell_type": "code",
   "execution_count": 3,
   "metadata": {},
   "outputs": [
    {
     "name": "stdout",
     "output_type": "stream",
     "text": [
      "tensor([0.0727, 0.0692, 0.0838, 0.0681, 0.0601, 0.0741, 0.0823, 0.0688, 0.0773,\n",
      "        0.0681, 0.0641, 0.0527, 0.0655, 0.0563, 0.0558, 0.0541, 0.0538, 0.0468],\n",
      "       dtype=torch.float64) torch.Size([18])\n",
      "tensor([0.0000, 0.0727, 0.0692, 0.0838, 0.0681, 0.0601, 0.0741, 0.0823, 0.0688,\n",
      "        0.0773, 0.0681, 0.0641, 0.0527, 0.0655, 0.0563, 0.0558, 0.0541, 0.0538,\n",
      "        0.0468], dtype=torch.float64) torch.Size([19])\n",
      "tensor([0.0000, 0.0727, 0.0692, 0.0838, 0.0681, 0.0601, 0.0741, 0.0823, 0.0688,\n",
      "        0.0773, 0.0681, 0.0641, 0.0527, 0.0655, 0.0563, 0.0558, 0.0541, 0.0538,\n",
      "        0.0047], dtype=torch.float64) torch.Size([19])\n"
     ]
    }
   ],
   "source": [
    "import numpy as np\n",
    "import torch\n",
    "\n",
    "nusc_class_frequencies = np.array([\n",
    " 944004,\n",
    " 1897170,\n",
    " 152386,\n",
    " 2391677,\n",
    " 16957802,\n",
    " 724139,\n",
    " 189027,\n",
    " 2074468,\n",
    " 413451,\n",
    " 2384460,\n",
    " 5916653,\n",
    " 175883646,\n",
    " 4275424,\n",
    " 51393615,\n",
    " 61411620,\n",
    " 105975596,\n",
    " 116424404,\n",
    " 1892500630\n",
    " ])\n",
    "\n",
    "out_channel = 19\n",
    "class_weights = torch.from_numpy(1 / np.log(nusc_class_frequencies[:out_channel] + 0.001))\n",
    "print(class_weights, class_weights.shape)\n",
    "\n",
    "class_weights = torch.cat([torch.tensor([0]), class_weights])\n",
    "print(class_weights, class_weights.shape)\n",
    "\n",
    "class_weights[-1] = 0.1 * class_weights[-1]\n",
    "print(class_weights, class_weights.shape)"
   ]
  },
  {
   "cell_type": "code",
   "execution_count": 9,
   "metadata": {},
   "outputs": [
    {
     "name": "stdout",
     "output_type": "stream",
     "text": [
      "[[ 0.  1.  2.  3.]\n",
      " [ 4.  5.  6.  7.]\n",
      " [ 8.  9. 10. 11.]]\n",
      "[[ 0.   0.5  2.   6. ]\n",
      " [ 8.   2.5  6.  14. ]\n",
      " [16.   4.5 10.  22. ]]\n",
      "[[ 0.   0.5  2.   3. ]\n",
      " [ 8.   2.5  6.   7. ]\n",
      " [16.   4.5 10.  11. ]]\n",
      "[[100.   1.   2.   3.]\n",
      " [  4.   5.   6.   7.]\n",
      " [  8.   9.  10.  11.]]\n",
      "[[100.   1.   2.   3.]\n",
      " [  4.   5.   6.   7.]\n",
      " [  8.   9.  10.  11.]]\n"
     ]
    }
   ],
   "source": [
    "import numpy as np\n",
    "\n",
    "a = np.arange(12).reshape(3, 4).astype(np.float32)\n",
    "print(a)\n",
    "\n",
    "last_dim = a[:, -1].copy()\n",
    "a *= np.array([2.0, 0.5, 1.0, 2.0])\n",
    "print(a)\n",
    "a[:, -1] = last_dim\n",
    "print(a)\n",
    "\n",
    "\n",
    "data = np.arange(12).reshape(3, 4).astype(np.float32)\n",
    "data_dict = {'coord': data}\n",
    "\n",
    "coord = data_dict['coord']\n",
    "coord[0, 0] = 100\n",
    "print(data_dict['coord'])\n",
    "print(coord)"
   ]
  }
 ],
 "metadata": {
  "kernelspec": {
   "display_name": "bevdet_py38",
   "language": "python",
   "name": "python3"
  },
  "language_info": {
   "codemirror_mode": {
    "name": "ipython",
    "version": 3
   },
   "file_extension": ".py",
   "mimetype": "text/x-python",
   "name": "python",
   "nbconvert_exporter": "python",
   "pygments_lexer": "ipython3",
   "version": "3.8.16"
  }
 },
 "nbformat": 4,
 "nbformat_minor": 2
}
