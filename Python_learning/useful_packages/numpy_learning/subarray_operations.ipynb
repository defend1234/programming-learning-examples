{
 "cells": [
  {
   "cell_type": "code",
   "execution_count": 2,
   "metadata": {},
   "outputs": [],
   "source": [
    "import numpy as np\n",
    "from icecream import ic as print"
   ]
  },
  {
   "cell_type": "markdown",
   "metadata": {},
   "source": [
    "## Use mask vector to extract subarray"
   ]
  },
  {
   "cell_type": "code",
   "execution_count": 4,
   "metadata": {},
   "outputs": [
    {
     "name": "stderr",
     "output_type": "stream",
     "text": [
      "ic| mask_vector.shape: (7,)\n",
      "ic| data_index: array([0, 1, 2, 3, 4, 5, 6])\n",
      "ic| remain_index: array([1, 3, 4, 5])\n"
     ]
    },
    {
     "data": {
      "text/plain": [
       "array([1, 3, 4, 5])"
      ]
     },
     "execution_count": 4,
     "metadata": {},
     "output_type": "execute_result"
    }
   ],
   "source": [
    "mask_vector = np.array([1, 0, 1, 0, 0, 0, 1], dtype=bool)\n",
    "print(mask_vector.shape)\n",
    "\n",
    "data_index = np.arange(7)\n",
    "print(data_index)\n",
    "\n",
    "remain_index = data_index[~mask_vector]\n",
    "print(remain_index)"
   ]
  },
  {
   "cell_type": "code",
   "execution_count": 9,
   "metadata": {},
   "outputs": [
    {
     "name": "stderr",
     "output_type": "stream",
     "text": [
      "ic| mask_vector.shape: (4,), mask_vector: array([3, 0, 1, 0])\n",
      "ic| data_index: array([0, 1, 2, 3, 4, 5, 6])\n",
      "ic| remain_index: array([3, 0, 1, 0])\n"
     ]
    },
    {
     "data": {
      "text/plain": [
       "array([3, 0, 1, 0])"
      ]
     },
     "execution_count": 9,
     "metadata": {},
     "output_type": "execute_result"
    }
   ],
   "source": [
    "mask_vector = np.array([3, 0, 1, 0], dtype=np.int)\n",
    "print(mask_vector.shape, mask_vector)\n",
    "\n",
    "data_index = np.arange(7)\n",
    "print(data_index)\n",
    "\n",
    "remain_index = data_index[mask_vector]\n",
    "print(remain_index)"
   ]
  },
  {
   "cell_type": "markdown",
   "metadata": {},
   "source": [
    "## Use mask index to set value for another vector"
   ]
  },
  {
   "cell_type": "code",
   "execution_count": 8,
   "metadata": {},
   "outputs": [
    {
     "name": "stderr",
     "output_type": "stream",
     "text": [
      "ic| data_index: array([0., 0., 0., 0., 0., 0., 0.])\n",
      "ic| data_index: array([1., 1., 0., 0., 1., 0., 0.])\n"
     ]
    },
    {
     "data": {
      "text/plain": [
       "array([1., 1., 0., 0., 1., 0., 0.])"
      ]
     },
     "execution_count": 8,
     "metadata": {},
     "output_type": "execute_result"
    }
   ],
   "source": [
    "data_index = np.zeros(7)\n",
    "print(data_index)\n",
    "\n",
    "mask_index = np.array([1, 0, 4], dtype=np.int)\n",
    "data_index[mask_index] = 1\n",
    "\n",
    "print(data_index)\n",
    "\n"
   ]
  },
  {
   "cell_type": "markdown",
   "metadata": {},
   "source": [
    "## Access subarray"
   ]
  },
  {
   "cell_type": "code",
   "execution_count": 18,
   "metadata": {},
   "outputs": [
    {
     "name": "stdout",
     "output_type": "stream",
     "text": [
      "[2 0]\n",
      "[ True False  True False False]\n",
      "[1 3]\n",
      "(array([], dtype=int64),)\n",
      "[1, 2, 3, 5, 6]\n",
      "[3 1]\n"
     ]
    }
   ],
   "source": [
    "import numpy as np\n",
    "\n",
    "A = np.array([1, 2, 3, 5, 6])\n",
    "B = np.array([3, 1])\n",
    "\n",
    "res = list(map(lambda sub: list(filter(lambda i: A[i] == sub, range(len(A))))\n",
    "               or [None], B))\n",
    "res = np.array(res).squeeze()\n",
    "print(res)\n",
    "\n",
    "dd = np.in1d(A, B)\n",
    "print(dd)\n",
    "\n",
    "dd = A[np.in1d(A, B, invert=False)]\n",
    "print(dd)\n",
    "\n",
    "idx = np.where(B == dd)\n",
    "print(idx)\n",
    "\n",
    "AA = A.tolist()\n",
    "print(AA)\n",
    "dd = np.take(A.tolist(), res)\n",
    "print(dd)"
   ]
  },
  {
   "cell_type": "markdown",
   "metadata": {},
   "source": [
    "## Linespace the array to get subarrray"
   ]
  },
  {
   "cell_type": "code",
   "execution_count": 7,
   "metadata": {},
   "outputs": [
    {
     "name": "stdout",
     "output_type": "stream",
     "text": [
      "[ 0  1  2  3  4  5  6  7  8  9 10] 11 <class 'numpy.ndarray'>\n",
      "<class 'list'>\n",
      "[ 0  0  1  2  3  4  4  5  6  7  8  9  9 10 11 12 13 14 14 15 16 17 18 19\n",
      " 19 20 21 22 23 24 24 25 26 27 28 29 29 30 31 32 33 34 34 35 36 37 38 39\n",
      " 39 40 41 42 43 44 44 45 46 47 48 49] 60 <class 'numpy.ndarray'>\n",
      "[ 0  0  1  2  3  4  4  5  6  7  8  9  9 10 11 12 13 14 14 15 16 17 18 19\n",
      " 19 20 21 22 23 24 24 25 26 27 28 29 29 30 31 32 33 34 34 35 36 37 38 39\n",
      " 39 40 41 42 43 44 44 45 46 47 48 49]\n"
     ]
    }
   ],
   "source": [
    "import numpy as np\n",
    "TimeList = np.linspace(0, 11-1, 11, dtype=np.int)\n",
    "print(TimeList, len(TimeList), type(TimeList))\n",
    "\n",
    "TimeList = list(TimeList)\n",
    "\n",
    "print(type(TimeList))\n",
    "\n",
    "length = 100\n",
    "sub_arr = np.linspace(0, length-1, 60, dtype=np.int)\n",
    "print(sub_arr, len(sub_arr), type(sub_arr))\n",
    "\n",
    "length_list = np.array(range(100))\n",
    "sub_length_list = length_list[sub_arr]\n",
    "print(sub_length_list)"
   ]
  }
 ],
 "metadata": {
  "kernelspec": {
   "display_name": "Python 3.6.13 ('py36-torch100-cu11')",
   "language": "python",
   "name": "python3"
  },
  "language_info": {
   "codemirror_mode": {
    "name": "ipython",
    "version": 3
   },
   "file_extension": ".py",
   "mimetype": "text/x-python",
   "name": "python",
   "nbconvert_exporter": "python",
   "pygments_lexer": "ipython3",
   "version": "3.8.13"
  },
  "orig_nbformat": 4,
  "vscode": {
   "interpreter": {
    "hash": "5a061662cd1728e1a413eb44216c5a5b0f5a1d783e658cf909fe334fc01234e3"
   }
  }
 },
 "nbformat": 4,
 "nbformat_minor": 2
}
