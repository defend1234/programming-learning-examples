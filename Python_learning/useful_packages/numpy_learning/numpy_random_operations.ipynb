{
 "cells": [
  {
   "cell_type": "code",
   "execution_count": 4,
   "metadata": {},
   "outputs": [],
   "source": [
    "import numpy as np\n",
    "from icecream import ic as print\n",
    "from icecream import ic"
   ]
  },
  {
   "cell_type": "markdown",
   "metadata": {},
   "source": [
    "## Shuffle vector"
   ]
  },
  {
   "cell_type": "code",
   "execution_count": 23,
   "metadata": {},
   "outputs": [
    {
     "name": "stderr",
     "output_type": "stream",
     "text": [
      "ic| vec_data: array([2, 3, 6, 1, 0, 4, 5, 9, 8, 7])\n"
     ]
    },
    {
     "data": {
      "text/plain": [
       "array([2, 3, 6, 1, 0, 4, 5, 9, 8, 7])"
      ]
     },
     "execution_count": 23,
     "metadata": {},
     "output_type": "execute_result"
    }
   ],
   "source": [
    "vec_data = np.arange(10)\n",
    "np.random.shuffle(vec_data) # in place\n",
    "print(vec_data)"
   ]
  },
  {
   "cell_type": "code",
   "execution_count": 42,
   "metadata": {},
   "outputs": [
    {
     "name": "stderr",
     "output_type": "stream",
     "text": [
      "ic| num_masks_per_frame: 98\n",
      "ic| all_mouth_msk_index.shape: (70,)\n",
      "ic| non_mouth_patches_index.shape: (1302,)\n",
      "    non_mouth_patches_index[:12]: array([10, 11, 12, 13, 14, 15, 16, 17, 18, 19, 20, 21])\n",
      "ic| non_mouth_mask_index.shape: (616,)\n"
     ]
    }
   ],
   "source": [
    "mask_ratio = 0.5\n",
    "num_patches_per_frame = 14 * 14\n",
    "patch_size = (16, 16)\n",
    "num_masks_per_frame = int(mask_ratio * num_patches_per_frame)\n",
    "print(num_masks_per_frame)\n",
    "\n",
    "mouth_msk_index = list(range(10))\n",
    "num_mouth_msk_index = len(mouth_msk_index)\n",
    "\n",
    "\n",
    "# np.zeros(self.num_patches_per_frame - self.num_masks_per_frame),\n",
    "#             np.ones(self.num_masks_per_frame),\n",
    "\n",
    "\n",
    "frames = 8\n",
    "\n",
    "## 1) Get all mouth mask indices for all frames\n",
    "all_mouth_msk_index = [i * num_patches_per_frame + np.array(mouth_msk_index) for i in range(frames - 1)]\n",
    "all_mouth_msk_index = np.concatenate(all_mouth_msk_index)\n",
    "print(all_mouth_msk_index.shape)\n",
    "\n",
    "## 2) Get all non-mouth mask indices for all frames\n",
    "non_mouth_msk_index = np.ones(num_patches_per_frame * (frames - 1))\n",
    "non_mouth_msk_index[all_mouth_msk_index] = 0\n",
    "\n",
    "all_patches_index = np.arange(num_patches_per_frame * (frames - 1))\n",
    "non_mouth_patches_index = all_patches_index[non_mouth_msk_index.astype(bool)]\n",
    "print(non_mouth_patches_index.shape)\n",
    "\n",
    "## 3) Get the non mouth index randomly\n",
    "num_non_mouth_masks = (num_masks_per_frame - num_mouth_msk_index) * (frames - 1)\n",
    "non_mouth_mask_index = np.random.choice(non_mouth_patches_index, num_non_mouth_masks, replace=False)\n",
    "print(non_mouth_mask_index.shape)\n",
    "\n",
    "## 4) Get all masked index\n",
    "all_mask_index = np.concatenate([non_mouth_mask_index, all_mouth_msk_index])\n",
    "\n",
    "mask = np.zeros(num_patches_per_frame * (frames - 1))\n",
    "mask[all_mask_index] = 1\n",
    "\n"
   ]
  }
 ],
 "metadata": {
  "kernelspec": {
   "display_name": "Python 3.6.13 ('py36-torch100-cu11')",
   "language": "python",
   "name": "python3"
  },
  "language_info": {
   "codemirror_mode": {
    "name": "ipython",
    "version": 3
   },
   "file_extension": ".py",
   "mimetype": "text/x-python",
   "name": "python",
   "nbconvert_exporter": "python",
   "pygments_lexer": "ipython3",
   "version": "3.6.13"
  },
  "orig_nbformat": 4,
  "vscode": {
   "interpreter": {
    "hash": "5a061662cd1728e1a413eb44216c5a5b0f5a1d783e658cf909fe334fc01234e3"
   }
  }
 },
 "nbformat": 4,
 "nbformat_minor": 2
}
