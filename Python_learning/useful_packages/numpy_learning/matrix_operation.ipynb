{
 "cells": [
  {
   "cell_type": "code",
   "execution_count": 10,
   "metadata": {},
   "outputs": [],
   "source": [
    "import os\n",
    "import os.path as osp\n",
    "from glob import glob\n",
    "from tqdm import tqdm\n",
    "import time\n",
    "import numpy as np\n",
    "\n",
    "import torch"
   ]
  },
  {
   "cell_type": "markdown",
   "metadata": {},
   "source": [
    "## Broadcasting"
   ]
  },
  {
   "cell_type": "code",
   "execution_count": null,
   "metadata": {},
   "outputs": [],
   "source": []
  },
  {
   "cell_type": "markdown",
   "metadata": {},
   "source": [
    "## Matrix multiplication"
   ]
  },
  {
   "cell_type": "code",
   "execution_count": 1,
   "metadata": {},
   "outputs": [
    {
     "name": "stdout",
     "output_type": "stream",
     "text": [
      "[[36 10 56]\n",
      " [10  3 16]] (2, 3)\n"
     ]
    }
   ],
   "source": [
    "import numpy as np\n",
    "\n",
    "A = np.array([[3, 1, 4], \n",
    "              [-2, 0, 1],\n",
    "              [1, 2, 2]])\n",
    "B = np.array([[1, 0, 2], \n",
    "              [-3, 1, 1], \n",
    "              [2, -4, 1]])\n",
    "A = np.array([[4, 6],\n",
    "              [2, 1]])\n",
    "B = np.array([[3, 1, 5],\n",
    "              [4, 1, 6]])\n",
    "\n",
    "## Do the matrix multiplication\n",
    "mat_res = A @ B\n",
    "# mat_res = A + B\n",
    "print(mat_res, mat_res.shape)"
   ]
  },
  {
   "cell_type": "code",
   "execution_count": 21,
   "metadata": {},
   "outputs": [
    {
     "name": "stdout",
     "output_type": "stream",
     "text": [
      "[[ 3  5]\n",
      " [ 9 14]] (2, 2)\n",
      "tensor([[ 3.,  5.],\n",
      "        [ 9., 14.]]) torch.Size([2, 2])\n",
      "tensor([[ 3.,  5.],\n",
      "        [ 9., 14.]]) torch.Size([2, 2])\n",
      "tensor([[1., 2., 3.],\n",
      "        [4., 5., 6.]]) torch.Size([2, 3])\n"
     ]
    }
   ],
   "source": [
    "mat1 = np.array([[1, 2, 3], \n",
    "                 [4, 5, 6]])\n",
    "mat2 = np.array([[1, 2], \n",
    "                 [1, 0], \n",
    "                 [0, 1]])\n",
    "\n",
    "## Do the matrix multiplication\n",
    "mat_res = mat1 @ mat2\n",
    "print(mat_res, mat_res.shape)\n",
    "\n",
    "\n",
    "## For pytorch\n",
    "mat1 = torch.Tensor([[1, 2, 3], \n",
    "                     [4, 5, 6]])\n",
    "mat2 = torch.Tensor([[1, 2], \n",
    "                     [1, 0], \n",
    "                     [0, 1]])\n",
    "mat_res = torch.mm(mat1, mat2)\n",
    "print(mat_res, mat_res.shape)\n",
    "\n",
    "mat_res = mat1 @ mat2\n",
    "print(mat_res, mat_res.shape)\n",
    "\n",
    "disp = 0\n",
    "disp += mat1\n",
    "print(disp, disp.shape)"
   ]
  },
  {
   "cell_type": "code",
   "execution_count": null,
   "metadata": {},
   "outputs": [],
   "source": [
    "id_base = np.random.random((18, 80))\n",
    "id_coeff = np.random.random((1, 80))\n",
    "\n",
    "id = id_coeff @ id_base.T\n",
    "print(id.shape)"
   ]
  },
  {
   "attachments": {},
   "cell_type": "markdown",
   "metadata": {},
   "source": [
    "### dot operation"
   ]
  },
  {
   "cell_type": "code",
   "execution_count": 14,
   "metadata": {},
   "outputs": [
    {
     "name": "stdout",
     "output_type": "stream",
     "text": [
      "(1, 3) (3, 3)\n",
      "[[ 7.07107127e-01 -8.12478476e-08  7.07106471e-01]\n",
      " [ 4.08248305e-01 -8.16496372e-01 -4.08248842e-01]\n",
      " [ 5.77349842e-01  5.77350676e-01 -5.77350378e-01]]\n",
      "[[ 3.25565326  0.0990592  -1.84144235]] (1, 3)\n",
      "[[1. 2. 3.]]\n"
     ]
    }
   ],
   "source": [
    "import numpy as np\n",
    "\n",
    "\n",
    "v1 = np.array([[1, 2, 3]])\n",
    "R = np.arange(9).reshape(3, 3)\n",
    "R = np.array([[7.071071267127990723e-01, -8.124784756091685267e-08, 7.071064710617065430e-01], \n",
    "              [4.082483053207397461e-01, -8.164963722229003906e-01, -4.082488417625427246e-01],\n",
    "              [5.773498415946960449e-01, 5.773506760597229004e-01, -5.773503780364990234e-01]])\n",
    "print(v1.shape, R.shape)\n",
    "print(R)\n",
    "\n",
    "# output = v1.dot(R)\n",
    "output = v1 @ R\n",
    "print(output, output.shape)\n",
    "\n",
    "v1_inv = output @ np.linalg.inv(R)\n",
    "print(v1_inv)"
   ]
  },
  {
   "cell_type": "markdown",
   "metadata": {},
   "source": [
    "### Big matrix operation"
   ]
  },
  {
   "cell_type": "code",
   "execution_count": 54,
   "metadata": {},
   "outputs": [
    {
     "name": "stdout",
     "output_type": "stream",
     "text": [
      "(75, 107127)\n",
      "matrix_multi_numpy: elapsed time is 0.30770158767700195\n",
      "matrix_multi_pytorch: elapsed time is 0.06974825859069825\n",
      "elapsed time is 0.03923201560974121\n"
     ]
    }
   ],
   "source": [
    "## Conclusion: Pytorch big matrix operations are much faster than numpy's\n",
    "\n",
    "def matrix_multi_numpy():\n",
    "    \n",
    "    id_base = np.random.random((107127, 80))\n",
    "    id_coeff = np.random.random((75, 80))\n",
    "    \n",
    "    start = time.time()\n",
    "    id_info = id_coeff @ id_base.T\n",
    "    print(id_info.shape)\n",
    "    \n",
    "    end = time.time()\n",
    "    print(f\"matrix_multi_numpy: elapsed time is {end - start}\")\n",
    "\n",
    "\n",
    "def matrix_multi_pytorch():\n",
    "\n",
    "    id_base = torch.randn((107127, 80))\n",
    "    id_coeff = torch.randn((75, 80))\n",
    "\n",
    "    start = time.time()\n",
    "    for i in range(100):\n",
    "        id_base_new = id_base.cuda()\n",
    "        id_coeff_new = id_coeff.cuda()\n",
    "        # id_info = id_coeff @ id_base.T\n",
    "        id_info = torch.mm(id_base_new, id_coeff_new.T)\n",
    "\n",
    "    end = time.time()\n",
    "    print(f\"matrix_multi_pytorch: elapsed time is {(end - start) / 100}\")\n",
    "    \n",
    "\n",
    "matrix_multi_numpy()\n",
    "\n",
    "\n",
    "matrix_multi_pytorch()\n",
    "\n",
    "\n",
    "mean_shape = np.random.random((107127, 1))\n",
    "disp = np.random.random((75, 107127))\n",
    "\n",
    "start = time.time()\n",
    "id_info = mean_shape.reshape(1, -1) + disp\n",
    "end = time.time()\n",
    "print(f\"elapsed time is {end - start}\")"
   ]
  },
  {
   "cell_type": "markdown",
   "metadata": {},
   "source": [
    "## Matrix inverse"
   ]
  },
  {
   "cell_type": "code",
   "execution_count": 8,
   "metadata": {},
   "outputs": [
    {
     "name": "stdout",
     "output_type": "stream",
     "text": [
      "[[ 9.70263e-01  7.47983e-03  2.41939e-01 -1.91020e+02]\n",
      " [-1.47429e-02  9.99493e-01  2.82234e-02  3.28832e+00]\n",
      " [-2.41605e-01 -3.09510e-02  9.69881e-01  2.25401e+01]\n",
      " [ 0.00000e+00  0.00000e+00  0.00000e+00  1.00000e+00]]\n",
      "[[ 9.7026235e-01 -1.4742792e-02 -2.4160510e-01  1.9083380e+02]\n",
      " [ 7.4799401e-03  9.9949282e-01 -3.0950988e-02 -1.1601957e+00]\n",
      " [ 2.4193870e-01  2.8223433e-02  9.6988088e-01  2.4261110e+01]\n",
      " [ 0.0000000e+00  0.0000000e+00  0.0000000e+00  1.0000000e+00]]\n",
      "[[ 0.01  0.   -0.12  0.  ]\n",
      " [ 0.    0.2  -2.    0.  ]\n",
      " [ 0.    0.    1.    0.  ]\n",
      " [ 0.    0.    0.    1.  ]]\n"
     ]
    }
   ],
   "source": [
    "import numpy as np\n",
    "\n",
    "extrinsics = \"0.970263 0.00747983 0.241939 -191.02 -0.0147429 0.999493 0.0282234 3.28832 -0.241605 -0.030951 0.969881 22.5401 0.0 0.0 0.0 1.0\"\n",
    "extrinsics = np.fromstring(extrinsics, dtype=np.float32, sep=' ')\n",
    "extrinsics = extrinsics.reshape((4, 4))\n",
    "print(extrinsics)\n",
    "\n",
    "mat_inv = np.linalg.inv(extrinsics)\n",
    "print(mat_inv)\n",
    "\n",
    "intrinsic = np.array([[2892.33, 0, 823.205, 0],\n",
    "                      [0, 2883.18, 619.071, 0],\n",
    "                      [0, 0, 1, 0],\n",
    "                      [0, 0, 0, 1]])\n",
    "\n",
    "intrinsic = np.array([[100, 0, 12, 0],\n",
    "                      [0, 5, 10, 0],\n",
    "                      [0, 0, 1, 0],\n",
    "                      [0, 0, 0, 1]])\n",
    "\n",
    "mat_inv = np.linalg.inv(intrinsic)\n",
    "print(mat_inv)"
   ]
  },
  {
   "attachments": {},
   "cell_type": "markdown",
   "metadata": {},
   "source": [
    "## Determinant"
   ]
  },
  {
   "cell_type": "code",
   "execution_count": 3,
   "metadata": {},
   "outputs": [
    {
     "name": "stdout",
     "output_type": "stream",
     "text": [
      "0.0\n"
     ]
    }
   ],
   "source": [
    "import numpy as np\n",
    "\n",
    "A = np.array([[0, 1, 1], [1, 0, 1], [2, 3, 4]])\n",
    "A = np.array([[1, 2, 1],\n",
    "              [2, 4, 2],\n",
    "              [1, 1, 1]])\n",
    "\n",
    "print(np.linalg.det(A))"
   ]
  }
 ],
 "metadata": {
  "kernelspec": {
   "display_name": "py38-torch100-cu11",
   "language": "python",
   "name": "python3"
  },
  "language_info": {
   "codemirror_mode": {
    "name": "ipython",
    "version": 3
   },
   "file_extension": ".py",
   "mimetype": "text/x-python",
   "name": "python",
   "nbconvert_exporter": "python",
   "pygments_lexer": "ipython3",
   "version": "3.8.13"
  },
  "orig_nbformat": 4,
  "vscode": {
   "interpreter": {
    "hash": "56d0891f27fe2db3830dc2a05bc70f05135b0c30ed7c190a150d1aca2da3af60"
   }
  }
 },
 "nbformat": 4,
 "nbformat_minor": 2
}
