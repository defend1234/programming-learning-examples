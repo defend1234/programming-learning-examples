{
 "cells": [
  {
   "cell_type": "code",
   "execution_count": 10,
   "metadata": {},
   "outputs": [],
   "source": [
    "import os\n",
    "import os.path as osp\n",
    "from glob import glob\n",
    "from tqdm import tqdm\n",
    "import time\n",
    "import numpy as np\n",
    "\n",
    "import torch"
   ]
  },
  {
   "cell_type": "markdown",
   "metadata": {},
   "source": [
    "## Broadcasting"
   ]
  },
  {
   "cell_type": "code",
   "execution_count": null,
   "metadata": {},
   "outputs": [],
   "source": []
  },
  {
   "cell_type": "markdown",
   "metadata": {},
   "source": [
    "## Matrix multiplication"
   ]
  },
  {
   "cell_type": "code",
   "execution_count": 1,
   "metadata": {},
   "outputs": [
    {
     "name": "stdout",
     "output_type": "stream",
     "text": [
      "[[36 10 56]\n",
      " [10  3 16]] (2, 3)\n"
     ]
    }
   ],
   "source": [
    "import numpy as np\n",
    "\n",
    "A = np.array([[3, 1, 4], \n",
    "              [-2, 0, 1],\n",
    "              [1, 2, 2]])\n",
    "B = np.array([[1, 0, 2], \n",
    "              [-3, 1, 1], \n",
    "              [2, -4, 1]])\n",
    "A = np.array([[4, 6],\n",
    "              [2, 1]])\n",
    "B = np.array([[3, 1, 5],\n",
    "              [4, 1, 6]])\n",
    "\n",
    "## Do the matrix multiplication\n",
    "mat_res = A @ B\n",
    "# mat_res = A + B\n",
    "print(mat_res, mat_res.shape)"
   ]
  },
  {
   "cell_type": "code",
   "execution_count": 21,
   "metadata": {},
   "outputs": [
    {
     "name": "stdout",
     "output_type": "stream",
     "text": [
      "[[ 3  5]\n",
      " [ 9 14]] (2, 2)\n",
      "tensor([[ 3.,  5.],\n",
      "        [ 9., 14.]]) torch.Size([2, 2])\n",
      "tensor([[ 3.,  5.],\n",
      "        [ 9., 14.]]) torch.Size([2, 2])\n",
      "tensor([[1., 2., 3.],\n",
      "        [4., 5., 6.]]) torch.Size([2, 3])\n"
     ]
    }
   ],
   "source": [
    "mat1 = np.array([[1, 2, 3], \n",
    "                 [4, 5, 6]])\n",
    "mat2 = np.array([[1, 2], \n",
    "                 [1, 0], \n",
    "                 [0, 1]])\n",
    "\n",
    "## Do the matrix multiplication\n",
    "mat_res = mat1 @ mat2\n",
    "print(mat_res, mat_res.shape)\n",
    "\n",
    "\n",
    "## For pytorch\n",
    "mat1 = torch.Tensor([[1, 2, 3], \n",
    "                     [4, 5, 6]])\n",
    "mat2 = torch.Tensor([[1, 2], \n",
    "                     [1, 0], \n",
    "                     [0, 1]])\n",
    "mat_res = torch.mm(mat1, mat2)\n",
    "print(mat_res, mat_res.shape)\n",
    "\n",
    "mat_res = mat1 @ mat2\n",
    "print(mat_res, mat_res.shape)\n",
    "\n",
    "disp = 0\n",
    "disp += mat1\n",
    "print(disp, disp.shape)"
   ]
  },
  {
   "cell_type": "code",
   "execution_count": null,
   "metadata": {},
   "outputs": [],
   "source": [
    "id_base = np.random.random((18, 80))\n",
    "id_coeff = np.random.random((1, 80))\n",
    "\n",
    "id = id_coeff @ id_base.T\n",
    "print(id.shape)"
   ]
  },
  {
   "attachments": {},
   "cell_type": "markdown",
   "metadata": {},
   "source": [
    "### dot operation"
   ]
  },
  {
   "cell_type": "code",
   "execution_count": 14,
   "metadata": {},
   "outputs": [
    {
     "name": "stdout",
     "output_type": "stream",
     "text": [
      "(1, 3) (3, 3)\n",
      "[[ 7.07107127e-01 -8.12478476e-08  7.07106471e-01]\n",
      " [ 4.08248305e-01 -8.16496372e-01 -4.08248842e-01]\n",
      " [ 5.77349842e-01  5.77350676e-01 -5.77350378e-01]]\n",
      "[[ 3.25565326  0.0990592  -1.84144235]] (1, 3)\n",
      "[[1. 2. 3.]]\n"
     ]
    }
   ],
   "source": [
    "import numpy as np\n",
    "\n",
    "\n",
    "v1 = np.array([[1, 2, 3]])\n",
    "R = np.arange(9).reshape(3, 3)\n",
    "R = np.array([[7.071071267127990723e-01, -8.124784756091685267e-08, 7.071064710617065430e-01], \n",
    "              [4.082483053207397461e-01, -8.164963722229003906e-01, -4.082488417625427246e-01],\n",
    "              [5.773498415946960449e-01, 5.773506760597229004e-01, -5.773503780364990234e-01]])\n",
    "print(v1.shape, R.shape)\n",
    "print(R)\n",
    "\n",
    "# output = v1.dot(R)\n",
    "output = v1 @ R\n",
    "print(output, output.shape)\n",
    "\n",
    "v1_inv = output @ np.linalg.inv(R)\n",
    "print(v1_inv)"
   ]
  },
  {
   "cell_type": "markdown",
   "metadata": {},
   "source": [
    "### Big matrix operation"
   ]
  },
  {
   "cell_type": "code",
   "execution_count": 54,
   "metadata": {},
   "outputs": [
    {
     "name": "stdout",
     "output_type": "stream",
     "text": [
      "(75, 107127)\n",
      "matrix_multi_numpy: elapsed time is 0.30770158767700195\n",
      "matrix_multi_pytorch: elapsed time is 0.06974825859069825\n",
      "elapsed time is 0.03923201560974121\n"
     ]
    }
   ],
   "source": [
    "## Conclusion: Pytorch big matrix operations are much faster than numpy's\n",
    "\n",
    "def matrix_multi_numpy():\n",
    "    \n",
    "    id_base = np.random.random((107127, 80))\n",
    "    id_coeff = np.random.random((75, 80))\n",
    "    \n",
    "    start = time.time()\n",
    "    id_info = id_coeff @ id_base.T\n",
    "    print(id_info.shape)\n",
    "    \n",
    "    end = time.time()\n",
    "    print(f\"matrix_multi_numpy: elapsed time is {end - start}\")\n",
    "\n",
    "\n",
    "def matrix_multi_pytorch():\n",
    "\n",
    "    id_base = torch.randn((107127, 80))\n",
    "    id_coeff = torch.randn((75, 80))\n",
    "\n",
    "    start = time.time()\n",
    "    for i in range(100):\n",
    "        id_base_new = id_base.cuda()\n",
    "        id_coeff_new = id_coeff.cuda()\n",
    "        # id_info = id_coeff @ id_base.T\n",
    "        id_info = torch.mm(id_base_new, id_coeff_new.T)\n",
    "\n",
    "    end = time.time()\n",
    "    print(f\"matrix_multi_pytorch: elapsed time is {(end - start) / 100}\")\n",
    "    \n",
    "\n",
    "matrix_multi_numpy()\n",
    "\n",
    "\n",
    "matrix_multi_pytorch()\n",
    "\n",
    "\n",
    "mean_shape = np.random.random((107127, 1))\n",
    "disp = np.random.random((75, 107127))\n",
    "\n",
    "start = time.time()\n",
    "id_info = mean_shape.reshape(1, -1) + disp\n",
    "end = time.time()\n",
    "print(f\"elapsed time is {end - start}\")"
   ]
  },
  {
   "cell_type": "markdown",
   "metadata": {},
   "source": [
    "## Matrix inverse"
   ]
  },
  {
   "cell_type": "code",
   "execution_count": 3,
   "metadata": {},
   "outputs": [
    {
     "ename": "LinAlgError",
     "evalue": "Singular matrix",
     "output_type": "error",
     "traceback": [
      "\u001b[0;31m---------------------------------------------------------------------------\u001b[0m",
      "\u001b[0;31mLinAlgError\u001b[0m                               Traceback (most recent call last)",
      "\u001b[0;32m<ipython-input-3-fc5366401bbc>\u001b[0m in \u001b[0;36m<module>\u001b[0;34m\u001b[0m\n\u001b[1;32m      9\u001b[0m                 [0, 0, 0]])\n\u001b[1;32m     10\u001b[0m \u001b[0;34m\u001b[0m\u001b[0m\n\u001b[0;32m---> 11\u001b[0;31m \u001b[0mmat_inv\u001b[0m \u001b[0;34m=\u001b[0m \u001b[0mnp\u001b[0m\u001b[0;34m.\u001b[0m\u001b[0mlinalg\u001b[0m\u001b[0;34m.\u001b[0m\u001b[0minv\u001b[0m\u001b[0;34m(\u001b[0m\u001b[0mmat\u001b[0m\u001b[0;34m)\u001b[0m\u001b[0;34m\u001b[0m\u001b[0;34m\u001b[0m\u001b[0m\n\u001b[0m\u001b[1;32m     12\u001b[0m \u001b[0mprint\u001b[0m\u001b[0;34m(\u001b[0m\u001b[0mmat_inv\u001b[0m\u001b[0;34m)\u001b[0m\u001b[0;34m\u001b[0m\u001b[0;34m\u001b[0m\u001b[0m\n",
      "\u001b[0;32m<__array_function__ internals>\u001b[0m in \u001b[0;36minv\u001b[0;34m(*args, **kwargs)\u001b[0m\n",
      "\u001b[0;32m~/miniconda3/envs/py36-torch100-cu11/lib/python3.6/site-packages/numpy/linalg/linalg.py\u001b[0m in \u001b[0;36minv\u001b[0;34m(a)\u001b[0m\n\u001b[1;32m    544\u001b[0m     \u001b[0msignature\u001b[0m \u001b[0;34m=\u001b[0m \u001b[0;34m'D->D'\u001b[0m \u001b[0;32mif\u001b[0m \u001b[0misComplexType\u001b[0m\u001b[0;34m(\u001b[0m\u001b[0mt\u001b[0m\u001b[0;34m)\u001b[0m \u001b[0;32melse\u001b[0m \u001b[0;34m'd->d'\u001b[0m\u001b[0;34m\u001b[0m\u001b[0;34m\u001b[0m\u001b[0m\n\u001b[1;32m    545\u001b[0m     \u001b[0mextobj\u001b[0m \u001b[0;34m=\u001b[0m \u001b[0mget_linalg_error_extobj\u001b[0m\u001b[0;34m(\u001b[0m\u001b[0m_raise_linalgerror_singular\u001b[0m\u001b[0;34m)\u001b[0m\u001b[0;34m\u001b[0m\u001b[0;34m\u001b[0m\u001b[0m\n\u001b[0;32m--> 546\u001b[0;31m     \u001b[0mainv\u001b[0m \u001b[0;34m=\u001b[0m \u001b[0m_umath_linalg\u001b[0m\u001b[0;34m.\u001b[0m\u001b[0minv\u001b[0m\u001b[0;34m(\u001b[0m\u001b[0ma\u001b[0m\u001b[0;34m,\u001b[0m \u001b[0msignature\u001b[0m\u001b[0;34m=\u001b[0m\u001b[0msignature\u001b[0m\u001b[0;34m,\u001b[0m \u001b[0mextobj\u001b[0m\u001b[0;34m=\u001b[0m\u001b[0mextobj\u001b[0m\u001b[0;34m)\u001b[0m\u001b[0;34m\u001b[0m\u001b[0;34m\u001b[0m\u001b[0m\n\u001b[0m\u001b[1;32m    547\u001b[0m     \u001b[0;32mreturn\u001b[0m \u001b[0mwrap\u001b[0m\u001b[0;34m(\u001b[0m\u001b[0mainv\u001b[0m\u001b[0;34m.\u001b[0m\u001b[0mastype\u001b[0m\u001b[0;34m(\u001b[0m\u001b[0mresult_t\u001b[0m\u001b[0;34m,\u001b[0m \u001b[0mcopy\u001b[0m\u001b[0;34m=\u001b[0m\u001b[0;32mFalse\u001b[0m\u001b[0;34m)\u001b[0m\u001b[0;34m)\u001b[0m\u001b[0;34m\u001b[0m\u001b[0;34m\u001b[0m\u001b[0m\n\u001b[1;32m    548\u001b[0m \u001b[0;34m\u001b[0m\u001b[0m\n",
      "\u001b[0;32m~/miniconda3/envs/py36-torch100-cu11/lib/python3.6/site-packages/numpy/linalg/linalg.py\u001b[0m in \u001b[0;36m_raise_linalgerror_singular\u001b[0;34m(err, flag)\u001b[0m\n\u001b[1;32m     86\u001b[0m \u001b[0;34m\u001b[0m\u001b[0m\n\u001b[1;32m     87\u001b[0m \u001b[0;32mdef\u001b[0m \u001b[0m_raise_linalgerror_singular\u001b[0m\u001b[0;34m(\u001b[0m\u001b[0merr\u001b[0m\u001b[0;34m,\u001b[0m \u001b[0mflag\u001b[0m\u001b[0;34m)\u001b[0m\u001b[0;34m:\u001b[0m\u001b[0;34m\u001b[0m\u001b[0;34m\u001b[0m\u001b[0m\n\u001b[0;32m---> 88\u001b[0;31m     \u001b[0;32mraise\u001b[0m \u001b[0mLinAlgError\u001b[0m\u001b[0;34m(\u001b[0m\u001b[0;34m\"Singular matrix\"\u001b[0m\u001b[0;34m)\u001b[0m\u001b[0;34m\u001b[0m\u001b[0;34m\u001b[0m\u001b[0m\n\u001b[0m\u001b[1;32m     89\u001b[0m \u001b[0;34m\u001b[0m\u001b[0m\n\u001b[1;32m     90\u001b[0m \u001b[0;32mdef\u001b[0m \u001b[0m_raise_linalgerror_nonposdef\u001b[0m\u001b[0;34m(\u001b[0m\u001b[0merr\u001b[0m\u001b[0;34m,\u001b[0m \u001b[0mflag\u001b[0m\u001b[0;34m)\u001b[0m\u001b[0;34m:\u001b[0m\u001b[0;34m\u001b[0m\u001b[0;34m\u001b[0m\u001b[0m\n",
      "\u001b[0;31mLinAlgError\u001b[0m: Singular matrix"
     ]
    }
   ],
   "source": [
    "import numpy as np\n",
    "\n",
    "scale = 0.5\n",
    "dx = 102\n",
    "dy = 102\n",
    "\n",
    "mat = np.array([[scale, 0, dx],\n",
    "                [0, scale, dy],\n",
    "                [0, 0, 0]])\n",
    "\n",
    "mat_inv = np.linalg.inv(mat)\n",
    "print(mat_inv)"
   ]
  },
  {
   "attachments": {},
   "cell_type": "markdown",
   "metadata": {},
   "source": [
    "## Determinant"
   ]
  },
  {
   "cell_type": "code",
   "execution_count": 3,
   "metadata": {},
   "outputs": [
    {
     "name": "stdout",
     "output_type": "stream",
     "text": [
      "0.0\n"
     ]
    }
   ],
   "source": [
    "import numpy as np\n",
    "\n",
    "A = np.array([[0, 1, 1], [1, 0, 1], [2, 3, 4]])\n",
    "A = np.array([[1, 2, 1],\n",
    "              [2, 4, 2],\n",
    "              [1, 1, 1]])\n",
    "\n",
    "print(np.linalg.det(A))"
   ]
  }
 ],
 "metadata": {
  "kernelspec": {
   "display_name": "py38-torch100-cu11",
   "language": "python",
   "name": "python3"
  },
  "language_info": {
   "codemirror_mode": {
    "name": "ipython",
    "version": 3
   },
   "file_extension": ".py",
   "mimetype": "text/x-python",
   "name": "python",
   "nbconvert_exporter": "python",
   "pygments_lexer": "ipython3",
   "version": "3.8.13"
  },
  "orig_nbformat": 4,
  "vscode": {
   "interpreter": {
    "hash": "56d0891f27fe2db3830dc2a05bc70f05135b0c30ed7c190a150d1aca2da3af60"
   }
  }
 },
 "nbformat": 4,
 "nbformat_minor": 2
}
