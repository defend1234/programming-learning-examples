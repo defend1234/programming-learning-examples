{
 "cells": [
  {
   "cell_type": "code",
   "execution_count": 2,
   "metadata": {},
   "outputs": [],
   "source": [
    "import numpy as np"
   ]
  },
  {
   "cell_type": "code",
   "execution_count": 19,
   "metadata": {},
   "outputs": [
    {
     "name": "stdout",
     "output_type": "stream",
     "text": [
      "[-0.23902244 -0.55506653]\n",
      "(10, 2)\n",
      "(10,)\n",
      "(10,) [ 0 14 70  0 93 63 91 30  4 53]\n",
      "(0, 0, 255)\n",
      "[(0, 0, 255), (0, 165, 255), (255, 193, 0), (0, 0, 255), (255, 0, 78), (234, 255, 0), (255, 0, 54), (0, 255, 155), (0, 47, 255), (116, 255, 0)]\n"
     ]
    }
   ],
   "source": [
    "import numpy as np\n",
    "import matplotlib.pyplot as plt\n",
    "\n",
    "\n",
    "selected_points1 = np.random.randn(10, 2)\n",
    "center = np.median(selected_points1, axis=0)\n",
    "set_max = range(128)\n",
    "colors = {m: i for i, m in enumerate(set_max)}\n",
    "colors = {m: (255 * np.array(plt.cm.hsv(i/float(len(colors))))[:3][::-1]).astype(np.int32)\n",
    "            for m, i in colors.items()}\n",
    "\n",
    "print(center)\n",
    "dist = selected_points1 - center\n",
    "print(dist.shape)\n",
    "\n",
    "coord_angle = np.arctan2(dist[:, 1], dist[:, 0])\n",
    "print(coord_angle.shape)\n",
    "corr_color = np.int32(64 * coord_angle / np.pi) % 128\n",
    "print(corr_color.shape, corr_color)\n",
    "\n",
    "color = tuple(colors[corr_color[0]].tolist())\n",
    "print(color)\n",
    "\n",
    "corr_color = [tuple(colors[m].tolist()) for m in corr_color]\n",
    "print(corr_color)"
   ]
  },
  {
   "attachments": {},
   "cell_type": "markdown",
   "metadata": {},
   "source": [
    "## maximum"
   ]
  },
  {
   "cell_type": "code",
   "execution_count": 3,
   "metadata": {},
   "outputs": [
    {
     "name": "stdout",
     "output_type": "stream",
     "text": [
      "[[ 0  1  2  3]\n",
      " [ 4  5  6  7]\n",
      " [ 8  9 10 11]] (3, 4)\n",
      "[ 3  7 11] (3,)\n"
     ]
    },
    {
     "ename": "TypeError",
     "evalue": "maximum() takes from 2 to 3 positional arguments but 1 were given",
     "output_type": "error",
     "traceback": [
      "\u001b[0;31m---------------------------------------------------------------------------\u001b[0m",
      "\u001b[0;31mTypeError\u001b[0m                                 Traceback (most recent call last)",
      "Cell \u001b[0;32mIn[3], line 9\u001b[0m\n\u001b[1;32m      6\u001b[0m output \u001b[39m=\u001b[39m np\u001b[39m.\u001b[39mmax(data, axis\u001b[39m=\u001b[39m\u001b[39m1\u001b[39m)\n\u001b[1;32m      7\u001b[0m \u001b[39mprint\u001b[39m(output, output\u001b[39m.\u001b[39mshape)\n\u001b[0;32m----> 9\u001b[0m output \u001b[39m=\u001b[39m np\u001b[39m.\u001b[39;49mmaximum(data, axis\u001b[39m=\u001b[39;49m\u001b[39m1\u001b[39;49m)\n\u001b[1;32m     10\u001b[0m \u001b[39mprint\u001b[39m(output, output\u001b[39m.\u001b[39mshape)\n",
      "\u001b[0;31mTypeError\u001b[0m: maximum() takes from 2 to 3 positional arguments but 1 were given"
     ]
    }
   ],
   "source": [
    "import numpy as np\n",
    "\n",
    "data = np.arange(12).reshape(3, 4)\n",
    "print(data, data.shape)\n",
    "\n",
    "output = np.max(data, axis=1)\n",
    "print(output, output.shape)\n",
    "\n",
    "output = np.maximum(data, axis=1)\n",
    "print(output, output.shape)"
   ]
  },
  {
   "cell_type": "code",
   "execution_count": 4,
   "metadata": {},
   "outputs": [
    {
     "name": "stdout",
     "output_type": "stream",
     "text": [
      "[0.  0.  0.  0.1 0.3 1.  2.  3. ]\n",
      "[0.  0.  0.  0.1 0.3 1.  2.  3. ]\n",
      "[1. 2. 3.]\n"
     ]
    }
   ],
   "source": [
    "import numpy as np\n",
    "\n",
    "sigma = np.array([-1, -2, 0.0, 0.1, 0.3, 1.0, 2.0, 3.0])\n",
    "sigma = np.maximum(sigma, 0)\n",
    "print(sigma)\n",
    "\n",
    "temp_sigma = sigma.reshape(-1, 1)\n",
    "temp_sigma = np.delete(temp_sigma, np.where(temp_sigma < 0.5))\n",
    "temp_sigma.sort()\n",
    "print(sigma)\n",
    "print(temp_sigma)"
   ]
  },
  {
   "cell_type": "markdown",
   "metadata": {},
   "source": [
    "## Mean and sum"
   ]
  },
  {
   "cell_type": "code",
   "execution_count": 4,
   "metadata": {},
   "outputs": [
    {
     "name": "stdout",
     "output_type": "stream",
     "text": [
      "0.47264461064049273\n",
      "0.47264461064049273\n",
      "2.5\n",
      "<class 'numpy.float64'>\n"
     ]
    }
   ],
   "source": [
    "import numpy as np\n",
    "\n",
    "x = np.random.random((68, 2))\n",
    "mean = np.mean(x)\n",
    "print(mean)\n",
    "\n",
    "x = np.sum(x)\n",
    "mean = x / (68 * 2)\n",
    "print(mean)\n",
    "\n",
    "data = [1, 2, 3, 4.0]\n",
    "print(np.mean(data))\n",
    "mean_data = np.mean(data)\n",
    "print(type(mean_data))\n",
    "\n",
    "assert isinstance(mean_data, (float, int)), \"mean_data should be a float or int\""
   ]
  },
  {
   "cell_type": "markdown",
   "metadata": {},
   "source": [
    "## Normalize"
   ]
  },
  {
   "cell_type": "code",
   "execution_count": 7,
   "metadata": {},
   "outputs": [
    {
     "name": "stdout",
     "output_type": "stream",
     "text": [
      "56.82569841189812\n"
     ]
    }
   ],
   "source": [
    "import numpy as np\n",
    "\n",
    "data = np.array([50, 50, 5.0])\n",
    "data = np.array([40, 40, 5.4])\n",
    "res = np.linalg.norm(data)\n",
    "print(res)"
   ]
  },
  {
   "cell_type": "code",
   "execution_count": 4,
   "metadata": {},
   "outputs": [
    {
     "name": "stdout",
     "output_type": "stream",
     "text": [
      "[0.01959492 0.04258225 0.02988345]\n",
      "[0.46778145 0.62808071 0.55651205]\n"
     ]
    }
   ],
   "source": [
    "MIN_MOTION = np.array([-0.00916614, -0.02674509, -0.0166305])\n",
    "MAX_MOTION = np.array([0.01042878, 0.01583716, 0.01325295])\n",
    "DIFF_MOTION = MAX_MOTION - MIN_MOTION\n",
    "\n",
    "print(DIFF_MOTION)\n",
    "\n",
    "x = -MIN_MOTION / DIFF_MOTION\n",
    "print(x)"
   ]
  },
  {
   "cell_type": "code",
   "execution_count": 19,
   "metadata": {},
   "outputs": [
    {
     "name": "stdout",
     "output_type": "stream",
     "text": [
      "2 0\n"
     ]
    }
   ],
   "source": [
    "length_list = [5, 5, 20, 80, 120]\n",
    "\n",
    "index = 5\n",
    "\n",
    "def fetch_data(length_list, index):\n",
    "    assert index < length_list[-1]\n",
    "    temp_idx = np.array(length_list) > index\n",
    "    list_idx = np.where(temp_idx==True)[0][0]\n",
    "    sub_idx = index\n",
    "    if list_idx != 0:\n",
    "        sub_idx = index - length_list[list_idx - 1]\n",
    "    return list_idx, sub_idx\n",
    "\n",
    "list_idx, sub_idx = fetch_data(length_list, index)\n",
    "print(list_idx, sub_idx)"
   ]
  },
  {
   "cell_type": "markdown",
   "metadata": {},
   "source": [
    "## Compute norm"
   ]
  },
  {
   "cell_type": "code",
   "execution_count": 2,
   "metadata": {},
   "outputs": [
    {
     "name": "stdout",
     "output_type": "stream",
     "text": [
      "(2, 4)\n",
      "[5.47722558 4.        ] (2,)\n"
     ]
    }
   ],
   "source": [
    "import numpy as np\n",
    "\n",
    "input = np.array([[1, 2, 3, 4], [2, 2, 2, 2]])\n",
    "print(input.shape)\n",
    "\n",
    "output = np.linalg.norm(input, axis=1)\n",
    "print(output, output.shape)"
   ]
  },
  {
   "cell_type": "markdown",
   "metadata": {},
   "source": [
    "## MeshGrid"
   ]
  },
  {
   "cell_type": "code",
   "execution_count": 9,
   "metadata": {},
   "outputs": [
    {
     "name": "stdout",
     "output_type": "stream",
     "text": [
      "(10, 5) (10, 5)\n",
      "[[0.         0.         0.         0.         0.        ]\n",
      " [0.55555556 0.55555556 0.55555556 0.55555556 0.55555556]\n",
      " [1.11111111 1.11111111 1.11111111 1.11111111 1.11111111]\n",
      " [1.66666667 1.66666667 1.66666667 1.66666667 1.66666667]\n",
      " [2.22222222 2.22222222 2.22222222 2.22222222 2.22222222]\n",
      " [2.77777778 2.77777778 2.77777778 2.77777778 2.77777778]\n",
      " [3.33333333 3.33333333 3.33333333 3.33333333 3.33333333]\n",
      " [3.88888889 3.88888889 3.88888889 3.88888889 3.88888889]\n",
      " [4.44444444 4.44444444 4.44444444 4.44444444 4.44444444]\n",
      " [5.         5.         5.         5.         5.        ]]\n"
     ]
    }
   ],
   "source": [
    "import numpy as np\n",
    "\n",
    "grid_x, grid_y = np.mgrid[0:5:10j, 0:10:5j]\n",
    "print(grid_x.shape, grid_y.shape)\n",
    "\n",
    "print(grid_x)\n",
    "# print(grid_y)"
   ]
  },
  {
   "cell_type": "code",
   "execution_count": 6,
   "metadata": {},
   "outputs": [
    {
     "name": "stdout",
     "output_type": "stream",
     "text": [
      "[[1 2]\n",
      " [1 2]\n",
      " [1 2]] [[2 2]\n",
      " [3 3]\n",
      " [4 4]]\n",
      "(3, 2) (3, 2)\n",
      "(3, 2, 2)\n",
      "[[[1 2]\n",
      "  [2 2]]\n",
      "\n",
      " [[1 3]\n",
      "  [2 3]]\n",
      "\n",
      " [[1 4]\n",
      "  [2 4]]]\n",
      "[[1 2]\n",
      " [2 2]\n",
      " [1 3]\n",
      " [2 3]\n",
      " [1 4]\n",
      " [2 4]]\n"
     ]
    }
   ],
   "source": [
    "import numpy as np\n",
    "\n",
    "X = np.arange(1, 3)\n",
    "Y = np.arange(2, 5)\n",
    "xs, ys = np.meshgrid(X, Y)\n",
    "print(xs, ys)\n",
    "print(xs.shape, ys.shape)\n",
    "grid = np.stack((xs, ys), axis=-1)\n",
    "print(grid.shape)\n",
    "print(grid)\n",
    "\n",
    "grid = grid.reshape(-1, grid.shape[-1])\n",
    "print(grid)"
   ]
  },
  {
   "cell_type": "markdown",
   "metadata": {},
   "source": [
    "## Sort values"
   ]
  },
  {
   "cell_type": "code",
   "execution_count": 6,
   "metadata": {},
   "outputs": [
    {
     "name": "stdout",
     "output_type": "stream",
     "text": [
      "[53 47 57 58 52 42 38 46 50 51] [157 151 167 204 159 151 206 173 160 177]\n",
      "[6 5 7 1 8 9 4 0 2 3]\n",
      "[38 42 46 47 50 51 52 53 57 58]\n",
      "[206 151 173 151 160 177 159 157 167 204]\n"
     ]
    }
   ],
   "source": [
    "ages = np.random.randint(low=30, high=60, size=10)\n",
    "heights = np.random.randint(low=150, high=210, size=10)\n",
    "print(ages, heights)\n",
    "\n",
    "sorter = np.argsort(ages)\n",
    "print(sorter)\n",
    "print(ages[sorter]) # sort by ages\n",
    "print(heights[sorter ])"
   ]
  },
  {
   "cell_type": "code",
   "execution_count": 3,
   "metadata": {},
   "outputs": [
    {
     "name": "stdout",
     "output_type": "stream",
     "text": [
      "[4, 8, 16, 32, 64, 128, 256, 512, 1024] 9\n"
     ]
    }
   ],
   "source": [
    "import numpy as np\n",
    "\n",
    "img_resolution = 1024\n",
    "\n",
    "img_resolution_log2 = int(np.log2(img_resolution))\n",
    "block_resolutions = [2 ** i for i in range(2, img_resolution_log2 + 1)]\n",
    "print(block_resolutions, len(block_resolutions))"
   ]
  },
  {
   "cell_type": "code",
   "execution_count": 1,
   "metadata": {},
   "outputs": [
    {
     "name": "stdout",
     "output_type": "stream",
     "text": [
      "[0]\n"
     ]
    }
   ],
   "source": [
    "import numpy as np\n",
    "\n",
    "num_segments = 1\n",
    "average_duration = 234\n",
    "\n",
    "offsets = np.multiply(list(range(num_segments)), average_duration)\n",
    "print(offsets)"
   ]
  },
  {
   "cell_type": "markdown",
   "metadata": {},
   "source": [
    "## Compute the L2 norm"
   ]
  },
  {
   "cell_type": "code",
   "execution_count": 5,
   "metadata": {},
   "outputs": [
    {
     "name": "stderr",
     "output_type": "stream",
     "text": [
      "ic| distance: 3.4641016151377544\n",
      "ic| data_src.shape: (7, 2)\n",
      "ic| data_distance: array([2.81780056, 0.50990195, 0.89442719, 2.23606798, 0.        ,\n",
      "                          2.30867928, 2.3194827 ])\n",
      "    data_distance.shape: (7,)\n",
      "ic| data_distance: array([1.81727818, 2.37118114, 3.0516389 , 1.52069063, 2.30488611,\n",
      "                          0.20615528, 0.20615528])\n",
      "ic| data_batch_diff.shape: (8, 2)\n"
     ]
    },
    {
     "data": {
      "text/plain": [
       "(8, 2)"
      ]
     },
     "execution_count": 5,
     "metadata": {},
     "output_type": "execute_result"
    }
   ],
   "source": [
    "from icecream import ic as print\n",
    "import numpy as np\n",
    "\n",
    "## Compute the L2 norm of a vector\n",
    "delta_center = np.array([2.0, 2, 2.0])\n",
    "distance = np.linalg.norm(delta_center)\n",
    "print(distance)\n",
    "\n",
    "## Compute the matrix\n",
    "data_src = np.array([[1.1, 3.1],\n",
    "                     [1.9, 5.5],\n",
    "                     [2.8, 6.4],\n",
    "                     [1.4, 3.6],\n",
    "                     [2.4, 5.6],\n",
    "                     [3.1, 3.4],\n",
    "                     [2.7, 3.3]])\n",
    "\n",
    "print(data_src.shape)\n",
    "\n",
    "data_distance = np.linalg.norm(data_src[-3] - data_src, axis=1)\n",
    "print(data_distance, data_distance.shape)\n",
    "\n",
    "center = np.array([1.25, 3.35])\n",
    "center = np.array([2.367,5.867])\n",
    "center = np.array([2.9, 3.35])\n",
    "data_distance = np.linalg.norm(center - data_src, axis=1)\n",
    "print(data_distance)\n",
    "\n",
    "data_batch = np.random.randn(8, 68, 2)\n",
    "data_batch_diff = data_batch[:, 8, :] - data_batch[:, 28, :]\n",
    "print(data_batch_diff.shape)"
   ]
  },
  {
   "cell_type": "code",
   "execution_count": 6,
   "metadata": {},
   "outputs": [
    {
     "name": "stdout",
     "output_type": "stream",
     "text": [
      "[[[0. 1. 0. 0. 0.]\n",
      "  [0. 0. 1. 0. 0.]\n",
      "  [0. 0. 0. 1. 0.]\n",
      "  [0. 0. 0. 0. 1.]]\n",
      "\n",
      " [[0. 0. 1. 0. 0.]\n",
      "  [0. 0. 0. 1. 0.]\n",
      "  [0. 1. 0. 0. 0.]\n",
      "  [0. 0. 0. 0. 1.]]\n",
      "\n",
      " [[1. 0. 0. 0. 0.]\n",
      "  [0. 0. 0. 1. 0.]\n",
      "  [0. 1. 0. 0. 0.]\n",
      "  [0. 0. 0. 1. 0.]]\n",
      "\n",
      " [[0. 0. 0. 1. 0.]\n",
      "  [0. 0. 0. 1. 0.]\n",
      "  [0. 1. 0. 0. 0.]\n",
      "  [0. 0. 1. 0. 0.]]]\n",
      "(4, 4, 5)\n"
     ]
    }
   ],
   "source": [
    "import numpy as np\n",
    "segmentation = np.array([[1, 2, 3, 4],\n",
    "                         [2, 3, 1, 4],\n",
    "                         [0, 3, 1, 3],\n",
    "                         [3, 3, 1, 2]])\n",
    "segmentation = segmentation.astype(np.uint8)\n",
    "\n",
    "mat = np.eye(5)[segmentation]\n",
    "print(mat)\n",
    "print(mat.shape)\n"
   ]
  }
 ],
 "metadata": {
  "kernelspec": {
   "display_name": "Python 3.8.13 ('py38-torch100-cu11')",
   "language": "python",
   "name": "python3"
  },
  "language_info": {
   "codemirror_mode": {
    "name": "ipython",
    "version": 3
   },
   "file_extension": ".py",
   "mimetype": "text/x-python",
   "name": "python",
   "nbconvert_exporter": "python",
   "pygments_lexer": "ipython3",
   "version": "3.8.16"
  },
  "orig_nbformat": 4,
  "vscode": {
   "interpreter": {
    "hash": "56d0891f27fe2db3830dc2a05bc70f05135b0c30ed7c190a150d1aca2da3af60"
   }
  }
 },
 "nbformat": 4,
 "nbformat_minor": 2
}
