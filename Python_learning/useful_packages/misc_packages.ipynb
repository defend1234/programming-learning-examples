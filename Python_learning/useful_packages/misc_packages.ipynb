{
 "cells": [
  {
   "attachments": {},
   "cell_type": "markdown",
   "metadata": {},
   "source": [
    "## natsorted usage"
   ]
  },
  {
   "cell_type": "code",
   "execution_count": 4,
   "metadata": {},
   "outputs": [
    {
     "name": "stdout",
     "output_type": "stream",
     "text": [
      "['1-zhanghm.jpg', '3-zhanghm.jpg', '0-zhanghm.jpg', '13-zhanghm.jpg', '23-zhanghm.jpg']\n",
      "['0-zhanghm.jpg', '1-zhanghm.jpg', '13-zhanghm.jpg', '23-zhanghm.jpg', '3-zhanghm.jpg']\n",
      "['0-zhanghm.jpg', '1-zhanghm.jpg', '3-zhanghm.jpg', '13-zhanghm.jpg', '23-zhanghm.jpg']\n"
     ]
    }
   ],
   "source": [
    "from natsort import natsorted\n",
    "\n",
    "path1 = \"1-zhanghm.jpg\"\n",
    "path2 = \"3-zhanghm.jpg\"\n",
    "path3 = \"0-zhanghm.jpg\"\n",
    "path4 = \"13-zhanghm.jpg\"\n",
    "path5 = \"23-zhanghm.jpg\"\n",
    "\n",
    "paths = [path1, path2, path3, path4, path5]\n",
    "print(paths)\n",
    "print(sorted(paths))\n",
    "print(natsorted(paths))"
   ]
  }
 ],
 "metadata": {
  "kernelspec": {
   "display_name": "bevdet_py38",
   "language": "python",
   "name": "python3"
  },
  "language_info": {
   "codemirror_mode": {
    "name": "ipython",
    "version": 3
   },
   "file_extension": ".py",
   "mimetype": "text/x-python",
   "name": "python",
   "nbconvert_exporter": "python",
   "pygments_lexer": "ipython3",
   "version": "3.8.16"
  },
  "orig_nbformat": 4,
  "vscode": {
   "interpreter": {
    "hash": "addcddd066d5ef72f980905a6458e788367133afdc8cba3eb26f6e87a17fe289"
   }
  }
 },
 "nbformat": 4,
 "nbformat_minor": 2
}
