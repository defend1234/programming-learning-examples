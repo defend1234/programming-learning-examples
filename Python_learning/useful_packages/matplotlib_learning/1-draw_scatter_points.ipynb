{
 "cells": [
  {
   "cell_type": "code",
   "execution_count": null,
   "metadata": {},
   "outputs": [],
   "source": [
    "%matplotlib inline"
   ]
  },
  {
   "cell_type": "code",
   "execution_count": null,
   "metadata": {},
   "outputs": [],
   "source": [
    "import numpy as np\n",
    "import matplotlib.pyplot as plt\n",
    "\n",
    "\n",
    "data = np.loadtxt(\"data.txt\")\n",
    "print(data)\n",
    "\n",
    "num = len(data)\n",
    "\n",
    "x = np.arange(0, num)\n",
    "plt.figure('data')\n",
    "plt.plot(x, data, '.')"
   ]
  }
 ],
 "metadata": {
  "language_info": {
   "name": "python"
  },
  "orig_nbformat": 4
 },
 "nbformat": 4,
 "nbformat_minor": 2
}
