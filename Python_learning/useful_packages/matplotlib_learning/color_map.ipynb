{
 "cells": [
  {
   "cell_type": "code",
   "execution_count": 2,
   "metadata": {},
   "outputs": [],
   "source": [
    "from matplotlib import cm\n",
    "from matplotlib.colors import Normalize\n",
    "import numpy as np"
   ]
  },
  {
   "cell_type": "code",
   "execution_count": 14,
   "metadata": {},
   "outputs": [],
   "source": [
    "import torch\n",
    "\n",
    "def compute_cd_dist(pred, gt):\n",
    "    \"\"\"Compute the Chamfer Distance borrowed from https://github.com/otaheri/chamfer_distance,\n",
    "    you need to install the chamfer_distance package by using:\n",
    "\n",
    "    pip install git+'https://github.com/otaheri/chamfer_distance'\n",
    "\n",
    "    Args:\n",
    "        pred (tensor): (B, N, 3)\n",
    "        gt (tensor): (B, N, 3)\n",
    "\n",
    "    Returns:\n",
    "        tensor: scalar tensor\n",
    "    \"\"\"\n",
    "    from chamfer_distance import ChamferDistance as chamfer_dist\n",
    "\n",
    "    if not isinstance(pred, torch.Tensor):\n",
    "        pred = torch.from_numpy(pred).float()\n",
    "        gt = torch.from_numpy(gt).float()\n",
    "    \n",
    "    if len(pred.shape) == 2:\n",
    "        pred = pred.unsqueeze(0)\n",
    "        gt = gt.unsqueeze(0)\n",
    "    print(pred.shape, gt.shape)    \n",
    "    dist1, dist2, idx1, idx2 = chamfer_dist(pred, gt)\n",
    "    dist_mean = (dist1 + dist2) / 2\n",
    "\n",
    "    return dist_mean"
   ]
  },
  {
   "cell_type": "code",
   "execution_count": 27,
   "metadata": {},
   "outputs": [
    {
     "name": "stdout",
     "output_type": "stream",
     "text": [
      "(8192, 3)\n",
      "(8192, 3)\n",
      "torch.Size([1, 8192, 3]) torch.Size([1, 8192, 3])\n",
      "torch.Size([8192])\n",
      "(8192, 4)\n"
     ]
    }
   ],
   "source": [
    "pc_fp  = \"/home/zhanghm/Research/Programming/cv-fighter/pc_utils/Neural_Pull_pred/Icosahedron_X4.xyz\"\n",
    "pc_fp = \"/home/zhanghm/Research/Programming/cv-fighter/pc_utils/Neural_Pull_pred/elephant_X4.xyz\"\n",
    "pc_fp = \"/home/zhanghm/Research/PU/Github/NeuralPull-Pytorch/data/dis_pu_output/Icosahedron_X4.xyz\"\n",
    "pc_arr = np.loadtxt(pc_fp)\n",
    "print(pc_arr.shape)\n",
    "\n",
    "pc_gt_fp = \"/home/zhanghm/Research/Programming/cv-fighter/pc_utils/test/gt_FPS_8192_normalized/Icosahedron_X4.xyz\"\n",
    "# pc_gt_fp = \"/home/zhanghm/Research/Programming/cv-fighter/pc_utils/test/gt_FPS_8192_normalized/elephant_X4.xyz\"\n",
    "pc_gt_arr = np.loadtxt(pc_gt_fp)\n",
    "print(pc_gt_arr.shape)\n",
    "\n",
    "error = compute_cd_dist(pc_arr, pc_gt_arr)[0]\n",
    "print(error.shape)\n",
    "\n",
    "cmap = cm.get_cmap('coolwarm')\n",
    "# cmap = cm.get_cmap('rainbow')\n",
    "norm = Normalize(vmin=error.min(), vmax=error.max())\n",
    "rgba_values = cmap(norm(error))\n",
    "print(rgba_values.shape)"
   ]
  },
  {
   "cell_type": "code",
   "execution_count": 29,
   "metadata": {},
   "outputs": [
    {
     "data": {
      "text/plain": [
       "True"
      ]
     },
     "execution_count": 29,
     "metadata": {},
     "output_type": "execute_result"
    }
   ],
   "source": [
    "import open3d as o3d\n",
    "\n",
    "pc = o3d.geometry.PointCloud()\n",
    "pc.points = o3d.utility.Vector3dVector(pc_arr[:, :3])\n",
    "pc.colors = o3d.utility.Vector3dVector(rgba_values[:, 0:3])\n",
    "o3d.io.write_point_cloud(f'pc.ply', pc)"
   ]
  }
 ],
 "metadata": {
  "kernelspec": {
   "display_name": "Python 3.8.13 ('py38-torch100-cu11')",
   "language": "python",
   "name": "python3"
  },
  "language_info": {
   "codemirror_mode": {
    "name": "ipython",
    "version": 3
   },
   "file_extension": ".py",
   "mimetype": "text/x-python",
   "name": "python",
   "nbconvert_exporter": "python",
   "pygments_lexer": "ipython3",
   "version": "3.8.13"
  },
  "orig_nbformat": 4,
  "vscode": {
   "interpreter": {
    "hash": "56d0891f27fe2db3830dc2a05bc70f05135b0c30ed7c190a150d1aca2da3af60"
   }
  }
 },
 "nbformat": 4,
 "nbformat_minor": 2
}
