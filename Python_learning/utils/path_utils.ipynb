{
 "cells": [
  {
   "cell_type": "markdown",
   "source": [
    "# From this notebook we will learn how to process the filesystem path in Python3"
   ],
   "metadata": {}
  },
  {
   "cell_type": "markdown",
   "source": [
    "#"
   ],
   "metadata": {}
  },
  {
   "cell_type": "markdown",
   "source": [
    "## 参考资源\n",
    "### glob用法\n",
    "[glob用法](https://blog.csdn.net/u013630349/article/details/47683293)\n",
    "https://www.codenong.com/2632205/\n",
    "https://www.codegrepper.com/code-examples/python/how+to+find+out+number+of+images+in+folder+python"
   ],
   "metadata": {}
  },
  {
   "cell_type": "code",
   "execution_count": null,
   "source": [],
   "outputs": [],
   "metadata": {}
  },
  {
   "cell_type": "code",
   "execution_count": null,
   "source": [],
   "outputs": [],
   "metadata": {}
  }
 ],
 "metadata": {
  "orig_nbformat": 4,
  "language_info": {
   "name": "python"
  }
 },
 "nbformat": 4,
 "nbformat_minor": 2
}