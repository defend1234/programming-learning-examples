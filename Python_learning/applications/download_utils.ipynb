{
 "cells": [
  {
   "cell_type": "markdown",
   "source": [
    "# Collect some operation to download files from Google Drive etc. website"
   ],
   "metadata": {}
  },
  {
   "cell_type": "code",
   "execution_count": null,
   "source": [],
   "outputs": [],
   "metadata": {}
  },
  {
   "cell_type": "markdown",
   "source": [
    "mkdir data\n",
    "wget http://www.robots.ox.ac.uk/~vgg/software/lipsync/data/syncnet_v2.model -O data/syncnet_v2.model\n",
    "wget http://www.robots.ox.ac.uk/~vgg/software/lipsync/data/example.avi -O data/example.avi"
   ],
   "metadata": {}
  }
 ],
 "metadata": {
  "orig_nbformat": 4,
  "language_info": {
   "name": "python"
  }
 },
 "nbformat": 4,
 "nbformat_minor": 2
}