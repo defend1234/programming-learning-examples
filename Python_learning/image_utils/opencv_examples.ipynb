{
 "cells": [
  {
   "cell_type": "markdown",
   "metadata": {},
   "source": [
    "# OpenCV operations"
   ]
  },
  {
   "cell_type": "markdown",
   "metadata": {},
   "source": [
    "https://blog.csdn.net/m0_37673307/article/details/81271155"
   ]
  },
  {
   "cell_type": "code",
   "execution_count": 3,
   "metadata": {},
   "outputs": [],
   "source": [
    "import cv2\n",
    "import numpy as np\n",
    "from icecream import ic as print"
   ]
  },
  {
   "cell_type": "markdown",
   "metadata": {},
   "source": [
    "## Read image"
   ]
  },
  {
   "cell_type": "code",
   "execution_count": 6,
   "metadata": {},
   "outputs": [
    {
     "name": "stderr",
     "output_type": "stream",
     "text": [
      "ic| img_src.shape: (224, 224, 3), img_src.dtype: dtype('uint8')\n"
     ]
    },
    {
     "data": {
      "text/plain": [
       "((224, 224, 3), dtype('uint8'))"
      ]
     },
     "execution_count": 6,
     "metadata": {},
     "output_type": "execute_result"
    }
   ],
   "source": [
    "img_file = \"./data/obama.jpg\"\n",
    "img_src = cv2.imread(img_file) # uint8 type, BGR order\n",
    "print(img_src.shape, img_src.dtype)"
   ]
  },
  {
   "cell_type": "markdown",
   "metadata": {},
   "source": [
    "### Read the semantic image map"
   ]
  },
  {
   "cell_type": "code",
   "execution_count": 5,
   "metadata": {},
   "outputs": [
    {
     "name": "stderr",
     "output_type": "stream",
     "text": [
      "ic| np.unique(img_parsing_anno): array([ 0,  1,  3,  5, 10, 11, 12, 13, 14, 16, 17], dtype=uint8)\n",
      "ic| img_parsing_anno.shape: (512, 512)\n",
      "    img_parsing_anno.dtype: dtype('uint8')\n"
     ]
    },
    {
     "data": {
      "text/plain": [
       "((512, 512), dtype('uint8'))"
      ]
     },
     "execution_count": 5,
     "metadata": {},
     "output_type": "execute_result"
    }
   ],
   "source": [
    "img_path = \"/home/zhanghm/Research/Github/face-parsing.PyTorch/res/test_res/000000.png\"\n",
    "img_parsing_anno = cv2.imread(img_path, cv2.IMREAD_UNCHANGED)\n",
    "\n",
    "print(np.unique(img_parsing_anno))\n",
    "print(img_parsing_anno.shape, img_parsing_anno.dtype)\n"
   ]
  }
 ],
 "metadata": {
  "kernelspec": {
   "display_name": "Python 3.6.13 ('py36-torch100-cu11')",
   "language": "python",
   "name": "python3"
  },
  "language_info": {
   "codemirror_mode": {
    "name": "ipython",
    "version": 3
   },
   "file_extension": ".py",
   "mimetype": "text/x-python",
   "name": "python",
   "nbconvert_exporter": "python",
   "pygments_lexer": "ipython3",
   "version": "3.6.13"
  },
  "orig_nbformat": 4,
  "vscode": {
   "interpreter": {
    "hash": "5a061662cd1728e1a413eb44216c5a5b0f5a1d783e658cf909fe334fc01234e3"
   }
  }
 },
 "nbformat": 4,
 "nbformat_minor": 2
}
