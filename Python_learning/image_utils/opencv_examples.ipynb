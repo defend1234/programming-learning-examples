{
 "cells": [
  {
   "cell_type": "markdown",
   "metadata": {},
   "source": [
    "# OpenCV operations"
   ]
  },
  {
   "cell_type": "markdown",
   "metadata": {},
   "source": [
    "## References\n",
    "https://blog.csdn.net/m0_37673307/article/details/81271155"
   ]
  },
  {
   "cell_type": "code",
   "execution_count": 2,
   "metadata": {},
   "outputs": [],
   "source": [
    "import cv2\n",
    "import numpy as np"
   ]
  },
  {
   "cell_type": "code",
   "execution_count": 4,
   "metadata": {},
   "outputs": [
    {
     "name": "stdout",
     "output_type": "stream",
     "text": [
      "(224, 224, 3) uint8\n"
     ]
    }
   ],
   "source": [
    "img_file = \"./data/obama.jpg\"\n",
    "img_src = cv2.imread(img_file) # uint8 type, BGR order\n",
    "print(img_src.shape, img_src.dtype)\n"
   ]
  }
 ],
 "metadata": {
  "interpreter": {
   "hash": "0c73d27638f81240fbf1bce4552102bf0d56e89f229829fe258f0c6e10178d85"
  },
  "kernelspec": {
   "display_name": "Python 3.8.10 ('miniconda3': virtualenv)",
   "language": "python",
   "name": "python3"
  },
  "language_info": {
   "codemirror_mode": {
    "name": "ipython",
    "version": 3
   },
   "file_extension": ".py",
   "mimetype": "text/x-python",
   "name": "python",
   "nbconvert_exporter": "python",
   "pygments_lexer": "ipython3",
   "version": "3.8.10"
  },
  "orig_nbformat": 4
 },
 "nbformat": 4,
 "nbformat_minor": 2
}
