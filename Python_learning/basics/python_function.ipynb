{
 "cells": [
  {
   "cell_type": "markdown",
   "metadata": {},
   "source": [
    "# Function definition and usages in Python3"
   ]
  },
  {
   "cell_type": "markdown",
   "metadata": {},
   "source": [
    "## Define functions to receive key words arguments"
   ]
  },
  {
   "cell_type": "code",
   "execution_count": 2,
   "metadata": {},
   "outputs": [
    {
     "name": "stdout",
     "output_type": "stream",
     "text": [
      "hello world None\n",
      "1.0\n"
     ]
    }
   ],
   "source": [
    "def get_loss(data_path, target_dir, loss_dict=None, **kwargs):\n",
    "    print(data_path, target_dir, loss_dict)\n",
    "    loss_total = kwargs.get('loss_total', 0.0)\n",
    "    print(loss_total)\n",
    "\n",
    "get_loss('hello', 'world', loss_total=1.0)"
   ]
  },
  {
   "cell_type": "markdown",
   "metadata": {},
   "source": [
    "## Constant transfer to function will be changed inside function"
   ]
  },
  {
   "cell_type": "code",
   "execution_count": 1,
   "metadata": {},
   "outputs": [
    {
     "name": "stdout",
     "output_type": "stream",
     "text": [
      "[1]\n",
      "[2]\n",
      "[3]\n",
      "[4]\n",
      "[5]\n",
      "[6]\n",
      "[7]\n",
      "[8]\n",
      "[9]\n",
      "[10]\n",
      "[11]\n",
      "[12]\n",
      "[13]\n",
      "[14]\n",
      "[15]\n"
     ]
    }
   ],
   "source": [
    "import numpy as np\n",
    "\n",
    "def foo_func(global_steps):\n",
    "    # for i in range(5):\n",
    "    #     global_steps += 1\n",
    "    #     print(global_steps)\n",
    "\n",
    "    for i in range(5):\n",
    "        global_steps[0] += 1\n",
    "        print(global_steps)\n",
    "\n",
    "\n",
    "train_global_steps = 0\n",
    "train_global_steps = np.zeros((1,), np.int)\n",
    "for i in range(0, 3):\n",
    "    foo_func(train_global_steps)"
   ]
  },
  {
   "cell_type": "markdown",
   "metadata": {},
   "source": [
    "## Function argument reference"
   ]
  },
  {
   "cell_type": "code",
   "execution_count": 2,
   "metadata": {},
   "outputs": [
    {
     "name": "stdout",
     "output_type": "stream",
     "text": [
      "/home/data/123.jpg\n",
      "/home/data/\n"
     ]
    }
   ],
   "source": [
    "def detect_face(input_path):\n",
    "    input_path = input_path + \"123.jpg\"\n",
    "    print(input_path)\n",
    "\n",
    "data_root = \"/home/data/\"\n",
    "\n",
    "detect_face(data_root)\n",
    "\n",
    "print(data_root)\n"
   ]
  }
 ],
 "metadata": {
  "interpreter": {
   "hash": "a905e65f9d17f2b99942353106a9a9bb4e3ae6eb3c5eda96a0f871aef2e2b8d2"
  },
  "kernelspec": {
   "display_name": "Python 3.6.13 64-bit ('face_python36': conda)",
   "language": "python",
   "name": "python3"
  },
  "language_info": {
   "codemirror_mode": {
    "name": "ipython",
    "version": 3
   },
   "file_extension": ".py",
   "mimetype": "text/x-python",
   "name": "python",
   "nbconvert_exporter": "python",
   "pygments_lexer": "ipython3",
   "version": "3.6.13"
  },
  "orig_nbformat": 4
 },
 "nbformat": 4,
 "nbformat_minor": 2
}
