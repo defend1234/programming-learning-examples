{
 "cells": [
  {
   "cell_type": "markdown",
   "metadata": {},
   "source": [
    "## Formatted string"
   ]
  },
  {
   "cell_type": "code",
   "execution_count": 5,
   "metadata": {},
   "outputs": [
    {
     "name": "stdout",
     "output_type": "stream",
     "text": [
      "0010.jpg\n",
      "10.jpg\n",
      "000010.jpg\n",
      "[Val][Epoch10 Average L1 loss: 1, Per loss: 10.0\n",
      "description_str:  [Val][Epoch10 Average L1 loss: 1, Per loss: 10.0\n",
      "loss is:1.2\n",
      "The data value is 0.35\n"
     ]
    }
   ],
   "source": [
    "cnt = 10\n",
    "str_cnt = \"{:04d}.jpg\".format(cnt)\n",
    "print(str_cnt)\n",
    "\n",
    "## -------f-string-----------\n",
    "str_cnt = f\"{cnt}.jpg\"\n",
    "print(str_cnt)\n",
    "\n",
    "str_cnt = f\"{cnt:06d}.jpg\"\n",
    "print(str_cnt)\n",
    "\n",
    "epoch = 10\n",
    "total_gloss_rec = 1\n",
    "total_gloss_per = 10.0\n",
    "\n",
    "## f-formated string multiple lines\n",
    "print(f\"[Val][Epoch{epoch} Average L1 loss: {total_gloss_rec}, \"\n",
    "      f\"Per loss: {total_gloss_per}\")\n",
    "\n",
    "## Note: no comma symbol at the end of line\n",
    "description_str = (f\"[Val][Epoch{epoch} Average L1 loss: {total_gloss_rec}, \"\n",
    "                   f\"Per loss: {total_gloss_per}\")\n",
    "print(\"description_str: \", description_str)\n",
    "\n",
    "## using dictionary in f-string\n",
    "loss_dict = {\"loss_total\": 1.2}\n",
    "print(f'loss is:{loss_dict[\"loss_total\"]}')\n",
    "\n",
    "def formated_float_data():\n",
    "      data = 0.34564\n",
    "      print(f\"The data value is {data }\")\n",
    "\n",
    "formated_float_data()"
   ]
  },
  {
   "cell_type": "code",
   "execution_count": 8,
   "metadata": {},
   "outputs": [
    {
     "name": "stdout",
     "output_type": "stream",
     "text": [
      "total_loss: 3.4000 gan_loss: 0.4000 \n"
     ]
    }
   ],
   "source": [
    "loss_dict = {'total_loss': 3.4, 'gan_loss': 0.4}\n",
    "\n",
    "def get_loss_description_str(loss_dict):\n",
    "    description_str = \"\"\n",
    "    for key, value in loss_dict.items():\n",
    "        description_str += f\"{key}: {value:0.4f} \"\n",
    "    return description_str\n",
    "\n",
    "loss_str = get_loss_description_str(loss_dict)\n",
    "print(loss_str)"
   ]
  },
  {
   "cell_type": "code",
   "execution_count": 3,
   "metadata": {},
   "outputs": [
    {
     "name": "stdout",
     "output_type": "stream",
     "text": [
      "====================== Start train Epoch: 10 =======================\n",
      "========================= Start train Epoch: 10 =========================\n"
     ]
    }
   ],
   "source": [
    "epoch = 10\n",
    "print(f\"====================== Start train Epoch: {epoch} =======================\")\n",
    "print(f\"{'='*25} Start train Epoch: {epoch} {'='*25}\")"
   ]
  },
  {
   "cell_type": "markdown",
   "metadata": {},
   "source": [
    "## Join string list"
   ]
  },
  {
   "cell_type": "code",
   "execution_count": 2,
   "metadata": {},
   "outputs": [
    {
     "name": "stdout",
     "output_type": "stream",
     "text": [
      "zhanghaiming 3 12\n"
     ]
    }
   ],
   "source": [
    "str_list = [\"zhang\", \"hai\", \"ming\"]\n",
    "\n",
    "str = ''.join(str_list)\n",
    "\n",
    "print(str, len(str_list), len(str))"
   ]
  },
  {
   "cell_type": "markdown",
   "metadata": {},
   "source": [
    "## Find substr in a string"
   ]
  },
  {
   "cell_type": "code",
   "execution_count": 7,
   "metadata": {},
   "outputs": [
    {
     "name": "stdout",
     "output_type": "stream",
     "text": [
      "2\n",
      "2\n",
      "-1\n"
     ]
    }
   ],
   "source": [
    "name_str = \"h_conv\"\n",
    "\n",
    "res = name_str.find('con')\n",
    "print(res)\n",
    "res = name_str.find('conv')\n",
    "print(res)\n",
    "res = name_str.find('con2')\n",
    "print(res)"
   ]
  },
  {
   "cell_type": "markdown",
   "metadata": {},
   "source": [
    "## Create time related string"
   ]
  },
  {
   "cell_type": "code",
   "execution_count": 6,
   "metadata": {},
   "outputs": [
    {
     "name": "stdout",
     "output_type": "stream",
     "text": [
      "06-20-2022-10-57-58 <class 'str'>\n",
      "2022-06-20 10:57:58\n",
      "22-06-20 10:57:58\n",
      "Training time 0:02:03\n"
     ]
    }
   ],
   "source": [
    "import time\n",
    "import datetime\n",
    "\n",
    "timestamp = datetime.datetime.now().strftime(\"%m-%d-%Y-%H-%M-%S\")\n",
    "print(timestamp, type(timestamp))\n",
    "\n",
    "time_str = time.strftime(\"%Y-%m-%d %H:%M:%S\")\n",
    "print(time_str)\n",
    "time_str = time.strftime(\"%y-%m-%d %H:%M:%S\")\n",
    "print(time_str)\n",
    "\n",
    "## Convert time in seconds to time in hh:mm:ss\n",
    "total_time = 123\n",
    "total_time_str = str(datetime.timedelta(seconds=int(total_time)))\n",
    "print('Training time {}'.format(total_time_str))"
   ]
  },
  {
   "cell_type": "markdown",
   "metadata": {},
   "source": [
    "## Split String "
   ]
  },
  {
   "cell_type": "code",
   "execution_count": 5,
   "metadata": {},
   "outputs": [
    {
     "name": "stdout",
     "output_type": "stream",
     "text": [
      "0000001\n",
      "7\n",
      "23\n",
      "['zhanghaiming', 'hello', 'world']\n",
      "[0, 2, 3, 5]\n"
     ]
    }
   ],
   "source": [
    "input_fname = \"/homg/zhanghm/0001.jpg\"\n",
    "input_fname = \"0000001.jpg\"\n",
    "# input_fname = \"00001.jpg\"\n",
    "name = input_fname.split('/')[-1].split('.')[0]\n",
    "print(name)\n",
    "\n",
    "output_placer_num = len(name)\n",
    "print(output_placer_num)\n",
    "\n",
    "## Padding 0 before string\n",
    "fname = \"23\"\n",
    "print(f\"{fname.zfill(1)}\")\n",
    "\n",
    "## ---- Split string with space delimeter ------\n",
    "input_str = \"zhanghaiming hello  world\"\n",
    "splited_list = input_str.split()\n",
    "print(splited_list)\n",
    "\n",
    "\n",
    "## split the string with the , delimeter\n",
    "s = \"0,2,3,5\"\n",
    "\n",
    "s_list = [int(x.strip()) for x in s.split(\",\") if len(x) > 0]\n",
    "print(s_list)\n"
   ]
  },
  {
   "cell_type": "code",
   "execution_count": 5,
   "metadata": {},
   "outputs": [
    {
     "name": "stdout",
     "output_type": "stream",
     "text": [
      "['0.jpg', '3.jpg', '10.jpg']\n"
     ]
    }
   ],
   "source": [
    "## Sort string\n",
    "from natsort import natsorted\n",
    "list_str = [\"0.jpg\", \"10.jpg\", \"3.jpg\"]\n",
    "list_str = natsorted(list_str)\n",
    "print(list_str)"
   ]
  },
  {
   "cell_type": "code",
   "execution_count": 7,
   "metadata": {},
   "outputs": [
    {
     "name": "stdout",
     "output_type": "stream",
     "text": [
      "abacacacac\n"
     ]
    }
   ],
   "source": [
    "str1 = \"a\" + 'b'\n",
    "str2 = '2*2'\n",
    "str3 = 'ac'\n",
    "print(str1+eval(str2)*str3)"
   ]
  },
  {
   "cell_type": "code",
   "execution_count": 8,
   "metadata": {},
   "outputs": [
    {
     "name": "stdout",
     "output_type": "stream",
     "text": [
      "2 , [0, 2]\n"
     ]
    }
   ],
   "source": [
    "def test(a, b):\n",
    "    a = 1\n",
    "    b[1] = 2\n",
    "\n",
    "a = 2\n",
    "b = [0, 1]\n",
    "test(a,b)\n",
    "print(a, ',', b)"
   ]
  },
  {
   "cell_type": "code",
   "execution_count": 10,
   "metadata": {},
   "outputs": [
    {
     "name": "stdout",
     "output_type": "stream",
     "text": [
      "1\n",
      "1\n"
     ]
    }
   ],
   "source": [
    "x = 0\n",
    "def func1():\n",
    "    x = 2\n",
    "def func2():\n",
    "    global x\n",
    "    print(x)\n",
    "    func1()\n",
    "    print(x)\n",
    "x = 1\n",
    "func2()"
   ]
  },
  {
   "cell_type": "markdown",
   "metadata": {},
   "source": [
    "## Substr existence"
   ]
  },
  {
   "cell_type": "code",
   "execution_count": 4,
   "metadata": {},
   "outputs": [
    {
     "name": "stdout",
     "output_type": "stream",
     "text": [
      "Yes\n"
     ]
    }
   ],
   "source": [
    "substr = 'lrs2'\n",
    "input_str = 'lrs2_preprocessed/5535415699068794046/00011'\n",
    "# input_str = 'cctv_preprocessed/210906/210906_93_4'\n",
    "\n",
    "if substr in input_str:\n",
    "    print(\"Yes\")\n",
    "else:\n",
    "    print(\"No\")"
   ]
  },
  {
   "cell_type": "markdown",
   "metadata": {},
   "source": [
    "## Delete sub-string from a string using replace"
   ]
  },
  {
   "cell_type": "code",
   "execution_count": 1,
   "metadata": {},
   "outputs": [
    {
     "name": "stdout",
     "output_type": "stream",
     "text": [
      "/lrs2_preprocessed/5535415699068794046/00011\n",
      "vgg.module.forward\n"
     ]
    }
   ],
   "source": [
    "input_str = '/home/haimingzhang/Research/Face/Wav2Lip/data/lrs2_cctv_mixed_dataset/lrs2_preprocessed/5535415699068794046/00011'\n",
    "root_path = '/home/haimingzhang/Research/Face/Wav2Lip/data/lrs2_cctv_mixed_dataset'\n",
    "\n",
    "output_str = input_str.replace(root_path, '')\n",
    "print(output_str)\n",
    "\n",
    "\n",
    "module_name = 'vgg.module.forward'\n",
    "new_module_name = module_name.replace('network', '')\n",
    "print(new_module_name)"
   ]
  },
  {
   "cell_type": "markdown",
   "metadata": {},
   "source": [
    "## Reverse string"
   ]
  },
  {
   "cell_type": "code",
   "execution_count": null,
   "metadata": {},
   "outputs": [],
   "source": [
    "def reverseWords(input):\n",
    "     \n",
    "    # 通过空格将字符串分隔符，把各个单词分隔为列表\n",
    "    inputWords = input.split(\" \")\n",
    " \n",
    "    # 翻转字符串\n",
    "    # 假设列表 list = [1,2,3,4],  \n",
    "    # list[0]=1, list[1]=2 ，而 -1 表示最后一个元素 list[-1]=4 ( 与 list[3]=4 一样)\n",
    "    # inputWords[-1::-1] 有三个参数\n",
    "    # 第一个参数 -1 表示最后一个元素\n",
    "    # 第二个参数为空，表示移动到列表末尾\n",
    "    # 第三个参数为步长，-1 表示逆向\n",
    "    print(inputWords, len(inputWords))\n",
    "    inputWords=inputWords[-1::-1]\n",
    "    print(inputWords)\n",
    " \n",
    "    # 重新组合字符串\n",
    "    output = ' '.join(inputWords)\n",
    "     \n",
    "    return output"
   ]
  }
 ],
 "metadata": {
  "kernelspec": {
   "display_name": "Python 3.6.13 ('py36-torch100-cu11')",
   "language": "python",
   "name": "python3"
  },
  "language_info": {
   "codemirror_mode": {
    "name": "ipython",
    "version": 3
   },
   "file_extension": ".py",
   "mimetype": "text/x-python",
   "name": "python",
   "nbconvert_exporter": "python",
   "pygments_lexer": "ipython3",
   "version": "3.6.13"
  },
  "orig_nbformat": 4,
  "vscode": {
   "interpreter": {
    "hash": "5a061662cd1728e1a413eb44216c5a5b0f5a1d783e658cf909fe334fc01234e3"
   }
  }
 },
 "nbformat": 4,
 "nbformat_minor": 2
}
