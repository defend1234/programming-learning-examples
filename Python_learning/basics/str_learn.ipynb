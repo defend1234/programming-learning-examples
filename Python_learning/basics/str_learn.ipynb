{
 "cells": [
  {
   "cell_type": "markdown",
   "metadata": {},
   "source": [
    "## Formatted string"
   ]
  },
  {
   "cell_type": "code",
   "execution_count": 2,
   "metadata": {},
   "outputs": [
    {
     "name": "stdout",
     "output_type": "stream",
     "text": [
      "0010.jpg\n",
      "10.jpg\n",
      "000010.jpg\n",
      "[Val][Epoch10 Average L1 loss: 1, Per loss: 10.0\n",
      "loss is:1.2\n"
     ]
    }
   ],
   "source": [
    "cnt = 10\n",
    "str_cnt = \"{:04d}.jpg\".format(cnt)\n",
    "print(str_cnt)\n",
    "\n",
    "## -------f-string-----------\n",
    "str_cnt = f\"{cnt}.jpg\"\n",
    "print(str_cnt)\n",
    "\n",
    "str_cnt = f\"{cnt:06d}.jpg\"\n",
    "print(str_cnt)\n",
    "\n",
    "epoch = 10\n",
    "total_gloss_rec = 1\n",
    "total_gloss_per = 10.0\n",
    "\n",
    "## f-formated string multiple lines\n",
    "print(f\"[Val][Epoch{epoch} Average L1 loss: {total_gloss_rec}, \"\n",
    "      f\"Per loss: {total_gloss_per}\")\n",
    "\n",
    "## using dictionary in f-string\n",
    "loss_dict = {\"loss_total\": 1.2}\n",
    "print(f'loss is:{loss_dict[\"loss_total\"]}')"
   ]
  },
  {
   "cell_type": "markdown",
   "metadata": {},
   "source": [
    "## Join string list"
   ]
  },
  {
   "cell_type": "code",
   "execution_count": 2,
   "metadata": {},
   "outputs": [
    {
     "name": "stdout",
     "output_type": "stream",
     "text": [
      "zhanghaiming 3 12\n"
     ]
    }
   ],
   "source": [
    "str_list = [\"zhang\", \"hai\", \"ming\"]\n",
    "\n",
    "str = ''.join(str_list)\n",
    "\n",
    "print(str, len(str_list), len(str))"
   ]
  },
  {
   "cell_type": "markdown",
   "metadata": {},
   "source": [
    "## Create time related string"
   ]
  },
  {
   "cell_type": "code",
   "execution_count": 4,
   "metadata": {},
   "outputs": [
    {
     "name": "stdout",
     "output_type": "stream",
     "text": [
      "12-31-2021-19-34-48 <class 'str'>\n",
      "2021-12-31 19:34:48\n",
      "21-12-31 19:34:48\n"
     ]
    }
   ],
   "source": [
    "from datetime import datetime\n",
    "import time\n",
    "\n",
    "timestamp = datetime.now().strftime(\"%m-%d-%Y-%H-%M-%S\")\n",
    "print(timestamp, type(timestamp))\n",
    "\n",
    "time_str = time.strftime(\"%Y-%m-%d %H:%M:%S\")\n",
    "print(time_str)\n",
    "time_str = time.strftime(\"%y-%m-%d %H:%M:%S\")\n",
    "print(time_str)"
   ]
  },
  {
   "cell_type": "markdown",
   "metadata": {},
   "source": [
    "## Split String "
   ]
  },
  {
   "cell_type": "code",
   "execution_count": 7,
   "metadata": {},
   "outputs": [
    {
     "name": "stdout",
     "output_type": "stream",
     "text": [
      "0000001\n",
      "7\n",
      "23\n",
      "['zhanghaiming', 'hello', 'world']\n"
     ]
    }
   ],
   "source": [
    "input_fname = \"/homg/zhanghm/0001.jpg\"\n",
    "input_fname = \"0000001.jpg\"\n",
    "# input_fname = \"00001.jpg\"\n",
    "name = input_fname.split('/')[-1].split('.')[0]\n",
    "print(name)\n",
    "\n",
    "output_placer_num = len(name)\n",
    "print(output_placer_num)\n",
    "\n",
    "## Padding 0 before string\n",
    "fname = \"23\"\n",
    "print(f\"{fname.zfill(1)}\")\n",
    "\n",
    "## ---- Split string with space delimeter ------\n",
    "input_str = \"zhanghaiming hello  world\"\n",
    "splited_list = input_str.split()\n",
    "print(splited_list)\n"
   ]
  },
  {
   "cell_type": "code",
   "execution_count": 5,
   "metadata": {},
   "outputs": [
    {
     "name": "stdout",
     "output_type": "stream",
     "text": [
      "['0.jpg', '3.jpg', '10.jpg']\n"
     ]
    }
   ],
   "source": [
    "## Sort string\n",
    "from natsort import natsorted\n",
    "list_str = [\"0.jpg\", \"10.jpg\", \"3.jpg\"]\n",
    "list_str = natsorted(list_str)\n",
    "print(list_str)"
   ]
  },
  {
   "cell_type": "code",
   "execution_count": 7,
   "metadata": {},
   "outputs": [
    {
     "name": "stdout",
     "output_type": "stream",
     "text": [
      "abacacacac\n"
     ]
    }
   ],
   "source": [
    "str1 = \"a\" + 'b'\n",
    "str2 = '2*2'\n",
    "str3 = 'ac'\n",
    "print(str1+eval(str2)*str3)"
   ]
  },
  {
   "cell_type": "code",
   "execution_count": 8,
   "metadata": {},
   "outputs": [
    {
     "name": "stdout",
     "output_type": "stream",
     "text": [
      "2 , [0, 2]\n"
     ]
    }
   ],
   "source": [
    "def test(a, b):\n",
    "    a = 1\n",
    "    b[1] = 2\n",
    "\n",
    "a = 2\n",
    "b = [0, 1]\n",
    "test(a,b)\n",
    "print(a, ',', b)"
   ]
  },
  {
   "cell_type": "code",
   "execution_count": 10,
   "metadata": {},
   "outputs": [
    {
     "name": "stdout",
     "output_type": "stream",
     "text": [
      "1\n",
      "1\n"
     ]
    }
   ],
   "source": [
    "x = 0\n",
    "def func1():\n",
    "    x = 2\n",
    "def func2():\n",
    "    global x\n",
    "    print(x)\n",
    "    func1()\n",
    "    print(x)\n",
    "x = 1\n",
    "func2()"
   ]
  },
  {
   "cell_type": "markdown",
   "metadata": {},
   "source": [
    "## Substr existence"
   ]
  },
  {
   "cell_type": "code",
   "execution_count": 4,
   "metadata": {},
   "outputs": [
    {
     "name": "stdout",
     "output_type": "stream",
     "text": [
      "Yes\n"
     ]
    }
   ],
   "source": [
    "substr = 'lrs2'\n",
    "input_str = 'lrs2_preprocessed/5535415699068794046/00011'\n",
    "# input_str = 'cctv_preprocessed/210906/210906_93_4'\n",
    "\n",
    "if substr in input_str:\n",
    "    print(\"Yes\")\n",
    "else:\n",
    "    print(\"No\")"
   ]
  },
  {
   "cell_type": "markdown",
   "metadata": {},
   "source": [
    "## Delete sub-string from a string using replace"
   ]
  },
  {
   "cell_type": "code",
   "execution_count": 1,
   "metadata": {},
   "outputs": [
    {
     "name": "stdout",
     "output_type": "stream",
     "text": [
      "/lrs2_preprocessed/5535415699068794046/00011\n",
      "vgg.module.forward\n"
     ]
    }
   ],
   "source": [
    "input_str = '/home/haimingzhang/Research/Face/Wav2Lip/data/lrs2_cctv_mixed_dataset/lrs2_preprocessed/5535415699068794046/00011'\n",
    "root_path = '/home/haimingzhang/Research/Face/Wav2Lip/data/lrs2_cctv_mixed_dataset'\n",
    "\n",
    "output_str = input_str.replace(root_path, '')\n",
    "print(output_str)\n",
    "\n",
    "\n",
    "module_name = 'vgg.module.forward'\n",
    "new_module_name = module_name.replace('network', '')\n",
    "print(new_module_name)"
   ]
  }
 ],
 "metadata": {
  "interpreter": {
   "hash": "a905e65f9d17f2b99942353106a9a9bb4e3ae6eb3c5eda96a0f871aef2e2b8d2"
  },
  "kernelspec": {
   "display_name": "Python 3.6.13 64-bit ('face_python36': conda)",
   "name": "python3"
  },
  "language_info": {
   "codemirror_mode": {
    "name": "ipython",
    "version": 3
   },
   "file_extension": ".py",
   "mimetype": "text/x-python",
   "name": "python",
   "nbconvert_exporter": "python",
   "pygments_lexer": "ipython3",
   "version": "3.6.13"
  },
  "orig_nbformat": 4
 },
 "nbformat": 4,
 "nbformat_minor": 2
}
