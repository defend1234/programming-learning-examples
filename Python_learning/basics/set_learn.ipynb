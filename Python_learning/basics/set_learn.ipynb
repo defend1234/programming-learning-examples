{
 "cells": [
  {
   "cell_type": "markdown",
   "metadata": {},
   "source": [
    "# This notebook learns how to use set in Python3"
   ]
  },
  {
   "cell_type": "markdown",
   "metadata": {},
   "source": [
    "## Use set to get unique elements in a list"
   ]
  },
  {
   "cell_type": "code",
   "execution_count": 2,
   "metadata": {},
   "outputs": [
    {
     "name": "stdout",
     "output_type": "stream",
     "text": [
      "8 [1, 2, 3, 41, 21, 2, 1, 2]\n",
      "{1, 2, 3, 41, 21} 5 <class 'set'>\n",
      "[1, 2, 3, 41, 21] <class 'list'>\n"
     ]
    }
   ],
   "source": [
    "list_data = [1,2,3,41,21,2,1,2]\n",
    "print(len(list_data), list_data)\n",
    "\n",
    "unique_data = set(list_data)\n",
    "print(unique_data, len(unique_data), type(unique_data))\n",
    "\n",
    "data = list(unique_data)\n",
    "print(data, type(data))"
   ]
  }
 ],
 "metadata": {
  "kernelspec": {
   "display_name": "Python 3.6.13 ('py36-torch100-cu11')",
   "language": "python",
   "name": "python3"
  },
  "language_info": {
   "codemirror_mode": {
    "name": "ipython",
    "version": 3
   },
   "file_extension": ".py",
   "mimetype": "text/x-python",
   "name": "python",
   "nbconvert_exporter": "python",
   "pygments_lexer": "ipython3",
   "version": "3.6.13"
  },
  "orig_nbformat": 4,
  "vscode": {
   "interpreter": {
    "hash": "5a061662cd1728e1a413eb44216c5a5b0f5a1d783e658cf909fe334fc01234e3"
   }
  }
 },
 "nbformat": 4,
 "nbformat_minor": 2
}
