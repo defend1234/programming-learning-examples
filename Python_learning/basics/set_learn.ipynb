{
 "cells": [
  {
   "cell_type": "markdown",
   "metadata": {},
   "source": [
    "# This notebook learns how to use set in Python3"
   ]
  },
  {
   "cell_type": "markdown",
   "metadata": {},
   "source": [
    "## Use set to get unique elements in a list"
   ]
  },
  {
   "cell_type": "code",
   "execution_count": 3,
   "metadata": {},
   "outputs": [
    {
     "name": "stdout",
     "output_type": "stream",
     "text": [
      "8 [1, 2, 3, 41, 21, 2, 1, 2]\n",
      "{1, 2, 3, 41, 21} 5 <class 'set'>\n"
     ]
    }
   ],
   "source": [
    "list_data = [1,2,3,41,21,2,1,2]\n",
    "print(len(list_data), list_data)\n",
    "\n",
    "unique_data = set(list_data)\n",
    "print(unique_data, len(unique_data), type(unique_data))"
   ]
  }
 ],
 "metadata": {
  "interpreter": {
   "hash": "a905e65f9d17f2b99942353106a9a9bb4e3ae6eb3c5eda96a0f871aef2e2b8d2"
  },
  "kernelspec": {
   "display_name": "Python 3.6.13 64-bit ('face_python36': conda)",
   "name": "python3"
  },
  "language_info": {
   "codemirror_mode": {
    "name": "ipython",
    "version": 3
   },
   "file_extension": ".py",
   "mimetype": "text/x-python",
   "name": "python",
   "nbconvert_exporter": "python",
   "pygments_lexer": "ipython3",
   "version": "3.6.13"
  },
  "orig_nbformat": 4
 },
 "nbformat": 4,
 "nbformat_minor": 2
}
