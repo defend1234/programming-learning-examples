{
 "cells": [
  {
   "cell_type": "code",
   "execution_count": 2,
   "metadata": {},
   "outputs": [
    {
     "name": "stdout",
     "output_type": "stream",
     "text": [
      "5132 27132 22000\n"
     ]
    }
   ],
   "source": [
    "start_idx = 13\n",
    "sequence_length = 60\n",
    "\n",
    "audio_start_idx = round(22000 / 60.0 * (start_idx + 1)) - 1\n",
    "audio_end_idx = round(22000 / 60.0 * (start_idx + sequence_length + 1)) - 1\n",
    "\n",
    "print(audio_start_idx, audio_end_idx, audio_end_idx - audio_start_idx)"
   ]
  },
  {
   "cell_type": "code",
   "execution_count": 4,
   "metadata": {},
   "outputs": [
    {
     "name": "stdout",
     "output_type": "stream",
     "text": [
      "(79200,)\n"
     ]
    }
   ],
   "source": [
    "import pickle\n",
    "\n",
    "raw_audio_path = \"/home/haimingzhang/Research/Face/FaceFormer/FaceFormer/training_data/raw_audio_fixed.pkl\"\n",
    "raw_audio = pickle.load(open(raw_audio_path, 'rb'), encoding='latin1')\n",
    "\n",
    "print(raw_audio[\"FaceTalk_170728_03272_TA\"][\"sentence31\"]['audio'].shape)"
   ]
  },
  {
   "cell_type": "markdown",
   "metadata": {},
   "source": [
    "## Math computations"
   ]
  },
  {
   "cell_type": "code",
   "execution_count": 2,
   "metadata": {},
   "outputs": [
    {
     "name": "stdout",
     "output_type": "stream",
     "text": [
      "2.23606797749979\n"
     ]
    }
   ],
   "source": [
    "import math\n",
    "\n",
    "value = math.sqrt(5)\n",
    "print(value)"
   ]
  },
  {
   "cell_type": "markdown",
   "metadata": {},
   "source": [
    "## Yield usages"
   ]
  },
  {
   "cell_type": "code",
   "execution_count": null,
   "metadata": {},
   "outputs": [],
   "source": []
  },
  {
   "cell_type": "markdown",
   "metadata": {},
   "source": [
    "## Raise usages"
   ]
  },
  {
   "cell_type": "code",
   "execution_count": null,
   "metadata": {},
   "outputs": [],
   "source": [
    "import os\n",
    "\n",
    "file_path = \"lll\"\n",
    "\n",
    "if not os.path.isfile(file_path):\n",
    "    raise ValueError('--face argument must be a valid path to video/image file')\n"
   ]
  }
 ],
 "metadata": {
  "interpreter": {
   "hash": "a905e65f9d17f2b99942353106a9a9bb4e3ae6eb3c5eda96a0f871aef2e2b8d2"
  },
  "kernelspec": {
   "display_name": "Python 3.6.13 ('face_python36')",
   "language": "python",
   "name": "python3"
  },
  "language_info": {
   "codemirror_mode": {
    "name": "ipython",
    "version": 3
   },
   "file_extension": ".py",
   "mimetype": "text/x-python",
   "name": "python",
   "nbconvert_exporter": "python",
   "pygments_lexer": "ipython3",
   "version": "3.6.13"
  },
  "orig_nbformat": 4
 },
 "nbformat": 4,
 "nbformat_minor": 2
}
