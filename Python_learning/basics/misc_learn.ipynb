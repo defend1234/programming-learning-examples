{
 "cells": [
  {
   "cell_type": "code",
   "execution_count": 2,
   "metadata": {},
   "outputs": [
    {
     "name": "stdout",
     "output_type": "stream",
     "text": [
      "5132 27132 22000\n"
     ]
    }
   ],
   "source": [
    "start_idx = 13\n",
    "sequence_length = 60\n",
    "\n",
    "audio_start_idx = round(22000 / 60.0 * (start_idx + 1)) - 1\n",
    "audio_end_idx = round(22000 / 60.0 * (start_idx + sequence_length + 1)) - 1\n",
    "\n",
    "print(audio_start_idx, audio_end_idx, audio_end_idx - audio_start_idx)"
   ]
  },
  {
   "cell_type": "code",
   "execution_count": 4,
   "metadata": {},
   "outputs": [
    {
     "name": "stdout",
     "output_type": "stream",
     "text": [
      "(79200,)\n"
     ]
    }
   ],
   "source": [
    "import pickle\n",
    "\n",
    "raw_audio_path = \"/home/haimingzhang/Research/Face/FaceFormer/FaceFormer/training_data/raw_audio_fixed.pkl\"\n",
    "raw_audio = pickle.load(open(raw_audio_path, 'rb'), encoding='latin1')\n",
    "\n",
    "print(raw_audio[\"FaceTalk_170728_03272_TA\"][\"sentence31\"]['audio'].shape)"
   ]
  },
  {
   "cell_type": "markdown",
   "metadata": {},
   "source": [
    "## Math computations"
   ]
  },
  {
   "cell_type": "code",
   "execution_count": 6,
   "metadata": {},
   "outputs": [
    {
     "name": "stdout",
     "output_type": "stream",
     "text": [
      "2.23606797749979\n",
      "odd\n",
      "1 0\n"
     ]
    }
   ],
   "source": [
    "import math\n",
    "\n",
    "value = math.sqrt(5)\n",
    "print(value)\n",
    "\n",
    "\n",
    "batch_idx = 9\n",
    "if batch_idx % 2 == 0:\n",
    "    print(\"even\")\n",
    "else:\n",
    "    print(\"odd\")\n",
    "\n",
    "\n",
    "index = 50\n",
    "length = 50\n",
    "\n",
    "t_idx = index // length\n",
    "s_idx = index % length\n",
    "print(t_idx, s_idx)\n"
   ]
  },
  {
   "cell_type": "markdown",
   "metadata": {},
   "source": [
    "## Raise usages"
   ]
  },
  {
   "cell_type": "code",
   "execution_count": null,
   "metadata": {},
   "outputs": [],
   "source": [
    "import os\n",
    "\n",
    "file_path = \"lll\"\n",
    "\n",
    "if not os.path.isfile(file_path):\n",
    "    raise ValueError('--face argument must be a valid path to video/image file')\n"
   ]
  },
  {
   "cell_type": "code",
   "execution_count": 7,
   "metadata": {},
   "outputs": [
    {
     "name": "stdout",
     "output_type": "stream",
     "text": [
      "Error, must have only one true value!\n"
     ]
    }
   ],
   "source": [
    "def check_bools(input_a=True, input_b=False, input_c=False):\n",
    "    input_list = [input_a, input_b, input_c]\n",
    "\n",
    "    if sum(map(bool, input_list)) != 1:\n",
    "        print(\"Error, must have only one true value!\")\n",
    "    else:\n",
    "        print(\"OK\")\n",
    "\n",
    "check_bools(input_a=False, input_b=False, input_c=False)"
   ]
  }
 ],
 "metadata": {
  "kernelspec": {
   "display_name": "Python 3.6.13 ('py36-torch100-cu11')",
   "language": "python",
   "name": "python3"
  },
  "language_info": {
   "codemirror_mode": {
    "name": "ipython",
    "version": 3
   },
   "file_extension": ".py",
   "mimetype": "text/x-python",
   "name": "python",
   "nbconvert_exporter": "python",
   "pygments_lexer": "ipython3",
   "version": "3.6.13"
  },
  "orig_nbformat": 4,
  "vscode": {
   "interpreter": {
    "hash": "5a061662cd1728e1a413eb44216c5a5b0f5a1d783e658cf909fe334fc01234e3"
   }
  }
 },
 "nbformat": 4,
 "nbformat_minor": 2
}
