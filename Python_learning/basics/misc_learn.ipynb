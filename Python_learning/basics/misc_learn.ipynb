{
 "cells": [
  {
   "cell_type": "code",
   "execution_count": 2,
   "metadata": {},
   "outputs": [
    {
     "name": "stdout",
     "output_type": "stream",
     "text": [
      "5132 27132 22000\n"
     ]
    }
   ],
   "source": [
    "start_idx = 13\n",
    "sequence_length = 60\n",
    "\n",
    "audio_start_idx = round(22000 / 60.0 * (start_idx + 1)) - 1\n",
    "audio_end_idx = round(22000 / 60.0 * (start_idx + sequence_length + 1)) - 1\n",
    "\n",
    "print(audio_start_idx, audio_end_idx, audio_end_idx - audio_start_idx)"
   ]
  },
  {
   "cell_type": "code",
   "execution_count": 4,
   "metadata": {},
   "outputs": [
    {
     "name": "stdout",
     "output_type": "stream",
     "text": [
      "(79200,)\n"
     ]
    }
   ],
   "source": [
    "import pickle\n",
    "\n",
    "raw_audio_path = \"/home/haimingzhang/Research/Face/FaceFormer/FaceFormer/training_data/raw_audio_fixed.pkl\"\n",
    "raw_audio = pickle.load(open(raw_audio_path, 'rb'), encoding='latin1')\n",
    "\n",
    "print(raw_audio[\"FaceTalk_170728_03272_TA\"][\"sentence31\"]['audio'].shape)"
   ]
  },
  {
   "cell_type": "code",
   "execution_count": 1,
   "metadata": {},
   "outputs": [
    {
     "name": "stdout",
     "output_type": "stream",
     "text": [
      "10 10\n",
      "10 21\n"
     ]
    }
   ],
   "source": [
    "start, end = 0, 0\n",
    "\n",
    "end = 10\n",
    "\n",
    "start = end\n",
    "print(start, end)\n",
    "\n",
    "end += 11\n",
    "\n",
    "print(start, end)"
   ]
  },
  {
   "cell_type": "markdown",
   "metadata": {},
   "source": [
    "## Math computations"
   ]
  },
  {
   "cell_type": "code",
   "execution_count": 2,
   "metadata": {},
   "outputs": [
    {
     "name": "stdout",
     "output_type": "stream",
     "text": [
      "37\n",
      "4\n"
     ]
    }
   ],
   "source": [
    "import numpy as np\n",
    "\n",
    "total_len = 100\n",
    "index = 237\n",
    "\n",
    "index = index % total_len\n",
    "print(index)\n",
    "\n",
    "idx = np.random.randint(0, 40 - 12 + 1)\n",
    "print(idx)"
   ]
  },
  {
   "cell_type": "code",
   "execution_count": 6,
   "metadata": {},
   "outputs": [
    {
     "name": "stdout",
     "output_type": "stream",
     "text": [
      "2.23606797749979\n",
      "odd\n",
      "1 0\n"
     ]
    }
   ],
   "source": [
    "import math\n",
    "\n",
    "value = math.sqrt(5)\n",
    "print(value)\n",
    "\n",
    "\n",
    "batch_idx = 9\n",
    "if batch_idx % 2 == 0:\n",
    "    print(\"even\")\n",
    "else:\n",
    "    print(\"odd\")\n",
    "\n",
    "\n",
    "index = 50\n",
    "length = 50\n",
    "\n",
    "t_idx = index // length\n",
    "s_idx = index % length\n",
    "print(t_idx, s_idx)\n"
   ]
  },
  {
   "cell_type": "code",
   "execution_count": 3,
   "metadata": {},
   "outputs": [
    {
     "name": "stdout",
     "output_type": "stream",
     "text": [
      "71.62\n",
      "0.5485893416927897\n",
      "3295 2712\n"
     ]
    }
   ],
   "source": [
    "miou_low = 65.24\n",
    "miou_high = 78\n",
    "\n",
    "frac = 0.5\n",
    "\n",
    "miou = miou_low * frac + miou_high * (1 - frac)\n",
    "print(miou)\n",
    "\n",
    "target_miou = 71.0\n",
    "frac = (target_miou - miou_high) / (miou_low - miou_high)\n",
    "print(frac)\n",
    "\n",
    "total_num = 6008\n",
    "num_low_miou = int(total_num * frac)\n",
    "num_high_miou = int(total_num * (1 - frac))\n",
    "print(num_low_miou, num_high_miou)\n"
   ]
  },
  {
   "cell_type": "markdown",
   "metadata": {},
   "source": [
    "## Raise usages"
   ]
  },
  {
   "cell_type": "code",
   "execution_count": null,
   "metadata": {},
   "outputs": [],
   "source": [
    "import os\n",
    "\n",
    "file_path = \"lll\"\n",
    "\n",
    "if not os.path.isfile(file_path):\n",
    "    raise ValueError('--face argument must be a valid path to video/image file')\n"
   ]
  },
  {
   "cell_type": "code",
   "execution_count": 7,
   "metadata": {},
   "outputs": [
    {
     "name": "stdout",
     "output_type": "stream",
     "text": [
      "Error, must have only one true value!\n"
     ]
    }
   ],
   "source": [
    "def check_bools(input_a=True, input_b=False, input_c=False):\n",
    "    input_list = [input_a, input_b, input_c]\n",
    "\n",
    "    if sum(map(bool, input_list)) != 1:\n",
    "        print(\"Error, must have only one true value!\")\n",
    "    else:\n",
    "        print(\"OK\")\n",
    "\n",
    "check_bools(input_a=False, input_b=False, input_c=False)"
   ]
  },
  {
   "cell_type": "code",
   "execution_count": 5,
   "metadata": {},
   "outputs": [
    {
     "name": "stdout",
     "output_type": "stream",
     "text": [
      "191\n",
      "0.4980392156862745\n"
     ]
    }
   ],
   "source": [
    "centers = 0.5\n",
    "bins = 256\n",
    "\n",
    "centers_quantized = int(((centers + 1) / 2 * (bins - 1)))\n",
    "print(centers_quantized)\n",
    "\n",
    "centers = float(centers_quantized) / 255.0 * 2 - 1\n",
    "print(centers)"
   ]
  },
  {
   "cell_type": "code",
   "execution_count": 5,
   "metadata": {},
   "outputs": [
    {
     "name": "stdout",
     "output_type": "stream",
     "text": [
      "9\n",
      "[6, 7, 8, 9]\n",
      "4\n"
     ]
    }
   ],
   "source": [
    "anns = [1, 2, 3, 4, 5, 6, 7, 8, 9]\n",
    "print(len(anns))\n",
    "\n",
    "max_num = 4\n",
    "anns = anns[len(anns) - max_num:]\n",
    "print(anns)\n",
    "print(len(anns))"
   ]
  }
 ],
 "metadata": {
  "kernelspec": {
   "display_name": "Python 3.8.13 ('py38-torch100-cu11')",
   "language": "python",
   "name": "python3"
  },
  "language_info": {
   "codemirror_mode": {
    "name": "ipython",
    "version": 3
   },
   "file_extension": ".py",
   "mimetype": "text/x-python",
   "name": "python",
   "nbconvert_exporter": "python",
   "pygments_lexer": "ipython3",
   "version": "3.10.13"
  },
  "orig_nbformat": 4,
  "vscode": {
   "interpreter": {
    "hash": "56d0891f27fe2db3830dc2a05bc70f05135b0c30ed7c190a150d1aca2da3af60"
   }
  }
 },
 "nbformat": 4,
 "nbformat_minor": 2
}
