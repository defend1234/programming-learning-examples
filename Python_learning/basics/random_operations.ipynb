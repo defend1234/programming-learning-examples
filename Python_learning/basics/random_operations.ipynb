{
 "cells": [
  {
   "cell_type": "markdown",
   "metadata": {},
   "source": [
    "# Learn different random operations in Python3"
   ]
  },
  {
   "cell_type": "code",
   "execution_count": 1,
   "metadata": {},
   "outputs": [],
   "source": [
    "import random\n",
    "import numpy as np"
   ]
  },
  {
   "cell_type": "markdown",
   "metadata": {},
   "source": [
    "## random package"
   ]
  },
  {
   "cell_type": "code",
   "execution_count": 20,
   "metadata": {},
   "outputs": [
    {
     "name": "stdout",
     "output_type": "stream",
     "text": [
      "randint:  2\n"
     ]
    }
   ],
   "source": [
    "### From a interval to random select a number\n",
    "idx = random.randint(0, 2) # [a, b], including a and b point\n",
    "print(\"randint: \", idx)"
   ]
  },
  {
   "cell_type": "code",
   "execution_count": 20,
   "metadata": {},
   "outputs": [
    {
     "name": "stdout",
     "output_type": "stream",
     "text": [
      "12\n"
     ]
    }
   ],
   "source": [
    "data = random.randrange(100)\n",
    "print(data)"
   ]
  },
  {
   "cell_type": "code",
   "execution_count": 11,
   "metadata": {},
   "outputs": [
    {
     "name": "stdout",
     "output_type": "stream",
     "text": [
      "[0, 1, 2, 3, 4, 5, 6, 7, 8, 9, 10, 11, 12, 13, 14, 15, 16, 17, 18, 19, 20, 21, 22, 23, 24]\n",
      "[0, 5, 10, 15, 20]\n",
      "=====\n",
      "[5, 15, 19, 17, 12, 2, 14, 11, 22, 22, 1, 19, 20, 4, 24, 10, 3, 1, 24, 5, 18, 15, 0, 13, 1]\n"
     ]
    }
   ],
   "source": [
    "def select_specified_length_random_list(list_input, choice_idx, neighbor_length):\n",
    "    \"\"\"From a list to choose specified random sublist, and they shouldn't be\n",
    "       close to given choice_idx     \n",
    "\n",
    "    Args:\n",
    "        list_input ([type]): [description]\n",
    "        choice_idx ([type]): [description]\n",
    "        neighbor_length (int): [description]\n",
    "\n",
    "    Returns:\n",
    "        [type]: [description]\n",
    "    \"\"\"\n",
    "    if choice_idx + neighbor_length > len(list_input):\n",
    "        return None\n",
    "\n",
    "    remove_idx_list = list(range(choice_idx, choice_idx + neighbor_length))\n",
    "    \n",
    "    input_idx_list = list(range(len(list_input)))\n",
    "\n",
    "    remained_idx_list = [x for x in input_idx_list if x not in remove_idx_list]\n",
    "    \n",
    "    return random.choices(remained_idx_list, k=neighbor_length)\n",
    "\n",
    "\n",
    "list_data = list(range(25))\n",
    "print(list_data)\n",
    "\n",
    "index_list = list_data[::5]\n",
    "print(index_list)\n",
    "\n",
    "print(\"=====\")\n",
    "ref_idx_list = []\n",
    "for i in index_list:\n",
    "    ref_idx = select_specified_length_random_list(list_data, i, 5)\n",
    "    ref_idx_list += ref_idx\n",
    "print(ref_idx_list)"
   ]
  },
  {
   "cell_type": "markdown",
   "metadata": {},
   "source": [
    "### Choose sublist randomly from a list"
   ]
  },
  {
   "cell_type": "code",
   "execution_count": 18,
   "metadata": {},
   "outputs": [
    {
     "name": "stdout",
     "output_type": "stream",
     "text": [
      "[2] <class 'list'>\n",
      "[5, 3, 1, 4]\n",
      "[4, 6, 9, 3]\n",
      "[9]\n",
      "1 <class 'int'>\n"
     ]
    }
   ],
   "source": [
    "import random\n",
    "\n",
    "list_data = list(range(10))\n",
    "\n",
    "choices = random.sample(list_data, k=1)\n",
    "print(choices, type(choices)) # is a list\n",
    "\n",
    "choices = random.sample(list_data, k=4) # not repeated\n",
    "print(choices)\n",
    "\n",
    "choices = random.choices(list_data, k=4) # maybe repeated\n",
    "print(choices)\n",
    "\n",
    "choices = random.choices(list_data, k=1) # maybe repeated\n",
    "print(choices) # is a list\n",
    "\n",
    "choice = random.choice(list_data) \n",
    "print(choice, type(choice)) # is a single element"
   ]
  },
  {
   "cell_type": "code",
   "execution_count": 16,
   "metadata": {},
   "outputs": [
    {
     "name": "stdout",
     "output_type": "stream",
     "text": [
      "[8] [8, 9, 10, 11]\n"
     ]
    }
   ],
   "source": [
    "origin_list = list(range(15))\n",
    "\n",
    "## if we want to get a sub list randomly with a given length\n",
    "given_length = 4\n",
    "sub_list = list(range(len(origin_list) - given_length))\n",
    "\n",
    "start_idx = random.sample(sub_list, k=1)\n",
    "print(start_idx, origin_list[start_idx[0]:start_idx[0]+given_length])"
   ]
  },
  {
   "cell_type": "code",
   "execution_count": 13,
   "metadata": {},
   "outputs": [
    {
     "name": "stdout",
     "output_type": "stream",
     "text": [
      "[82, 46]\n"
     ]
    }
   ],
   "source": [
    "list_data = range(100)\n",
    "choices = random.sample(list_data, k=2) # not repeated\n",
    "print(choices)"
   ]
  },
  {
   "cell_type": "markdown",
   "metadata": {},
   "source": [
    "## Set the random seed"
   ]
  },
  {
   "cell_type": "code",
   "execution_count": 10,
   "metadata": {},
   "outputs": [
    {
     "name": "stdout",
     "output_type": "stream",
     "text": [
      "[4, 0, 2, 6, 8, 9, 1, 7, 5, 3]\n"
     ]
    }
   ],
   "source": [
    "import random\n",
    "\n",
    "sub_seq_list = list(range(10))\n",
    "\n",
    "random.seed(111)\n",
    "random.shuffle(sub_seq_list)\n",
    "print(sub_seq_list)"
   ]
  },
  {
   "cell_type": "code",
   "execution_count": 5,
   "metadata": {},
   "outputs": [
    {
     "name": "stdout",
     "output_type": "stream",
     "text": [
      "[1, 0, 9, 5, 6, 4, 2, 8, 7, 3]\n",
      "[7, 8, 5, 4, 3, 0, 2, 1, 6, 9]\n"
     ]
    }
   ],
   "source": [
    "import random\n",
    "\n",
    "sub_seq_list = list(range(10))\n",
    "\n",
    "st = random.getstate()\n",
    "random.seed(777)\n",
    "random.shuffle(sub_seq_list)\n",
    "random.setstate(st)\n",
    "\n",
    "print(sub_seq_list)\n",
    "\n",
    "sub_seq_list = list(range(10))\n",
    "random.shuffle(sub_seq_list)\n",
    "print(sub_seq_list)"
   ]
  }
 ],
 "metadata": {
  "kernelspec": {
   "display_name": "Python 3.8.13 ('py38-torch100-cu11')",
   "language": "python",
   "name": "python3"
  },
  "language_info": {
   "codemirror_mode": {
    "name": "ipython",
    "version": 3
   },
   "file_extension": ".py",
   "mimetype": "text/x-python",
   "name": "python",
   "nbconvert_exporter": "python",
   "pygments_lexer": "ipython3",
   "version": "3.8.13"
  },
  "orig_nbformat": 4,
  "vscode": {
   "interpreter": {
    "hash": "56d0891f27fe2db3830dc2a05bc70f05135b0c30ed7c190a150d1aca2da3af60"
   }
  }
 },
 "nbformat": 4,
 "nbformat_minor": 2
}
