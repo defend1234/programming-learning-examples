{
 "cells": [
  {
   "cell_type": "markdown",
   "metadata": {},
   "source": [
    "# Learn different random operations in Python3"
   ]
  },
  {
   "cell_type": "code",
   "execution_count": 2,
   "metadata": {},
   "outputs": [],
   "source": [
    "import random\n",
    "import numpy as np"
   ]
  },
  {
   "cell_type": "markdown",
   "metadata": {},
   "source": [
    "## Using random package"
   ]
  },
  {
   "cell_type": "code",
   "execution_count": 38,
   "metadata": {},
   "outputs": [
    {
     "name": "stdout",
     "output_type": "stream",
     "text": [
      "randint:  4\n"
     ]
    }
   ],
   "source": [
    "### From a interval to random select a number\n",
    "idx = random.randint(0, 10)\n",
    "print(\"randint: \", idx)"
   ]
  },
  {
   "cell_type": "code",
   "execution_count": 11,
   "metadata": {},
   "outputs": [
    {
     "name": "stdout",
     "output_type": "stream",
     "text": [
      "[0, 1, 2, 3, 4, 5, 6, 7, 8, 9, 10, 11, 12, 13, 14, 15, 16, 17, 18, 19, 20, 21, 22, 23, 24]\n",
      "[0, 5, 10, 15, 20]\n",
      "=====\n",
      "[5, 15, 19, 17, 12, 2, 14, 11, 22, 22, 1, 19, 20, 4, 24, 10, 3, 1, 24, 5, 18, 15, 0, 13, 1]\n"
     ]
    }
   ],
   "source": [
    "def select_specified_length_random_list(list_input, choice_idx, neighbor_length):\n",
    "    \"\"\"From a list to choose specified random sublist, and they shouldn't be\n",
    "       close to given choice_idx     \n",
    "\n",
    "    Args:\n",
    "        list_input ([type]): [description]\n",
    "        choice_idx ([type]): [description]\n",
    "        neighbor_length (int): [description]\n",
    "\n",
    "    Returns:\n",
    "        [type]: [description]\n",
    "    \"\"\"\n",
    "    if choice_idx + neighbor_length > len(list_input):\n",
    "        return None\n",
    "\n",
    "    remove_idx_list = list(range(choice_idx, choice_idx + neighbor_length))\n",
    "    \n",
    "    input_idx_list = list(range(len(list_input)))\n",
    "\n",
    "    remained_idx_list = [x for x in input_idx_list if x not in remove_idx_list]\n",
    "    \n",
    "    return random.choices(remained_idx_list, k=neighbor_length)\n",
    "\n",
    "\n",
    "list_data = list(range(25))\n",
    "print(list_data)\n",
    "\n",
    "index_list = list_data[::5]\n",
    "print(index_list)\n",
    "\n",
    "print(\"=====\")\n",
    "ref_idx_list = []\n",
    "for i in index_list:\n",
    "    ref_idx = select_specified_length_random_list(list_data, i, 5)\n",
    "    ref_idx_list += ref_idx\n",
    "print(ref_idx_list)"
   ]
  },
  {
   "cell_type": "markdown",
   "metadata": {},
   "source": [
    "### Choose sublist randomly from a list"
   ]
  },
  {
   "cell_type": "code",
   "execution_count": 6,
   "metadata": {},
   "outputs": [
    {
     "name": "stdout",
     "output_type": "stream",
     "text": [
      "<class 'list'> [7, 7, 6, 3]\n",
      "[8, 0]\n"
     ]
    }
   ],
   "source": [
    "list_data = list(range(10))\n",
    "choices = random.choices(list_data, k=4) # maybe repeated\n",
    "print(type(choices), choices)\n",
    "\n",
    "choices = random.sample(list_data, k=2) # not repeated\n",
    "print(choices)\n"
   ]
  },
  {
   "cell_type": "code",
   "execution_count": 13,
   "metadata": {},
   "outputs": [
    {
     "name": "stdout",
     "output_type": "stream",
     "text": [
      "[82, 46]\n"
     ]
    }
   ],
   "source": [
    "list_data = range(100)\n",
    "choices = random.sample(list_data, k=2) # not repeated\n",
    "print(choices)"
   ]
  }
 ],
 "metadata": {
  "interpreter": {
   "hash": "a905e65f9d17f2b99942353106a9a9bb4e3ae6eb3c5eda96a0f871aef2e2b8d2"
  },
  "kernelspec": {
   "display_name": "Python 3.6.13 64-bit ('face_python36': conda)",
   "name": "python3"
  },
  "language_info": {
   "codemirror_mode": {
    "name": "ipython",
    "version": 3
   },
   "file_extension": ".py",
   "mimetype": "text/x-python",
   "name": "python",
   "nbconvert_exporter": "python",
   "pygments_lexer": "ipython3",
   "version": "3.6.13"
  },
  "orig_nbformat": 4
 },
 "nbformat": 4,
 "nbformat_minor": 2
}
