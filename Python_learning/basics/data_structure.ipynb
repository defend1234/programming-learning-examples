{
 "cells": [
  {
   "cell_type": "markdown",
   "metadata": {},
   "source": [
    "# All about the basic data strcuture in Python3"
   ]
  },
  {
   "cell_type": "markdown",
   "metadata": {},
   "source": [
    "## Float data type"
   ]
  },
  {
   "cell_type": "code",
   "execution_count": 2,
   "metadata": {},
   "outputs": [
    {
     "name": "stdout",
     "output_type": "stream",
     "text": [
      "inf\n",
      "Yes\n"
     ]
    }
   ],
   "source": [
    "## Define the infinite floating number\n",
    "a = float('inf')\n",
    "print(a)\n",
    "\n",
    "b = 13000\n",
    "if b < a:\n",
    "    print(\"Yes\")"
   ]
  }
 ],
 "metadata": {
  "interpreter": {
   "hash": "a905e65f9d17f2b99942353106a9a9bb4e3ae6eb3c5eda96a0f871aef2e2b8d2"
  },
  "kernelspec": {
   "display_name": "Python 3.6.13 64-bit ('face_python36': conda)",
   "language": "python",
   "name": "python3"
  },
  "language_info": {
   "codemirror_mode": {
    "name": "ipython",
    "version": 3
   },
   "file_extension": ".py",
   "mimetype": "text/x-python",
   "name": "python",
   "nbconvert_exporter": "python",
   "pygments_lexer": "ipython3",
   "version": "3.6.13"
  },
  "orig_nbformat": 4
 },
 "nbformat": 4,
 "nbformat_minor": 2
}
