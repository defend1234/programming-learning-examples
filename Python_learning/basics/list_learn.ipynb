{
 "cells": [
  {
   "cell_type": "markdown",
   "metadata": {},
   "source": [
    "# This notebook learns how to use list in Python3"
   ]
  },
  {
   "cell_type": "code",
   "execution_count": 2,
   "metadata": {},
   "outputs": [],
   "source": [
    "import numpy as np\n",
    "import random"
   ]
  },
  {
   "cell_type": "markdown",
   "metadata": {},
   "source": [
    "## Different approaches to create lists"
   ]
  },
  {
   "cell_type": "code",
   "execution_count": 36,
   "metadata": {},
   "outputs": [
    {
     "name": "stdout",
     "output_type": "stream",
     "text": [
      "[1, 2, 3, 4, 5]\n",
      "[3, 3, 3, 3, 3, 3, 3, 3, 3, 3]\n",
      "[10, 20, 30, 40, 50, 60, 70, 80, 90, 100]\n"
     ]
    }
   ],
   "source": [
    "def create_list():\n",
    "    ### Basic initialization\n",
    "    a = [1, 2, 3, 4, 5]\n",
    "    print(a)\n",
    "\n",
    "    ## Create list has repeated values\n",
    "    num, N = 3, 10\n",
    "    b = N * [num]\n",
    "    print(b)\n",
    "\n",
    "    ## Create list with range\n",
    "    list_num = list(range(10, 110, 10))\n",
    "    print(list_num)\n",
    "\n",
    "create_list()"
   ]
  },
  {
   "cell_type": "markdown",
   "metadata": {},
   "source": [
    "## Merge multiple lists"
   ]
  },
  {
   "cell_type": "code",
   "execution_count": 6,
   "metadata": {},
   "outputs": [
    {
     "name": "stdout",
     "output_type": "stream",
     "text": [
      "['123.mp4', '345.mp4']\n"
     ]
    }
   ],
   "source": [
    "def get_file_list(input):\n",
    "    all_videos = []\n",
    "    \n",
    "    if type(input) == list:\n",
    "        all_videos += input\n",
    "    else:\n",
    "        all_videos += [input]\n",
    "    return all_videos\n",
    "\n",
    "videos = [\"123.mp4\", \"345.mp4\"]\n",
    "# videos = \"345.mp4\"\n",
    "\n",
    "\n",
    "all_videos = get_file_list(videos)\n",
    "print(all_videos)"
   ]
  },
  {
   "cell_type": "markdown",
   "metadata": {},
   "source": [
    "## Check list has elements or not\n"
   ]
  },
  {
   "cell_type": "code",
   "execution_count": 45,
   "metadata": {},
   "outputs": [
    {
     "name": "stdout",
     "output_type": "stream",
     "text": [
      "Has value\n"
     ]
    }
   ],
   "source": [
    "list_a = [1]\n",
    "if len(list_a):\n",
    "    print(\"Has value\")\n",
    "else:\n",
    "    print(\"Empty\")"
   ]
  },
  {
   "cell_type": "markdown",
   "metadata": {},
   "source": [
    "## Delete elements in list"
   ]
  },
  {
   "cell_type": "code",
   "execution_count": 1,
   "metadata": {},
   "outputs": [
    {
     "name": "stdout",
     "output_type": "stream",
     "text": [
      "[0, 1, 2, 4, 5]\n",
      "[4, 5]\n"
     ]
    }
   ],
   "source": [
    "lines = [0, 1, 2, 3, 4, 5]\n",
    "del lines[3]\n",
    "print(lines)\n",
    "\n",
    "del lines[0:3]\n",
    "print(lines)"
   ]
  },
  {
   "cell_type": "markdown",
   "metadata": {},
   "source": [
    "## Shuffle the list"
   ]
  },
  {
   "cell_type": "code",
   "execution_count": 13,
   "metadata": {},
   "outputs": [
    {
     "name": "stdout",
     "output_type": "stream",
     "text": [
      "[0, 1, 2, 3, 4, 5, 6, 7, 8, 9, 10, 11, 12, 13, 14, 15, 16, 17, 18, 19]\n",
      "[11, 5, 17, 19, 9, 0, 16, 1, 15, 6, 10, 13, 14, 12, 7, 3, 8, 2, 18, 4]\n"
     ]
    }
   ],
   "source": [
    "random.seed(1)\n",
    "list_data = list(range(20))\n",
    "print(list_data)\n",
    "\n",
    "random.shuffle(list_data) # in place\n",
    "print(list_data)"
   ]
  },
  {
   "cell_type": "markdown",
   "metadata": {},
   "source": [
    "## Slice the list"
   ]
  },
  {
   "cell_type": "code",
   "execution_count": 5,
   "metadata": {},
   "outputs": [
    {
     "name": "stdout",
     "output_type": "stream",
     "text": [
      "[0]\n",
      "[0, 2, 4, 6, 8]\n",
      "[0, 1, 2, 3, 4, 5, 6, 7, 8]\n",
      "[9, 8, 7, 6, 5, 4, 3, 2, 1, 0]\n",
      "[0, 8, 16, 24, 32, 40, 48, 56, 64, 72, 80, 88, 96, 104, 112, 120, 128, 136, 144, 152, 160, 168, 176, 184, 192] 25\n",
      "Index get value:  [100  99  97  90  97] <class 'numpy.ndarray'> [100, 99, 97, 90, 97]\n",
      "[12, 23, 34]\n",
      "Test split_list:\n",
      "53478\n",
      "11 [0, 5000, 10000, 15000, 20000, 25000, 30000, 35000, 40000, 45000, 50000]\n",
      "9 (5942,)\n",
      "11\n",
      "[1, 2, 3, 4, 5, 6, 7, 8, 9]\n",
      "[2, 3, 4, 5, 6, 7, 8, 9]\n"
     ]
    }
   ],
   "source": [
    "def slice_list():\n",
    "    list_a = list(range(10))\n",
    "    ## 截取部分元素,注意就算只截取一个元素,返回的仍然是列表\n",
    "    res_a = list_a[0:1]\n",
    "    print(res_a)\n",
    "    ## 每隔两个取一个元素\n",
    "    res_a  = list_a[::2]  # [0, 2, 4, 6, 8]\n",
    "    print(res_a)\n",
    "    ## 删除最后一个元素\n",
    "    res_a = list_a[:-1]\n",
    "    print(res_a)\n",
    "    ## 元素倒序, 注意和删除最后一个元素写法的区别\n",
    "    res_a = list_a[::-1]\n",
    "    print(res_a)\n",
    "\n",
    "    ## 元素采样\n",
    "    list_a = list(range(200))\n",
    "    res =list_a[::8]\n",
    "    print(res, len(res))\n",
    "\n",
    "    ## 按索引取元素\n",
    "    list_a = list(range(100, 0, -1))\n",
    "    list_a = np.array(list_a)\n",
    "    idx = [0, 1, 3, 10, 3]\n",
    "    res = list_a[idx]\n",
    "    print(\"Index get value: \", res, type(res), res.tolist())\n",
    "\n",
    "\n",
    "def comma_operator():\n",
    "    bbox = [12, 23, 34, 56]\n",
    "    bbox = bbox[:-1]\n",
    "    print(bbox)\n",
    "\n",
    "\n",
    "def split_list_evenly():\n",
    "    lst = list(range(53478))\n",
    "    number = 5000\n",
    "    data_splited = [lst[i:i + number] for i in range(0, len(lst), 5000)]\n",
    "    print(len(data_splited))\n",
    "\n",
    "\n",
    "def split_list():\n",
    "    print(\"Test split_list:\")\n",
    "    data_list = list(range(53478))\n",
    "    print(len(data_list))\n",
    "\n",
    "    data_index = data_list[::5000]\n",
    "    print(len(data_index), data_index)\n",
    "    \n",
    "    data_list = np.split(np.array(data_list), 9)\n",
    "    print(len(data_list), data_list[0].shape)\n",
    "\n",
    "\n",
    "slice_list()\n",
    "comma_operator()\n",
    "\n",
    "split_list()\n",
    "\n",
    "split_list_evenly()\n",
    "\n",
    "list_data = list(range(1, 10))\n",
    "print(list_data)\n",
    "list_short = list_data[1:20]\n",
    "print(list_short)\n",
    "\n"
   ]
  },
  {
   "cell_type": "code",
   "execution_count": 13,
   "metadata": {},
   "outputs": [
    {
     "name": "stdout",
     "output_type": "stream",
     "text": [
      "80\n",
      "[0, 10, 20, 30, 40, 50, 60, 70]\n"
     ]
    }
   ],
   "source": [
    "list_length = 85\n",
    "interval_length = 10\n",
    "\n",
    "normed_list_length = int(list_length / interval_length) * interval_length\n",
    "print(normed_list_length)\n",
    "\n",
    "data_list = list(range(0, normed_list_length, interval_length))\n",
    "print(data_list)\n"
   ]
  },
  {
   "cell_type": "markdown",
   "metadata": {},
   "source": [
    "## Reverse the list"
   ]
  },
  {
   "cell_type": "code",
   "execution_count": 1,
   "metadata": {},
   "outputs": [
    {
     "name": "stdout",
     "output_type": "stream",
     "text": [
      "[4, 3, 2, 1]\n"
     ]
    }
   ],
   "source": [
    "data_a = [1,2,3,4]\n",
    "data_a = data_a[::-1]\n",
    "print(data_a)"
   ]
  },
  {
   "cell_type": "markdown",
   "metadata": {},
   "source": [
    "## Learn how to add and expand or expand multiple lists"
   ]
  },
  {
   "cell_type": "code",
   "execution_count": 3,
   "metadata": {},
   "outputs": [
    {
     "name": "stdout",
     "output_type": "stream",
     "text": [
      "[0, 1, 2, 3, 4]\n",
      "[5, 6, 7, 8, 9]\n",
      "result of + process:  [0, 1, 2, 3, 4, 5, 6, 7, 8, 9]\n",
      "[[0, 1, 2, 3, 4], [5, 6, 7, 8, 9]]\n"
     ]
    }
   ],
   "source": [
    "def add_list():\n",
    "    list_a = list(range(0, 5))\n",
    "    list_b = list(range(5, 10))\n",
    "    print(list_a)\n",
    "    print(list_b)\n",
    "    \n",
    "    ## Using + would expand the list\n",
    "    list_c = list_a + list_b\n",
    "    print(\"Result of + process: \", list_c) # [0, 1, 2, 3, 4, 5, 6, 7, 8, 9]\n",
    "\n",
    "    ## Using append would get a list of list\n",
    "    list_c = []\n",
    "    list_c.append(list_a)\n",
    "    list_c.append(list_b)\n",
    "    print(list_c) # [[0, 1, 2, 3, 4], [5, 6, 7, 8, 9]]\n",
    "\n",
    "add_list()"
   ]
  },
  {
   "cell_type": "markdown",
   "metadata": {},
   "source": [
    "## Member functions of list"
   ]
  },
  {
   "cell_type": "code",
   "execution_count": 17,
   "metadata": {},
   "outputs": [
    {
     "name": "stdout",
     "output_type": "stream",
     "text": [
      "[1, 3, 1, 10, 8, 3, 1, 5, 7] 9\n",
      "3\n",
      "0\n",
      "[1, 1, 1, 3, 3, 5, 7, 8, 10]\n",
      "[1, 1, 1, 3, 3, 5, 7, 8, 10]\n",
      "None\n"
     ]
    }
   ],
   "source": [
    "a_list = []\n",
    "a_list.append(1)\n",
    "a_list.append(3)\n",
    "a_list.append(1)\n",
    "a_list += [10,8,3,1,5,7]\n",
    "print(a_list, len(a_list))\n",
    "\n",
    "print(a_list.count(1)) # 对列表中元素进行计数\n",
    "print(a_list.index(1)) # 返回第一次找到1的索引\n",
    "a_list.sort()          # 对列表元素进行排序,in-place\n",
    "print(a_list)"
   ]
  },
  {
   "cell_type": "markdown",
   "metadata": {},
   "source": [
    "## Functions return list type"
   ]
  },
  {
   "cell_type": "code",
   "execution_count": 8,
   "metadata": {},
   "outputs": [
    {
     "name": "stdout",
     "output_type": "stream",
     "text": [
      "zhanghaiming 170 55\n",
      "[1, 2, 3, 4]\n"
     ]
    }
   ],
   "source": [
    "### 列表也可以像tuple一样进行解包\n",
    "def foo_list():\n",
    "    list_a = [\"zhanghaiming\", \"170\", \"55\"]\n",
    "    return list_a\n",
    "\n",
    "def receive_list(input):\n",
    "    print(input)\n",
    "\n",
    "name, height, weight = foo_list()\n",
    "print(name, height, weight)\n",
    "\n",
    "data = [1, 2, 3, 4]\n",
    "receive_list([*data])\n"
   ]
  },
  {
   "cell_type": "markdown",
   "metadata": {},
   "source": [
    "## Operate on list"
   ]
  },
  {
   "cell_type": "code",
   "execution_count": 6,
   "metadata": {},
   "outputs": [
    {
     "name": "stdout",
     "output_type": "stream",
     "text": [
      "9.8\n",
      "[False False False  True  True]\n",
      "Mean is 4.5600000000000005\n"
     ]
    }
   ],
   "source": [
    "import numpy as np\n",
    "list_a = [1, 2.0, 3.0, 7.0, 9.8]\n",
    "print(max(list_a))\n",
    "\n",
    "list_b = np.array(list_a) > 3.0\n",
    "print(list_b)\n",
    "\n",
    "### Calculate the mean value\n",
    "list_a = [1, 2.0, 3.0, 7.0, 9.8]\n",
    "print(f\"Mean is {sum(list_a) / len(list_a)}\")"
   ]
  },
  {
   "cell_type": "code",
   "execution_count": 6,
   "metadata": {},
   "outputs": [
    {
     "name": "stdout",
     "output_type": "stream",
     "text": [
      "[1]\n"
     ]
    }
   ],
   "source": [
    "a = list(range(10, 15))\n",
    "\n",
    "a = [1,1,1]\n",
    "\n",
    "print(np.unique(a))"
   ]
  },
  {
   "cell_type": "code",
   "execution_count": 4,
   "metadata": {},
   "outputs": [
    {
     "name": "stdout",
     "output_type": "stream",
     "text": [
      "1\n",
      "0\n"
     ]
    }
   ],
   "source": [
    "index = 147\n",
    "num_candidates_perframe = 147\n",
    "\n",
    "print(int(index / (num_candidates_perframe)))\n",
    "print(int(index % (num_candidates_perframe)))\n"
   ]
  },
  {
   "cell_type": "code",
   "execution_count": 25,
   "metadata": {},
   "outputs": [
    {
     "name": "stdout",
     "output_type": "stream",
     "text": [
      "input length 20\n",
      "[11, 14, 7, 5, 5]\n",
      "(6, 13)\n"
     ]
    }
   ],
   "source": [
    "### Choose frames other than neighbors\n",
    "import random\n",
    "\n",
    "fname_list = list(range(20))\n",
    "\n",
    "def select_specified_length_random_list(list_input, choice_idx, neighbor_length):\n",
    "    if choice_idx + neighbor_length > len(list_input):\n",
    "        return None\n",
    "\n",
    "    remove_idx_list = list(range(choice_idx, choice_idx + neighbor_length))\n",
    "    \n",
    "    input_idx_list = list(range(len(list_input)))\n",
    "\n",
    "    remained_idx_list = [x for x in input_idx_list if x not in remove_idx_list]\n",
    "    \n",
    "    return random.choices(remained_idx_list, k=neighbor_length)\n",
    "\n",
    "def get_splitters_with_specific_distance(list_input, min_distance=5):\n",
    "    all_frames_length = len(list_input)\n",
    "    all_frames_idx = list(range(all_frames_length))\n",
    "    \n",
    "    avaiable_choose_idx = list(range(all_frames_length - min_distance))\n",
    "    \n",
    "    while 1:\n",
    "        choose_idx = random.sample(avaiable_choose_idx, k=2)\n",
    "        if abs(choose_idx[0] - choose_idx[1]) <= min_distance:\n",
    "            continue\n",
    "        else:\n",
    "            break\n",
    "    \n",
    "    return choose_idx[0], choose_idx[1]\n",
    "    \n",
    "\n",
    "print(f\"input length {len(fname_list)}\")\n",
    "print(select_specified_length_random_list(fname_list, 15, 5))\n",
    "\n",
    "print(get_splitters_with_specific_distance(fname_list))\n",
    "\n",
    "    "
   ]
  },
  {
   "cell_type": "markdown",
   "metadata": {},
   "source": [
    "## Calculate the mean value of list"
   ]
  },
  {
   "cell_type": "code",
   "execution_count": 2,
   "metadata": {},
   "outputs": [
    {
     "name": "stdout",
     "output_type": "stream",
     "text": [
      "255 15\n",
      "mean value is 17.0\n"
     ]
    }
   ],
   "source": [
    "list_a = list(range(10, 25))\n",
    "print(sum(list_a), len(list_a))\n",
    "mean_a = sum(list_a) / len(list_a)\n",
    "print(f\"mean value is {mean_a}\")"
   ]
  },
  {
   "cell_type": "markdown",
   "metadata": {},
   "source": [
    "## Select specific value from a list"
   ]
  },
  {
   "cell_type": "code",
   "execution_count": null,
   "metadata": {},
   "outputs": [],
   "source": []
  },
  {
   "cell_type": "markdown",
   "metadata": {},
   "source": []
  }
 ],
 "metadata": {
  "interpreter": {
   "hash": "a905e65f9d17f2b99942353106a9a9bb4e3ae6eb3c5eda96a0f871aef2e2b8d2"
  },
  "kernelspec": {
   "display_name": "Python 3.6.13 64-bit ('face_python36': conda)",
   "name": "python3"
  },
  "language_info": {
   "codemirror_mode": {
    "name": "ipython",
    "version": 3
   },
   "file_extension": ".py",
   "mimetype": "text/x-python",
   "name": "python",
   "nbconvert_exporter": "python",
   "pygments_lexer": "ipython3",
   "version": "3.6.13"
  },
  "orig_nbformat": 4
 },
 "nbformat": 4,
 "nbformat_minor": 2
}
