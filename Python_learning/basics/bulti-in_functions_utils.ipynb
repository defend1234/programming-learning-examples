{
 "cells": [
  {
   "cell_type": "markdown",
   "metadata": {},
   "source": []
  },
  {
   "cell_type": "markdown",
   "metadata": {},
   "source": [
    "# Learn different utility functions in Python3"
   ]
  },
  {
   "cell_type": "markdown",
   "metadata": {},
   "source": [
    "## sort related functions"
   ]
  },
  {
   "cell_type": "code",
   "execution_count": 8,
   "metadata": {},
   "outputs": [
    {
     "name": "stdout",
     "output_type": "stream",
     "text": [
      "[1, 1, 2, 3, 4, 4, 5, 8, 10, 12, 20]\n",
      "[(6, 13), (7, 15), (10, 11), (12, 12), (14, 24), (25, 64)]\n",
      "[(10, 11), (12, 12), (6, 13), (7, 15), (14, 24), (25, 64)]\n"
     ]
    }
   ],
   "source": [
    "### 普通排序\n",
    "L = [1, 2, 4, 5, 1, 3, 4, 10, 20, 12, 8]\n",
    "L1 = sorted(L)\n",
    "print(L1)\n",
    "\n",
    "L = [(12, 12), (6, 13), (7, 15), (14, 24), (25, 64), (10, 11)]\n",
    "L_sorted = sorted(L)\n",
    "print(L_sorted)\n",
    "\n",
    "### 条件排序\n",
    "L_sorted = sorted(L, key = lambda x : x[1])\n",
    "print(L_sorted)"
   ]
  },
  {
   "cell_type": "code",
   "execution_count": 2,
   "metadata": {},
   "outputs": [
    {
     "name": "stdout",
     "output_type": "stream",
     "text": [
      "40\n"
     ]
    }
   ],
   "source": [
    "import os\n",
    "\n",
    "num_cpu = os.cpu_count()\n",
    "\n",
    "print(num_cpu)"
   ]
  },
  {
   "cell_type": "markdown",
   "metadata": {},
   "source": [
    "## any function"
   ]
  },
  {
   "cell_type": "code",
   "execution_count": 3,
   "metadata": {},
   "outputs": [
    {
     "name": "stdout",
     "output_type": "stream",
     "text": [
      "True\n"
     ]
    }
   ],
   "source": [
    "flag_list = [True, False]\n",
    "flag_list = [False, False]\n",
    "flag_list = [True, True]\n",
    "\n",
    "if any(flag_list):\n",
    "    print(\"True\")\n",
    "else:\n",
    "    print(\"False\")\n"
   ]
  },
  {
   "cell_type": "code",
   "execution_count": 7,
   "metadata": {},
   "outputs": [
    {
     "name": "stdout",
     "output_type": "stream",
     "text": [
      "3 <class 'int'>\n",
      "0\n",
      "3\n",
      "6\n",
      "9\n",
      "12\n",
      "15\n"
     ]
    }
   ],
   "source": [
    "import math\n",
    "\n",
    "batch_size = 16\n",
    "\n",
    "data = math.floor(batch_size / 5)\n",
    "print(data, type(data))\n",
    "\n",
    "for i in range(batch_size):\n",
    "    if i % data == 0:\n",
    "        print(i)"
   ]
  },
  {
   "attachments": {},
   "cell_type": "markdown",
   "metadata": {},
   "source": [
    "## filter function"
   ]
  },
  {
   "cell_type": "code",
   "execution_count": 2,
   "metadata": {},
   "outputs": [
    {
     "name": "stdout",
     "output_type": "stream",
     "text": [
      "[1, 2, 3]\n"
     ]
    }
   ],
   "source": [
    "batch = [1, 2, None, 3]\n",
    "\n",
    "batch = list(filter(lambda x: x is not None, batch))\n",
    "print(batch)"
   ]
  }
 ],
 "metadata": {
  "kernelspec": {
   "display_name": "Python 3.8.13 ('py38-torch100-cu11')",
   "language": "python",
   "name": "python3"
  },
  "language_info": {
   "codemirror_mode": {
    "name": "ipython",
    "version": 3
   },
   "file_extension": ".py",
   "mimetype": "text/x-python",
   "name": "python",
   "nbconvert_exporter": "python",
   "pygments_lexer": "ipython3",
   "version": "3.8.13"
  },
  "orig_nbformat": 4,
  "vscode": {
   "interpreter": {
    "hash": "56d0891f27fe2db3830dc2a05bc70f05135b0c30ed7c190a150d1aca2da3af60"
   }
  }
 },
 "nbformat": 4,
 "nbformat_minor": 2
}
