{
 "cells": [
  {
   "cell_type": "markdown",
   "metadata": {},
   "source": []
  },
  {
   "cell_type": "markdown",
   "metadata": {},
   "source": [
    "# Learn different utility functions in Python3"
   ]
  },
  {
   "cell_type": "markdown",
   "metadata": {},
   "source": [
    "## sort related functions"
   ]
  },
  {
   "cell_type": "code",
   "execution_count": 8,
   "metadata": {},
   "outputs": [
    {
     "name": "stdout",
     "output_type": "stream",
     "text": [
      "[1, 1, 2, 3, 4, 4, 5, 8, 10, 12, 20]\n",
      "[(6, 13), (7, 15), (10, 11), (12, 12), (14, 24), (25, 64)]\n",
      "[(10, 11), (12, 12), (6, 13), (7, 15), (14, 24), (25, 64)]\n"
     ]
    }
   ],
   "source": [
    "### 普通排序\n",
    "L = [1, 2, 4, 5, 1, 3, 4, 10, 20, 12, 8]\n",
    "L1 = sorted(L)\n",
    "print(L1)\n",
    "\n",
    "L = [(12, 12), (6, 13), (7, 15), (14, 24), (25, 64), (10, 11)]\n",
    "L_sorted = sorted(L)\n",
    "print(L_sorted)\n",
    "\n",
    "### 条件排序\n",
    "L_sorted = sorted(L, key = lambda x : x[1])\n",
    "print(L_sorted)"
   ]
  }
 ],
 "metadata": {
  "interpreter": {
   "hash": "a905e65f9d17f2b99942353106a9a9bb4e3ae6eb3c5eda96a0f871aef2e2b8d2"
  },
  "kernelspec": {
   "display_name": "Python 3.6.13 64-bit ('face_python36': conda)",
   "name": "python3"
  },
  "language_info": {
   "codemirror_mode": {
    "name": "ipython",
    "version": 3
   },
   "file_extension": ".py",
   "mimetype": "text/x-python",
   "name": "python",
   "nbconvert_exporter": "python",
   "pygments_lexer": "ipython3",
   "version": "3.6.13"
  },
  "orig_nbformat": 4
 },
 "nbformat": 4,
 "nbformat_minor": 2
}
