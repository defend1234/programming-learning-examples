{
 "cells": [
  {
   "cell_type": "markdown",
   "metadata": {},
   "source": []
  },
  {
   "cell_type": "markdown",
   "metadata": {},
   "source": [
    "# Learn different utility functions in Python3"
   ]
  },
  {
   "cell_type": "markdown",
   "metadata": {},
   "source": [
    "## sort related functions"
   ]
  },
  {
   "cell_type": "code",
   "execution_count": 8,
   "metadata": {},
   "outputs": [
    {
     "name": "stdout",
     "output_type": "stream",
     "text": [
      "[1, 1, 2, 3, 4, 4, 5, 8, 10, 12, 20]\n",
      "[(6, 13), (7, 15), (10, 11), (12, 12), (14, 24), (25, 64)]\n",
      "[(10, 11), (12, 12), (6, 13), (7, 15), (14, 24), (25, 64)]\n"
     ]
    }
   ],
   "source": [
    "### 普通排序\n",
    "L = [1, 2, 4, 5, 1, 3, 4, 10, 20, 12, 8]\n",
    "L1 = sorted(L)\n",
    "print(L1)\n",
    "\n",
    "L = [(12, 12), (6, 13), (7, 15), (14, 24), (25, 64), (10, 11)]\n",
    "L_sorted = sorted(L)\n",
    "print(L_sorted)\n",
    "\n",
    "### 条件排序\n",
    "L_sorted = sorted(L, key = lambda x : x[1])\n",
    "print(L_sorted)"
   ]
  },
  {
   "cell_type": "code",
   "execution_count": 3,
   "metadata": {},
   "outputs": [
    {
     "name": "stdout",
     "output_type": "stream",
     "text": [
      "40\n"
     ]
    }
   ],
   "source": [
    "import os\n",
    "\n",
    "num_cpu = os.cpu_count()\n",
    "\n",
    "print(num_cpu)"
   ]
  }
 ],
 "metadata": {
  "kernelspec": {
   "display_name": "Python 3.6.13 ('py36-torch100-cu11')",
   "language": "python",
   "name": "python3"
  },
  "language_info": {
   "codemirror_mode": {
    "name": "ipython",
    "version": 3
   },
   "file_extension": ".py",
   "mimetype": "text/x-python",
   "name": "python",
   "nbconvert_exporter": "python",
   "pygments_lexer": "ipython3",
   "version": "3.6.13"
  },
  "orig_nbformat": 4,
  "vscode": {
   "interpreter": {
    "hash": "5a061662cd1728e1a413eb44216c5a5b0f5a1d783e658cf909fe334fc01234e3"
   }
  }
 },
 "nbformat": 4,
 "nbformat_minor": 2
}
