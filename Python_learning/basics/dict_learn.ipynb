{
 "cells": [
  {
   "cell_type": "markdown",
   "metadata": {},
   "source": [
    "# Learn how to use Dictionary in Python3"
   ]
  },
  {
   "cell_type": "markdown",
   "metadata": {},
   "source": [
    "## Create the dictionary"
   ]
  },
  {
   "cell_type": "code",
   "execution_count": 3,
   "metadata": {},
   "outputs": [
    {
     "name": "stdout",
     "output_type": "stream",
     "text": [
      "{'name': 'zhanghaiming'}\n",
      "{'name': 'zhanghaiming', 'height': 170}\n",
      "Not a dictionary\n",
      "<class 'dict'> <class 'dict'>\n"
     ]
    }
   ],
   "source": [
    "dict1 = {'abc':123}\n",
    "dict2 = {'name':'zhanghaiming'}\n",
    "print(dict2)\n",
    "\n",
    "dict2['height'] = 170\n",
    "print(dict2)\n",
    "\n",
    "dict1 = [1,2,3]\n",
    "if isinstance(dict1, dict):\n",
    "    print(\"dict1 is dict\")\n",
    "else:\n",
    "    print(\"Not a dictionary\")\n",
    "\n",
    "## Create dictionary of a dictionary\n",
    "dataset_config = {\n",
    "    ## KITTI\n",
    "    'kitti': {'path': 123, 'num': 34},\n",
    "    ## For nuScenes\n",
    "    'nuscenes': {'path': 123, 'num': 34}\n",
    "}\n",
    "\n",
    "print(type(dataset_config), type(dataset_config['kitti']))"
   ]
  },
  {
   "cell_type": "markdown",
   "metadata": {},
   "source": [
    "## Member functions usages"
   ]
  },
  {
   "cell_type": "code",
   "execution_count": 5,
   "metadata": {},
   "outputs": [
    {
     "name": "stdout",
     "output_type": "stream",
     "text": [
      "dict_keys(['name', 'height', 'weight']) ['name', 'height', 'weight']\n",
      "dict_values(['zhanghaiming', 170, 55]) ['zhanghaiming', 170, 55]\n",
      "55\n"
     ]
    }
   ],
   "source": [
    "dict_a = {\"name\":\"zhanghaiming\", \"height\":170, \"weight\":55}\n",
    "### keys()和values()函数都返回迭代器对象,可以用list转为列表\n",
    "keys = dict_a.keys()\n",
    "print(keys, list(keys))\n",
    "\n",
    "values = dict_a.values()\n",
    "\n",
    "print(values, list(values))\n",
    "\n",
    "list_values = list(values)\n",
    "print(list_values[2])"
   ]
  },
  {
   "cell_type": "markdown",
   "metadata": {},
   "source": [
    "## Access the dictionary"
   ]
  },
  {
   "cell_type": "code",
   "execution_count": 2,
   "metadata": {},
   "outputs": [
    {
     "name": "stdout",
     "output_type": "stream",
     "text": [
      "{'name': 'zhanghaiming', 'height': 170, 'weight': 55} 3\n",
      "name is zhanghaiming\n",
      "weight is 55\n",
      "name\n",
      "height\n",
      "weight\n",
      "name\n",
      "height\n",
      "weight\n",
      "('name', 'zhanghaiming')\n",
      "('height', 170)\n",
      "('weight', 55)\n",
      "name zhanghaiming\n",
      "height 170\n",
      "weight 55\n",
      "------------Access keys not exist---------------\n",
      "20\n"
     ]
    }
   ],
   "source": [
    "dict_a = {\"name\":\"zhanghaiming\", \"height\":170, \"weight\":55}\n",
    "print(dict_a, len(dict_a))\n",
    "\n",
    "### 直接键访问\n",
    "print(f\"name is {dict_a['name']}\")\n",
    "print(f\"weight is {dict_a['weight']}\")\n",
    "\n",
    "### 遍历访问\n",
    "for key in dict_a: # 默认只得到键值\n",
    "    print(key)\n",
    "for key in dict_a.keys(): # 同上\n",
    "    print(key)\n",
    "\n",
    "for ent in dict_a.items(): # items返回键值对元组\n",
    "    print(ent)\n",
    "\n",
    "for (key, value) in dict_a.items(): # 这样就可以灵活取到想要的值了\n",
    "    print(key, value)\n",
    "\n",
    "### Access keys not exist\n",
    "print(\"------------Access keys not exist---------------\")\n",
    "print(dict_a.get(\"age\", 20)) # if use dict_a[\"age\"] would get error"
   ]
  },
  {
   "cell_type": "code",
   "execution_count": 7,
   "metadata": {},
   "outputs": [
    {
     "name": "stdout",
     "output_type": "stream",
     "text": [
      "<class 'list'> 2\n"
     ]
    }
   ],
   "source": [
    "loss_dict = {\"loss_rec\": [], }\n",
    "\n",
    "loss_dict[\"loss_rec\"].append(1)\n",
    "loss_dict[\"loss_rec\"].append(2)\n",
    "\n",
    "print(type(loss_dict[\"loss_rec\"]), len(loss_dict[\"loss_rec\"]))\n"
   ]
  },
  {
   "cell_type": "markdown",
   "metadata": {},
   "source": [
    "## TODO\n",
    "\n",
    "from weakref import WeakValueDictionary\n"
   ]
  },
  {
   "cell_type": "markdown",
   "metadata": {},
   "source": [
    "## defaultdict class Usages"
   ]
  },
  {
   "cell_type": "code",
   "execution_count": 3,
   "metadata": {},
   "outputs": [
    {
     "name": "stdout",
     "output_type": "stream",
     "text": [
      "[1.0, 1.3, 1.5]\n",
      "{'total_loss': 1.2666666666666666}\n",
      "3\n"
     ]
    }
   ],
   "source": [
    "from collections import defaultdict\n",
    "\n",
    "loss_dict = defaultdict(list)\n",
    "loss_dict[\"total_loss\"].append(1.0)\n",
    "loss_dict[\"total_loss\"].append(1.3)\n",
    "loss_dict[\"total_loss\"].append(1.5)\n",
    "\n",
    "print(loss_dict[\"total_loss\"])\n",
    "\n",
    "def calc_mean_loss(loss_dict):\n",
    "    loss_mean = dict()\n",
    "    for key, loss_list in loss_dict.items():\n",
    "        loss_mean[key] = sum(loss_list) / len(loss_list)\n",
    "    return loss_mean\n",
    "\n",
    "mean_value = calc_mean_loss(loss_dict)\n",
    "print(mean_value)\n",
    "\n",
    "\n",
    "class AverageMeter(object):\n",
    "    \"\"\"Computes and stores the average and current value\"\"\"\n",
    "\n",
    "    def __init__(self):\n",
    "        self.reset()\n",
    "\n",
    "    def reset(self):\n",
    "        self.val = 0\n",
    "        self.avg = 0\n",
    "        self.sum = 0\n",
    "        self.count = 0\n",
    "\n",
    "    def update(self, val, n=1):\n",
    "        self.val = val\n",
    "        self.sum += val * n\n",
    "        self.count += n\n",
    "        self.avg = self.sum / self.count\n",
    "\n",
    "loss_dict = defaultdict(AverageMeter)\n",
    "loss_dict[\"total_loss\"].update(1.0)\n",
    "loss_dict[\"total_loss\"].update(1.3)\n",
    "loss_dict[\"total_loss\"].update(1.5)\n",
    "\n",
    "print(loss_dict[\"total_loss\"].count)"
   ]
  },
  {
   "cell_type": "code",
   "execution_count": null,
   "metadata": {},
   "outputs": [],
   "source": []
  },
  {
   "cell_type": "code",
   "execution_count": null,
   "metadata": {},
   "outputs": [],
   "source": [
    "\n",
    "print(loss_dict[\"total_loss\"])\n",
    "\n",
    "def calc_mean_loss(loss_dict):\n",
    "    loss_mean = dict()\n",
    "    for key, loss_list in loss_dict.items():\n",
    "        loss_mean[key] = sum(loss_list) / len(loss_list)\n",
    "    return loss_mean\n",
    "\n",
    "mean_value = calc_mean_loss(loss_dict)\n",
    "print(mean_value)\n",
    "\n",
    "\n",
    "class AverageMeter(object):\n"
   ]
  },
  {
   "cell_type": "code",
   "execution_count": null,
   "metadata": {},
   "outputs": [],
   "source": [
    "    \"\"\"Computes and stores the average and current value\"\"\"\n",
    "\n",
    "    def __init__(self):\n",
    "        self.reset()\n",
    "\n",
    "    def reset(self):\n",
    "        self.val = 0\n",
    "        self.avg = 0\n",
    "        self.sum = 0\n",
    "        self.count = 0\n",
    "\n",
    "    def update(self, val, n=1):\n",
    "        self.val = val\n",
    "        self.sum += val * n\n",
    "        self.count += n\n",
    "        self.avg = self.sum / self.count\n",
    "\n",
    "loss_dict = defaultdict(AverageMeter)\n",
    "loss_dict[\"total_loss\"].update(1.0)\n",
    "loss_dict[\"total_loss\"].update(1.3)\n",
    "loss_dict[\"total_loss\"].update(1.5)\n",
    "\n",
    "print(loss_dict[\"total_loss\"].count)"
   ]
  },
  {
   "cell_type": "markdown",
   "metadata": {},
   "source": [
    "## EasyDict usages"
   ]
  },
  {
   "cell_type": "code",
   "execution_count": 3,
   "metadata": {},
   "outputs": [
    {
     "name": "stdout",
     "output_type": "stream",
     "text": [
      "{'num_paste': 50, 'num_obj': 10} <class 'easydict.EasyDict'>\n",
      "50\n",
      "50 10\n"
     ]
    }
   ],
   "source": [
    "from easydict import EasyDict\n",
    "\n",
    "config = EasyDict(num_paste=50)\n",
    "config.num_obj = 10 # Use dictionary like a class member\n",
    "print(config, type(config))\n",
    "print(config['num_paste'])\n",
    "\n",
    "\n",
    "def parse_dict_args(num_paste=1, num_obj=1):\n",
    "    print(num_paste, num_obj)\n",
    "\n",
    "parse_dict_args(**vars(config))\n"
   ]
  }
 ],
 "metadata": {
  "interpreter": {
   "hash": "a905e65f9d17f2b99942353106a9a9bb4e3ae6eb3c5eda96a0f871aef2e2b8d2"
  },
  "kernelspec": {
   "display_name": "Python 3.6.13 64-bit ('face_python36': conda)",
   "name": "python3"
  },
  "language_info": {
   "codemirror_mode": {
    "name": "ipython",
    "version": 3
   },
   "file_extension": ".py",
   "mimetype": "text/x-python",
   "name": "python",
   "nbconvert_exporter": "python",
   "pygments_lexer": "ipython3",
   "version": "3.6.13"
  },
  "orig_nbformat": 4
 },
 "nbformat": 4,
 "nbformat_minor": 2
}
