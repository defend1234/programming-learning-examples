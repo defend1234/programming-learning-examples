{
 "cells": [
  {
   "cell_type": "markdown",
   "metadata": {},
   "source": [
    "# This notebook learn how to use list in Python3"
   ]
  },
  {
   "cell_type": "markdown",
   "metadata": {},
   "source": [
    "## Different approaches to create lists"
   ]
  },
  {
   "cell_type": "code",
   "execution_count": 11,
   "metadata": {},
   "outputs": [],
   "source": [
    "import numpy as np\n",
    "import random"
   ]
  },
  {
   "cell_type": "code",
   "execution_count": 1,
   "metadata": {},
   "outputs": [
    {
     "name": "stdout",
     "output_type": "stream",
     "text": [
      "[1, 2, 3, 4, 5]\n",
      "[3, 3, 3, 3, 3, 3, 3, 3, 3, 3]\n"
     ]
    }
   ],
   "source": [
    "def create_list():\n",
    "    ### Basic initialization\n",
    "    a = [1, 2, 3, 4, 5]\n",
    "    print(a)\n",
    "\n",
    "    ## Create list has repeated values\n",
    "    num, N = 3, 10\n",
    "    b = N * [num]\n",
    "    print(b)\n",
    "\n",
    "create_list()"
   ]
  },
  {
   "cell_type": "markdown",
   "metadata": {},
   "source": [
    "## Shuffle the list"
   ]
  },
  {
   "cell_type": "code",
   "execution_count": 23,
   "metadata": {},
   "outputs": [
    {
     "name": "stdout",
     "output_type": "stream",
     "text": [
      "[0, 1, 2, 3, 4, 5, 6, 7, 8, 9]\n",
      "[6, 4, 1, 3, 9, 2, 7, 5, 8, 0]\n"
     ]
    }
   ],
   "source": [
    "list_data = list(range(10))\n",
    "print(list_data)\n",
    "\n",
    "random.shuffle(list_data) # in place\n",
    "print(list_data)\n"
   ]
  },
  {
   "cell_type": "markdown",
   "metadata": {},
   "source": [
    "## Slice the list"
   ]
  },
  {
   "cell_type": "code",
   "execution_count": 10,
   "metadata": {},
   "outputs": [
    {
     "name": "stdout",
     "output_type": "stream",
     "text": [
      "[0]\n",
      "[0, 2, 4, 6, 8]\n",
      "[0, 1, 2, 3, 4, 5, 6, 7, 8]\n",
      "[9, 8, 7, 6, 5, 4, 3, 2, 1, 0]\n",
      "[0, 8, 16, 24, 32, 40, 48, 56, 64, 72, 80, 88, 96, 104, 112, 120, 128, 136, 144, 152, 160, 168, 176, 184, 192] 25\n",
      "100\n",
      "Index get value:  [100  99  97  90  97] <class 'numpy.ndarray'> [100, 99, 97, 90, 97]\n",
      "[12, 23, 34]\n"
     ]
    }
   ],
   "source": [
    "def slice_list():\n",
    "    list_a = list(range(10))\n",
    "    ## 截取部分元素,注意就算只截取一个元素,返回的仍然是列表\n",
    "    res_a = list_a[0:1]\n",
    "    print(res_a)\n",
    "    ## 每隔两个取一个元素\n",
    "    res_a  = list_a[::2]  # [0, 2, 4, 6, 8]\n",
    "    print(res_a)\n",
    "    ## 删除最后一个元素\n",
    "    res_a = list_a[:-1]\n",
    "    print(res_a)\n",
    "    ## 元素倒序, 注意和删除最后一个元素写法的区别\n",
    "    res_a = list_a[::-1]\n",
    "    print(res_a)\n",
    "\n",
    "    ## 元素采样\n",
    "    list_a = list(range(200))\n",
    "    res =list_a[::8]\n",
    "    print(res, len(res))\n",
    "\n",
    "    ## 按索引取元素\n",
    "    list_a = list(range(100, 0, -1))\n",
    "    list_a = np.array(list_a)\n",
    "    idx = [0, 1, 3, 10, 3]\n",
    "    res = list_a[idx]\n",
    "    print(\"Index get value: \", res, type(res), res.tolist())\n",
    "\n",
    "\n",
    "def comma_operator():\n",
    "    bbox = [12, 23, 34, 56]\n",
    "    bbox = bbox[:-1]\n",
    "    print(bbox)\n",
    "\n",
    "\n",
    "slice_list()\n",
    "comma_operator()"
   ]
  },
  {
   "cell_type": "markdown",
   "metadata": {},
   "source": [
    "## Learn how to add and expand or expand multiple lists"
   ]
  },
  {
   "cell_type": "code",
   "execution_count": 3,
   "metadata": {},
   "outputs": [
    {
     "name": "stdout",
     "output_type": "stream",
     "text": [
      "[0, 1, 2, 3, 4]\n",
      "[5, 6, 7, 8, 9]\n",
      "result of + process:  [0, 1, 2, 3, 4, 5, 6, 7, 8, 9]\n",
      "[[0, 1, 2, 3, 4], [5, 6, 7, 8, 9]]\n"
     ]
    }
   ],
   "source": [
    "def add_list():\n",
    "    list_a = list(range(0, 5))\n",
    "    list_b = list(range(5, 10))\n",
    "    print(list_a)\n",
    "    print(list_b)\n",
    "    \n",
    "    ## Using + would expand the list\n",
    "    list_c = list_a + list_b\n",
    "    print(\"Result of + process: \", list_c) # [0, 1, 2, 3, 4, 5, 6, 7, 8, 9]\n",
    "\n",
    "    ## Using append would get a list of list\n",
    "    list_c = []\n",
    "    list_c.append(list_a)\n",
    "    list_c.append(list_b)\n",
    "    print(list_c) # [[0, 1, 2, 3, 4], [5, 6, 7, 8, 9]]\n",
    "\n",
    "add_list()"
   ]
  },
  {
   "cell_type": "markdown",
   "metadata": {},
   "source": [
    "## Member functions of list"
   ]
  },
  {
   "cell_type": "code",
   "execution_count": 17,
   "metadata": {},
   "outputs": [
    {
     "name": "stdout",
     "output_type": "stream",
     "text": [
      "[1, 3, 1, 10, 8, 3, 1, 5, 7] 9\n",
      "3\n",
      "0\n",
      "[1, 1, 1, 3, 3, 5, 7, 8, 10]\n",
      "[1, 1, 1, 3, 3, 5, 7, 8, 10]\n",
      "None\n"
     ]
    }
   ],
   "source": [
    "a_list = []\n",
    "a_list.append(1)\n",
    "a_list.append(3)\n",
    "a_list.append(1)\n",
    "a_list += [10,8,3,1,5,7]\n",
    "print(a_list, len(a_list))\n",
    "\n",
    "print(a_list.count(1)) # 对列表中元素进行计数\n",
    "print(a_list.index(1)) # 返回第一次找到1的索引\n",
    "a_list.sort()          # 对列表元素进行排序,in-place\n",
    "print(a_list)"
   ]
  },
  {
   "cell_type": "markdown",
   "metadata": {},
   "source": [
    "## Functions return list type"
   ]
  },
  {
   "cell_type": "code",
   "execution_count": 21,
   "metadata": {},
   "outputs": [
    {
     "name": "stdout",
     "output_type": "stream",
     "text": [
      "zhanghaiming 170 55\n"
     ]
    }
   ],
   "source": [
    "### 列表也可以像tuple一样进行解包\n",
    "def foo_list():\n",
    "    list_a = [\"zhanghaiming\", \"170\", \"55\"]\n",
    "    return list_a\n",
    "\n",
    "name, height, weight = foo_list()\n",
    "print(name, height, weight)"
   ]
  },
  {
   "cell_type": "markdown",
   "metadata": {},
   "source": [
    "## Operate on list"
   ]
  },
  {
   "cell_type": "code",
   "execution_count": 6,
   "metadata": {},
   "outputs": [
    {
     "name": "stdout",
     "output_type": "stream",
     "text": [
      "9.8\n",
      "[False False False  True  True]\n",
      "Mean is 4.5600000000000005\n"
     ]
    }
   ],
   "source": [
    "import numpy as np\n",
    "list_a = [1, 2.0, 3.0, 7.0, 9.8]\n",
    "print(max(list_a))\n",
    "\n",
    "list_b = np.array(list_a) > 3.0\n",
    "print(list_b)\n",
    "\n",
    "### Calculate the mean value\n",
    "list_a = [1, 2.0, 3.0, 7.0, 9.8]\n",
    "print(f\"Mean is {sum(list_a) / len(list_a)}\")"
   ]
  },
  {
   "cell_type": "code",
   "execution_count": null,
   "metadata": {},
   "outputs": [],
   "source": []
  },
  {
   "cell_type": "code",
   "execution_count": 4,
   "metadata": {},
   "outputs": [
    {
     "name": "stdout",
     "output_type": "stream",
     "text": [
      "1\n",
      "0\n"
     ]
    }
   ],
   "source": [
    "index = 147\n",
    "num_candidates_perframe = 147\n",
    "\n",
    "print(int(index / (num_candidates_perframe)))\n",
    "print(int(index % (num_candidates_perframe)))\n"
   ]
  },
  {
   "cell_type": "markdown",
   "metadata": {},
   "source": []
  }
 ],
 "metadata": {
  "interpreter": {
   "hash": "a905e65f9d17f2b99942353106a9a9bb4e3ae6eb3c5eda96a0f871aef2e2b8d2"
  },
  "kernelspec": {
   "display_name": "Python 3.6.13 64-bit ('face_python36': conda)",
   "name": "python3"
  },
  "language_info": {
   "codemirror_mode": {
    "name": "ipython",
    "version": 3
   },
   "file_extension": ".py",
   "mimetype": "text/x-python",
   "name": "python",
   "nbconvert_exporter": "python",
   "pygments_lexer": "ipython3",
   "version": "3.6.13"
  },
  "orig_nbformat": 4
 },
 "nbformat": 4,
 "nbformat_minor": 2
}
