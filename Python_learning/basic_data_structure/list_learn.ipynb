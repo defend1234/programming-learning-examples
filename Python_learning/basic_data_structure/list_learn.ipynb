{
 "cells": [
  {
   "cell_type": "markdown",
   "source": [
    "# This notebook learn how to use list in Python3"
   ],
   "metadata": {}
  },
  {
   "cell_type": "code",
   "execution_count": 6,
   "source": [
    "print(\"Hello World\")"
   ],
   "outputs": [
    {
     "output_type": "stream",
     "name": "stdout",
     "text": [
      "Hello World\n"
     ]
    }
   ],
   "metadata": {}
  },
  {
   "cell_type": "markdown",
   "source": [
    "## Different approaches to create lists"
   ],
   "metadata": {}
  },
  {
   "cell_type": "code",
   "execution_count": 15,
   "source": [
    "def create_list():\n",
    "    a = [1, 2, 3, 4, 5]\n",
    "\n",
    "    ## Create list has repeat values\n",
    "    num, N = 3, 10\n",
    "    b = N * [num]\n",
    "    print(b)\n",
    "\n",
    "create_list()"
   ],
   "outputs": [
    {
     "output_type": "stream",
     "name": "stdout",
     "text": [
      "[3, 3, 3, 3, 3, 3, 3, 3, 3, 3]\n"
     ]
    }
   ],
   "metadata": {}
  },
  {
   "cell_type": "code",
   "execution_count": null,
   "source": [],
   "outputs": [],
   "metadata": {}
  },
  {
   "cell_type": "markdown",
   "source": [
    "## Slice the list"
   ],
   "metadata": {}
  },
  {
   "cell_type": "code",
   "execution_count": 10,
   "source": [
    "def slice_list():\n",
    "    list_a = list(range(10))\n",
    "    ## 每隔两个取一个元素\n",
    "    res_a  = list_a[::2]  # [0, 2, 4, 6, 8]\n",
    "    print(res_a)\n",
    "    ## 删除最后一个元素\n",
    "    res_a = list_a[:-1]\n",
    "    print(res_a)\n",
    "    ## 元素倒序, 注意和删除最后一个元素写法的区别\n",
    "    res_a = list_a[::-1]\n",
    "    print(res_a)\n",
    "\n",
    "slice_list()"
   ],
   "outputs": [
    {
     "output_type": "stream",
     "name": "stdout",
     "text": [
      "[0, 2, 4, 6, 8]\n",
      "[0, 1, 2, 3, 4, 5, 6, 7, 8]\n",
      "[9, 8, 7, 6, 5, 4, 3, 2, 1, 0]\n"
     ]
    }
   ],
   "metadata": {}
  },
  {
   "cell_type": "markdown",
   "source": [
    "## Learn how to add and expand or expand multiple lists"
   ],
   "metadata": {}
  },
  {
   "cell_type": "code",
   "execution_count": 11,
   "source": [
    "def add_list():\n",
    "    list_a = list(range(0, 5))\n",
    "    list_b = list(range(5, 10))\n",
    "    print(list_a)\n",
    "    print(list_b)\n",
    "    \n",
    "    ## Using + would expand the list\n",
    "    list_c = list_a + list_b\n",
    "    print(list_c) # [0, 1, 2, 3, 4, 5, 6, 7, 8, 9]\n",
    "\n",
    "    ## Using append would get a list of list\n",
    "    list_c = []\n",
    "    list_c.append(list_a)\n",
    "    list_c.append(list_b)\n",
    "    print(list_c) # [[0, 1, 2, 3, 4], [5, 6, 7, 8, 9]]\n",
    "\n",
    "add_list()"
   ],
   "outputs": [
    {
     "output_type": "stream",
     "name": "stdout",
     "text": [
      "[0, 1, 2, 3, 4]\n",
      "[5, 6, 7, 8, 9]\n",
      "[0, 1, 2, 3, 4, 5, 6, 7, 8, 9]\n",
      "[[0, 1, 2, 3, 4], [5, 6, 7, 8, 9]]\n"
     ]
    }
   ],
   "metadata": {}
  },
  {
   "cell_type": "markdown",
   "source": [],
   "metadata": {}
  }
 ],
 "metadata": {
  "orig_nbformat": 4,
  "language_info": {
   "name": "python",
   "version": "3.6.13",
   "mimetype": "text/x-python",
   "codemirror_mode": {
    "name": "ipython",
    "version": 3
   },
   "pygments_lexer": "ipython3",
   "nbconvert_exporter": "python",
   "file_extension": ".py"
  },
  "kernelspec": {
   "name": "python3",
   "display_name": "Python 3.6.13 64-bit ('face_python36': conda)"
  },
  "interpreter": {
   "hash": "a8c17cacde4bf83c7e39b5631839a653d23294c3e57f7dc62f99a2c1a562a38c"
  }
 },
 "nbformat": 4,
 "nbformat_minor": 2
}