{
 "cells": [
  {
   "cell_type": "markdown",
   "source": [
    "# This notebook learn how to use list in Python3"
   ],
   "metadata": {}
  },
  {
   "cell_type": "markdown",
   "source": [
    "## Different approaches to create lists"
   ],
   "metadata": {}
  },
  {
   "cell_type": "code",
   "execution_count": 1,
   "source": [
    "def create_list():\n",
    "    ### Basic initialization\n",
    "    a = [1, 2, 3, 4, 5]\n",
    "    print(a)\n",
    "\n",
    "    ## Create list has repeat values\n",
    "    num, N = 3, 10\n",
    "    b = N * [num]\n",
    "    print(b)\n",
    "\n",
    "create_list()"
   ],
   "outputs": [
    {
     "output_type": "stream",
     "name": "stdout",
     "text": [
      "[1, 2, 3, 4, 5]\n",
      "[3, 3, 3, 3, 3, 3, 3, 3, 3, 3]\n"
     ]
    }
   ],
   "metadata": {}
  },
  {
   "cell_type": "code",
   "execution_count": null,
   "source": [],
   "outputs": [],
   "metadata": {}
  },
  {
   "cell_type": "markdown",
   "source": [
    "## Slice the list"
   ],
   "metadata": {}
  },
  {
   "cell_type": "code",
   "execution_count": 4,
   "source": [
    "def slice_list():\n",
    "    list_a = list(range(10))\n",
    "    ## 截取部分元素,注意就算只截取一个元素,返回的仍然是列表\n",
    "    res_a = list_a[0:1]\n",
    "    print(res_a)\n",
    "    ## 每隔两个取一个元素\n",
    "    res_a  = list_a[::2]  # [0, 2, 4, 6, 8]\n",
    "    print(res_a)\n",
    "    ## 删除最后一个元素\n",
    "    res_a = list_a[:-1]\n",
    "    print(res_a)\n",
    "    ## 元素倒序, 注意和删除最后一个元素写法的区别\n",
    "    res_a = list_a[::-1]\n",
    "    print(res_a)\n",
    "\n",
    "    ## 元素采样\n",
    "    list_a = list(range(200))\n",
    "    res =list_a[::8]\n",
    "    print(res, len(res))\n",
    "\n",
    "slice_list()"
   ],
   "outputs": [
    {
     "output_type": "stream",
     "name": "stdout",
     "text": [
      "[0]\n",
      "[0, 2, 4, 6, 8]\n",
      "[0, 1, 2, 3, 4, 5, 6, 7, 8]\n",
      "[9, 8, 7, 6, 5, 4, 3, 2, 1, 0]\n",
      "[0, 8, 16, 24, 32, 40, 48, 56, 64, 72, 80, 88, 96, 104, 112, 120, 128, 136, 144, 152, 160, 168, 176, 184, 192] 25\n"
     ]
    }
   ],
   "metadata": {}
  },
  {
   "cell_type": "markdown",
   "source": [
    "## Learn how to add and expand or expand multiple lists"
   ],
   "metadata": {}
  },
  {
   "cell_type": "code",
   "execution_count": 3,
   "source": [
    "def add_list():\n",
    "    list_a = list(range(0, 5))\n",
    "    list_b = list(range(5, 10))\n",
    "    print(list_a)\n",
    "    print(list_b)\n",
    "    \n",
    "    ## Using + would expand the list\n",
    "    list_c = list_a + list_b\n",
    "    print(\"Result of + process: \", list_c) # [0, 1, 2, 3, 4, 5, 6, 7, 8, 9]\n",
    "\n",
    "    ## Using append would get a list of list\n",
    "    list_c = []\n",
    "    list_c.append(list_a)\n",
    "    list_c.append(list_b)\n",
    "    print(list_c) # [[0, 1, 2, 3, 4], [5, 6, 7, 8, 9]]\n",
    "\n",
    "add_list()"
   ],
   "outputs": [
    {
     "output_type": "stream",
     "name": "stdout",
     "text": [
      "[0, 1, 2, 3, 4]\n",
      "[5, 6, 7, 8, 9]\n",
      "result of + process:  [0, 1, 2, 3, 4, 5, 6, 7, 8, 9]\n",
      "[[0, 1, 2, 3, 4], [5, 6, 7, 8, 9]]\n"
     ]
    }
   ],
   "metadata": {}
  },
  {
   "cell_type": "markdown",
   "source": [
    "## Member functions of list"
   ],
   "metadata": {}
  },
  {
   "cell_type": "code",
   "execution_count": 17,
   "source": [
    "a_list = []\n",
    "a_list.append(1)\n",
    "a_list.append(3)\n",
    "a_list.append(1)\n",
    "a_list += [10,8,3,1,5,7]\n",
    "print(a_list, len(a_list))\n",
    "\n",
    "print(a_list.count(1)) # 对列表中元素进行计数\n",
    "print(a_list.index(1)) # 返回第一次找到1的索引\n",
    "a_list.sort()          # 对列表元素进行排序,in-place\n",
    "print(a_list)"
   ],
   "outputs": [
    {
     "output_type": "stream",
     "name": "stdout",
     "text": [
      "[1, 3, 1, 10, 8, 3, 1, 5, 7] 9\n",
      "3\n",
      "0\n",
      "[1, 1, 1, 3, 3, 5, 7, 8, 10]\n",
      "[1, 1, 1, 3, 3, 5, 7, 8, 10]\n",
      "None\n"
     ]
    }
   ],
   "metadata": {}
  },
  {
   "cell_type": "markdown",
   "source": [
    "## Functions return list type"
   ],
   "metadata": {}
  },
  {
   "cell_type": "code",
   "execution_count": 21,
   "source": [
    "### 列表也可以像tuple一样进行解包\n",
    "def foo_list():\n",
    "    list_a = [\"zhanghaiming\", \"170\", \"55\"]\n",
    "    return list_a\n",
    "\n",
    "name, height, weight = foo_list()\n",
    "print(name, height, weight)"
   ],
   "outputs": [
    {
     "output_type": "stream",
     "name": "stdout",
     "text": [
      "zhanghaiming 170 55\n"
     ]
    }
   ],
   "metadata": {}
  },
  {
   "cell_type": "code",
   "execution_count": 1,
   "source": [
    "list_a = [1, 2.0, 3.0, 7.0, 9.8]\n",
    "print(max(list_a))"
   ],
   "outputs": [
    {
     "output_type": "stream",
     "name": "stdout",
     "text": [
      "9.8\n"
     ]
    }
   ],
   "metadata": {}
  },
  {
   "cell_type": "markdown",
   "source": [],
   "metadata": {}
  }
 ],
 "metadata": {
  "orig_nbformat": 4,
  "language_info": {
   "name": "python",
   "version": "3.6.13",
   "mimetype": "text/x-python",
   "codemirror_mode": {
    "name": "ipython",
    "version": 3
   },
   "pygments_lexer": "ipython3",
   "nbconvert_exporter": "python",
   "file_extension": ".py"
  },
  "kernelspec": {
   "name": "python3",
   "display_name": "Python 3.6.13 64-bit ('face_python36': conda)"
  },
  "interpreter": {
   "hash": "a8c17cacde4bf83c7e39b5631839a653d23294c3e57f7dc62f99a2c1a562a38c"
  }
 },
 "nbformat": 4,
 "nbformat_minor": 2
}