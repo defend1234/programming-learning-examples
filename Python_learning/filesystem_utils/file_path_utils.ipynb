{
 "cells": [
  {
   "cell_type": "markdown",
   "source": [
    "# Learn how to scan, access or loop the files and directories in Python3"
   ],
   "metadata": {}
  },
  {
   "cell_type": "code",
   "execution_count": 1,
   "source": [
    "# import sth\n",
    "import os\n",
    "import time\n",
    "from glob import glob\n",
    "from os.path import dirname, join, basename, isfile, isdir\n",
    "import cv2"
   ],
   "outputs": [],
   "metadata": {}
  },
  {
   "cell_type": "markdown",
   "source": [
    "## Basic file path elements"
   ],
   "metadata": {}
  },
  {
   "cell_type": "code",
   "execution_count": 4,
   "source": [
    "file_path = \"results/result_video.mp4\"\n",
    "vid_name = os.path.basename(file_path)\n",
    "print(vid_name)\n",
    "\n",
    "vid_name = file_path[:-4]\n",
    "print(vid_name)"
   ],
   "outputs": [
    {
     "output_type": "stream",
     "name": "stdout",
     "text": [
      "result_video.mp4\n",
      "results/result_video\n"
     ]
    }
   ],
   "metadata": {}
  },
  {
   "cell_type": "markdown",
   "source": [
    "## Different methods to scan files"
   ],
   "metadata": {}
  },
  {
   "cell_type": "code",
   "execution_count": 17,
   "source": [
    "def scan_dir(root_dir, file_suffix=\".mp4\"):\n",
    "    \"\"\"\n",
    "    Ref: https://www.geeksforgeeks.org/python-os-scandir-method/\n",
    "    \"\"\"\n",
    "    vid_list = []\n",
    "    for entry in os.scandir(root_dir):\n",
    "        print(entry.path)\n",
    "        if entry.is_dir():\n",
    "            file_names = [file.path for file in os.scandir(entry) if file.name.endswith(file_suffix)]\n",
    "            # file_names = glob(join(entry.path, '*.mp4'))\n",
    "            vid_list.append(len(file_names))\n",
    "    \n",
    "    return vid_list\n",
    "    \n",
    "\n",
    "root_dir = \"/data/zhanghm/speech_chinese\"\n",
    "start = time.time()\n",
    "vid = scan_dir(root_dir, file_suffix=\".mp4\")\n",
    "print(\"time is \", time.time() - start)\n",
    "print(vid, sum(vid))\n",
    "\n",
    "\n"
   ],
   "outputs": [
    {
     "output_type": "stream",
     "name": "stdout",
     "text": [
      "/data/zhanghm/speech_chinese/210905\n",
      "/data/zhanghm/speech_chinese/210905-1\n",
      "/data/zhanghm/speech_chinese/210904-1\n",
      "/data/zhanghm/speech_chinese/210903\n",
      "/data/zhanghm/speech_chinese/210903-1\n",
      "/data/zhanghm/speech_chinese/210906\n",
      "/data/zhanghm/speech_chinese/210904\n",
      "/data/zhanghm/speech_chinese/210904-2\n",
      "time is  0.024813175201416016\n",
      "[2652, 3600, 3849, 3815, 1400, 774, 3246, 3153] 22489\n"
     ]
    }
   ],
   "metadata": {}
  },
  {
   "cell_type": "markdown",
   "source": [
    "## numpy `.npy` or `.mat` etc. format IO processes"
   ],
   "metadata": {}
  },
  {
   "cell_type": "code",
   "execution_count": null,
   "source": [],
   "outputs": [],
   "metadata": {}
  },
  {
   "cell_type": "markdown",
   "source": [],
   "metadata": {}
  },
  {
   "cell_type": "markdown",
   "source": [
    "## json format file IO processes"
   ],
   "metadata": {}
  },
  {
   "cell_type": "code",
   "execution_count": null,
   "source": [
    "### Load json file content to dictionary\n",
    "basedir = \"./data/\"\n",
    "splits = ['train', 'val', 'test']\n",
    "metas = {}\n",
    "for s in splits:\n",
    "    with open(os.path.join(basedir, 'transforms_{}.json'.format(s)), 'r') as fp:\n",
    "        metas[s] = json.load(fp)"
   ],
   "outputs": [],
   "metadata": {}
  }
 ],
 "metadata": {
  "orig_nbformat": 4,
  "language_info": {
   "name": "python",
   "version": "3.6.13",
   "mimetype": "text/x-python",
   "codemirror_mode": {
    "name": "ipython",
    "version": 3
   },
   "pygments_lexer": "ipython3",
   "nbconvert_exporter": "python",
   "file_extension": ".py"
  },
  "kernelspec": {
   "name": "python3",
   "display_name": "Python 3.6.13 64-bit ('face_python36': conda)"
  },
  "interpreter": {
   "hash": "a8c17cacde4bf83c7e39b5631839a653d23294c3e57f7dc62f99a2c1a562a38c"
  }
 },
 "nbformat": 4,
 "nbformat_minor": 2
}