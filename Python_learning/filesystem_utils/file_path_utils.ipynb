{
 "cells": [
  {
   "cell_type": "markdown",
   "metadata": {},
   "source": [
    "# Learn how to scan, access or loop the files and directories in Python3"
   ]
  },
  {
   "cell_type": "code",
   "execution_count": 1,
   "metadata": {},
   "outputs": [],
   "source": [
    "# import sth\n",
    "import os\n",
    "import os.path as osp\n",
    "import time\n",
    "import glob\n",
    "# from glob import glob\n",
    "from os.path import dirname, join, basename, isfile, isdir\n",
    "import cv2\n",
    "from natsort import natsorted"
   ]
  },
  {
   "cell_type": "markdown",
   "metadata": {},
   "source": [
    "## Basic file path elements"
   ]
  },
  {
   "cell_type": "code",
   "execution_count": 21,
   "metadata": {},
   "outputs": [
    {
     "name": "stdout",
     "output_type": "stream",
     "text": [
      "result_video.mp4\n",
      "212.jpg\n",
      "Get the directory name\n",
      "/data/image\n",
      "/data\n",
      "/\n"
     ]
    }
   ],
   "source": [
    "file_path = \"results/result_video.mp4\"\n",
    "vid_name = os.path.basename(file_path)\n",
    "print(vid_name)\n",
    "\n",
    "img_path = \"/data/image/212.jpg\"\n",
    "\n",
    "## Get the filename\n",
    "img_name = osp.basename(img_path)\n",
    "print(img_name)\n",
    "\n",
    "## Get the directory name\n",
    "print(\"Get the directory name\")\n",
    "img_dir_path = osp.dirname(img_path)\n",
    "print(img_dir_path)\n",
    "\n",
    "img_dir_path = osp.dirname(img_dir_path)\n",
    "print(img_dir_path)\n",
    "\n",
    "## Get the path sperator\n",
    "sep = os.path.sep\n",
    "print(sep)"
   ]
  },
  {
   "cell_type": "markdown",
   "metadata": {},
   "source": [
    "## Split a path into different elements"
   ]
  },
  {
   "cell_type": "code",
   "execution_count": 8,
   "metadata": {},
   "outputs": [
    {
     "name": "stdout",
     "output_type": "stream",
     "text": [
      "Split the file extension: ('/data/image/212', '.jpg')\n",
      "('/data/image', '212.jpg')\n",
      "Absolute path splited into ('/homg/zhanghm/0001.checkpoint', '.jpeg')\n",
      "('/homg/zhanghm', '0001.checkpoint.jpeg')\n",
      "('212', '.jpg')\n",
      "('', '212.jpg')\n"
     ]
    }
   ],
   "source": [
    "img_path = \"/data/image/212.jpg\"\n",
    "\n",
    "## We can use os.path.splitext to split the file name path and file extension directly\n",
    "path_list = osp.splitext(img_path)\n",
    "print(\"Split the file extension:\", path_list)\n",
    "\n",
    "## Split the file name and parent directory path\n",
    "path_list = osp.split(img_path)\n",
    "print(path_list)\n",
    "\n",
    "input_fname = \"/homg/zhanghm/0001.checkpoint.jpeg\"\n",
    "\n",
    "os_splited_path = osp.splitext(input_fname)\n",
    "print(\"Absolute path splited into\", os_splited_path)\n",
    "\n",
    "os_splited_path = osp.split(input_fname) ## Split the file name and parent directory path\n",
    "print(os_splited_path)\n",
    "\n",
    "img_path = \"212.jpg\"\n",
    "splited_path = osp.splitext(img_path)\n",
    "print(splited_path)\n",
    "\n",
    "img_path = \"212.jpg\"\n",
    "splited_path = osp.split(img_path)\n",
    "print(splited_path)"
   ]
  },
  {
   "cell_type": "markdown",
   "metadata": {},
   "source": [
    "## Check path exists"
   ]
  },
  {
   "cell_type": "code",
   "execution_count": 19,
   "metadata": {},
   "outputs": [
    {
     "name": "stdout",
     "output_type": "stream",
     "text": [
      "Is not a file\n",
      "Is a file or folder\n"
     ]
    }
   ],
   "source": [
    "file_path = \"./data/\"\n",
    "\n",
    "## Check whether is a existing file path\n",
    "if osp.isfile(file_path):\n",
    "    print(\"Is a file\")\n",
    "else:\n",
    "    print(\"Is not a file\")\n",
    "\n",
    "## Check whether is a existing file or folder path\n",
    "file_or_folder_path = \"./data/example.txt\"\n",
    "file_or_folder_path = \"./data/\"\n",
    "if osp.exists(file_or_folder_path):\n",
    "    print(\"Is a file or folder\")\n",
    "else:\n",
    "    print(\"Is not a file or folder\")"
   ]
  },
  {
   "cell_type": "markdown",
   "metadata": {},
   "source": [
    "## Join paths"
   ]
  },
  {
   "cell_type": "code",
   "execution_count": 20,
   "metadata": {},
   "outputs": [
    {
     "name": "stdout",
     "output_type": "stream",
     "text": [
      "/data/kitti//123.txt\n",
      "/data/kitti/123.txt\n",
      "/data/waymo_preprocessed/train/100000/123.pcd\n",
      "train/100000/123.pcd\n"
     ]
    }
   ],
   "source": [
    "root_dir = \"/data/kitti//\"\n",
    "file_name = \"123.txt\"\n",
    "\n",
    "## Would have double slash\n",
    "file_path = osp.join(root_dir, file_name)\n",
    "print(file_path)\n",
    "\n",
    "## Using osp.normpath to eliminate the double slash\n",
    "file_path = osp.join(osp.normpath(root_dir), file_name)\n",
    "print(file_path)\n",
    "\n",
    "\n",
    "data_root = \"/data/waymo/lidar/\"\n",
    "save_root = \"/data/waymo_preprocessed\"\n",
    "\n",
    "file_path = \"/data/waymo/lidar/train/100000/123.pcd\"\n",
    "\n",
    "## Replace the root_dir by using another root path\n",
    "result_path = osp.join(save_root, osp.normpath(file_path.replace(data_root, \"\") + \"/\"))\n",
    "print(result_path)\n",
    "\n",
    "## Generate relative path\n",
    "file_relative_path = file_path.replace(data_root, \"\").strip(\"/\")\n",
    "print(file_relative_path)"
   ]
  },
  {
   "cell_type": "markdown",
   "metadata": {},
   "source": [
    "## Scan directory recursively"
   ]
  },
  {
   "cell_type": "code",
   "execution_count": 7,
   "metadata": {},
   "outputs": [
    {
     "name": "stdout",
     "output_type": "stream",
     "text": [
      "/home/haimingzhang/Research/Programming/cv-fighter/facial_preprocessed/obama_weekly_static_25fps_origin_image/obama_weekly_019_clip_001\n",
      "/home/haimingzhang/Research/Programming/cv-fighter/facial_preprocessed/obama_weekly_static_25fps_origin_image/obama_weekly_023_clip_003\n",
      "/home/haimingzhang/Research/Programming/cv-fighter/facial_preprocessed/obama_weekly_static_25fps_origin_image/obama_weekly_021_clip_001\n",
      "/home/haimingzhang/Research/Programming/cv-fighter/facial_preprocessed/obama_weekly_static_25fps_origin_image/obama_weekly_023_clip_002\n",
      "/home/haimingzhang/Research/Programming/cv-fighter/facial_preprocessed/obama_weekly_static_25fps_origin_image/obama_weekly_010_clip_001\n",
      "/home/haimingzhang/Research/Programming/cv-fighter/facial_preprocessed/obama_weekly_static_25fps_origin_image/obama_weekly_019_clip_003\n",
      "/home/haimingzhang/Research/Programming/cv-fighter/facial_preprocessed/obama_weekly_static_25fps_origin_image/obama_weekly_014_clip_001\n",
      "/home/haimingzhang/Research/Programming/cv-fighter/facial_preprocessed/obama_weekly_static_25fps_origin_image/obama_weekly_013_clip_001\n",
      "/home/haimingzhang/Research/Programming/cv-fighter/facial_preprocessed/obama_weekly_static_25fps_origin_image/obama_weekly_019_clip_002\n",
      "/home/haimingzhang/Research/Programming/cv-fighter/facial_preprocessed/obama_weekly_static_25fps_origin_image/obama_weekly_021_clip_002\n",
      "/home/haimingzhang/Research/Programming/cv-fighter/facial_preprocessed/obama_weekly_static_25fps_origin_image/obama_weekly_022_clip_001\n",
      "/home/haimingzhang/Research/Programming/cv-fighter/facial_preprocessed/obama_weekly_static_25fps_origin_image/obama_weekly_021_clip_003\n",
      "/home/haimingzhang/Research/Programming/cv-fighter/facial_preprocessed/obama_weekly_static_25fps_origin_image/obama_weekly_023_clip_001\n",
      "/home/haimingzhang/Research/Programming/cv-fighter/facial_preprocessed/obama_weekly_static_25fps_origin_image/obama_weekly_010_clip_002\n",
      "/home/haimingzhang/Research/Programming/cv-fighter/facial_preprocessed/obama_weekly_static_25fps_origin_image/obama_weekly_013_clip_002\n",
      "/home/haimingzhang/Research/Programming/cv-fighter/facial_preprocessed/obama_weekly_static_25fps_origin_image/obama_weekly_014_clip_002\n",
      "/home/haimingzhang/Research/Programming/cv-fighter/facial_preprocessed/obama_weekly_static_25fps_origin_image/obama_weekly_029_clip_001\n",
      "/home/haimingzhang/Research/Programming/cv-fighter/facial_preprocessed/obama_weekly_static_25fps_origin_image/obama_weekly_029_clip_002\n",
      "/home/haimingzhang/Research/Programming/cv-fighter/facial_preprocessed/obama_weekly_static_25fps_origin_image/obama_weekly_011_clip_001\n",
      "time is  0.05476045608520508\n",
      "37055\n"
     ]
    }
   ],
   "source": [
    "import time\n",
    "from glob import glob\n",
    "import os.path as osp\n",
    "\n",
    "def scan_dir(root_dir, file_suffix=\".mp4\"):\n",
    "    \"\"\"\n",
    "    Ref: https://www.geeksforgeeks.org/python-os-scandir-method/\n",
    "    \"\"\"\n",
    "    vid_list = []\n",
    "    for entry in os.scandir(root_dir):\n",
    "        print(entry.path)\n",
    "        if entry.is_dir():\n",
    "            file_names = [file.path for file in os.scandir(entry) if file.name.endswith(file_suffix)]\n",
    "            # file_names = glob(osp.join(entry.path, '*.jpg'))\n",
    "            vid_list.append(len(file_names))\n",
    "    \n",
    "    return vid_list\n",
    "    \n",
    "\n",
    "root_dir = \"/home/haimingzhang/Research/Programming/cv-fighter/facial_preprocessed/obama_weekly_static_25fps_origin_image\"\n",
    "\n",
    "start = time.time()\n",
    "vid = scan_dir(root_dir, file_suffix=\".jpg\")\n",
    "print(\"time is \", time.time() - start)\n",
    "\n",
    "print(sum(vid))\n"
   ]
  },
  {
   "cell_type": "markdown",
   "metadata": {},
   "source": [
    "### glob用法\n",
    "[glob用法](https://blog.csdn.net/u013630349/article/details/47683293)\n",
    "https://www.codenong.com/2632205/\n",
    "https://www.codegrepper.com/code-examples/python/how+to+find+out+number+of+images+in+folder+python"
   ]
  },
  {
   "cell_type": "markdown",
   "metadata": {},
   "source": [
    "## Scan folders recursively and save the folders path"
   ]
  },
  {
   "cell_type": "code",
   "execution_count": 18,
   "metadata": {},
   "outputs": [],
   "source": [
    "def scan_files(root_dir, file_name, file_suffix=\".mp4\"):\n",
    "    files_list = glob.glob(f'{root_dir}/*/*.mp4')\n",
    "    lines_list = ['/'.join(line[:-4].split('/')[-3:]) for line in files_list]\n",
    "\n",
    "    lines_str = '\\n'.join(lines_list)\n",
    "    save_file = open(f\"{file_name}.txt\", \"w\")\n",
    "    save_file.write(lines_str)\n",
    "\n",
    "\n",
    "root_dir = \"/data/data0/zhanghm/AudioVision/Wav2LipTEDHQ/test\"\n",
    "scan_files(root_dir, \"test\")"
   ]
  },
  {
   "cell_type": "code",
   "execution_count": 4,
   "metadata": {},
   "outputs": [
    {
     "name": "stdout",
     "output_type": "stream",
     "text": [
      "Is image\n"
     ]
    }
   ],
   "source": [
    "image_path = \"/home/example.png\"\n",
    "image_path = \"/home/example.jpg\"\n",
    "\n",
    "\n",
    "if image_path.endswith((\".png\", \".jpg\")):\n",
    "    print(\"Is image\")\n",
    "else:\n",
    "    print(\"Is not image\")"
   ]
  },
  {
   "cell_type": "markdown",
   "metadata": {},
   "source": [
    "## Move files"
   ]
  },
  {
   "cell_type": "code",
   "execution_count": 16,
   "metadata": {},
   "outputs": [
    {
     "name": "stdout",
     "output_type": "stream",
     "text": [
      "['1.txt', '2.txt']\n"
     ]
    }
   ],
   "source": [
    "from glob import glob\n",
    "import shutil\n",
    "import os.path as osp\n",
    "\n",
    "data_dir = \"/home/haimingzhang/Research/Programming/cv-fighter/facial_preprocessed/debug\"\n",
    "all_files = os.listdir(data_dir)\n",
    "print(all_files)\n",
    "\n",
    "dst_dir = \"/home/haimingzhang/Research/Programming/cv-fighter/facial_preprocessed/debug/face_image\"\n",
    "os.makedirs(dst_dir) ## this folder Must exist first\n",
    "\n",
    "for file in all_files:\n",
    "    shutil.move(osp.join(data_dir, file), osp.join(dst_dir, file))\n"
   ]
  },
  {
   "cell_type": "markdown",
   "metadata": {},
   "source": [
    "## Copy files"
   ]
  },
  {
   "cell_type": "code",
   "execution_count": 2,
   "metadata": {},
   "outputs": [
    {
     "data": {
      "text/plain": [
       "'./debug/bad_data3_new.txt'"
      ]
     },
     "execution_count": 2,
     "metadata": {},
     "output_type": "execute_result"
    }
   ],
   "source": [
    "import shutil\n",
    "\n",
    "src_file = \"bad_data3.txt\"\n",
    "dst_file = \"./debug/bad_data3_new.txt\"\n",
    "\n",
    "shutil.copy(src_file, dst_file)"
   ]
  },
  {
   "cell_type": "markdown",
   "metadata": {},
   "source": [
    "## Delete folders"
   ]
  },
  {
   "cell_type": "code",
   "execution_count": null,
   "metadata": {},
   "outputs": [],
   "source": [
    "import shutil\n",
    "\n",
    "output_root = \"./debug/test\"\n",
    "shutil.rmtree(output_root)"
   ]
  }
 ],
 "metadata": {
  "interpreter": {
   "hash": "a905e65f9d17f2b99942353106a9a9bb4e3ae6eb3c5eda96a0f871aef2e2b8d2"
  },
  "kernelspec": {
   "display_name": "Python 3.6.13 64-bit ('face_python36': conda)",
   "name": "python3"
  },
  "language_info": {
   "codemirror_mode": {
    "name": "ipython",
    "version": 3
   },
   "file_extension": ".py",
   "mimetype": "text/x-python",
   "name": "python",
   "nbconvert_exporter": "python",
   "pygments_lexer": "ipython3",
   "version": "3.6.13"
  },
  "orig_nbformat": 4
 },
 "nbformat": 4,
 "nbformat_minor": 2
}
