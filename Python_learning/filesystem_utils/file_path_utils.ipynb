{
 "cells": [
  {
   "cell_type": "markdown",
   "metadata": {},
   "source": [
    "# Learn how to scan, access or loop the files and directories in Python3"
   ]
  },
  {
   "cell_type": "code",
   "execution_count": 1,
   "metadata": {},
   "outputs": [],
   "source": [
    "# import sth\n",
    "import os\n",
    "import time\n",
    "from glob import glob\n",
    "from os.path import dirname, join, basename, isfile, isdir\n",
    "import cv2\n",
    "from natsort import natsorted"
   ]
  },
  {
   "cell_type": "markdown",
   "metadata": {},
   "source": [
    "## Basic file path elements"
   ]
  },
  {
   "cell_type": "code",
   "execution_count": 4,
   "metadata": {},
   "outputs": [
    {
     "name": "stdout",
     "output_type": "stream",
     "text": [
      "result_video.mp4\n",
      "results/result_video\n"
     ]
    }
   ],
   "source": [
    "file_path = \"results/result_video.mp4\"\n",
    "vid_name = os.path.basename(file_path)\n",
    "print(vid_name)\n",
    "\n",
    "vid_name = file_path[:-4]\n",
    "print(vid_name)"
   ]
  },
  {
   "cell_type": "markdown",
   "metadata": {},
   "source": [
    "## Different methods to scan files"
   ]
  },
  {
   "cell_type": "code",
   "execution_count": 17,
   "metadata": {},
   "outputs": [
    {
     "name": "stdout",
     "output_type": "stream",
     "text": [
      "/data/zhanghm/speech_chinese/210905\n",
      "/data/zhanghm/speech_chinese/210905-1\n",
      "/data/zhanghm/speech_chinese/210904-1\n",
      "/data/zhanghm/speech_chinese/210903\n",
      "/data/zhanghm/speech_chinese/210903-1\n",
      "/data/zhanghm/speech_chinese/210906\n",
      "/data/zhanghm/speech_chinese/210904\n",
      "/data/zhanghm/speech_chinese/210904-2\n",
      "time is  0.024813175201416016\n",
      "[2652, 3600, 3849, 3815, 1400, 774, 3246, 3153] 22489\n"
     ]
    }
   ],
   "source": [
    "def scan_dir(root_dir, file_suffix=\".mp4\"):\n",
    "    \"\"\"\n",
    "    Ref: https://www.geeksforgeeks.org/python-os-scandir-method/\n",
    "    \"\"\"\n",
    "    vid_list = []\n",
    "    for entry in os.scandir(root_dir):\n",
    "        print(entry.path)\n",
    "        if entry.is_dir():\n",
    "            file_names = [file.path for file in os.scandir(entry) if file.name.endswith(file_suffix)]\n",
    "            # file_names = glob(join(entry.path, '*.mp4'))\n",
    "            vid_list.append(len(file_names))\n",
    "    \n",
    "    return vid_list\n",
    "    \n",
    "\n",
    "root_dir = \"/data/zhanghm/speech_chinese\"\n",
    "start = time.time()\n",
    "vid = scan_dir(root_dir, file_suffix=\".mp4\")\n",
    "print(\"time is \", time.time() - start)\n",
    "print(vid, sum(vid))\n",
    "\n",
    "\n"
   ]
  },
  {
   "cell_type": "markdown",
   "metadata": {},
   "source": [
    "## Scan folders recursively and save the folders path"
   ]
  },
  {
   "cell_type": "code",
   "execution_count": null,
   "metadata": {},
   "outputs": [],
   "source": [
    "def scan_files(root_dir, file_name, file_suffix=\".mp4\"):\n",
    "    files_list = glob.glob(f'{root_dir}/*/*.mp4')\n",
    "    lines_list = ['/'.join(line.split('/')[-2:]) for line in files_list]\n",
    "\n",
    "    lines_str = '\\n'.join(lines_list)\n",
    "    save_file = open(f\"{file_name}.txt\", \"w\")\n",
    "    save_file.write(lines_str)\n",
    "\n",
    "\n",
    "root_dir = \"/data/data0/zhanghm/AudioVision/Wav2LipTEDHQ/train\"\n"
   ]
  }
 ],
 "metadata": {
  "interpreter": {
   "hash": "a905e65f9d17f2b99942353106a9a9bb4e3ae6eb3c5eda96a0f871aef2e2b8d2"
  },
  "kernelspec": {
   "display_name": "Python 3.6.13 64-bit ('face_python36': conda)",
   "name": "python3"
  },
  "language_info": {
   "codemirror_mode": {
    "name": "ipython",
    "version": 3
   },
   "file_extension": ".py",
   "mimetype": "text/x-python",
   "name": "python",
   "nbconvert_exporter": "python",
   "pygments_lexer": "ipython3",
   "version": "3.6.13"
  },
  "orig_nbformat": 4
 },
 "nbformat": 4,
 "nbformat_minor": 2
}
