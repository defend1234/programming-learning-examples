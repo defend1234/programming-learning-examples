{
 "cells": [
  {
   "cell_type": "markdown",
   "metadata": {},
   "source": [
    "# Learn how to load, read and write different commonly used file formats in Python3"
   ]
  },
  {
   "cell_type": "code",
   "execution_count": 16,
   "metadata": {},
   "outputs": [],
   "source": [
    "# import sth\n",
    "import os\n",
    "import os.path as osp\n",
    "from glob import glob\n",
    "from tqdm import tqdm\n",
    "import time\n",
    "import numpy as np\n",
    "\n",
    "import json"
   ]
  },
  {
   "cell_type": "markdown",
   "metadata": {},
   "source": [
    "## Plain text format (e.g `.txt`) IO"
   ]
  },
  {
   "cell_type": "code",
   "execution_count": 2,
   "metadata": {},
   "outputs": [
    {
     "name": "stdout",
     "output_type": "stream",
     "text": [
      "My name is zhanghaiming. <class '_io.TextIOWrapper'>\n",
      "['210905_368_4', '210905_590_4', '210905_590_5', '210905_598_4', '210905_598_5', '210905_647_5', '210905_647_6', '210906_28_6', '210903_8_4', '210903_20_6', '210903_20_7', '210903_20_8', '210903_49_4', '210903_49_6', '210903_49_7', '210903_49_8', '210903_50_4', '210903_50_7', '210903_51_5', '210903_51_6', '210903_51_7', '210903_197_0', '210903_198_0', '210904_21_1', '210904_22_3', '210904_22_4', '210904_22_6', '210904_22_7', '210904_22_20', '210904_28_0', '210904_28_2', '210904_28_3', '210904_28_4', '210904_28_5', '210904_28_7', '210904_244_4', '210904_244_5', '210904_244_6', '210904_244_7', '210904_248_0', '210904_248_1', '210904_248_2', '210904_248_3', '210904_248_4', '210904_248_5', '210904_397_4', '210904_397_12', '210904_402_3', '210904_402_8', '210904_419_5', '210904_628_0', '210904_628_1', '210904_628_3', '210904_628_5', '210904_1168_6', '210904_1168_7', '210904_1168_8', '210904_1210_0', '210904_1214_1', '210904_1223_8', '210904_1230_8', '210904_1235_8', '210905_64_3', '210905_64_5', '210905_123_5', '210905_323_6', '210905_323_7', '210905_368_2', '210905_368_3'] 69\n",
      "['6300370419826092098/00001 6300370419826092098/00001 95 3.84', '6300370419826092098/00002 6300370419826092098/00002 58 2.368', '6300370419826092098/00003 6300370419826092098/00003 39 1.6', '6300370419826092098/00004 6300370419826092098/00004 32 1.28', '6300370419826092098/00006 6300370419826092098/00006 58 2.368', '6300370419826092098/00007 6300370419826092098/00007 138 5.568', '6300370419826092098/00010 6300370419826092098/00010 147 5.888', '6300370419826092098/00012 6300370419826092098/00012 26 1.088', '6300370419826092098/00013 6300370419826092098/00013 112 4.48', '6300370419826092098/00014 6300370419826092098/00014 33 1.344'] 1082\n"
     ]
    }
   ],
   "source": [
    "def load_flist(flist):\n",
    "    \"\"\"\n",
    "    flist: txt file path, each line is a path to a image\n",
    "    \"\"\"\n",
    "    imlist = []\n",
    "    with open(flist, 'r') as rf:\n",
    "        for line in rf.readlines():\n",
    "            impath = line.strip()\n",
    "            imlist.append(impath)\n",
    "    rf.close()\n",
    "    return imlist\n",
    "\n",
    "\n",
    "def load_flist(file_path, method=1):\n",
    "    if method == 1: # recommended\n",
    "        lines = open(file_path).read().splitlines()\n",
    "        return lines\n",
    "    elif method == 2:\n",
    "        imlist = []\n",
    "        with open(file_path, 'r') as rf:\n",
    "            for line in rf.readlines():\n",
    "                impath = line.strip()\n",
    "                imlist.append(impath)\n",
    "\n",
    "        return imlist\n",
    "    elif method == 3:\n",
    "        fp = open(file_path)\n",
    "        content = [line.strip() for line in fp]\n",
    "        return content\n",
    "    elif method == 4:\n",
    "        pass\n",
    "    else:\n",
    "        raise NotImplementedError\n",
    "    \n",
    "\n",
    "### 写txt文件操作\n",
    "def write2txt(content, file_path, method=1):\n",
    "    if method == 1:\n",
    "        fp = open(file_path, 'w')\n",
    "        fp.write(content)\n",
    "        fp.close()\n",
    "    elif method == 2:\n",
    "        with open(file_path, 'w') as fd:\n",
    "            fd.write(content)\n",
    "    else:\n",
    "        raise NotImplementedError\n",
    "\n",
    "\n",
    "### 读txt文件操作\n",
    "filename = \"../data/example.txt\"\n",
    "txt = open(filename)\n",
    "text_str = txt.read()\n",
    "print(text_str, type(txt)) #即打印所有文件内容\n",
    "txt.close()\n",
    "\n",
    "\n",
    "def writelist2file(file_path, content):\n",
    "    \"\"\"Write content to a plain text file line by line\n",
    "    \"\"\"\n",
    "    fp = open(file_path, 'w')\n",
    "    for line in content:\n",
    "        fp.write(line + '\\n')\n",
    "    fp.close()\n",
    "\n",
    "def writelist2file2(file_path, content):\n",
    "    \"\"\"Write content to a plain text file line by line\n",
    "    \"\"\"\n",
    "    with open(file_path, 'w') as fd:\n",
    "        fd.writelines([i + '\\n' for i in content])\n"
   ]
  },
  {
   "cell_type": "markdown",
   "metadata": {},
   "source": [
    "### 使用numpy读写txt文件"
   ]
  },
  {
   "cell_type": "code",
   "execution_count": 17,
   "metadata": {},
   "outputs": [
    {
     "name": "stdout",
     "output_type": "stream",
     "text": [
      "(402, 68, 2)\n"
     ]
    }
   ],
   "source": [
    "import numpy as np\n",
    "import os.path as osp\n",
    "\n",
    "# input_text_file = \"test.txt\"\n",
    "# data_input = np.loadtxt(input_text_file, delimiter='\\n', dtype=np.str)\n",
    "# print(data_input.shape, data_input[:3])\n",
    "\n",
    "\n",
    "def read_txt_to_numpy(file_path):\n",
    "    a = np.loadtxt(file_path)\n",
    "    print(a.shape, a.dtype)\n",
    "\n",
    "def read_kitti_oxts(dataset_root, sequence_num):\n",
    "    \"\"\"\n",
    "    read txt file line by line to a dictionary\n",
    "    \"\"\"\n",
    "    oxts_file = os.path.join(dataset_root, 'oxts/{0:04d}.txt'.format(int(sequence_num)))\n",
    "\n",
    "    with open(oxts_file, 'r') as f:\n",
    "        lines = f.readlines()\n",
    "    \n",
    "    print(len(lines))\n",
    "    oxts_dict = {}\n",
    "    for i, line in enumerate(lines):\n",
    "        oxt = line.strip().split(' ')\n",
    "        oxts_dict[i] = oxt\n",
    "    return oxts_dict\n",
    "\n",
    "def save_txt_files():\n",
    "    landmark = np.random.randn(68, 2)\n",
    "    save_path = \"./data/lm.txt\"\n",
    "    np.savetxt(save_path, landmark)\n",
    "\n",
    "\n",
    "txt_filename = \"/data/data2/zhanghm/Datasets/PIRender_Vox/train/id10198#Y8MjZMcg5J8#005118#005453.txt\"\n",
    "lm = np.loadtxt(txt_filename).astype(np.float32)\n",
    "lm = lm.reshape([402, -1, 2])\n",
    "print(lm.shape)\n",
    "\n",
    "save_dir = \"/home/zhanghm/Temp/cv-fighter/Cheat-Sheet-For-FFmpeg/vox1/train/id10198#Y8MjZMcg5J8#005118#005453_new\"\n",
    "for i in range(lm.shape[0]):\n",
    "    file_name = f\"{i:06d}.txt\"\n",
    "    save_path = osp.join(save_dir, file_name)\n",
    "    np.savetxt(save_path, lm[i])"
   ]
  },
  {
   "cell_type": "markdown",
   "metadata": {},
   "source": [
    "### Read and statistic the text file contents"
   ]
  },
  {
   "cell_type": "code",
   "execution_count": 2,
   "metadata": {},
   "outputs": [
    {
     "name": "stdout",
     "output_type": "stream",
     "text": [
      "362 40\n",
      "402\n"
     ]
    }
   ],
   "source": [
    "from collections import defaultdict\n",
    "\n",
    "def stat_video_images():\n",
    "    split_fp = \"/home/zhanghm/Research/Github/pix2pixHD/datasets/train.txt\"\n",
    "\n",
    "    lines = open(split_fp).read().splitlines()\n",
    "    print(len(lines), type(lines))\n",
    "\n",
    "    name_idx_dict = defaultdict(list)\n",
    "    for line in lines:\n",
    "        name = line.split('/')[0]\n",
    "        name_idx_dict[name].append(line)\n",
    "\n",
    "    print(len(name_idx_dict))\n",
    "    print(len(name_idx_dict['WDA_ColinAllred_000']))\n",
    "    print(name_idx_dict['WDA_ColinAllred_000'][:5])\n",
    "\n",
    "    all_video_dir = list(name_idx_dict.keys())\n",
    "    print(all_video_dir[:4])\n",
    "\n",
    "\n",
    "def stat_unique_items():\n",
    "    train_fp = \"/home/zhanghm/Research/V100/TalkingFaceFormer/data/HDTF_preprocessed/train.txt\"\n",
    "    val_fp = \"/home/zhanghm/Research/V100/TalkingFaceFormer/data/HDTF_preprocessed/val.txt\"\n",
    "\n",
    "    train_lines = open(train_fp).read().splitlines()\n",
    "    val_lines = open(val_fp).read().splitlines()\n",
    "    print(len(train_lines), len(val_lines))\n",
    "\n",
    "    all_lines = set(train_lines + val_lines)\n",
    "    print(len(all_lines))\n",
    "\n",
    "\n",
    "stat_unique_items()"
   ]
  },
  {
   "cell_type": "code",
   "execution_count": 6,
   "metadata": {},
   "outputs": [
    {
     "name": "stdout",
     "output_type": "stream",
     "text": [
      "WDA_BarackObama_000 6600\n",
      "WDA_CarolynMaloney1_000 6600\n",
      "WDA_ChrisMurphy0_000 6600\n",
      "WDA_ChrisVanHollen1_000 6600\n",
      "WDA_JeanneShaheen0_000 6600\n",
      "WDA_KimSchrier_000 6600\n",
      "WRA_DanSullivan_000 6600\n",
      "WRA_KellyAyotte_000 6600\n"
     ]
    }
   ],
   "source": [
    "statistics_file = os.path.join(\"./data/HDTF_face3dmmformer_statistics.txt\")\n",
    "\n",
    "lines = open(statistics_file).read().splitlines()\n",
    "\n",
    "data_dict = {}\n",
    "for i, line in enumerate(lines):\n",
    "    entry = line.strip().split(' ')\n",
    "    data_dict[entry[0]] = entry[1]\n",
    "\n",
    "for key, value in data_dict.items():\n",
    "    print(key, value)"
   ]
  },
  {
   "cell_type": "markdown",
   "metadata": {},
   "source": [
    "## json format file IO processes"
   ]
  },
  {
   "cell_type": "code",
   "execution_count": null,
   "metadata": {},
   "outputs": [],
   "source": [
    "### Load json file content to dictionary\n",
    "basedir = \"./data/\"\n",
    "splits = ['train', 'val', 'test']\n",
    "metas = {}\n",
    "for s in splits:\n",
    "    with open(os.path.join(basedir, 'transforms_{}.json'.format(s)), 'r') as fp:\n",
    "        metas[s] = json.load(fp)"
   ]
  },
  {
   "cell_type": "code",
   "execution_count": 12,
   "metadata": {},
   "outputs": [],
   "source": [
    "import cv2\n",
    "def validate_data(vid_file):\n",
    "    video_stream = cv2.VideoCapture(vid_file)\n",
    "    FRAME_COUNT = int(video_stream.get(cv2.CAP_PROP_FRAME_COUNT))\n",
    "    vidname = os.path.basename(vid_file).split('.')[0]\n",
    "    dirname = vid_file.split('/')[-2]\n",
    "\n",
    "    fulldir = os.path.join(\"/data/zhanghm/speech_chinese_preprocessed\", dirname, vidname)\n",
    "    face_images_list = [file.path for file in os.scandir(fulldir)]\n",
    "    face_num = len(face_images_list)\n",
    "\n",
    "    if face_num != FRAME_COUNT:\n",
    "        print(f\"Error in {vid_file} video length:{FRAME_COUNT} face_num:{face_num}\")\n",
    "\n",
    "\n",
    "validate_data(\"/data/zhanghm/speech_chinese/210903/210903_101_17.mp4\")\n"
   ]
  },
  {
   "cell_type": "markdown",
   "metadata": {},
   "source": [
    "## Yaml file process"
   ]
  },
  {
   "cell_type": "code",
   "execution_count": 5,
   "metadata": {},
   "outputs": [
    {
     "name": "stdout",
     "output_type": "stream",
     "text": [
      "{'fps': 25, 'num_frames': 2077} <class 'dict'>\n",
      "2077\n"
     ]
    }
   ],
   "source": [
    "import yaml\n",
    "\n",
    "with open('./data/meta_info.yaml','r') as f:\n",
    "    data = yaml.load(f, Loader=yaml.FullLoader)\n",
    "\n",
    "print(data, type(data))\n",
    "print(data['num_frames'])"
   ]
  },
  {
   "cell_type": "markdown",
   "metadata": {},
   "source": [
    "## Load `.mat` Matlab type matrix file"
   ]
  },
  {
   "cell_type": "code",
   "execution_count": 33,
   "metadata": {},
   "outputs": [
    {
     "name": "stdout",
     "output_type": "stream",
     "text": [
      "[[256.         256.           0.88179904 116.8263075  106.7129728 ]]\n",
      "1.7467947941440798e-06 0.0\n"
     ]
    }
   ],
   "source": [
    "import numpy as np\n",
    "from scipy.io import loadmat, savemat\n",
    "import time\n",
    "import os.path as osp\n",
    "from glob import glob\n",
    "from tqdm import tqdm\n",
    "\n",
    "def load_mat_file_basic():\n",
    "    file_path = \"/home/zhanghm/Research/Face/PIRender/Deep3DFaceRecon_pytorch/temp_data/face3dmm_coeff/video/id10198#Y8MjZMcg5J8#005118#005453.mat\"\n",
    "    coeff_params = loadmat(file_path)\n",
    "    print(coeff_params.keys())\n",
    "\n",
    "    trans_params = coeff_params['transform_params']\n",
    "    print(trans_params.shape, trans_params[:2, ...])\n",
    "    print(coeff_params['coeff'].shape)\n",
    "\n",
    "    my_coeff_params = np.load(\"/home/zhanghm/Research/StyleGAN/Deep3DFaceRecon_pytorch/pred_coeffs.npy\")\n",
    "    print(my_coeff_params.shape)\n",
    "\n",
    "    diff = np.abs(my_coeff_params - coeff_params['coeff'])\n",
    "    print(diff.max(), diff.min())\n",
    "\n",
    "    my_trans_params = np.load(\"/home/zhanghm/Research/StyleGAN/Deep3DFaceRecon_pytorch/transform_params.npy\")\n",
    "    print(my_trans_params.shape)\n",
    "    diff = np.abs(my_trans_params - trans_params)\n",
    "    print(diff.max(), diff.min())\n",
    "\n",
    "\n",
    "def compare_data():\n",
    "    file_path = \"/home/zhanghm/Research/Face/PIRender/Deep3DFaceRecon_pytorch/temp_data/face3dmm_coeff/video/id10198#Y8MjZMcg5J8#005118#005453.mat\"\n",
    "    coeff_params = loadmat(file_path)\n",
    "\n",
    "    file_path2 = \"/home/zhanghm/Temp/cv-fighter/Cheat-Sheet-For-FFmpeg/vox1/train/deep3dface/000000.mat\"\n",
    "    coeff_params2 = loadmat(file_path2)\n",
    "    print(coeff_params2['transform_params'])\n",
    "\n",
    "    diff = np.abs(coeff_params['transform_params'][0:1, :] - coeff_params2['transform_params'])\n",
    "    print(diff.max(), diff.min())\n",
    "\n",
    " \n",
    "def load_mat_file_example():\n",
    "    input_data = \"/home/haimingzhang/Research/Face/Deep3DFaceRecon_pytorch/checkpoints/face_recon_feat0.2_augment-20210829T083504Z-001/results/gangqiang-2-30fps/epoch_20_000000/000000.mat\"\n",
    "    input_data = \"../data/1.mat\"\n",
    "\n",
    "    input_data = \"/home/haimingzhang/Research/Face/Deep3DFaceReconstruction/FACIAL/gangqiang_video_preprocess_old/gangqiang-2_deep3Dface/000000.mat\"\n",
    "    face_params = loadmat(input_data)\n",
    "\n",
    "    input_data = \"/home/haimingzhang/Research/Face/Deep3DFaceReconstruction/FACIAL/gangqiang_video_preprocess/gangqiang_deep3Dface/000000.mat\"\n",
    "    face_params2 = loadmat(input_data)\n",
    "\n",
    "    diff = face_params2['coeff'] - face_params['coeff']\n",
    "    print(np.max(diff))\n",
    "\n",
    "    for key, value in face_params.items():\n",
    "        if not key.endswith(\"__\"):\n",
    "            print(key, value.shape)\n",
    "        else:\n",
    "            print(key, value)\n",
    "\n",
    "    coeff = face_params[\"coeff\"]\n",
    "    print(np.min(coeff), np.max(coeff))\n",
    "\n",
    "    max_index, min_index = np.argmax(coeff), np.argmin(coeff)\n",
    "    print(max_index, min_index)\n",
    "\n",
    "def read_mat_content():\n",
    "    file_path = \"/home/haimingzhang/Research/Programming/cv-fighter/HDTF_preprocessed/WDA_MartinHeinrich_000/deep3dface/000000.mat\"\n",
    "    mat_content = loadmat(file_path)\n",
    "    print(type(mat_content), mat_content.keys())\n",
    "    \n",
    "    print(mat_content['transform_params'])\n",
    "\n",
    "    print(mat_content['transform_params'])\n",
    "\n",
    "    for key, value in mat_content.items():\n",
    "        if not key.endswith(\"__\"):\n",
    "            print(key, value.shape)\n",
    "        else:\n",
    "            print(key, value)\n",
    "\n",
    "def stat_read_mat_time():\n",
    "    import time\n",
    "    data_dir = \"/home/zhanghm/Research/V100/TalkingFaceFormer/data/HDTF_preprocessed/RD_Radio2_000/deep3dface\"\n",
    "    matrix_files = sorted(glob(osp.join(data_dir, \"*.mat\")))\n",
    "\n",
    "    matrix_files = matrix_files[:100]\n",
    "    \n",
    "    start = time.time()\n",
    "    for i in tqdm(matrix_files):\n",
    "        mat_content = loadmat(i)\n",
    "    end = time.time()\n",
    "    print(i, end - start)\n",
    "\n",
    "\n",
    "compare_data()"
   ]
  },
  {
   "cell_type": "code",
   "execution_count": 31,
   "metadata": {},
   "outputs": [
    {
     "name": "stdout",
     "output_type": "stream",
     "text": [
      "(1, 257) -3.0490904 3.5985098\n",
      "0.9397843\n",
      "0.22263241 -0.23398256\n",
      "207 208\n"
     ]
    }
   ],
   "source": [
    "def get_coeff_vector(mat_path):\n",
    "    \"\"\"Get coefficient vector from Deep3DFace_Pytorch results\n",
    "\n",
    "    Args:\n",
    "        mat_path ([type]): [description]\n",
    "\n",
    "    Returns:\n",
    "        [type]: 1x257\n",
    "    \"\"\"\n",
    "    keys_list = ['id', 'exp', 'tex', 'angle', 'gamma', 'trans']\n",
    "\n",
    "    face_params = loadmat(mat_path)\n",
    "\n",
    "    coeff_list = []\n",
    "    for key in keys_list:\n",
    "        coeff_list.append(face_params[key])\n",
    "    \n",
    "    coeff_res = np.concatenate(coeff_list, axis=1)\n",
    "    return coeff_res\n",
    "\n",
    "\n",
    "input_data = \"/home/haimingzhang/Research/Face/Deep3DFaceRecon_pytorch/checkpoints/face_recon_feat0.2_augment-20210829T083504Z-001/results/gangqiang-2-30fps/epoch_20_000000/000000.mat\"\n",
    "coeff = get_coeff_vector(input_data)\n",
    "print(coeff.shape, np.min(coeff), np.max(coeff))\n",
    "\n",
    "input_data = \"/home/haimingzhang/Research/Face/Deep3DFaceReconstruction/FACIAL/gangqiang_video_preprocess_old/gangqiang-2_deep3Dface/000000.mat\"\n",
    "face_params = loadmat(input_data)\n",
    "\n",
    "diff = face_params['coeff'][:, :80] - coeff[:, :80]\n",
    "print(np.max(diff))\n",
    "\n",
    "input_data = \"/home/haimingzhang/Research/Face/Deep3DFaceRecon_pytorch/checkpoints/face_recon_feat0.2_augment-20210829T083504Z-001/results/gangqiang-2-512x512/epoch_20_000000/000000.mat\"\n",
    "coeff2 = get_coeff_vector(input_data)\n",
    "\n",
    "diff = coeff2 - coeff\n",
    "print(np.max(diff), np.min(diff))\n",
    "\n",
    "max_index, min_index = np.argmax(diff), np.argmin(diff)\n",
    "print(max_index, min_index)"
   ]
  },
  {
   "cell_type": "code",
   "execution_count": 20,
   "metadata": {},
   "outputs": [
    {
     "name": "stdout",
     "output_type": "stream",
     "text": [
      "dict_keys(['__header__', '__version__', '__globals__', 'cropped_img', 'recon_img', 'coeff', 'face_shape', 'face_texture', 'face_color', 'lm_68p', 'lm_5p'])\n",
      "(224, 224, 3) uint8\n"
     ]
    },
    {
     "data": {
      "image/png": "[encoded data removed]",
      "text/plain": [
       "<PIL.Image.Image image mode=RGB size=224x224 at 0x7FBED210B128>"
      ]
     },
     "metadata": {},
     "output_type": "display_data"
    },
    {
     "name": "stdout",
     "output_type": "stream",
     "text": [
      "(224, 224, 4)\n",
      "(224, 224, 3)\n"
     ]
    },
    {
     "data": {
      "image/png": "[encoded data removed]",
      "text/plain": [
       "<PIL.Image.Image image mode=RGB size=224x224 at 0x7FBED210B128>"
      ]
     },
     "metadata": {},
     "output_type": "display_data"
    }
   ],
   "source": [
    "from PIL import Image\n",
    "from IPython.display import display\n",
    "\n",
    "\n",
    "file_path = \"/home/haimingzhang/Research/Face/Deep3DFaceReconstruction/output/000002.mat\"\n",
    "\n",
    "face_params = loadmat(file_path)\n",
    "\n",
    "print(face_params.keys())\n",
    "\n",
    "cropped_img = face_params['cropped_img']\n",
    "print(cropped_img.shape, cropped_img.dtype)\n",
    "display(Image.fromarray(cropped_img))\n",
    "\n",
    "recon_img = face_params['recon_img']\n",
    "print(recon_img.shape)\n",
    "\n",
    "recon_img = recon_img[..., :3]\n",
    "print(recon_img.shape)\n",
    "\n",
    "display(Image.fromarray(recon_img.astype(np.uint8)))\n",
    "\n",
    "\n"
   ]
  },
  {
   "cell_type": "markdown",
   "metadata": {},
   "source": [
    "## Modify existing file according some conditions"
   ]
  },
  {
   "cell_type": "code",
   "execution_count": null,
   "metadata": {},
   "outputs": [],
   "source": [
    "\"\"\"\n",
    "dataset format:\n",
    "TAudio id08885/cIqVKLOtfyk/00251 id08885/cIqVKLOtfyk/00251 5.31 0 5.31 0 0 146975\n",
    "TFAudio id04335/WEed3nlDs80/00045 id04346/2rc759vfCb0/00003 5.88 0 3.58 3.58 5.88 146977\n",
    "TSilence silence/4O2JKS94g3Y/20463 silence/4O2JKS94g3Y/20463 2.46 1.4 2.46 0 1.4 146979\n",
    "\"\"\"\n",
    "def remove_specified_lines(src_file, remove_list=[]):\n",
    "    lines = open(src_file).read().splitlines()\n",
    "\n",
    "    lines_new = []\n",
    "    for line in lines:\n",
    "        data = line.split()\n",
    "        if data[0] in remove_list:\n",
    "            continue\n",
    "        lines_new.append(line)\n",
    "    \n",
    "    lines_new_str = \"\\n\".join(lines_new)\n",
    "    with open(\"test_new.txt\", \"w\") as fp:\n",
    "        fp.write(lines_new_str)\n",
    "\n",
    "remove_specified_lines(\"./lists/lists_out/test.txt\", remove_list=[\"TSilence\", \"TFAudio\", \"FSilence\"])"
   ]
  },
  {
   "cell_type": "markdown",
   "metadata": {},
   "source": [
    "## Pickle file (.dat/.pickle)"
   ]
  },
  {
   "cell_type": "code",
   "execution_count": 4,
   "metadata": {},
   "outputs": [],
   "source": [
    "import pickle\n",
    "import numpy as np\n",
    "import os\n",
    "import os.path as osp\n",
    "from glob import glob\n",
    "\n",
    "# file_path = \"/data/data0/zhanghm/Tracking/pred_tracklets_0_train.dat\"\n",
    "# data2array_verts = pickle.load(open(file_path, 'rb'))\n",
    "# print(len(data2array_verts), data2array_verts)\n",
    "\n",
    "def save_pickle_file():\n",
    "    pickle_file = \"data.pickle\"\n",
    "    data_list = [1, 2, 4, 5]\n",
    "    with open(pickle_file, 'wb') as f:\n",
    "        print(f\"Dump pickle to {pickle_file}...\")\n",
    "        pickle.dump(data_list, f)\n",
    "\n",
    "def read_ShapeNetViPC():\n",
    "    view_id = \"05\"\n",
    "    type = \"GT\"\n",
    "    output_dir = \"./data\"\n",
    "    os.makedirs(output_dir)\n",
    "\n",
    "    pc_path = f\"/data/zhanghm/Datasets/ShapeNet/ShapeNetViPC/ShapeNetViPC-Dataset/ShapeNetViPC-GT/02691156/10155655850468db78d106ce0a280f87/{view_id}.dat\"\n",
    "\n",
    "    with open(pc_path,'rb') as f:\n",
    "        pc = pickle.load(f).astype(np.float32)\n",
    "    print(pc.shape)\n",
    "    np.savetxt(f\"{output_dir}/{type}_{view_id}.xyz\", pc)\n",
    "\n",
    "def read_ShapeNetViPC2():\n",
    "    output_dir = \"./ViPC_data\"\n",
    "    os.makedirs(output_dir, exist_ok=True)\n",
    "    type = \"GT\"\n",
    "    pc_dir = \"./ShapeNetViPC-Dataset/ShapeNetViPC-GT/03636649/a654df55875a2104d663817442d5278\"\n",
    "    type = \"Partial\"\n",
    "    pc_dir = \"./ShapeNetViPC-Dataset/ShapeNetViPC-Partial/03636649/a654df55875a2104d663817442d5278\"\n",
    "\n",
    "    files = sorted(glob(osp.join(pc_dir, \"*.dat\")))\n",
    "    for pc_path in files:\n",
    "        view_id = os.path.basename(pc_path)[:-4]\n",
    "        pc = pickle.load(open(pc_path, 'rb')).astype(np.float32)\n",
    "        np.savetxt(f\"{output_dir}/{type}_{view_id}.xyz\", pc)\n",
    "\n",
    "read_ShapeNetViPC2()"
   ]
  },
  {
   "cell_type": "markdown",
   "metadata": {},
   "source": [
    "## Read the npy files"
   ]
  },
  {
   "cell_type": "code",
   "execution_count": 36,
   "metadata": {},
   "outputs": [
    {
     "name": "stderr",
     "output_type": "stream",
     "text": [
      "100%|██████████| 100/100 [00:00<00:00, 1663.81it/s]"
     ]
    },
    {
     "name": "stdout",
     "output_type": "stream",
     "text": [
      "/home/zhanghm/Temp/cv-fighter/data_fighter/HDTF_preprocessor/HDTF_preprocessed/RD_Radio1_000/deep3dface_npy/000099.npy 0.06597542762756348\n"
     ]
    },
    {
     "name": "stderr",
     "output_type": "stream",
     "text": [
      "\n"
     ]
    }
   ],
   "source": [
    "data_root = \"/home/zhanghm/Temp/cv-fighter/data_fighter/HDTF_preprocessor/HDTF_preprocessed/RD_Radio1_000/deep3dface_npy\"\n",
    "npy_files = sorted(glob(osp.join(data_root, \"*.npy\")))\n",
    "\n",
    "npy_files = npy_files[:100]\n",
    "\n",
    "start = time.time()\n",
    "for i in tqdm(npy_files):\n",
    "    mat_content = np.load(i)\n",
    "end = time.time()\n",
    "print(i, end - start)"
   ]
  },
  {
   "cell_type": "markdown",
   "metadata": {},
   "source": [
    "## csv file"
   ]
  },
  {
   "cell_type": "code",
   "execution_count": 17,
   "metadata": {},
   "outputs": [
    {
     "name": "stdout",
     "output_type": "stream",
     "text": [
      "(705000, 4) float64\n",
      "(705000, 3) -0.438127 0.51661\n"
     ]
    }
   ],
   "source": [
    "import pandas as pd\n",
    "import numpy as np\n",
    "\n",
    "\n",
    "def load_GenSDF_csv():\n",
    "    csv_fp = \"/home/zhanghm/Research/PU/gensdf/data/acronym/Helicopter/71516ab131e80269a294ffdcf0d186b/sdf_data.csv\"\n",
    "    csv_fp = \"/home/zhanghm/Research/PU/gensdf/data/acronym/QueenBed/fd9381b7c4fcc7a0f11c3739edd52fa3/sdf_data.csv\"\n",
    "    csv_fp = \"/home/zhanghm/Research/PU/gensdf/data/acronym/Teapot/93c6553dc3f2ad11012cc02986a86c3/sdf_data.csv\"\n",
    "    \n",
    "    f = pd.read_csv(csv_fp, sep=',',header=None).values\n",
    "    print(f.shape, f.dtype)\n",
    "    data = f[:, :3]\n",
    "    print(data.shape, data.min(), data.max())\n",
    "    return\n",
    "\n",
    "    pc = f[f[:,-1]==0][:,:3]\n",
    "    print(pc.shape)\n",
    "    np.savetxt(\"labeled_data_0.xyz\", pc)\n",
    "\n",
    "    pos_sample = f[f[:,-1]>0][:,:3]\n",
    "    print(pos_sample.shape)\n",
    "    np.savetxt(\"labeled_data_pos_0.xyz\", pos_sample)\n",
    "\n",
    "    neg_sample = f[f[:,-1]<0][:,:3]\n",
    "    print(neg_sample.shape)\n",
    "    np.savetxt(\"labeled_data_neg_0.xyz\", neg_sample)\n",
    "    \n",
    "    samples = np.concatenate([pos_sample, neg_sample], 0)\n",
    "    print(samples.shape)\n",
    "\n",
    "\n",
    "load_GenSDF_csv()"
   ]
  },
  {
   "cell_type": "markdown",
   "metadata": {},
   "source": [
    "## Point Cloud Related Data"
   ]
  },
  {
   "cell_type": "markdown",
   "metadata": {},
   "source": [
    "### Save .obj file"
   ]
  },
  {
   "cell_type": "code",
   "execution_count": 1,
   "metadata": {},
   "outputs": [
    {
     "name": "stdout",
     "output_type": "stream",
     "text": [
      "(5023, 3)\n",
      "-0.19860287010669708 0.12796710431575775\n",
      "(5023, 3)\n",
      "-0.19646745920181274 0.12486376613378525\n",
      "(5023, 3)\n",
      "-0.17445547878742218 0.13326479494571686\n",
      "(5023, 3)\n",
      "-0.1906667947769165 0.1361703723669052\n",
      "(5023, 3)\n",
      "-0.18449755012989044 0.12352914363145828\n",
      "(5023, 3)\n",
      "-0.18335306644439697 0.1263478696346283\n",
      "(5023, 3)\n",
      "-0.19270353019237518 0.13427014648914337\n",
      "(5023, 3)\n",
      "-0.2072237730026245 0.1323167383670807\n",
      "(5023, 3)\n",
      "-0.1914709359407425 0.1417452096939087\n",
      "(5023, 3)\n",
      "-0.19360646605491638 0.12838691473007202\n",
      "(5023, 3)\n",
      "-0.18753154575824738 0.13874344527721405\n",
      "(5023, 3)\n",
      "-0.18725793063640594 0.1356906294822693\n"
     ]
    }
   ],
   "source": [
    "from scipy.io import loadmat\n",
    "import numpy as np\n",
    "\n",
    "def write_obj(points, file, rgb=False):\n",
    "    \"\"\"Write obj file which can be opened by MeshLab\n",
    "\n",
    "    Args:\n",
    "        points (np.ndarray): (N, 3)\n",
    "        file (str|path): save path\n",
    "        rgb (bool, optional): including rgb information. Defaults to False.\n",
    "    \"\"\"\n",
    "    fout = open(file, 'w')\n",
    "    for i in range(points.shape[0]):\n",
    "        if not rgb:\n",
    "            fout.write('v %f %f %f %d %d %d\\n' % (\n",
    "                points[i, 0], points[i, 1], points[i, 2], 255, 255, 0))\n",
    "        else:\n",
    "            fout.write('v %f %f %f %d %d %d\\n' % (\n",
    "                points[i, 0], points[i, 1], points[i, 2], points[i, -3] * 255, points[i, -2] * 255,\n",
    "                points[i, -1] * 255))\n",
    "\n",
    "def visualize_voca_template():\n",
    "    import pickle\n",
    "\n",
    "    template_file = \"/data/zhanghm/Datasets/Face/VOCASET/training_data/templates.pkl\"\n",
    "    with open(template_file, 'rb') as fin:\n",
    "        templates = pickle.load(fin, encoding='latin1')\n",
    "\n",
    "    for key, value in templates.items():\n",
    "        file_path = f\"./data/{key}.obj\"\n",
    "        # write_obj(value, file_path)\n",
    "        print(value.shape)\n",
    "        print(value.min(), value.max())\n",
    "\n",
    "\n",
    "def visualize_BFM():\n",
    "    model = loadmat(os.path.join(\"/data/zhanghm/3DMM/BFM\", \"BFM_model_front.mat\"))\n",
    "    mean_shape = model['meanshape'].astype(np.float32) # [3*N,1]\n",
    "    id_base = model['idBase'].astype(np.float32) # [3*N,80]\n",
    "    exp_base = model['exBase'].astype(np.float32) # [3*N,64]\n",
    "    # face_shape = mean_shape.reshape([1, -1])\n",
    "    # face_shape = face_shape.reshape([-1, 3])\n",
    "    # write_obj(face_shape, \"./data/mean_face.obj\")\n",
    "\n",
    "    ## Generate a face\n",
    "    print(exp_base.min(), exp_base.max())\n",
    "    id_info = np.ones((1, 80)) @ id_base.T\n",
    "    # id_info = id_info.reshape([-1, 3])\n",
    "    print(id_info.min(), id_info.max())\n",
    "\n",
    "    exp_param = np.load(\"/home/haimingzhang/Programming/programming-learning-examples/Python_learning/DL/3DMM/exp.npy\")\n",
    "    # exp_info = np.random.randn(1, 64) @ exp_base.T\n",
    "    exp_info = exp_param @ exp_base.T\n",
    "\n",
    "    print(\"exp_info: \", exp_info.min(), exp_info.max())\n",
    "\n",
    "    face_shape = mean_shape.reshape([1, -1]) + id_info + exp_info\n",
    "    face_shape = face_shape.reshape([-1, 3])\n",
    "    write_obj(face_shape, \"./data/exp=another2.obj\")\n",
    "\n",
    "\n",
    "# visualize_BFM()\n",
    "visualize_voca_template()"
   ]
  },
  {
   "cell_type": "markdown",
   "metadata": {},
   "source": [
    "### .xyz file"
   ]
  },
  {
   "cell_type": "code",
   "execution_count": 5,
   "metadata": {},
   "outputs": [
    {
     "name": "stdout",
     "output_type": "stream",
     "text": [
      "28\n",
      "(28, 8192, 3) -0.997821 0.998888\n"
     ]
    }
   ],
   "source": [
    "import numpy as np\n",
    "from glob import glob\n",
    "\n",
    "all_pc_files = sorted(glob(\"/data/data2/zhanghm/Datasets/PU/PU-GAN/gt_FPS_8192/*.xyz\"))\n",
    "print(len(all_pc_files))\n",
    "\n",
    "pc_data_list = []\n",
    "for pc_fp in all_pc_files:\n",
    "    pc = np.loadtxt(pc_fp)\n",
    "    pc_data_list.append(pc)\n",
    "\n",
    "pc_data_arr = np.stack(pc_data_list, axis=0)\n",
    "\n",
    "print(pc_data_arr.shape, pc_data_arr.min(), pc_data_arr.max())"
   ]
  },
  {
   "cell_type": "markdown",
   "metadata": {},
   "source": [
    "## h5 file"
   ]
  },
  {
   "cell_type": "code",
   "execution_count": 22,
   "metadata": {},
   "outputs": [
    {
     "name": "stdout",
     "output_type": "stream",
     "text": [
      "<KeysViewHDF5 ['poisson_1024', 'poisson_256']>\n",
      "(24000, 1024, 3) <class 'h5py._hl.dataset.Dataset'>\n",
      "-36.54144 36.54144 -1.800646 1.800646\n",
      "-5.604953 5.202915 (24000, 1, 3)\n"
     ]
    }
   ],
   "source": [
    "def save_xyz_file(numpy_array, fp):\n",
    "    num_points = numpy_array.shape[0]\n",
    "    with open(fp, 'w') as f:\n",
    "        for i in range(num_points):\n",
    "            line = \"%f %f %f\\n\" % (numpy_array[i, 0], numpy_array[i, 1], numpy_array[i, 2])\n",
    "            f.write(line)\n",
    "    \n",
    "import h5py\n",
    "import numpy as np\n",
    "\n",
    "h5_fp = \"/data/zhanghm/Datasets/PUGAN/Patches_noHole_and_collected.h5\"\n",
    "h5_fp = \"/data/zhanghm/Datasets/PUGAN/PUGAN_poisson_256_poisson_1024.h5\"\n",
    "\n",
    "h5_file = h5py.File(h5_fp, 'r')\n",
    "print(h5_file.keys())\n",
    "\n",
    "gt = h5_file['poisson_1024']\n",
    "print(gt.shape, type(gt))\n",
    "gt = np.array(gt)\n",
    "input = np.array(h5_file['poisson_256'])\n",
    "print(gt.min(), gt.max(), gt[0].min(), gt[0].max())\n",
    "\n",
    "idx = 20\n",
    "save_xyz_file(input[idx], f\"idx_{idx}_poisson_256.xyz\")\n",
    "save_xyz_file(gt[idx], f\"idx_{idx}_poisson_1024.xyz\")\n",
    "\n",
    "centroid = np.mean(gt[..., :3], axis=1, keepdims=True)\n",
    "print(centroid.min(), centroid.max(), centroid.shape)"
   ]
  },
  {
   "cell_type": "markdown",
   "metadata": {},
   "source": [
    "## hdf5 file usages"
   ]
  },
  {
   "cell_type": "code",
   "execution_count": 1,
   "metadata": {},
   "outputs": [],
   "source": [
    "import h5py\n",
    "import numpy as np\n",
    "import random\n",
    "import os.path as osp"
   ]
  },
  {
   "cell_type": "markdown",
   "metadata": {},
   "source": [
    "### Read hdf5 file\n",
    "https://www.christopherlovell.co.uk/blog/2016/04/27/h5py-intro.html"
   ]
  },
  {
   "cell_type": "code",
   "execution_count": 3,
   "metadata": {},
   "outputs": [
    {
     "name": "stdout",
     "output_type": "stream",
     "text": [
      "<KeysViewHDF5 ['poisson_1024', 'poisson_256']>\n",
      "(24000, 1024, 3) (24000, 256, 3) -36.54144 36.54144\n",
      "(100, 1024, 3)\n"
     ]
    }
   ],
   "source": [
    "def read_PUGAN_h5_data(save_patches=True):\n",
    "    h5_fp = \"./PU-GAN/train/PUGAN_poisson_256_poisson_1024.h5\"\n",
    "\n",
    "    h5_file = h5py.File(h5_fp, 'r')\n",
    "    print(h5_file.keys())\n",
    "\n",
    "    poisson_1024 = h5_file['poisson_1024'][:]\n",
    "    poisson_256 = h5_file['poisson_256'][:]\n",
    "    print(poisson_1024.shape, poisson_256.shape, poisson_1024.min(), poisson_1024.max())\n",
    "\n",
    "    idx = random.randint(0, poisson_1024.shape[0])\n",
    "    choose_pc_1024 = poisson_1024[idx]\n",
    "    choose_pc_256 = poisson_256[idx]\n",
    "\n",
    "    np.savetxt(f\"./data/idx_{idx}_poisson_1024.xyz\", choose_pc_1024)\n",
    "    np.savetxt(f\"./data/idx_{idx}_poisson_256.xyz\", choose_pc_256)\n",
    "\n",
    "    if save_patches:\n",
    "        gt = poisson_1024\n",
    "        choices = np.random.choice(gt.shape[0], 100, replace=False)\n",
    "        sub_gt = gt[choices]\n",
    "        print(sub_gt.shape)\n",
    "        for i in range(sub_gt.shape[0]):\n",
    "            pc = sub_gt[i]\n",
    "            path = osp.join(\"./PUGAN_training_patches/\", f\"idx_{choices[i]}.xyz\")\n",
    "            np.savetxt(path, pc)\n",
    "\n",
    "\n",
    "def read_punet_h5_data():\n",
    "    h5_fp = \"/data/zhanghm/Datasets/PUGAN/Patches_noHole_and_collected.h5\"\n",
    "\n",
    "    h5_file = h5py.File(h5_fp, 'r')\n",
    "    print(h5_file.keys())\n",
    "\n",
    "    gt = h5_file['poisson_4096'][:][..., :3]\n",
    "    print(gt.shape, gt.min(), gt.max()) # [-1.0, 1.0]\n",
    "    idx = 2000\n",
    "    np.savetxt(f\"punet_sample_{idx}.xyz\", gt[idx])\n",
    "\n",
    "\n",
    "def read_Acronym_h5_data():\n",
    "    h5_fp = \"/data/zhanghm/Datasets/grasps/Lamp_14cbef4f4a67e57a4cf9c858305a22f8_0.0013113576511285083.h5\"\n",
    "\n",
    "    grasps = h5py.File(h5_fp, 'r')\n",
    "    print(grasps.keys())\n",
    "    grasps.visititems(print)\n",
    "    file = grasps['object/file'][()]\n",
    "    # file = grasps['object/file'][:]\n",
    "    print(file, type(file), str(file))\n",
    "    s1 = str(file, encoding='utf-8')\n",
    "    print(s1)\n",
    "\n",
    "    transforms = grasps['grasps/transforms']\n",
    "    print(transforms.shape, transforms[0], type(transforms))\n",
    "\n",
    "def read_PU1K_h5_data(save_patches=True):\n",
    "    h5_fp = \"./PU1K/train/pu1k_poisson_256_poisson_1024_pc_2500_patch50_addpugan.h5\"\n",
    "    contents = h5py.File(h5_fp, 'r')\n",
    "    print(contents.keys())\n",
    "\n",
    "    gt = contents['poisson_1024'][:]\n",
    "    print(gt.shape)\n",
    "    frame_idx = 500\n",
    "    np.savetxt(f\"{frame_idx}_1024.xyz\", gt[frame_idx])\n",
    "\n",
    "    if save_patches:\n",
    "        choices = np.random.choice(gt.shape[0], 100, replace=False)\n",
    "        sub_gt = gt[choices]\n",
    "        print(sub_gt.shape)\n",
    "        for i in range(sub_gt.shape[0]):\n",
    "            pc = sub_gt[i]\n",
    "            path = osp.join(\"./PU1K_training_patches/\", f\"idx_{choices[i]}.xyz\")\n",
    "            np.savetxt(path, pc)\n",
    "\n",
    "\n",
    "def read_ScanObjectNN_h5_data():\n",
    "    h5_fp = \"h5_files/main_split/training_objectdataset.h5\"\n",
    "    # h5_fp = \"h5_files/main_split_nobg/training_objectdataset.h5\"\n",
    "    contents = h5py.File(h5_fp, 'r')\n",
    "    print(contents.keys())\n",
    "\n",
    "    data = contents['data'][:]\n",
    "    print(data.shape)\n",
    "    frame_idx = 10\n",
    "    np.savetxt(f\"{frame_idx}_1024.xyz\", data[frame_idx])\n",
    "\n",
    "    data = contents['label'][:]\n",
    "    print(data.shape)\n",
    "    print(data[:10])\n",
    "\n",
    "\n",
    "read_PUGAN_h5_data()"
   ]
  },
  {
   "cell_type": "markdown",
   "metadata": {},
   "source": [
    "### Save hdf5 file"
   ]
  },
  {
   "cell_type": "code",
   "execution_count": 15,
   "metadata": {},
   "outputs": [
    {
     "name": "stdout",
     "output_type": "stream",
     "text": [
      "(69000, 1024, 3) -36.54144 36.54144\n",
      "<KeysViewHDF5 ['poisson_1024', 'poisson_256']>\n",
      "(24000, 1024, 3) (24000, 256, 3) -36.54144 36.54144\n",
      "(93000, 1024, 3)\n"
     ]
    }
   ],
   "source": [
    "def save_h5_file(output_fp, data):\n",
    "\n",
    "    with h5py.File(output_fp, \"w\") as f:\n",
    "        f.create_dataset('poisson_1024', data=data)\n",
    "        f.close()\n",
    "\n",
    "\n",
    "def combine_PUGAN_and_PU1K_dataset():\n",
    "    ## 1) Read the PU1K dataset\n",
    "    pu1k_h5_fp = \"/data/zhanghm/Datasets/PU_Dataset/PU1K/train/pu1k_poisson_256_poisson_1024_pc_2500_patch50_addpugan.h5\"\n",
    "    pu1k_contents = h5py.File(pu1k_h5_fp, 'r')\n",
    "    pu1k_poisson_1024 = pu1k_contents['poisson_1024'][:] # (69000, 1024, 3)\n",
    "    print(pu1k_poisson_1024.shape, pu1k_poisson_1024.min(), pu1k_poisson_1024.max())\n",
    "\n",
    "    ## 2) Read the PUGAN dataset\n",
    "    pugan_h5_fp = \"/data/zhanghm/Datasets/PUGAN/PUGAN_poisson_256_poisson_1024.h5\"\n",
    "\n",
    "    pugan_contents = h5py.File(pugan_h5_fp, 'r')\n",
    "    print(pugan_contents.keys())\n",
    "\n",
    "    poisson_1024 = pugan_contents['poisson_1024'][:] # (24000, 1024, 3)\n",
    "    poisson_256 = pugan_contents['poisson_256'][:]\n",
    "    print(poisson_1024.shape, poisson_256.shape, poisson_1024.min(), poisson_1024.max())\n",
    "\n",
    "    ## 3) Combine the two datasets\n",
    "    combined_poisson_1024 = np.concatenate((poisson_1024, pu1k_poisson_1024), axis=0)\n",
    "    \n",
    "    print(combined_poisson_1024.shape)\n",
    "    save_h5_file(\"./data/temp.h5\", combined_poisson_1024)\n",
    "\n",
    "    \n",
    "combine_PUGAN_and_PU1K_dataset()"
   ]
  },
  {
   "cell_type": "code",
   "execution_count": 8,
   "metadata": {},
   "outputs": [
    {
     "name": "stderr",
     "output_type": "stream",
     "text": [
      "ic| data_dict.keys(): <KeysViewHDF5 ['Xbd', 'Ytg', 'cate_0', 'cate_1', 'cate_10', 'cate_11', 'cate_12', 'cate_2', 'cate_3', 'cate_4', 'cate_5', 'cate_6', 'cate_7', 'cate_8', 'cate_9']>\n",
      "ic| select: 2774\n",
      "ic| \"Xbd: \": 'Xbd: '\n",
      "    Xbd.shape: (35019, 65536, 3)\n",
      "    Xbd.min(): -0.99999994\n",
      "    Xbd.max(): 0.99999994\n",
      "ic| 'Ytg: ', Ytg.shape: (262144, 1), Ytg.min(): 0.0, Ytg.max(): 1.0\n"
     ]
    }
   ],
   "source": [
    "from icecream import ic as print\n",
    "\n",
    "\n",
    "data_path = \"/home/zhanghm/Research/PU/ShapeFormer/datasets/IMNet2_packed/train.hdf5\"\n",
    "# data_path = \"/data/zhanghm/Datasets/ShapeFormer/IMNet2_64/train.hdf5\"\n",
    "# data_path = \"/data/zhanghm/Datasets/ShapeFormer/IMNet2_64/test.hdf5\"\n",
    "\n",
    "def analyse_shapeformer_dataset():\n",
    "    cate_idx = list(range(13))\n",
    "\n",
    "    with h5py.File(data_path, 'r') as f:\n",
    "        print(f.keys())\n",
    "        Xbd = f['Xbd'].astype(np.float32)\n",
    "        print(Xbd.shape, type(Xbd))\n",
    "\n",
    "        for i in cate_idx:\n",
    "            curr_cate = f\"cate_{i}\"\n",
    "            print(curr_cate, f[curr_cate].shape, f[curr_cate].dtype)\n",
    "\n",
    "\n",
    "def analyse_shapeformer_origin_dataset():\n",
    "    data_path = \"/home/zhanghm/Research/PU/ShapeFormer/datasets/IMNet2_64/train.hdf5\"\n",
    "    data_dict = h5py.File(data_path, 'r')\n",
    "    print(data_dict.keys())\n",
    "\n",
    "    select = random.choice(range(35019))\n",
    "    print(select)\n",
    "\n",
    "    Xbd = data_dict['Xbd'][:].astype(np.float32) # (35019, 65536, 3) in [-1, 1.0]\n",
    "    print(\"Xbd: \", Xbd.shape, Xbd.min(), Xbd.max()) \n",
    "    Xbd_vis = Xbd[select]\n",
    "    np.savetxt(f\"{select}_Xbd.xyz\", Xbd_vis)\n",
    "\n",
    "    # Ytg = data_dict['Ytg'][:].astype(np.float32) # (35019, 32768) in [0, 255]\n",
    "    # print(\"Ytg: \", Ytg.shape, Ytg.min(), Ytg.max())\n",
    "\n",
    "    Ytg = data_dict['Ytg'] # (35019, 32768) in [0, 255]\n",
    "    Ytg = np.unpackbits(Ytg[select], axis=-1)[..., None]\n",
    "    Ytg = Ytg.astype(np.float32)\n",
    "    print(\"Ytg: \", Ytg.shape, Ytg.min(), Ytg.max())\n",
    "    np.save(f\"{select}_Ytg.npy\", Ytg)\n",
    "\n",
    "\n",
    "def analyse_shapeformer_256_dataset():\n",
    "    data_path = \"/home/zhanghm/Research/PU/ShapeFormer/datasets/IMNet2_packed/train.hdf5\"\n",
    "    data_dict = h5py.File(data_path, 'r')\n",
    "    print(data_dict.keys())\n",
    "\n",
    "    select = random.choice(range(35019))\n",
    "    print(select)\n",
    "\n",
    "    Xbd = data_dict['Xbd'][:].astype(np.float32) # (35019, 65536, 3) in [-1, 1.0]\n",
    "    print(\"Xbd: \", Xbd.shape, Xbd.min(), Xbd.max()) \n",
    "    Xbd_vis = Xbd[select]\n",
    "    np.savetxt(f\"res256_{select}_Xbd.xyz\", Xbd_vis)\n",
    "\n",
    "\n",
    "def analyse_IMNet_dataset():\n",
    "    data_path = \"/home/zhanghm/Research/PU/ShapeFormer/datasets/IM-NET/IMSVR/data/all_vox256_img_train.hdf5\"\n",
    "    data_dict = h5py.File(data_path, 'r')\n",
    "    print(data_dict.keys())\n",
    "    voxels = data_dict['voxels'][:].astype(np.float32)\n",
    "    print(\"voxels: \", voxels.shape)\n",
    "\n",
    "    values_16 = data_dict['values_16'][:].astype(np.float32)\n",
    "    print(\"values_16: \", values_16.shape)\n",
    "\n",
    "    points_16 = data_dict['points_16'][:].astype(np.float32)\n",
    "    points_64 = data_dict['points_64'][:].astype(np.float32)\n",
    "    print(points_16.shape, points_16.min(), points_16.max())\n",
    "    print(points_64.shape, points_64.min(), points_64.max())\n",
    "\n",
    "    num_models = points_16.shape[0]\n",
    "    select = random.choice(range(num_models))\n",
    "    print(select)\n",
    "\n",
    "    point_16 = points_16[select]\n",
    "    point_64 = points_64[select]\n",
    "\n",
    "    np.savetxt(f\"sample_{select}_point_16.xyz\", point_16)\n",
    "    np.savetxt(f\"sample_{select}_point_64.xyz\", point_64)\n",
    "\n",
    "\n",
    "def analyse_IMNet_dataset2():\n",
    "    data_path = \"/home/zhanghm/Research/PU/ShapeFormer/datasets/IM-NET/IMSVR/data/all_vox256_img_z.hdf5\"\n",
    "    data_dict = h5py.File(data_path, 'r')\n",
    "    print(data_dict.keys())\n",
    "\n",
    "    zs = data_dict['zs'][:].astype(np.float32)\n",
    "    print(zs.shape)\n",
    "\n",
    "\n",
    "# analyse_IMNet_dataset()\n",
    "\n",
    "analyse_shapeformer_origin_dataset()\n",
    "# analyse_shapeformer_256_dataset()"
   ]
  }
 ],
 "metadata": {
  "kernelspec": {
   "display_name": "Python 3.8.13 ('py38-torch100-cu11')",
   "language": "python",
   "name": "python3"
  },
  "language_info": {
   "codemirror_mode": {
    "name": "ipython",
    "version": 3
   },
   "file_extension": ".py",
   "mimetype": "text/x-python",
   "name": "python",
   "nbconvert_exporter": "python",
   "pygments_lexer": "ipython3",
   "version": "3.8.13"
  },
  "orig_nbformat": 4,
  "vscode": {
   "interpreter": {
    "hash": "56d0891f27fe2db3830dc2a05bc70f05135b0c30ed7c190a150d1aca2da3af60"
   }
  }
 },
 "nbformat": 4,
 "nbformat_minor": 2
}
