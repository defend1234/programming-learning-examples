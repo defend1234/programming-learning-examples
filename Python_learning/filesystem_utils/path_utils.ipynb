{
 "cells": [
  {
   "cell_type": "markdown",
   "source": [
    "# From this notebook we will learn how to process the filesystem path in Python3"
   ],
   "metadata": {}
  },
  {
   "cell_type": "markdown",
   "source": [
    "#"
   ],
   "metadata": {}
  },
  {
   "cell_type": "markdown",
   "source": [
    "## 参考资源\n",
    "### glob用法\n",
    "[glob用法](https://blog.csdn.net/u013630349/article/details/47683293)\n",
    "https://www.codenong.com/2632205/\n",
    "https://www.codegrepper.com/code-examples/python/how+to+find+out+number+of+images+in+folder+python"
   ],
   "metadata": {}
  },
  {
   "cell_type": "code",
   "execution_count": null,
   "source": [
    "import os"
   ],
   "outputs": [],
   "metadata": {}
  },
  {
   "cell_type": "code",
   "execution_count": 3,
   "source": [
    "folder_path = \"/home/haimingzhang/Programming/programming-learning-examples/Python_learning/DL/face_detection/temp/210903/210903_1_1\"\n",
    "sub_dir = folder_path.split('/')[-2:]\n",
    "print(sub_dir)\n",
    "\n",
    "parent_dir = os.path.dirname(folder_path)\n",
    "print(parent_dir)"
   ],
   "outputs": [
    {
     "output_type": "stream",
     "name": "stdout",
     "text": [
      "['210903', '210903_1_1']\n",
      "/home/haimingzhang/Programming/programming-learning-examples/Python_learning/DL/face_detection/temp/210903\n"
     ]
    }
   ],
   "metadata": {}
  }
 ],
 "metadata": {
  "orig_nbformat": 4,
  "language_info": {
   "name": "python",
   "version": "3.6.13",
   "mimetype": "text/x-python",
   "codemirror_mode": {
    "name": "ipython",
    "version": 3
   },
   "pygments_lexer": "ipython3",
   "nbconvert_exporter": "python",
   "file_extension": ".py"
  },
  "kernelspec": {
   "name": "python3",
   "display_name": "Python 3.6.13 64-bit ('face_python36': conda)"
  },
  "interpreter": {
   "hash": "a8c17cacde4bf83c7e39b5631839a653d23294c3e57f7dc62f99a2c1a562a38c"
  }
 },
 "nbformat": 4,
 "nbformat_minor": 2
}