{
 "cells": [
  {
   "cell_type": "markdown",
   "metadata": {},
   "source": [
    "# From this notebook we will learn how to process the file path in Python3"
   ]
  },
  {
   "cell_type": "markdown",
   "metadata": {},
   "source": [
    "#"
   ]
  },
  {
   "cell_type": "markdown",
   "metadata": {},
   "source": [
    "## 参考资源\n",
    "### glob用法\n",
    "[glob用法](https://blog.csdn.net/u013630349/article/details/47683293)\n",
    "https://www.codenong.com/2632205/\n",
    "https://www.codegrepper.com/code-examples/python/how+to+find+out+number+of+images+in+folder+python"
   ]
  },
  {
   "cell_type": "code",
   "execution_count": 1,
   "metadata": {},
   "outputs": [],
   "source": [
    "import os\n",
    "import os.path as osp"
   ]
  },
  {
   "cell_type": "markdown",
   "metadata": {},
   "source": [
    "## Split the path and get basic path elements"
   ]
  },
  {
   "cell_type": "code",
   "execution_count": 15,
   "metadata": {},
   "outputs": [
    {
     "name": "stdout",
     "output_type": "stream",
     "text": [
      "212.jpg\n",
      "/data/image\n",
      "/data\n",
      "('/data/image/212', '.jpg')\n",
      "('/data/image', '212.jpg')\n",
      "('/homg/zhanghm/0001.checkpoint', '.jpeg')\n",
      "('/homg/zhanghm', '0001.checkpoint.jpeg')\n"
     ]
    }
   ],
   "source": [
    "img_path = \"/data/image/212.jpg\"\n",
    "\n",
    "img_name = osp.basename(img_path)\n",
    "print(img_name)\n",
    "\n",
    "img_dir_path = osp.dirname(img_path)\n",
    "print(img_dir_path)\n",
    "\n",
    "img_dir_path = osp.dirname(img_dir_path)\n",
    "print(img_dir_path)\n",
    "\n",
    "\n",
    "## Split the file extension\n",
    "path_list = osp.splitext(img_path)\n",
    "print(path_list)\n",
    "\n",
    "## Split the file name and parent directory path\n",
    "path_list = osp.split(img_path)\n",
    "print(path_list)\n",
    "\n",
    "\n",
    "input_fname = \"/homg/zhanghm/0001.checkpoint.jpeg\"\n",
    "## We can use os.path.splitext to split the file name and file extension directly\n",
    "os_splited_path = osp.splitext(input_fname)\n",
    "print(os_splited_path)\n",
    "\n",
    "os_splited_path = osp.split(input_fname)\n",
    "print(os_splited_path)"
   ]
  },
  {
   "cell_type": "code",
   "execution_count": 3,
   "metadata": {},
   "outputs": [
    {
     "name": "stdout",
     "output_type": "stream",
     "text": [
      "['210903', '210903_1_1']\n",
      "/home/haimingzhang/Programming/programming-learning-examples/Python_learning/DL/face_detection/temp/210903\n"
     ]
    }
   ],
   "source": [
    "folder_path = \"/home/haimingzhang/Programming/programming-learning-examples/Python_learning/DL/face_detection/temp/210903/210903_1_1\"\n",
    "sub_dir = folder_path.split('/')[-2:]\n",
    "print(sub_dir)\n",
    "\n",
    "parent_dir = os.path.dirname(folder_path)\n",
    "print(parent_dir)"
   ]
  },
  {
   "cell_type": "markdown",
   "metadata": {},
   "source": [
    "## Join path"
   ]
  },
  {
   "cell_type": "code",
   "execution_count": 26,
   "metadata": {},
   "outputs": [
    {
     "name": "stdout",
     "output_type": "stream",
     "text": [
      "/data/kitti//123.txt\n",
      "/data/kitti/123.txt\n",
      "/data/waymo_preprocessed/train/100000/123.pcd\n",
      "train/100000/123.pcd\n"
     ]
    }
   ],
   "source": [
    "root_dir = \"/data/kitti//\"\n",
    "file_name = \"123.txt\"\n",
    "\n",
    "## Would have double slash\n",
    "file_path = osp.join(root_dir, file_name)\n",
    "print(file_path)\n",
    "\n",
    "## Using osp.normpath to eliminate the double slash\n",
    "file_path = osp.join(osp.normpath(root_dir), file_name)\n",
    "print(file_path)\n",
    "\n",
    "\n",
    "data_root = \"/data/waymo/lidar/\"\n",
    "save_root = \"/data/waymo_preprocessed\"\n",
    "\n",
    "file_path = \"/data/waymo/lidar/train/100000/123.pcd\"\n",
    "\n",
    "## Replace the root_dir by using another root path\n",
    "result_path = osp.join(save_root, osp.normpath(file_path.replace(data_root, \"\") + \"/\"))\n",
    "print(result_path)\n",
    "\n",
    "## Generate relative path\n",
    "file_relative_path = file_path.replace(data_root, \"\").strip(\"/\")\n",
    "print(file_relative_path)\n"
   ]
  },
  {
   "cell_type": "code",
   "execution_count": null,
   "metadata": {},
   "outputs": [],
   "source": []
  }
 ],
 "metadata": {
  "interpreter": {
   "hash": "a8c17cacde4bf83c7e39b5631839a653d23294c3e57f7dc62f99a2c1a562a38c"
  },
  "kernelspec": {
   "display_name": "Python 3.6.13 64-bit ('face_python36': conda)",
   "name": "python3"
  },
  "language_info": {
   "codemirror_mode": {
    "name": "ipython",
    "version": 3
   },
   "file_extension": ".py",
   "mimetype": "text/x-python",
   "name": "python",
   "nbconvert_exporter": "python",
   "pygments_lexer": "ipython3",
   "version": "3.6.13"
  },
  "orig_nbformat": 4
 },
 "nbformat": 4,
 "nbformat_minor": 2
}
