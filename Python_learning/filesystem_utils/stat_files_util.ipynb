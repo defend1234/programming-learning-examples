{
 "cells": [
  {
   "cell_type": "markdown",
   "metadata": {},
   "source": [
    "# Useful functions to do files statistics"
   ]
  },
  {
   "cell_type": "code",
   "execution_count": 1,
   "metadata": {},
   "outputs": [],
   "source": [
    "import os\n",
    "import os.path as osp"
   ]
  },
  {
   "cell_type": "markdown",
   "metadata": {},
   "source": [
    "## Count the number of images"
   ]
  },
  {
   "cell_type": "code",
   "execution_count": 7,
   "metadata": {},
   "outputs": [
    {
     "name": "stdout",
     "output_type": "stream",
     "text": [
      "402\n",
      "1400582\n"
     ]
    }
   ],
   "source": [
    "from file_utils import is_image_file\n",
    "\n",
    "root_dir = \"/home/zhanghm/Research/StyleGAN/Deep3DFaceRecon_pytorch/datasets/HDTF_preprocessed\"\n",
    "\n",
    "dir_list = sorted([f for f in os.listdir(root_dir) if os.path.isdir(os.path.join(root_dir, f))])\n",
    "print(len(dir_list))\n",
    "\n",
    "total_num = 0\n",
    "for dir_name in dir_list:\n",
    "    image_folder = os.path.join(root_dir, dir_name, \"face_image\")\n",
    "\n",
    "    image_list = [img_file for img_file in os.listdir(image_folder) if is_image_file(img_file)]\n",
    "    total_num += len(image_list)\n",
    "\n",
    "print(total_num)"
   ]
  }
 ],
 "metadata": {
  "kernelspec": {
   "display_name": "Python 3.6.13 ('py36-torch100-cu11')",
   "language": "python",
   "name": "python3"
  },
  "language_info": {
   "codemirror_mode": {
    "name": "ipython",
    "version": 3
   },
   "file_extension": ".py",
   "mimetype": "text/x-python",
   "name": "python",
   "nbconvert_exporter": "python",
   "pygments_lexer": "ipython3",
   "version": "3.6.13"
  },
  "orig_nbformat": 4,
  "vscode": {
   "interpreter": {
    "hash": "5a061662cd1728e1a413eb44216c5a5b0f5a1d783e658cf909fe334fc01234e3"
   }
  }
 },
 "nbformat": 4,
 "nbformat_minor": 2
}
