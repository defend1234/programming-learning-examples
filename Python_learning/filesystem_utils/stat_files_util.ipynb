{
 "cells": [
  {
   "cell_type": "markdown",
   "metadata": {},
   "source": [
    "# Useful functions to do files statistics"
   ]
  },
  {
   "cell_type": "code",
   "execution_count": 1,
   "metadata": {},
   "outputs": [],
   "source": [
    "import os\n",
    "import os.path as osp"
   ]
  },
  {
   "cell_type": "markdown",
   "metadata": {},
   "source": [
    "## Count the number of images"
   ]
  },
  {
   "cell_type": "code",
   "execution_count": 3,
   "metadata": {},
   "outputs": [
    {
     "name": "stdout",
     "output_type": "stream",
     "text": [
      "8\n",
      "7514\n"
     ]
    }
   ],
   "source": [
    "from file_utils import is_image_file\n",
    "\n",
    "root_dir = \"/home/zhanghm/Research/FaceSwap/hififace/data/HDTF_face3dmmformer/val\"\n",
    "\n",
    "dir_list = sorted([f for f in os.listdir(root_dir) if os.path.isdir(os.path.join(root_dir, f))])\n",
    "print(len(dir_list))\n",
    "\n",
    "video_num_frames_dict = {}\n",
    "\n",
    "total_num = 0\n",
    "for dir_name in dir_list:\n",
    "    image_folder = os.path.join(root_dir, dir_name, \"face_image\")\n",
    "\n",
    "    image_list = [img_file for img_file in os.listdir(image_folder) if is_image_file(img_file)]\n",
    "    total_num += len(image_list)\n",
    "\n",
    "    video_num_frames_dict[dir_name] = len(image_list)\n",
    "\n",
    "print(total_num)\n",
    "\n",
    "video_num_frames_str = []\n",
    "\n",
    "for key, value in video_num_frames_dict.items():\n",
    "    video_num_frames_str.append(f\"{key} {value}\")\n",
    "\n",
    "with open(os.path.join(\"./\", 'val_HDTF_face3dmmformer_statistics.txt'), 'w') as fd:\n",
    "    fd.writelines([i + '\\n' for i in video_num_frames_str])"
   ]
  }
 ],
 "metadata": {
  "kernelspec": {
   "display_name": "Python 3.8.13 ('py38-torch100-cu11')",
   "language": "python",
   "name": "python3"
  },
  "language_info": {
   "codemirror_mode": {
    "name": "ipython",
    "version": 3
   },
   "file_extension": ".py",
   "mimetype": "text/x-python",
   "name": "python",
   "nbconvert_exporter": "python",
   "pygments_lexer": "ipython3",
   "version": "3.8.13"
  },
  "orig_nbformat": 4,
  "vscode": {
   "interpreter": {
    "hash": "56d0891f27fe2db3830dc2a05bc70f05135b0c30ed7c190a150d1aca2da3af60"
   }
  }
 },
 "nbformat": 4,
 "nbformat_minor": 2
}
