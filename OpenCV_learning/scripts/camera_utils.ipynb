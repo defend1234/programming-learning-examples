{
 "cells": [
  {
   "attachments": {},
   "cell_type": "markdown",
   "metadata": {},
   "source": [
    "# Camera calibration and some transformations operations"
   ]
  },
  {
   "cell_type": "code",
   "execution_count": 6,
   "metadata": {},
   "outputs": [],
   "source": [
    "import numpy as np\n",
    "import os\n",
    "import os.path as osp\n",
    "import cv2 as cv"
   ]
  },
  {
   "cell_type": "code",
   "execution_count": 16,
   "metadata": {},
   "outputs": [],
   "source": [
    "def read_cam_file(filename):\n",
    "    \"\"\"\n",
    "    Load camera file e.g., 00000000_cam.txt\n",
    "    \"\"\"\n",
    "    with open(filename) as f:\n",
    "        lines = [line.rstrip() for line in f.readlines()]\n",
    "    # extrinsics: line [1,5), 4x4 matrix\n",
    "    extrinsics = np.fromstring(' '.join(lines[1:5]), dtype=np.float32, sep=' ')\n",
    "    extrinsics = extrinsics.reshape((4, 4))\n",
    "    # intrinsics: line [7-10), 3x3 matrix\n",
    "    intrinsics = np.fromstring(' '.join(lines[7:10]), dtype=np.float32, sep=' ')\n",
    "    intrinsics = intrinsics.reshape((3, 3))\n",
    "    intrinsics_ = np.float32(np.diag([1, 1, 1, 1]))\n",
    "    intrinsics_[:3, :3] = intrinsics\n",
    "    P = intrinsics_ @ extrinsics\n",
    "    print(intrinsics_)\n",
    "    print(extrinsics)\n",
    "\n",
    "    return P, intrinsics_, extrinsics"
   ]
  },
  {
   "cell_type": "code",
   "execution_count": 17,
   "metadata": {},
   "outputs": [
    {
     "name": "stdout",
     "output_type": "stream",
     "text": [
      "[[2.89233e+03 0.00000e+00 8.23203e+02 0.00000e+00]\n",
      " [0.00000e+00 2.88318e+03 6.19070e+02 0.00000e+00]\n",
      " [0.00000e+00 0.00000e+00 1.00000e+00 0.00000e+00]\n",
      " [0.00000e+00 0.00000e+00 0.00000e+00 1.00000e+00]]\n",
      "[[ 2.64733e-01 -8.47168e-01  4.60677e-01 -3.09358e+02]\n",
      " [ 3.92519e-01  5.31021e-01  7.50963e-01 -4.68705e+02]\n",
      " [-8.80821e-01 -1.79800e-02  4.73108e-01  3.56303e+02]\n",
      " [ 0.00000e+00  0.00000e+00  0.00000e+00  1.00000e+00]]\n",
      "[[ 4.0600708e+01 -2.4650908e+03  1.7218938e+03 -6.0145575e+05]\n",
      " [ 5.8641302e+02  1.5198982e+03  2.4580483e+03 -1.1307842e+06]\n",
      " [-8.8082099e-01 -1.7980000e-02  4.7310799e-01  3.5630301e+02]\n",
      " [ 0.0000000e+00  0.0000000e+00  0.0000000e+00  1.0000000e+00]] (4, 4)\n"
     ]
    }
   ],
   "source": [
    "file_path = \"/data1/zhanghm/Code/NeRF/VolRecon/DTU_TEST/cameras/00000023_cam.txt\"\n",
    "P, intrin, extrin = read_cam_file(file_path)\n",
    "print(P, P.shape)"
   ]
  },
  {
   "cell_type": "code",
   "execution_count": 21,
   "metadata": {},
   "outputs": [
    {
     "name": "stdout",
     "output_type": "stream",
     "text": [
      "<class 'tuple'> 7\n",
      "[[2.89233081e+03 1.72135202e-04 8.23202087e+02 0.00000000e+00]\n",
      " [0.00000000e+00 2.88317969e+03 6.19069641e+02 0.00000000e+00]\n",
      " [0.00000000e+00 0.00000000e+00 1.00000000e+00 0.00000000e+00]\n",
      " [0.00000000e+00 0.00000000e+00 0.00000000e+00 1.00000000e+00]]\n",
      "[[ 2.6473260e-01  3.9251891e-01 -8.8082093e-01  5.7971173e+02]\n",
      " [-8.4716785e-01  5.3102106e-01 -1.7980000e-02 -6.7794447e+00]\n",
      " [ 4.6067697e-01  7.5096309e-01  4.7310796e-01  3.2592432e+02]\n",
      " [ 0.0000000e+00  0.0000000e+00  0.0000000e+00  1.0000000e+00]]\n",
      "[[ 0.00073242  0.00017214 -0.00091553  0.        ]\n",
      " [ 0.         -0.00024414 -0.00036621  0.        ]\n",
      " [ 0.          0.          0.          0.        ]\n",
      " [ 0.          0.          0.          0.        ]]\n",
      "[[-3.5762787e-07  1.7881393e-07  0.0000000e+00  2.4414062e-04]\n",
      " [-8.9406967e-08  5.9604645e-08  1.1920929e-07  6.1035156e-05]\n",
      " [ 0.0000000e+00  9.3132257e-09  0.0000000e+00 -6.1035156e-05]\n",
      " [ 0.0000000e+00  0.0000000e+00  0.0000000e+00  0.0000000e+00]] -6.1035156e-05 0.00024414062\n"
     ]
    }
   ],
   "source": [
    "out = cv.decomposeProjectionMatrix(P[:3, :4])\n",
    "print(type(out), len(out))\n",
    "\n",
    "K = out[0]\n",
    "R = out[1]\n",
    "t = out[2]\n",
    "\n",
    "K = K / K[2, 2]\n",
    "intrinsics = np.eye(4)\n",
    "intrinsics[:3, :3] = K\n",
    "\n",
    "pose = np.eye(4, dtype=np.float32)\n",
    "pose[:3, :3] = R.transpose()\n",
    "pose[:3, 3] = (t[:3] / t[3])[:, 0]  # cam to world\n",
    "\n",
    "print(intrinsics)\n",
    "print(pose)\n",
    "\n",
    "diff_intri = intrinsics - intrin\n",
    "diff_pose = np.linalg.inv(pose) - extrin\n",
    "print(diff_intri)\n",
    "print(diff_pose, diff_pose.min(), diff_pose.max())"
   ]
  }
 ],
 "metadata": {
  "kernelspec": {
   "display_name": "py38-torch100-cu11",
   "language": "python",
   "name": "python3"
  },
  "language_info": {
   "codemirror_mode": {
    "name": "ipython",
    "version": 3
   },
   "file_extension": ".py",
   "mimetype": "text/x-python",
   "name": "python",
   "nbconvert_exporter": "python",
   "pygments_lexer": "ipython3",
   "version": "3.8.13"
  },
  "orig_nbformat": 4,
  "vscode": {
   "interpreter": {
    "hash": "56d0891f27fe2db3830dc2a05bc70f05135b0c30ed7c190a150d1aca2da3af60"
   }
  }
 },
 "nbformat": 4,
 "nbformat_minor": 2
}
